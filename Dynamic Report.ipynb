{
 "cells": [
  {
   "cell_type": "markdown",
   "metadata": {},
   "source": [
    "# The Nordic Prior Knowledge Test in Programming\n",
    "**Author**: [Sondre Sæther Bolland](https://www.uib.no/personer/Sondre.S%C3%A6ther.Bolland)\n",
    "\n",
    "**Institution**: Department of Informatics, University of Bergen\n",
    "\n",
    "**Email**: sondre.bolland@uib.no"
   ]
  },
  {
   "cell_type": "markdown",
   "metadata": {},
   "source": [
    "## Introduction\n",
    "The Nordic Prior Knowledge Test in Programming is a tool for assessing students’ programming skill. The test covers the fundamental elements of introductory programming taught at different universities and university colleges in Norway and Sweden. By testing the students in the concepts found in CS1 we aim for instructors to be better able to develop and adapt their courses to this new found prior knowledge.\n",
    "\n",
    "This Notebook is a dynamic report of the results from 2024, designed to effectivly convey the findings of the test at the start of the semester. The (static) written report will be published sometime fall 2024 here: https://programmeringstesten.no/ "
   ]
  },
  {
   "cell_type": "markdown",
   "metadata": {},
   "source": [
    "### Imports"
   ]
  },
  {
   "cell_type": "code",
   "execution_count": 220,
   "metadata": {},
   "outputs": [],
   "source": [
    "import numpy as np\n",
    "import pandas as pd\n",
    "import matplotlib.pyplot as plt\n",
    "from matplotlib.ticker import PercentFormatter\n",
    "from scipy import stats"
   ]
  },
  {
   "cell_type": "markdown",
   "metadata": {},
   "source": [
    "### Data\n",
    "Before using this notebook two python scripts need to be run. A requirement to run these scripts is to have the csv file with the original dataset: `total.csv`. This must be placed in the `data` folder in the main directory (where this Notebook is located).\n",
    "\n",
    "`clean_data.py` cleans certain columns for ambigious data and renames columns for analysis.\n",
    "\n",
    "`grade_submissions.py` grades each question based on the rubric (`rubric.json`)."
   ]
  },
  {
   "cell_type": "code",
   "execution_count": 221,
   "metadata": {},
   "outputs": [
    {
     "name": "stdout",
     "output_type": "stream",
     "text": [
      "Replace escape characters: dict_items([('&lt;', '<'), ('&gt;', '>'), ('&#61;', '='), ('&#34;', '\"'), ('&#43;', '+')])\n",
      "Replace all institution full names with their shorthand.\n",
      "Replace all ambigious genders with standardized labels: ['m', 'f'] (other gender identities are not included)\n",
      "3038 submissions.\n",
      "Rename columns with simpler titles. Easier to use in analysis.\n",
      "Removed all genders that are not in: ['m', 'f']. The other gender identities do not have a large enough sample size for valid statistical analysis.\n",
      "Replace graduation years with: [2024, 2023, Before 2023]\n",
      "Max score: 40.59999999999997\n",
      "Submissions to be graded: 3038\n",
      "Submissions graded.\n"
     ]
    }
   ],
   "source": [
    "!python clean_data.py\n",
    "!python grade_submissions.py"
   ]
  },
  {
   "cell_type": "markdown",
   "metadata": {},
   "source": [
    "### Dataset"
   ]
  },
  {
   "cell_type": "code",
   "execution_count": 222,
   "metadata": {},
   "outputs": [],
   "source": [
    "# Specify the path of the data file\n",
    "path = \"data/\"\n",
    "filename = path + \"results.csv\"\n",
    "df = pd.read_csv(filename, on_bad_lines=\"skip\", delimiter=\";\", encoding=\"utf8\")\n",
    "\n",
    "# Remove all students who have taken a university level course\n",
    "df = df[(df['UniversityExperience'] == 'Nei')]"
   ]
  },
  {
   "cell_type": "markdown",
   "metadata": {},
   "source": [
    "### Filter the dataframe\n",
    "Do you want to look at a specific subset of students?\n",
    "Use the next cell to filter the students based on your criteria.\n",
    "\n",
    "To reset the dataframe, simply run the cell above."
   ]
  },
  {
   "cell_type": "code",
   "execution_count": 223,
   "metadata": {},
   "outputs": [],
   "source": [
    "# Filter by institution\n",
    "specific_institutions = ['UiS'] # 'UiB', 'NTNU', 'UiS', 'HvL', 'UiO', 'Kristiania', 'NMBU', 'OsloMet'\n",
    "#df = df[(df['Institution'].isin(specific_institutions))]"
   ]
  },
  {
   "cell_type": "code",
   "execution_count": 225,
   "metadata": {},
   "outputs": [],
   "source": [
    "# Filter by Graduate Year\n",
    "specific_graduateyears = ['2023', '2024', 'Before 2023'] \n",
    "#df = df[(df['GraduateYear'].isin(specific_graduateyears))]"
   ]
  },
  {
   "cell_type": "code",
   "execution_count": 226,
   "metadata": {},
   "outputs": [],
   "source": [
    "# Filter by Gender\n",
    "specific_genders = ['f', 'm', ' '] # 'f', 'm', ' '\n",
    "#df = df[(df['Gender'].isin(specific_genders))]"
   ]
  },
  {
   "cell_type": "markdown",
   "metadata": {},
   "source": [
    "## Demographics\n",
    "See the background of the students. Note that there are a large number of submissions that are blank for some of the following items. This is due to the students submitting ambigious answers, which have not been labled correctly by `clean_data.py`."
   ]
  },
  {
   "cell_type": "code",
   "execution_count": 227,
   "metadata": {},
   "outputs": [
    {
     "name": "stdout",
     "output_type": "stream",
     "text": [
      "The dataset has 2661 student submissions.\n"
     ]
    }
   ],
   "source": [
    "# Total number of students\n",
    "print(f\"The dataset has {len(df['Total'])} student submissions.\")"
   ]
  },
  {
   "cell_type": "markdown",
   "metadata": {},
   "source": [
    "\n",
    "### Institutions"
   ]
  },
  {
   "cell_type": "code",
   "execution_count": 228,
   "metadata": {},
   "outputs": [
    {
     "name": "stdout",
     "output_type": "stream",
     "text": [
      "Institution\n",
      "NTNU                    928\n",
      "UiS                     334\n",
      "UiB                     333\n",
      "Universitetet i Oslo    328\n",
      "UiO                     215\n",
      "NMBU                    206\n",
      "Kristiania              144\n",
      "HiOf                     95\n",
      "HVL                      75\n",
      "Name: count, dtype: int64\n"
     ]
    },
    {
     "data": {
      "text/plain": [
       "<Axes: ylabel='count'>"
      ]
     },
     "execution_count": 228,
     "metadata": {},
     "output_type": "execute_result"
    },
    {
     "data": {
      "image/png": "[encoded data removed]",
      "text/plain": [
       "<Figure size 640x480 with 1 Axes>"
      ]
     },
     "metadata": {},
     "output_type": "display_data"
    }
   ],
   "source": [
    "institutions = df.Institution.unique()\n",
    "\n",
    "institution_column = \"Institution\"\n",
    "print(df[institution_column].value_counts())\n",
    "df[institution_column].value_counts().plot.pie()"
   ]
  },
  {
   "cell_type": "markdown",
   "metadata": {},
   "source": [
    "### Graduate Year"
   ]
  },
  {
   "cell_type": "code",
   "execution_count": 229,
   "metadata": {},
   "outputs": [
    {
     "name": "stdout",
     "output_type": "stream",
     "text": [
      "GraduateYear\n",
      "Before 2023    1433\n",
      "2024            674\n",
      "2023            554\n",
      "Name: count, dtype: int64\n"
     ]
    },
    {
     "data": {
      "text/plain": [
       "<Axes: ylabel='count'>"
      ]
     },
     "execution_count": 229,
     "metadata": {},
     "output_type": "execute_result"
    },
    {
     "data": {
      "image/png": "[encoded data removed]",
      "text/plain": [
       "<Figure size 640x480 with 1 Axes>"
      ]
     },
     "metadata": {},
     "output_type": "display_data"
    }
   ],
   "source": [
    "years = df.GraduateYear.unique()\n",
    "\n",
    "graduateyear_column = \"GraduateYear\"\n",
    "print(df[graduateyear_column].value_counts())\n",
    "df[graduateyear_column].value_counts().plot.pie()"
   ]
  },
  {
   "cell_type": "markdown",
   "metadata": {},
   "source": [
    "### Gender"
   ]
  },
  {
   "cell_type": "code",
   "execution_count": 230,
   "metadata": {},
   "outputs": [
    {
     "name": "stdout",
     "output_type": "stream",
     "text": [
      "Gender\n",
      "m    1545\n",
      "f     959\n",
      "      157\n",
      "Name: count, dtype: int64\n",
      "Gender\n",
      "m    0.580609\n",
      "f    0.360391\n",
      "     0.059000\n",
      "Name: proportion, dtype: float64\n"
     ]
    },
    {
     "data": {
      "text/plain": [
       "<Axes: ylabel='count'>"
      ]
     },
     "execution_count": 230,
     "metadata": {},
     "output_type": "execute_result"
    },
    {
     "data": {
      "image/png": "[encoded data removed]",
      "text/plain": [
       "<Figure size 640x480 with 1 Axes>"
      ]
     },
     "metadata": {},
     "output_type": "display_data"
    }
   ],
   "source": [
    "genders = df.Gender.unique()\n",
    "gender_column = \"Gender\"\n",
    "\n",
    "print(df[gender_column].value_counts())\n",
    "print(df[gender_column].value_counts(normalize=True))\n",
    "df[gender_column].value_counts().plot.pie()"
   ]
  },
  {
   "cell_type": "markdown",
   "metadata": {},
   "source": [
    "## Educational Background\n",
    "What experiences with programming do these students have? \n",
    "\n",
    "### Elective Programming Courses\n",
    "During the secondary school phase, students have the option to take three elective courses in programming: *Information Technology 1* (IT1), *Information Technology 2* (IT2), and *Programming and Modelling X* (PMX). "
   ]
  },
  {
   "cell_type": "code",
   "execution_count": 231,
   "metadata": {},
   "outputs": [],
   "source": [
    "# Make new column for NO elective programming course\n",
    "courses = ['Informasjonsteknologi 1 (IT1)', 'Informasjonsteknologi 2 (IT2)', 'Programmering og modellering X']\n",
    "df_temp = df[(~df['IT1'].isin(courses))]\n",
    "df_temp = df_temp[(~df_temp['IT2'].isin(courses))]\n",
    "df_temp = df_temp[(~df_temp['PMX'].isin(courses))]\n",
    "df_temp['NoElective'] = ~df_temp['IT1'].isin(courses)\n",
    "\n",
    "df['NoElective'] = df_temp['NoElective']"
   ]
  },
  {
   "cell_type": "code",
   "execution_count": 232,
   "metadata": {},
   "outputs": [
    {
     "data": {
      "image/png": "[encoded data removed]",
      "text/plain": [
       "<Figure size 640x480 with 1 Axes>"
      ]
     },
     "metadata": {},
     "output_type": "display_data"
    }
   ],
   "source": [
    "fig, ax = plt.subplots()\n",
    "\n",
    "courses = ['IT1', 'IT2', 'PMX', 'No Electives']\n",
    "n_it1 = df['IT1'].value_counts()['Informasjonsteknologi 1 (IT1)']\n",
    "n_it2 = df['IT2'].value_counts()['Informasjonsteknologi 2 (IT2)']\n",
    "n_pmx = df['PMX'].value_counts()['Programmering og modellering X']\n",
    "n_noelectives = df['NoElective'].value_counts()[True]\n",
    "counts = [n_it1, n_it2, n_pmx, n_noelectives]\n",
    "\n",
    "ax.bar(courses, counts)\n",
    "ax.set_ylabel('Students')\n",
    "ax.set_title('Courses')\n",
    "\n",
    "plt.show()"
   ]
  },
  {
   "cell_type": "markdown",
   "metadata": {},
   "source": [
    "### Math Courses\n",
    "The most common math courses available in secondary school are:\n",
    " * Practical Math 1 (1P)\n",
    " * Practical Math 2 (2P)\n",
    " * Theoretical Math 1 (1T)\n",
    " * Social Science Math 1 (S1)\n",
    " * Social Science Math 2 (S2)\n",
    " * Natural Science Math 1 (R1)\n",
    " * Natural Science Math 2 (R2)\n",
    "\n",
    "The majority of students who took the test belonged to STEM fields, where the typical admission requirement includes S1 and S2 or R1 mathematics. Certain math-intensive study programs may also demand R2 mathematics. Notably, most students had completed the Natural Science Math courses (see plot below), which is the most advanced option."
   ]
  },
  {
   "cell_type": "code",
   "execution_count": 233,
   "metadata": {},
   "outputs": [
    {
     "name": "stdout",
     "output_type": "stream",
     "text": [
      "[438, 385, 1435, 320, 314, 1502, 1546]\n"
     ]
    },
    {
     "data": {
      "image/png": "[encoded data removed]",
      "text/plain": [
       "<Figure size 640x480 with 1 Axes>"
      ]
     },
     "metadata": {},
     "output_type": "display_data"
    }
   ],
   "source": [
    "fig, ax = plt.subplots()\n",
    "\n",
    "courses = ['1P', '2P', '1T', 'S1', 'S2', 'R1', 'R2']\n",
    "gotten_courses = []\n",
    "counts = []\n",
    "for course in courses:\n",
    "    try:\n",
    "        count = df[course].value_counts()[course]\n",
    "        counts.append(count)\n",
    "        gotten_courses.append(course)\n",
    "    except:\n",
    "        continue\n",
    "\n",
    "print(counts)\n",
    "ax.bar(gotten_courses, counts)\n",
    "ax.set_ylabel('Students')\n",
    "ax.set_title('Courses')\n",
    "\n",
    "plt.show()"
   ]
  },
  {
   "cell_type": "markdown",
   "metadata": {},
   "source": [
    "### Experience outside of school\n",
    "A source of programming knowledge is self-directed learning outside of formal education, where individuals independently explore the field, using resources like books and online materials. The following plot shows the distribution of students who report having at least 30 hours of outside experience with either block based or text based programming."
   ]
  },
  {
   "cell_type": "code",
   "execution_count": 234,
   "metadata": {},
   "outputs": [
    {
     "name": "stdout",
     "output_type": "stream",
     "text": [
      "OutsideExperience\n",
      "Nei    2098\n",
      "Ja      555\n",
      "Name: count, dtype: int64\n",
      "OutsideExperience\n",
      "Nei    0.790803\n",
      "Ja     0.209197\n",
      "Name: proportion, dtype: float64\n"
     ]
    },
    {
     "data": {
      "text/plain": [
       "<Axes: ylabel='count'>"
      ]
     },
     "execution_count": 234,
     "metadata": {},
     "output_type": "execute_result"
    },
    {
     "data": {
      "image/png": "[encoded data removed]",
      "text/plain": [
       "<Figure size 640x480 with 1 Axes>"
      ]
     },
     "metadata": {},
     "output_type": "display_data"
    }
   ],
   "source": [
    "outside_column = \"OutsideExperience\"\n",
    "\n",
    "print(df[outside_column].value_counts())\n",
    "print(df[outside_column].value_counts(normalize=True))\n",
    "df[outside_column].value_counts().plot.pie()"
   ]
  },
  {
   "cell_type": "markdown",
   "metadata": {},
   "source": [
    "# Results\n",
    "In this section of the report, the main results are presented before a review of the background the students have on the various study paths and what connection there is between background and results. Later we take a close look at how well they performed in specific programming tasks to understand their grasp of the different concepts."
   ]
  },
  {
   "cell_type": "code",
   "execution_count": 339,
   "metadata": {},
   "outputs": [],
   "source": [
    "# Configurations\n",
    "bins = 41\n",
    "max_points = 40.6 # i.e. range\n",
    "edgecolor = 'red'\n",
    "alpha = 0.5"
   ]
  },
  {
   "cell_type": "markdown",
   "metadata": {},
   "source": [
    "## Main Result\n",
    "A histogram of the total score of the students. Maximum score: 71."
   ]
  },
  {
   "cell_type": "code",
   "execution_count": 340,
   "metadata": {},
   "outputs": [
    {
     "name": "stdout",
     "output_type": "stream",
     "text": [
      "Mean: 16.192\n",
      "Standard deviation: 12.072\n"
     ]
    },
    {
     "data": {
      "image/png": "[encoded data removed]",
      "text/plain": [
       "<Figure size 640x480 with 1 Axes>"
      ]
     },
     "metadata": {},
     "output_type": "display_data"
    }
   ],
   "source": [
    "x = df['Total']\n",
    "\n",
    "mean = df.loc[:, 'Total'].mean()\n",
    "sd = df.loc[:, 'Total'].std()\n",
    "print(f'Mean: {round(mean, 3)}')\n",
    "print(f'Standard deviation: {round(sd, 3)}')\n",
    "\n",
    "plt.hist(x, edgecolor=edgecolor, bins=bins, range=[0, max_points])\n",
    "plt.margins(x=0.0001)\n",
    "fig = plt.gcf()\n",
    "plt.show()\n",
    "fig.savefig('plots/allHist.png')"
   ]
  },
  {
   "cell_type": "markdown",
   "metadata": {},
   "source": [
    "### Did the students find the test hard?\n",
    "We asked the students to rate the test's difficulty on a Likert scale from 1 (very easy) to 7 (very hard)"
   ]
  },
  {
   "cell_type": "code",
   "execution_count": 341,
   "metadata": {},
   "outputs": [
    {
     "data": {
      "text/plain": [
       "<Axes: xlabel='difficulty'>"
      ]
     },
     "execution_count": 341,
     "metadata": {},
     "output_type": "execute_result"
    },
    {
     "data": {
      "image/png": "[encoded data removed]",
      "text/plain": [
       "<Figure size 640x480 with 1 Axes>"
      ]
     },
     "metadata": {},
     "output_type": "display_data"
    }
   ],
   "source": [
    "df['difficulty'].value_counts().loc[['Veldig lett', 'Lett', 'Litt lett', 'Nøytral', 'Litt vanskelig', 'Vanskelig', 'Veldig vanskelig']].plot.bar()"
   ]
  },
  {
   "cell_type": "code",
   "execution_count": 342,
   "metadata": {},
   "outputs": [],
   "source": [
    "def compare_distributions(x, y, x_label, y_label):\n",
    "    n = len(x)\n",
    "    mean = x.mean()\n",
    "    sd = x.std()\n",
    "    print(f'N students in {x_label}: {n}')\n",
    "    print(f'Mean of {x_label}: {round(mean, 3)}')\n",
    "    print(f'Standard deviation of {x_label}: {round(sd, 3)}')\n",
    "    print()\n",
    "\n",
    "    n = len(y)\n",
    "    mean = y.mean()\n",
    "    sd = y.std()\n",
    "    print(f'N students in {y_label}: {n}')\n",
    "    print(f'Mean of {y_label}: {round(mean, 3)}')\n",
    "    print(f'Standard deviation of {y_label}: {round(sd, 3)}')\n",
    "    \n",
    "    plt.hist(x, bins=bins, alpha=alpha, edgecolor=edgecolor, label=x_label, weights=np.ones(len(x)) / len(x), range=[0, max_points])\n",
    "    plt.hist(y, bins=bins, alpha=alpha, edgecolor=edgecolor, label=y_label, weights=np.ones(len(y)) / len(y), range=[0, max_points])\n",
    "    #plt.hist(x, bins=bins, alpha=alpha, edgecolor=edgecolor, label=x_label, range=[0, max_points])\n",
    "    #plt.hist(y, bins=bins, alpha=alpha, edgecolor=edgecolor, label=y_label, range=[0, max_points])\n",
    "    plt.gca().yaxis.set_major_formatter(PercentFormatter(1))\n",
    "    plt.margins(x=0.0001)\n",
    "    plt.legend(loc='upper right')\n",
    "    fig = plt.gcf()\n",
    "    plt.show()\n",
    "    fig.savefig('plots/graduateYear.png')"
   ]
  },
  {
   "cell_type": "markdown",
   "metadata": {},
   "source": [
    "## Prior Programming Experience in Secondary School\n",
    "In the initial segment of the test, we inquired with the students regarding their prior exposure to\n",
    "programming before to commencing their higher education studies.\n",
    "\n",
    "### Graduation Year\n",
    "The educational reforms outlined in LK20 were introduced in the year 2020, resulting in programming becoming a compulsory component solely for those students who graduated in 2023 and onward."
   ]
  },
  {
   "cell_type": "code",
   "execution_count": 343,
   "metadata": {},
   "outputs": [],
   "source": [
    "# Significance test\n",
    "def significane(group1, group2):\n",
    "    # Perform Mann-Whitney U Test\n",
    "    stat, p_value = stats.ranksums(group1, group2)\n",
    "    \n",
    "    # Print the test statistic and p-value\n",
    "    print(f\"Wilcox Rank-sum test: {stat}\")\n",
    "    print(f\"P-value: {p_value}\")\n",
    "    \n",
    "    # Interpretation of p-value\n",
    "    a = 0.05\n",
    "    if p_value < a:\n",
    "        print(\"Reject the null hypothesis: There is a significant difference between the two groups.\")\n",
    "    else:\n",
    "        print(\"Fail to reject the null hypothesis: There is no significant difference between the two groups.\")"
   ]
  },
  {
   "cell_type": "code",
   "execution_count": 391,
   "metadata": {},
   "outputs": [
    {
     "name": "stdout",
     "output_type": "stream",
     "text": [
      "N students in 2023 and 2024: 1228\n",
      "Mean of 2023 and 2024: 20.254\n",
      "Standard deviation of 2023 and 2024: 11.807\n",
      "\n",
      "N students in Before 2023: 1433\n",
      "Mean of Before 2023: 12.71\n",
      "Standard deviation of Before 2023: 11.179\n"
     ]
    },
    {
     "data": {
      "image/png": "[encoded data removed]",
      "text/plain": [
       "<Figure size 640x480 with 1 Axes>"
      ]
     },
     "metadata": {},
     "output_type": "display_data"
    },
    {
     "name": "stdout",
     "output_type": "stream",
     "text": [
      "Wilcox Rank-sum test: 16.990871684679288\n",
      "P-value: 9.595255133044605e-65\n",
      "Reject the null hypothesis: There is a significant difference between the two groups.\n"
     ]
    }
   ],
   "source": [
    "years = df['GraduateYear']\n",
    "x = df[(years.isin(['2023', '2024']))]['Total']\n",
    "y = df[(~years.isin(['2023', '2024']))]['Total']\n",
    "y = y[~np.isnan(y)]\n",
    "\n",
    "x_label = '2023 and 2024'\n",
    "y_label = 'Before 2023'\n",
    "\n",
    "compare_distributions(x, y, x_label, y_label)\n",
    "significane(x, y)"
   ]
  },
  {
   "cell_type": "markdown",
   "metadata": {},
   "source": [
    "### Mathematics Courses"
   ]
  },
  {
   "cell_type": "code",
   "execution_count": 345,
   "metadata": {},
   "outputs": [
    {
     "name": "stdout",
     "output_type": "stream",
     "text": [
      "N students in 2P: 385\n",
      "Mean of 2P: 9.577\n",
      "Standard deviation of 2P: 9.339\n",
      "\n",
      "N students in R2: 1546\n",
      "Mean of R2: 19.52\n",
      "Standard deviation of R2: 12.258\n"
     ]
    },
    {
     "data": {
      "image/png": "[encoded data removed]",
      "text/plain": [
       "<Figure size 640x480 with 1 Axes>"
      ]
     },
     "metadata": {},
     "output_type": "display_data"
    },
    {
     "name": "stdout",
     "output_type": "stream",
     "text": [
      "Wilcox Rank-sum test: -14.74096135437084\n",
      "P-value: 3.517417433685063e-49\n",
      "Reject the null hypothesis: There is a significant difference between the two groups.\n"
     ]
    }
   ],
   "source": [
    "x = df[(df['2P'].isin(['2P']))]['Total']\n",
    "y = df[(df['R2'].isin(['R2']))]['Total']\n",
    "y = y[~np.isnan(y)]\n",
    "\n",
    "x_label = '2P'\n",
    "y_label = 'R2'\n",
    "\n",
    "compare_distributions(x, y, x_label, y_label)\n",
    "significane(x, y)"
   ]
  },
  {
   "cell_type": "markdown",
   "metadata": {},
   "source": [
    "### Programming Electives"
   ]
  },
  {
   "cell_type": "code",
   "execution_count": 346,
   "metadata": {},
   "outputs": [
    {
     "name": "stdout",
     "output_type": "stream",
     "text": [
      "N students in IT2: 369\n",
      "Mean of IT2: 28.504\n",
      "Standard deviation of IT2: 11.293\n",
      "\n",
      "N students in NoElective: 2041\n",
      "Mean of NoElective: 13.423\n",
      "Standard deviation of NoElective: 10.528\n"
     ]
    },
    {
     "data": {
      "image/png": "[encoded data removed]",
      "text/plain": [
       "<Figure size 640x480 with 1 Axes>"
      ]
     },
     "metadata": {},
     "output_type": "display_data"
    },
    {
     "name": "stdout",
     "output_type": "stream",
     "text": [
      "Wilcox Rank-sum test: 19.858770418403484\n",
      "P-value: 9.25487105046367e-88\n",
      "Reject the null hypothesis: There is a significant difference between the two groups.\n"
     ]
    }
   ],
   "source": [
    "x = df[(df['IT2'].isin(['Informasjonsteknologi 2 (IT2)']))]['Total']\n",
    "y = df[(df['NoElective'].isin([True]))]['Total']\n",
    "y = y[~np.isnan(y)]\n",
    "\n",
    "x_label = 'IT2'\n",
    "y_label = 'NoElective'\n",
    "\n",
    "compare_distributions(x, y, x_label, y_label)\n",
    "significane(x, y)"
   ]
  },
  {
   "cell_type": "markdown",
   "metadata": {},
   "source": [
    "### Outside Experience"
   ]
  },
  {
   "cell_type": "code",
   "execution_count": 347,
   "metadata": {},
   "outputs": [
    {
     "name": "stdout",
     "output_type": "stream",
     "text": [
      "N students in Outside experience: 555\n",
      "Mean of Outside experience: 26.684\n",
      "Standard deviation of Outside experience: 11.712\n",
      "\n",
      "N students in No outside experience: 2098\n",
      "Mean of No outside experience: 13.405\n",
      "Standard deviation of No outside experience: 10.542\n"
     ]
    },
    {
     "data": {
      "image/png": "[encoded data removed]",
      "text/plain": [
       "<Figure size 640x480 with 1 Axes>"
      ]
     },
     "metadata": {},
     "output_type": "display_data"
    },
    {
     "name": "stdout",
     "output_type": "stream",
     "text": [
      "Wilcox Rank-sum test: 21.437897799338103\n",
      "P-value: 5.922938251518678e-102\n",
      "Reject the null hypothesis: There is a significant difference between the two groups.\n"
     ]
    }
   ],
   "source": [
    "x = df[(df['OutsideExperience'].isin(['Ja']))]['Total']\n",
    "y = df[(df['OutsideExperience'].isin(['Nei']))]['Total']\n",
    "y = y[~np.isnan(y)]\n",
    "\n",
    "x_label = 'Outside experience'\n",
    "y_label = 'No outside experience'\n",
    "\n",
    "compare_distributions(x, y, x_label, y_label)\n",
    "significane(x, y)"
   ]
  },
  {
   "cell_type": "markdown",
   "metadata": {},
   "source": [
    "### How many students do not need introductory programming?\n",
    "The students who perform very well on this test might not need CS1. If we set an (arbitrary) point threshold we can get an indication of how many students can perhaps move on to more advanced courses."
   ]
  },
  {
   "cell_type": "code",
   "execution_count": 392,
   "metadata": {},
   "outputs": [
    {
     "name": "stdout",
     "output_type": "stream",
     "text": [
      "Number of students with a score over 36.6: 258 (9.7%)\n"
     ]
    }
   ],
   "source": [
    "threshold = max_points - 4\n",
    "x = df[df['Total'] > threshold]\n",
    "n = len(x)\n",
    "percentage = round((n/len(df))*100, 2)\n",
    "\n",
    "print(f'Number of students with a score over {threshold}: {n} ({percentage}%)')"
   ]
  },
  {
   "cell_type": "markdown",
   "metadata": {},
   "source": [
    "### Gender"
   ]
  },
  {
   "cell_type": "code",
   "execution_count": 393,
   "metadata": {},
   "outputs": [
    {
     "name": "stdout",
     "output_type": "stream",
     "text": [
      "N students in women: 959\n",
      "Mean of women: 11.741\n",
      "Standard deviation of women: 10.177\n",
      "\n",
      "N students in men: 1545\n",
      "Mean of men: 18.863\n",
      "Standard deviation of men: 12.338\n"
     ]
    },
    {
     "data": {
      "image/png": "[encoded data removed]",
      "text/plain": [
       "<Figure size 640x480 with 1 Axes>"
      ]
     },
     "metadata": {},
     "output_type": "display_data"
    }
   ],
   "source": [
    "x = df[(df['Gender'] == 'f')]['Total']\n",
    "y = df[(df['Gender'] == 'm')]['Total']\n",
    "\n",
    "x_label = 'women'\n",
    "y_label = 'men'\n",
    "\n",
    "compare_distributions(x, y, x_label, y_label)"
   ]
  },
  {
   "cell_type": "markdown",
   "metadata": {},
   "source": [
    "# Programming Tasks\n",
    "Each task featured in the test pertained to a designated concept category. The following cells show the number of correct answers and the most common answers for each task."
   ]
  },
  {
   "cell_type": "markdown",
   "metadata": {},
   "source": [
    "## Correctness rate for each concept category\n",
    "Below you can find the percentage of accurate responses achieved by the students for each concept.\n",
    "\n",
    "Note that performance within each category may not exclusively reflect the students’ mastery of that programming concept. Variability in task difficulty plays a substantial role, with some tasks naturally being easier than others, irrespective of the underlying concept."
   ]
  },
  {
   "cell_type": "code",
   "execution_count": 350,
   "metadata": {},
   "outputs": [],
   "source": [
    "def correctnes_rate(columns, category, task_weight=1):\n",
    "    correct_answer_rate = 0\n",
    "    for column in columns:\n",
    "        points_column = column + \"_points\"\n",
    "        task_mean = df.loc[:, points_column].mean()\n",
    "        correct_answer_rate += task_mean\n",
    "    correct_answer_rate /= len(columns)*task_weight\n",
    "    print(f'{category:15s} {correct_answer_rate*100:3.2f} %')"
   ]
  },
  {
   "cell_type": "code",
   "execution_count": 394,
   "metadata": {},
   "outputs": [
    {
     "name": "stdout",
     "output_type": "stream",
     "text": [
      "The students have the following average correctness rate for each concept category:\n",
      "Datatypes       51.46 %\n",
      "Operators       53.25 %\n",
      "Booleans        60.67 %\n",
      "Variables       49.58 %\n",
      "Conditionals    55.06 %\n",
      "Loops           27.00 %\n",
      "Lists           31.79 %\n",
      "Functions       20.07 %\n"
     ]
    }
   ],
   "source": [
    "print(\"The students have the following average correctness rate for each concept category:\")\n",
    "\n",
    "# Datatypes\n",
    "datatype_columns = ['datatypes1', 'datatypes2', 'datatypes3', 'datatypes4']\n",
    "correctnes_rate(datatype_columns, \"Datatypes\")\n",
    "\n",
    "# Operators\n",
    "operator_columns = ['Operators1', 'Operators2', 'Operators3', 'Operators4', 'Operators5']\n",
    "correctnes_rate(operator_columns, \"Operators\")\n",
    "\n",
    "# Booleans\n",
    "boolean_columns = [\"100 == 100\", \"2 > 7\", \"(10 + 3) >= 13\", \"(10*2) < 9\", \"(1 + 3) < (2*3)\", \"(10.3 + 9) == (10.3 + 10)\", \"100 != 100\", \"(5 < 7) and (4 > 5)\", \"(5 < 7) or (4 > 5)\", \"(3 < 7) and (7 < 9)\", \"(3 < 7) or (7 < 9)\", \"not (100 != 100)\", \"True != True\", \"True and False\", \"True or False\" , \"True and True\", \"True or True\", \"not (True != True)\", \"n < 10\", \"100 == n\", \"(n < 7) and (4 > n)\", \"(n < 7) or (4 > n)\", \"n <= 5\", \"not (n < 10)\"]\n",
    "correctnes_rate(boolean_columns, \"Booleans\", task_weight=0.2)\n",
    "\n",
    "# Variables\n",
    "variable_columns = [\"Variables1a\", \"Variables1b\", \"Variables2a\", \"Variables2b\", \"Variables3a\", \"Variables3b\", \"Variables4a\", \"Variables4b\", \"Variables5a\", \"Variables5b\", \"Variables5c\", \"Variables6a\", \"Variables6b\", \"Variables6c\"]\n",
    "correctnes_rate(variable_columns, \"Variables\", task_weight=0.2)\n",
    "\n",
    "# Conditionals\n",
    "conditional_columns = [\"Conditionals1\", \"Conditionals2\", \"Conditionals3\", \"Conditionals4\"]\n",
    "correctnes_rate(conditional_columns, \"Conditionals\")\n",
    "\n",
    "# Loops\n",
    "loop_columns = [\"Loops1\", \"Loops2\", \"Loops3\", \"Loops4\", \"Loops5\", \"Loops6\", \"Loops7\"]\n",
    "correctnes_rate(loop_columns, \"Loops\")\n",
    "\n",
    "# Lists\n",
    "list_columns = [\"Lists1\", \"Lists2\", \"Lists3a\", \"Lists3b\"]\n",
    "correctnes_rate(list_columns, \"Lists\")\n",
    "\n",
    "# Functions\n",
    "function_columns = [\"Functions1\", \"Functions2\", \"Functions3\", \"Functions4\", \"Functions5\", \"Functions6\", \"Functions7\", \"Functions8\", \"Functions9\"]\n",
    "correctnes_rate(function_columns, \"Functions\")\n",
    "\n",
    "all_columns = datatype_columns + operator_columns + boolean_columns + variable_columns + conditional_columns + loop_columns + list_columns + function_columns"
   ]
  },
  {
   "cell_type": "markdown",
   "metadata": {},
   "source": [
    "## Tasks\n",
    "To gain a deeper understanding of the students’ knowledge and comprehension of specific programming concepts, it is important to analyze their performance on these concepts. "
   ]
  },
  {
   "cell_type": "code",
   "execution_count": 352,
   "metadata": {},
   "outputs": [],
   "source": [
    "def print_task_result(task_column, df, n_answers=5, verbose_correct_answers=True):\n",
    "    '''\n",
    "    Print number of correct (1) and incorrect (0) responses.\n",
    "    Print the top 5 most common answers.\n",
    "    '''\n",
    "    if verbose_correct_answers:\n",
    "        task_point_column = task_column + \"_points\"\n",
    "        print(\"Number of correct responses:\")\n",
    "        print(df[task_point_column].value_counts())\n",
    "        print()\n",
    "    \n",
    "    print(f\"Top {n_answers} most common answers:\")\n",
    "    try:\n",
    "        print(df[task_column].value_counts()[:n_answers])\n",
    "    except:\n",
    "        print(df[task_column].value_counts())"
   ]
  },
  {
   "cell_type": "markdown",
   "metadata": {},
   "source": [
    "# Datatypes\n",
    "What datatype do the following variables have?\n",
    "```python\n",
    "a = 123\n",
    "b = 1.23\n",
    "c = '123'\n",
    "d = [1, 2, 3]\n",
    "```"
   ]
  },
  {
   "cell_type": "code",
   "execution_count": 353,
   "metadata": {},
   "outputs": [
    {
     "name": "stdout",
     "output_type": "stream",
     "text": [
      "Number of correct responses:\n",
      "datatypes1_points\n",
      "0    1387\n",
      "1    1274\n",
      "Name: count, dtype: int64\n",
      "\n",
      "Top 6 most common answers:\n",
      "datatypes1\n",
      "int             1274\n",
      "Jeg vet ikke     943\n",
      "str              153\n",
      "float            150\n",
      "list              86\n",
      "bool              44\n",
      "Name: count, dtype: int64\n",
      "\n",
      "Number of correct responses:\n",
      "datatypes2_points\n",
      "0    1378\n",
      "1    1283\n",
      "Name: count, dtype: int64\n",
      "\n",
      "Top 6 most common answers:\n",
      "datatypes2\n",
      "float           1283\n",
      "Jeg vet ikke     961\n",
      "int              182\n",
      "str              131\n",
      "bool              68\n",
      "list              17\n",
      "Name: count, dtype: int64\n",
      "\n",
      "Number of correct responses:\n",
      "datatypes3_points\n",
      "0    1520\n",
      "1    1141\n",
      "Name: count, dtype: int64\n",
      "\n",
      "Top 6 most common answers:\n",
      "datatypes3\n",
      "str             1141\n",
      "Jeg vet ikke    1126\n",
      "int              124\n",
      "float            111\n",
      "bool              97\n",
      "list              34\n",
      "Name: count, dtype: int64\n",
      "\n",
      "Number of correct responses:\n",
      "datatypes4_points\n",
      "1    1779\n",
      "0     882\n",
      "Name: count, dtype: int64\n",
      "\n",
      "Top 6 most common answers:\n",
      "datatypes4\n",
      "list            1779\n",
      "Jeg vet ikke     743\n",
      "int               54\n",
      "str               28\n",
      "float             23\n",
      "bool              22\n",
      "Name: count, dtype: int64\n"
     ]
    }
   ],
   "source": [
    "print_task_result(\"datatypes1\", df, 6, True)\n",
    "print()\n",
    "print_task_result(\"datatypes2\", df, 6, True)\n",
    "print()\n",
    "print_task_result(\"datatypes3\", df, 6, True)\n",
    "print()\n",
    "print_task_result(\"datatypes4\", df, 6, True)"
   ]
  },
  {
   "cell_type": "markdown",
   "metadata": {},
   "source": [
    "# Operators"
   ]
  },
  {
   "cell_type": "markdown",
   "metadata": {},
   "source": [
    "### Operators 1\n",
    "What is the value of `result`?\n",
    "```python\n",
    "a = 12\n",
    "result = a + a\n",
    "```"
   ]
  },
  {
   "cell_type": "code",
   "execution_count": 354,
   "metadata": {},
   "outputs": [
    {
     "name": "stdout",
     "output_type": "stream",
     "text": [
      "Number of correct responses:\n",
      "Operators1_points\n",
      "1    2134\n",
      "0     527\n",
      "Name: count, dtype: int64\n",
      "\n",
      "Top 4 most common answers:\n",
      "Operators1\n",
      "24.0            2134\n",
      "I don't know     352\n",
      "12.0              28\n",
      "6.0               17\n",
      "Name: count, dtype: int64\n"
     ]
    }
   ],
   "source": [
    "print_task_result(\"Operators1\", df, 4, True)"
   ]
  },
  {
   "cell_type": "markdown",
   "metadata": {},
   "source": [
    "### Operators 2\n",
    "What is the value of `result`?\n",
    "```python\n",
    "a = 12\n",
    "b = 1.23 \n",
    "\n",
    "result = b + a\n",
    "```"
   ]
  },
  {
   "cell_type": "code",
   "execution_count": 355,
   "metadata": {},
   "outputs": [
    {
     "name": "stdout",
     "output_type": "stream",
     "text": [
      "Number of correct responses:\n",
      "Operators2_points\n",
      "1    1781\n",
      "0     880\n",
      "Name: count, dtype: int64\n",
      "\n",
      "Top 4 most common answers:\n",
      "Operators2\n",
      "13.23           1781\n",
      "I don't know     494\n",
      "13.0              17\n",
      "12.23              6\n",
      "Name: count, dtype: int64\n"
     ]
    }
   ],
   "source": [
    "print_task_result(\"Operators2\", df, 4, True)"
   ]
  },
  {
   "cell_type": "markdown",
   "metadata": {},
   "source": [
    "### Operators 3\n",
    "What is the value of `result`?\n",
    "```python\n",
    "c = '123'\n",
    "result = c + c\n",
    "```"
   ]
  },
  {
   "cell_type": "code",
   "execution_count": 356,
   "metadata": {},
   "outputs": [
    {
     "name": "stdout",
     "output_type": "stream",
     "text": [
      "Number of correct responses:\n",
      "Operators3_points\n",
      "0    1865\n",
      "1     796\n",
      "Name: count, dtype: int64\n",
      "\n",
      "Top 4 most common answers:\n",
      "Operators3\n",
      "123123.0        796\n",
      "I don't know    710\n",
      "246.0           249\n",
      "123.0            21\n",
      "Name: count, dtype: int64\n"
     ]
    }
   ],
   "source": [
    "print_task_result(\"Operators3\", df, 4, True)"
   ]
  },
  {
   "cell_type": "markdown",
   "metadata": {},
   "source": [
    "### Operators 4\n",
    "What is printed here?\n",
    "```python\n",
    "n = 0\n",
    "n = n + 1\n",
    "n = n + 1\n",
    "\n",
    "print(n)\n",
    "```"
   ]
  },
  {
   "cell_type": "code",
   "execution_count": 357,
   "metadata": {},
   "outputs": [
    {
     "name": "stdout",
     "output_type": "stream",
     "text": [
      "Number of correct responses:\n",
      "Operators4_points\n",
      "1    1614\n",
      "0    1047\n",
      "Name: count, dtype: int64\n",
      "\n",
      "Top 4 most common answers:\n",
      "Operators4\n",
      "2.0             1614\n",
      "I don't know     606\n",
      "1.0              149\n",
      "3.0               47\n",
      "Name: count, dtype: int64\n"
     ]
    }
   ],
   "source": [
    "print_task_result(\"Operators4\", df, 4, True)"
   ]
  },
  {
   "cell_type": "markdown",
   "metadata": {},
   "source": [
    "### Operators 5\n",
    "What is printed here?\n",
    "```python\n",
    "n = 'b'\n",
    "n = n + 'c'\n",
    "n = n + 'a'\n",
    "\n",
    "print(n)\n",
    "```"
   ]
  },
  {
   "cell_type": "code",
   "execution_count": 358,
   "metadata": {},
   "outputs": [
    {
     "name": "stdout",
     "output_type": "stream",
     "text": [
      "Number of correct responses:\n",
      "Operators5_points\n",
      "0    1901\n",
      "1     760\n",
      "Name: count, dtype: int64\n",
      "\n",
      "Top 4 most common answers:\n",
      "Operators5\n",
      "I don't know    1039\n",
      "bca              737\n",
      "abc               27\n",
      "b+c+a             24\n",
      "Name: count, dtype: int64\n"
     ]
    }
   ],
   "source": [
    "print_task_result(\"Operators5\", df, 4, True)"
   ]
  },
  {
   "cell_type": "markdown",
   "metadata": {},
   "source": [
    "# Variables"
   ]
  },
  {
   "cell_type": "markdown",
   "metadata": {},
   "source": [
    "### Variables 1\n",
    "What is the value of variables `a` and `b`?\n",
    "```python\n",
    "a = 10\n",
    "b = 20\n",
    "\n",
    "a = b\n",
    "```"
   ]
  },
  {
   "cell_type": "code",
   "execution_count": 359,
   "metadata": {},
   "outputs": [
    {
     "name": "stdout",
     "output_type": "stream",
     "text": [
      "Number of correct responses:\n",
      "Variables1a_points\n",
      "0.2    1468\n",
      "0.0    1193\n",
      "Name: count, dtype: int64\n",
      "\n",
      "Top 5 most common answers:\n",
      "Variables1a\n",
      " 20.0      1468\n",
      " 10.0       166\n",
      " 30.0        11\n",
      " 1.0          6\n",
      " 15.0         4\n",
      " 1020.0       3\n",
      " 0.5          1\n",
      " 10.2         1\n",
      " 220.0        1\n",
      " 80.0         1\n",
      "-10.0         1\n",
      " 2.0          1\n",
      " 40.0         1\n",
      "Name: count, dtype: int64\n",
      "Number of correct responses:\n",
      "Variables1b_points\n",
      "0.2    1492\n",
      "0.0    1169\n",
      "Name: count, dtype: int64\n",
      "\n",
      "Top 5 most common answers:\n",
      "Variables1b\n",
      "20.0            1492\n",
      "I don't know    1001\n",
      "10.0             121\n",
      "2.0                5\n",
      "30.0               5\n",
      "Name: count, dtype: int64\n"
     ]
    }
   ],
   "source": [
    "print_task_result(\"Variables1a\", df)\n",
    "print_task_result(\"Variables1b\", df)"
   ]
  },
  {
   "cell_type": "markdown",
   "metadata": {},
   "source": [
    "### Variables 2\n",
    "What is the value of variables `a` and `b`?\n",
    "```python\n",
    "a = 10\n",
    "b = 20\n",
    "\n",
    "b = a\n",
    "```"
   ]
  },
  {
   "cell_type": "code",
   "execution_count": 360,
   "metadata": {},
   "outputs": [
    {
     "name": "stdout",
     "output_type": "stream",
     "text": [
      "Number of correct responses:\n",
      "Variables2a_points\n",
      "0.2    1420\n",
      "0.0    1241\n",
      "Name: count, dtype: int64\n",
      "\n",
      "Top 5 most common answers:\n",
      "Variables2a\n",
      "10.0    1420\n",
      "20.0     152\n",
      "2.0        4\n",
      "30.0       4\n",
      "0.5        2\n",
      "15.0       2\n",
      "40.0       1\n",
      "0.0        1\n",
      "1.0        1\n",
      "80.0       1\n",
      "50.0       1\n",
      "Name: count, dtype: int64\n",
      "Number of correct responses:\n",
      "Variables2b_points\n",
      "0.2    1361\n",
      "0.0    1300\n",
      "Name: count, dtype: int64\n",
      "\n",
      "Top 5 most common answers:\n",
      "Variables2b\n",
      "10.0            1361\n",
      "I don't know    1049\n",
      "20.0             201\n",
      "30.0               5\n",
      "1.0                4\n",
      "Name: count, dtype: int64\n"
     ]
    }
   ],
   "source": [
    "print_task_result(\"Variables2a\", df)\n",
    "print_task_result(\"Variables2b\", df)"
   ]
  },
  {
   "cell_type": "markdown",
   "metadata": {},
   "source": [
    "### Variables 3\n",
    "What is the value of variables `a` and `b`?\n",
    "```python\n",
    "a = 10\n",
    "b = 20\n",
    "\n",
    "a = b\n",
    "b = a\n",
    "```"
   ]
  },
  {
   "cell_type": "code",
   "execution_count": 361,
   "metadata": {},
   "outputs": [
    {
     "name": "stdout",
     "output_type": "stream",
     "text": [
      "Number of correct responses:\n",
      "Variables3a_points\n",
      "0.2    1368\n",
      "0.0    1293\n",
      "Name: count, dtype: int64\n",
      "\n",
      "Top 5 most common answers:\n",
      "Variables3a\n",
      " 20.0    1368\n",
      " 10.0     138\n",
      " 30.0       5\n",
      "-10.0       2\n",
      " 29.0       1\n",
      " 1.0        1\n",
      " 0.5        1\n",
      " 0.0        1\n",
      " 15.0       1\n",
      " 40.0       1\n",
      " 2.0        1\n",
      "Name: count, dtype: int64\n",
      "Number of correct responses:\n",
      "Variables3b_points\n",
      "0.0    1456\n",
      "0.2    1205\n",
      "Name: count, dtype: int64\n",
      "\n",
      "Top 5 most common answers:\n",
      "Variables3b\n",
      "20.0            1205\n",
      "I don't know    1119\n",
      "10.0             289\n",
      "30.0               4\n",
      "2.0                1\n",
      "Name: count, dtype: int64\n"
     ]
    }
   ],
   "source": [
    "print_task_result(\"Variables3a\", df)\n",
    "print_task_result(\"Variables3b\", df)"
   ]
  },
  {
   "cell_type": "markdown",
   "metadata": {},
   "source": [
    "### Variables 4\n",
    "What is the value of variables `a` and `b`?\n",
    "```python\n",
    "a = 10\n",
    "b = 20\n",
    "\n",
    "b = a\n",
    "a = b\n",
    "```"
   ]
  },
  {
   "cell_type": "code",
   "execution_count": 362,
   "metadata": {},
   "outputs": [
    {
     "name": "stdout",
     "output_type": "stream",
     "text": [
      "Number of correct responses:\n",
      "Variables4a_points\n",
      "0.0    1434\n",
      "0.2    1227\n",
      "Name: count, dtype: int64\n",
      "\n",
      "Top 5 most common answers:\n",
      "Variables4a\n",
      " 10.0    1227\n",
      " 20.0     232\n",
      " 30.0       5\n",
      " 40.0       3\n",
      " 1.0        2\n",
      " 10.2       1\n",
      "-10.0       1\n",
      " 50.0       1\n",
      " 2.0        1\n",
      "Name: count, dtype: int64\n",
      "Number of correct responses:\n",
      "Variables4b_points\n",
      "0.0    1377\n",
      "0.2    1284\n",
      "Name: count, dtype: int64\n",
      "\n",
      "Top 5 most common answers:\n",
      "Variables4b\n",
      "10.0            1284\n",
      "I don't know    1149\n",
      "20.0             175\n",
      "30.0               4\n",
      "2.0                2\n",
      "Name: count, dtype: int64\n"
     ]
    }
   ],
   "source": [
    "print_task_result(\"Variables4a\", df)\n",
    "print_task_result(\"Variables4b\", df)"
   ]
  },
  {
   "cell_type": "markdown",
   "metadata": {},
   "source": [
    "### Variables 5\n",
    "What is the value of variables `a`, `b` and `c`?\n",
    "```python\n",
    "a = 10\n",
    "b = 20\n",
    "c = 30\n",
    "\n",
    "a = b\n",
    "b = c\n",
    "```"
   ]
  },
  {
   "cell_type": "code",
   "execution_count": 363,
   "metadata": {},
   "outputs": [
    {
     "name": "stdout",
     "output_type": "stream",
     "text": [
      "Number of correct responses:\n",
      "Variables5a_points\n",
      "0.2    1340\n",
      "0.0    1321\n",
      "Name: count, dtype: int64\n",
      "\n",
      "Top 5 most common answers:\n",
      "Variables5a\n",
      "20.0    1340\n",
      "10.0      78\n",
      "30.0      77\n",
      "1.0        3\n",
      "29.0       2\n",
      "0.0        1\n",
      "60.0       1\n",
      "50.0       1\n",
      "40.0       1\n",
      "2.0        1\n",
      "15.0       1\n",
      "Name: count, dtype: int64\n",
      "Number of correct responses:\n",
      "Variables5b_points\n",
      "0.2    1399\n",
      "0.0    1262\n",
      "Name: count, dtype: int64\n",
      "\n",
      "Top 5 most common answers:\n",
      "Variables5b\n",
      " 30.0     1399\n",
      " 20.0       54\n",
      " 10.0       36\n",
      " 2.0         2\n",
      " 15.0        2\n",
      " 3.0         1\n",
      "-10.0        1\n",
      " 1.0         1\n",
      " 120.0       1\n",
      " 50.0        1\n",
      " 60.0        1\n",
      "Name: count, dtype: int64\n",
      "Number of correct responses:\n",
      "Variables5c_points\n",
      "0.2    1390\n",
      "0.0    1271\n",
      "Name: count, dtype: int64\n",
      "\n",
      "Top 5 most common answers:\n",
      "Variables5c\n",
      "30.0            1390\n",
      "I don't know    1125\n",
      "10.0              40\n",
      "20.0              39\n",
      "60.0               4\n",
      "Name: count, dtype: int64\n"
     ]
    }
   ],
   "source": [
    "print_task_result(\"Variables5a\", df)\n",
    "print_task_result(\"Variables5b\", df)\n",
    "print_task_result(\"Variables5c\", df)"
   ]
  },
  {
   "cell_type": "markdown",
   "metadata": {},
   "source": [
    "### Variables 6\n",
    "What is the value of variables `a`, `b` and `c`?\n",
    "```python\n",
    "a = 10\n",
    "b = 20\n",
    "c = 30\n",
    "\n",
    "a = c\n",
    "b = a\n",
    "c = b\n",
    "```"
   ]
  },
  {
   "cell_type": "code",
   "execution_count": 364,
   "metadata": {},
   "outputs": [
    {
     "name": "stdout",
     "output_type": "stream",
     "text": [
      "Number of correct responses:\n",
      "Variables6a_points\n",
      "0.2    1335\n",
      "0.0    1326\n",
      "Name: count, dtype: int64\n",
      "\n",
      "Top 5 most common answers:\n",
      "Variables6a\n",
      "30.0    1335\n",
      "20.0      61\n",
      "10.0      42\n",
      "0.0        3\n",
      "60.0       2\n",
      "6.0        1\n",
      "5.0        1\n",
      "Name: count, dtype: int64\n",
      "Number of correct responses:\n",
      "Variables6b_points\n",
      "0.0    1566\n",
      "0.2    1095\n",
      "Name: count, dtype: int64\n",
      "\n",
      "Top 5 most common answers:\n",
      "Variables6b\n",
      " 30.0     1095\n",
      " 10.0      286\n",
      " 20.0       52\n",
      " 0.0         2\n",
      "-20.0        1\n",
      " 40.0        1\n",
      " 140.0       1\n",
      "-10.0        1\n",
      " 60.0        1\n",
      "Name: count, dtype: int64\n",
      "Number of correct responses:\n",
      "Variables6c_points\n",
      "0.0    1576\n",
      "0.2    1085\n",
      "Name: count, dtype: int64\n",
      "\n",
      "Top 5 most common answers:\n",
      "Variables6c\n",
      "I don't know    1160\n",
      "30.0            1085\n",
      "20.0             251\n",
      "10.0              97\n",
      "60.0               3\n",
      "Name: count, dtype: int64\n"
     ]
    }
   ],
   "source": [
    "print_task_result(\"Variables6a\", df)\n",
    "print_task_result(\"Variables6b\", df)\n",
    "print_task_result(\"Variables6c\", df)"
   ]
  },
  {
   "cell_type": "markdown",
   "metadata": {},
   "source": [
    "## Booleans"
   ]
  },
  {
   "cell_type": "markdown",
   "metadata": {},
   "source": [
    "### Booleans 1\n",
    "What do these boolean expressions evaluate to?"
   ]
  },
  {
   "cell_type": "code",
   "execution_count": 365,
   "metadata": {
    "scrolled": true
   },
   "outputs": [
    {
     "name": "stdout",
     "output_type": "stream",
     "text": [
      "Top 3 most common answers:\n",
      "100 == 100\n",
      "True            1828\n",
      "Jeg vet ikke     465\n",
      "TRUE             244\n",
      "Name: count, dtype: int64\n",
      "\n",
      "Top 3 most common answers:\n",
      "2 > 7\n",
      "False           2029\n",
      "FALSE            279\n",
      "Jeg vet ikke     213\n",
      "Name: count, dtype: int64\n",
      "\n",
      "Top 3 most common answers:\n",
      "(10 + 3) >= 13\n",
      "True            1684\n",
      "Jeg vet ikke     353\n",
      "False            298\n",
      "Name: count, dtype: int64\n",
      "\n",
      "Top 3 most common answers:\n",
      "(10*2) < 9\n",
      "False           1973\n",
      "FALSE            276\n",
      "Jeg vet ikke     239\n",
      "Name: count, dtype: int64\n",
      "\n",
      "Top 3 most common answers:\n",
      "(1 + 3) < (2*3)\n",
      "True            1933\n",
      "TRUE             266\n",
      "Jeg vet ikke     260\n",
      "Name: count, dtype: int64\n",
      "\n",
      "Top 3 most common answers:\n",
      "(10.3 + 9) == (10.3 + 10)\n",
      "False           1795\n",
      "Jeg vet ikke     487\n",
      "FALSE            242\n",
      "Name: count, dtype: int64\n"
     ]
    }
   ],
   "source": [
    "print_task_result(\"100 == 100\", df, 3, False)\n",
    "print()\n",
    "print_task_result(\"2 > 7\", df, 3, False)\n",
    "print()\n",
    "print_task_result(\"(10 + 3) >= 13\", df, 3, False)\n",
    "print()\n",
    "print_task_result(\"(10*2) < 9\", df, 3, False)\n",
    "print()\n",
    "print_task_result(\"(1 + 3) < (2*3)\", df, 3, False)\n",
    "print()\n",
    "print_task_result(\"(10.3 + 9) == (10.3 + 10)\", df, 3, False)"
   ]
  },
  {
   "cell_type": "markdown",
   "metadata": {},
   "source": [
    "### Booleans 2\n",
    "What do these boolean expressions evaluate to?"
   ]
  },
  {
   "cell_type": "code",
   "execution_count": 366,
   "metadata": {
    "scrolled": true
   },
   "outputs": [
    {
     "name": "stdout",
     "output_type": "stream",
     "text": [
      "Top 3 most common answers:\n",
      "100 != 100\n",
      "False           1219\n",
      "Jeg vet ikke    1096\n",
      "FALSE            174\n",
      "Name: count, dtype: int64\n",
      "\n",
      "Top 3 most common answers:\n",
      "(5 < 7) and (4 > 5)\n",
      "False           1696\n",
      "Jeg vet ikke     572\n",
      "FALSE            236\n",
      "Name: count, dtype: int64\n",
      "\n",
      "Top 3 most common answers:\n",
      "(5 < 7) or (4 > 5)\n",
      "True            1153\n",
      "Jeg vet ikke     756\n",
      "False            473\n",
      "Name: count, dtype: int64\n",
      "\n",
      "Top 3 most common answers:\n",
      "(3 < 7) and (7 < 9)\n",
      "True            1687\n",
      "Jeg vet ikke     586\n",
      "TRUE             236\n",
      "Name: count, dtype: int64\n",
      "\n",
      "Top 3 most common answers:\n",
      "(3 < 7) or (7 < 9)\n",
      "True            1360\n",
      "Jeg vet ikke     744\n",
      "False            268\n",
      "Name: count, dtype: int64\n",
      "\n",
      "Top 3 most common answers:\n",
      "not (100 != 100)\n",
      "Jeg vet ikke    1444\n",
      "True             872\n",
      "False            133\n",
      "Name: count, dtype: int64\n"
     ]
    }
   ],
   "source": [
    "print_task_result(\"100 != 100\", df, 3, False)\n",
    "print()\n",
    "print_task_result(\"(5 < 7) and (4 > 5)\", df, 3, False)\n",
    "print()\n",
    "print_task_result(\"(5 < 7) or (4 > 5)\", df, 3, False)\n",
    "print()\n",
    "print_task_result(\"(3 < 7) and (7 < 9)\", df, 3, False)\n",
    "print()\n",
    "print_task_result(\"(3 < 7) or (7 < 9)\", df, 3, False)\n",
    "print()\n",
    "print_task_result(\"not (100 != 100)\", df, 3, False)"
   ]
  },
  {
   "cell_type": "markdown",
   "metadata": {},
   "source": [
    "### Booleans 3\n",
    "What do these boolean expressions evaluate to?"
   ]
  },
  {
   "cell_type": "code",
   "execution_count": 367,
   "metadata": {
    "scrolled": true
   },
   "outputs": [
    {
     "name": "stdout",
     "output_type": "stream",
     "text": [
      "Top 3 most common answers:\n",
      "True != True\n",
      "Jeg vet ikke    1340\n",
      "False            978\n",
      "FALSE            141\n",
      "Name: count, dtype: int64\n",
      "\n",
      "Top 3 most common answers:\n",
      "True and False\n",
      "Jeg vet ikke    1323\n",
      "False            946\n",
      "True             163\n",
      "Name: count, dtype: int64\n",
      "\n",
      "Top 3 most common answers:\n",
      "True or False\n",
      "Jeg vet ikke    1270\n",
      "True            1034\n",
      "TRUE             147\n",
      "Name: count, dtype: int64\n",
      "\n",
      "Top 3 most common answers:\n",
      "True and True\n",
      "Jeg vet ikke    1158\n",
      "True            1125\n",
      "TRUE             160\n",
      "Name: count, dtype: int64\n",
      "\n",
      "Top 3 most common answers:\n",
      "True or True\n",
      "Jeg vet ikke    1205\n",
      "True             901\n",
      "False            306\n",
      "Name: count, dtype: int64\n",
      "\n",
      "Top 3 most common answers:\n",
      "not (True != True)\n",
      "Jeg vet ikke    1541\n",
      "True             725\n",
      "False            188\n",
      "Name: count, dtype: int64\n"
     ]
    }
   ],
   "source": [
    "print_task_result(\"True != True\", df, 3, False)\n",
    "print()\n",
    "print_task_result(\"True and False\", df, 3, False)\n",
    "print()\n",
    "print_task_result(\"True or False\", df, 3, False)\n",
    "print()\n",
    "print_task_result(\"True and True\", df, 3, False)\n",
    "print()\n",
    "print_task_result(\"True or True\", df, 3, False)\n",
    "print()\n",
    "print_task_result(\"not (True != True)\", df, 3, False)"
   ]
  },
  {
   "cell_type": "markdown",
   "metadata": {},
   "source": [
    "### Booleans 4\n",
    "Given the variable `n = 5`, what do these boolean expressions evaluate to?"
   ]
  },
  {
   "cell_type": "code",
   "execution_count": 368,
   "metadata": {
    "scrolled": true
   },
   "outputs": [
    {
     "name": "stdout",
     "output_type": "stream",
     "text": [
      "Top 3 most common answers:\n",
      "n < 10\n",
      "True            1816\n",
      "Jeg vet ikke     353\n",
      "TRUE             264\n",
      "Name: count, dtype: int64\n",
      "\n",
      "Top 3 most common answers:\n",
      "100 == n\n",
      "False           1681\n",
      "Jeg vet ikke     634\n",
      "FALSE            224\n",
      "Name: count, dtype: int64\n",
      "\n",
      "Top 3 most common answers:\n",
      "(n < 7) and (4 > n)\n",
      "False           1666\n",
      "Jeg vet ikke     519\n",
      "FALSE            224\n",
      "Name: count, dtype: int64\n",
      "\n",
      "Top 3 most common answers:\n",
      "(n < 7) or (4 > n)\n",
      "True            1285\n",
      "Jeg vet ikke     643\n",
      "False            430\n",
      "Name: count, dtype: int64\n",
      "\n",
      "Top 3 most common answers:\n",
      "n <= 5\n",
      "True            1597\n",
      "Jeg vet ikke     588\n",
      "TRUE             219\n",
      "Name: count, dtype: int64\n",
      "\n",
      "Top 3 most common answers:\n",
      "not (n < 10)\n",
      "Jeg vet ikke    1083\n",
      "False           1064\n",
      "True             258\n",
      "Name: count, dtype: int64\n"
     ]
    }
   ],
   "source": [
    "print_task_result(\"n < 10\", df, 3, False)\n",
    "print()\n",
    "print_task_result(\"100 == n\", df, 3, False)\n",
    "print()\n",
    "print_task_result(\"(n < 7) and (4 > n)\", df, 3, False)\n",
    "print()\n",
    "print_task_result(\"(n < 7) or (4 > n)\", df, 3, False)\n",
    "print()\n",
    "print_task_result(\"n <= 5\", df, 3, False)\n",
    "print()\n",
    "print_task_result(\"not (n < 10)\", df, 3, False)"
   ]
  },
  {
   "cell_type": "markdown",
   "metadata": {},
   "source": [
    "## Conditionals"
   ]
  },
  {
   "cell_type": "markdown",
   "metadata": {},
   "source": [
    "### Conditionals 1\n",
    "What does this code snippet print?\n",
    "\n",
    "```python\n",
    "if 2 > 7:\n",
    "    print(1)\n",
    "```"
   ]
  },
  {
   "cell_type": "code",
   "execution_count": 369,
   "metadata": {},
   "outputs": [
    {
     "name": "stdout",
     "output_type": "stream",
     "text": [
      "Number of correct responses:\n",
      "Conditionals1_points\n",
      "1    1750\n",
      "0     911\n",
      "Name: count, dtype: int64\n",
      "\n",
      "Top 5 most common answers:\n",
      "Conditionals1\n",
      "Ingenting       1750\n",
      "Jeg vet ikke     505\n",
      "1                373\n",
      "Name: count, dtype: int64\n"
     ]
    }
   ],
   "source": [
    "print_task_result(\"Conditionals1\", df)"
   ]
  },
  {
   "cell_type": "markdown",
   "metadata": {},
   "source": [
    "### Conditionals 2\n",
    "What does this code snippet print?\n",
    "\n",
    "```python\n",
    "if 100 != 100:\n",
    "    print(1)\n",
    "else:\n",
    "    print(2)\n",
    "```"
   ]
  },
  {
   "cell_type": "code",
   "execution_count": 370,
   "metadata": {},
   "outputs": [
    {
     "name": "stdout",
     "output_type": "stream",
     "text": [
      "Number of correct responses:\n",
      "Conditionals2_points\n",
      "0    1395\n",
      "1    1266\n",
      "Name: count, dtype: int64\n",
      "\n",
      "Top 5 most common answers:\n",
      "Conditionals2\n",
      "2               1266\n",
      "Jeg vet ikke    1018\n",
      "1                184\n",
      "1 og 2           103\n",
      "Ingenting         55\n",
      "Name: count, dtype: int64\n"
     ]
    }
   ],
   "source": [
    "print_task_result(\"Conditionals2\", df)"
   ]
  },
  {
   "cell_type": "markdown",
   "metadata": {},
   "source": [
    "### Conditionals 3\n",
    "What does this code snippet print?\n",
    "\n",
    "```python\n",
    "if (10*2) < 9:\n",
    "    print(1)\n",
    "elif 100 == 100:\n",
    "    print(2)\n",
    "else:\n",
    "    print(3)\n",
    "```"
   ]
  },
  {
   "cell_type": "code",
   "execution_count": 371,
   "metadata": {},
   "outputs": [
    {
     "name": "stdout",
     "output_type": "stream",
     "text": [
      "Number of correct responses:\n",
      "Conditionals3_points\n",
      "1    1423\n",
      "0    1238\n",
      "Name: count, dtype: int64\n",
      "\n",
      "Top 5 most common answers:\n",
      "Conditionals3\n",
      "2               1423\n",
      "Jeg vet ikke     773\n",
      "2 og 3           155\n",
      "3                 73\n",
      "1 og 2            70\n",
      "Name: count, dtype: int64\n"
     ]
    }
   ],
   "source": [
    "print_task_result(\"Conditionals3\", df)"
   ]
  },
  {
   "cell_type": "markdown",
   "metadata": {},
   "source": [
    "### Conditionals 4\n",
    "What does this code snippet print?\n",
    "\n",
    "```python\n",
    "if 100 == 100:\n",
    "    print(1)\n",
    "if (1 + 3) < (2*3):\n",
    "    print(2)\n",
    "else:\n",
    "    print(3)\n",
    "```"
   ]
  },
  {
   "cell_type": "code",
   "execution_count": 372,
   "metadata": {},
   "outputs": [
    {
     "name": "stdout",
     "output_type": "stream",
     "text": [
      "Number of correct responses:\n",
      "Conditionals4_points\n",
      "1    1422\n",
      "0    1239\n",
      "Name: count, dtype: int64\n",
      "\n",
      "Top 5 most common answers:\n",
      "Conditionals4\n",
      "1 og 2          1422\n",
      "Jeg vet ikke     776\n",
      "1                170\n",
      "1, 2 og 3         76\n",
      "2                 60\n",
      "Name: count, dtype: int64\n"
     ]
    }
   ],
   "source": [
    "print_task_result(\"Conditionals4\", df)"
   ]
  },
  {
   "cell_type": "markdown",
   "metadata": {},
   "source": [
    "## Loops"
   ]
  },
  {
   "cell_type": "markdown",
   "metadata": {},
   "source": [
    "### Loops 1\n",
    "What does this code snippet print?\n",
    "\n",
    "```python\n",
    "n = 0\n",
    "while n < 10:\n",
    "    n = n + 1\n",
    "\n",
    "print(n)\n",
    "```"
   ]
  },
  {
   "cell_type": "code",
   "execution_count": 373,
   "metadata": {},
   "outputs": [
    {
     "name": "stdout",
     "output_type": "stream",
     "text": [
      "Number of correct responses:\n",
      "Loops1_points\n",
      "0    1843\n",
      "1     818\n",
      "Name: count, dtype: int64\n",
      "\n",
      "Top 5 most common answers:\n",
      "Loops1\n",
      "I don't know    841\n",
      "10.0            818\n",
      "1.0             354\n",
      "9.0             266\n",
      "123456789.0     145\n",
      "Name: count, dtype: int64\n"
     ]
    }
   ],
   "source": [
    "print_task_result(\"Loops1\", df)"
   ]
  },
  {
   "cell_type": "markdown",
   "metadata": {},
   "source": [
    "### Loops 2\n",
    "What does this code snippet print?\n",
    "\n",
    "```python\n",
    "n = 0\n",
    "while n < 10:\n",
    "    n = n + 2\n",
    "\n",
    "print(n)\n",
    "```"
   ]
  },
  {
   "cell_type": "code",
   "execution_count": 374,
   "metadata": {},
   "outputs": [
    {
     "name": "stdout",
     "output_type": "stream",
     "text": [
      "Number of correct responses:\n",
      "Loops2_points\n",
      "0    1912\n",
      "1     749\n",
      "Name: count, dtype: int64\n",
      "\n",
      "Top 5 most common answers:\n",
      "Loops2\n",
      "I don't know    863\n",
      "10.0            749\n",
      "2.0             346\n",
      "8.0             239\n",
      "2468.0          143\n",
      "Name: count, dtype: int64\n"
     ]
    }
   ],
   "source": [
    "print_task_result(\"Loops2\", df)"
   ]
  },
  {
   "cell_type": "markdown",
   "metadata": {},
   "source": [
    "### Loops 3\n",
    "What does this code snippet print?\n",
    "\n",
    "```python\n",
    "n = 100\n",
    "while n < 10:\n",
    "    n = n + 2\n",
    "\n",
    "print(n)\n",
    "```"
   ]
  },
  {
   "cell_type": "code",
   "execution_count": 375,
   "metadata": {},
   "outputs": [
    {
     "name": "stdout",
     "output_type": "stream",
     "text": [
      "Number of correct responses:\n",
      "Loops3_points\n",
      "0    1487\n",
      "1    1174\n",
      "Name: count, dtype: int64\n",
      "\n",
      "Top 5 most common answers:\n",
      "Loops3\n",
      "100             1174\n",
      "I don't know    1084\n",
      "0                 99\n",
      "102               81\n",
      "2                 19\n",
      "Name: count, dtype: int64\n"
     ]
    }
   ],
   "source": [
    "print_task_result(\"Loops3\", df)"
   ]
  },
  {
   "cell_type": "markdown",
   "metadata": {},
   "source": [
    "### Loops 4\n",
    "What does this code snippet print?\n",
    "\n",
    "```python\n",
    "n = 0\n",
    "while (n < 7) and (4 > n):\n",
    "    n = n + 1\n",
    "\n",
    "print(n)\n",
    "```"
   ]
  },
  {
   "cell_type": "code",
   "execution_count": 376,
   "metadata": {},
   "outputs": [
    {
     "name": "stdout",
     "output_type": "stream",
     "text": [
      "Number of correct responses:\n",
      "Loops4_points\n",
      "0    1999\n",
      "1     662\n",
      "Name: count, dtype: int64\n",
      "\n",
      "Top 5 most common answers:\n",
      "Loops4\n",
      "I don't know    1085\n",
      "4.0              662\n",
      "1.0              243\n",
      "3.0              209\n",
      "0.0              117\n",
      "Name: count, dtype: int64\n"
     ]
    }
   ],
   "source": [
    "print_task_result(\"Loops4\", df)"
   ]
  },
  {
   "cell_type": "markdown",
   "metadata": {},
   "source": [
    "### Loops 5\n",
    "What does this code snippet print?\n",
    "\n",
    "```python\n",
    "n = 0\n",
    "ls = [1, 1, 3]\n",
    "for e in ls:\n",
    "    n = n + e\n",
    "\n",
    "print(n)\n",
    "```"
   ]
  },
  {
   "cell_type": "code",
   "execution_count": 377,
   "metadata": {},
   "outputs": [
    {
     "name": "stdout",
     "output_type": "stream",
     "text": [
      "Number of correct responses:\n",
      "Loops5_points\n",
      "0    2027\n",
      "1     634\n",
      "Name: count, dtype: int64\n",
      "\n",
      "Top 5 most common answers:\n",
      "Loops5\n",
      "I don't know    1761\n",
      "5.0              634\n",
      "0.0               45\n",
      "3.0               32\n",
      "113.0             24\n",
      "Name: count, dtype: int64\n"
     ]
    }
   ],
   "source": [
    "print_task_result(\"Loops5\", df)"
   ]
  },
  {
   "cell_type": "markdown",
   "metadata": {},
   "source": [
    "### Loops 6\n",
    "What does this code snippet print?\n",
    "\n",
    "```python\n",
    "n = 0\n",
    "ls = [-1, 4, -3, 0, -10, 5]\n",
    "for e in ls:\n",
    "    if e > 0:\n",
    "        n = n + e\n",
    "\n",
    "print(n)\n",
    "```"
   ]
  },
  {
   "cell_type": "code",
   "execution_count": 378,
   "metadata": {},
   "outputs": [
    {
     "name": "stdout",
     "output_type": "stream",
     "text": [
      "Number of correct responses:\n",
      "Loops6_points\n",
      "0    2123\n",
      "1     538\n",
      "Name: count, dtype: int64\n",
      "\n",
      "Top 5 most common answers:\n",
      "Loops6\n",
      "I don't know    1807\n",
      "9.0              538\n",
      "0.0               62\n",
      "-5.0              28\n",
      "5.0               20\n",
      "Name: count, dtype: int64\n"
     ]
    }
   ],
   "source": [
    "print_task_result(\"Loops6\", df)"
   ]
  },
  {
   "cell_type": "markdown",
   "metadata": {},
   "source": [
    "## Lists"
   ]
  },
  {
   "cell_type": "markdown",
   "metadata": {},
   "source": [
    "### Lists 1\n",
    "What does this code snippet print?\n",
    "\n",
    "```python\n",
    "ls = [10, 20, 30]\n",
    "print(ls[1])\n",
    "```"
   ]
  },
  {
   "cell_type": "code",
   "execution_count": 379,
   "metadata": {},
   "outputs": [
    {
     "name": "stdout",
     "output_type": "stream",
     "text": [
      "Number of correct responses:\n",
      "Lists1_points\n",
      "0    1933\n",
      "1     728\n",
      "Name: count, dtype: int64\n",
      "\n",
      "Top 5 most common answers:\n",
      "Lists1\n",
      "I don't know    1185\n",
      "20.0             728\n",
      "10.0             582\n",
      "102030.0          50\n",
      "60.0              14\n",
      "Name: count, dtype: int64\n"
     ]
    }
   ],
   "source": [
    "print_task_result(\"Lists1\", df)"
   ]
  },
  {
   "cell_type": "markdown",
   "metadata": {},
   "source": [
    "### Lists 2\n",
    "What does this code snippet print?\n",
    "\n",
    "```python\n",
    "ls = [10, 20, 30]\n",
    "ls[1] = ls[1] + 5\n",
    "\n",
    "print(ls[1])\n",
    "```"
   ]
  },
  {
   "cell_type": "code",
   "execution_count": 380,
   "metadata": {},
   "outputs": [
    {
     "name": "stdout",
     "output_type": "stream",
     "text": [
      "Number of correct responses:\n",
      "Lists2_points\n",
      "0    1946\n",
      "1     715\n",
      "Name: count, dtype: int64\n",
      "\n",
      "Top 5 most common answers:\n",
      "Lists2\n",
      "I don't know    1251\n",
      "25.0             715\n",
      "15.0             521\n",
      "152535.0          20\n",
      "65.0              12\n",
      "Name: count, dtype: int64\n"
     ]
    }
   ],
   "source": [
    "print_task_result(\"Lists2\", df)"
   ]
  },
  {
   "cell_type": "markdown",
   "metadata": {},
   "source": [
    "### Lists 3\n",
    "What does this code snippet print?\n",
    "\n",
    "```python\n",
    "a = [10, 20, 30]\n",
    "b = [5, 15, 25]\n",
    "\n",
    "b[1] = a[1] + b[1]\n",
    "\n",
    "print(a)\n",
    "print(b)\n",
    "```"
   ]
  },
  {
   "cell_type": "code",
   "execution_count": 381,
   "metadata": {},
   "outputs": [
    {
     "name": "stdout",
     "output_type": "stream",
     "text": [
      "Number of correct responses:\n",
      "Lists3a_points\n",
      "0    1372\n",
      "1    1289\n",
      "Name: count, dtype: int64\n",
      "\n",
      "Top 5 most common answers:\n",
      "Lists3a\n",
      "[10, 20, 30]    1289\n",
      "Jeg vet ikke    1074\n",
      "[15, 35, 55]      61\n",
      "[5, 15, 25]       32\n",
      "[10, 35, 30]      15\n",
      "Name: count, dtype: int64\n",
      "Number of correct responses:\n",
      "Lists3b_points\n",
      "0    2009\n",
      "1     652\n",
      "Name: count, dtype: int64\n",
      "\n",
      "Top 5 most common answers:\n",
      "Lists3b\n",
      "Jeg vet ikke    1338\n",
      "[5, 35, 25]      652\n",
      "[15, 35, 55]     341\n",
      "[5, 15, 25]      146\n",
      "[10, 35, 30]      29\n",
      "Name: count, dtype: int64\n"
     ]
    }
   ],
   "source": [
    "print_task_result(\"Lists3a\", df)\n",
    "print_task_result(\"Lists3b\", df)"
   ]
  },
  {
   "cell_type": "markdown",
   "metadata": {},
   "source": [
    "## Functions"
   ]
  },
  {
   "cell_type": "markdown",
   "metadata": {},
   "source": [
    "### Functions 1\n",
    "What does this code snippet print?\n",
    "\n",
    "```python\n",
    "def f(a, b):\n",
    "    return a + b\n",
    "\n",
    "print(f(5, 10))\n",
    "```"
   ]
  },
  {
   "cell_type": "code",
   "execution_count": 382,
   "metadata": {},
   "outputs": [
    {
     "name": "stdout",
     "output_type": "stream",
     "text": [
      "Number of correct responses:\n",
      "Functions1_points\n",
      "0    1547\n",
      "1    1114\n",
      "Name: count, dtype: int64\n",
      "\n",
      "Top 5 most common answers:\n",
      "Functions1\n",
      "I don't know    1397\n",
      "15.0            1114\n",
      "5.1               27\n",
      "510.0             14\n",
      "10.0               2\n",
      "Name: count, dtype: int64\n"
     ]
    }
   ],
   "source": [
    "print_task_result(\"Functions1\", df)"
   ]
  },
  {
   "cell_type": "markdown",
   "metadata": {},
   "source": [
    "### Functions 2\n",
    "What does this code snippet print?\n",
    "\n",
    "```python\n",
    "def f(a):\n",
    "    if a:\n",
    "        return 1\n",
    "    else:\n",
    "        return 2\n",
    "\n",
    "print(f(100 == 100))\n",
    "```"
   ]
  },
  {
   "cell_type": "code",
   "execution_count": 383,
   "metadata": {},
   "outputs": [
    {
     "name": "stdout",
     "output_type": "stream",
     "text": [
      "Number of correct responses:\n",
      "Functions2_points\n",
      "0    1907\n",
      "1     754\n",
      "Name: count, dtype: int64\n",
      "\n",
      "Top 5 most common answers:\n",
      "Functions2\n",
      "I don't know    1665\n",
      "1.0              754\n",
      "2.0               71\n",
      "100.0             56\n",
      "99.0               2\n",
      "Name: count, dtype: int64\n"
     ]
    }
   ],
   "source": [
    "print_task_result(\"Functions2\", df)"
   ]
  },
  {
   "cell_type": "markdown",
   "metadata": {},
   "source": [
    "### Functions 3\n",
    "What does this code snippet print?\n",
    "\n",
    "```python\n",
    "def f():\n",
    "    if 100 == 100:\n",
    "        return 1\n",
    "    if (1 + 3) < (2*3):\n",
    "        return 2\n",
    "    else:\n",
    "        return 3\n",
    "\n",
    "print(f())\n",
    "```"
   ]
  },
  {
   "cell_type": "code",
   "execution_count": 384,
   "metadata": {},
   "outputs": [
    {
     "name": "stdout",
     "output_type": "stream",
     "text": [
      "Number of correct responses:\n",
      "Functions3_points\n",
      "0    2293\n",
      "1     368\n",
      "Name: count, dtype: int64\n",
      "\n",
      "Top 5 most common answers:\n",
      "Functions3\n",
      "I don't know    1648\n",
      "1.0              368\n",
      "12.0             219\n",
      "1.2              127\n",
      "2.0               75\n",
      "Name: count, dtype: int64\n"
     ]
    }
   ],
   "source": [
    "print_task_result(\"Functions3\", df)"
   ]
  },
  {
   "cell_type": "markdown",
   "metadata": {},
   "source": [
    "### Functions 4\n",
    "What does this code snippet print?\n",
    "\n",
    "```python\n",
    "def f(n, a):\n",
    "    if a:\n",
    "        n = n + 1\n",
    "    return n\n",
    "\n",
    "print(f(5, (10*2) < 9))\n",
    "```"
   ]
  },
  {
   "cell_type": "code",
   "execution_count": 385,
   "metadata": {},
   "outputs": [
    {
     "name": "stdout",
     "output_type": "stream",
     "text": [
      "Number of correct responses:\n",
      "Functions4_points\n",
      "0    2168\n",
      "1     493\n",
      "Name: count, dtype: int64\n",
      "\n",
      "Top 5 most common answers:\n",
      "Functions4\n",
      "I don't know    1933\n",
      "5.0              493\n",
      "6.0               48\n",
      "0.0               14\n",
      "1.0                4\n",
      "Name: count, dtype: int64\n"
     ]
    }
   ],
   "source": [
    "print_task_result(\"Functions4\", df)"
   ]
  },
  {
   "cell_type": "markdown",
   "metadata": {},
   "source": [
    "### Functions 5\n",
    "What does this code snippet print?\n",
    "\n",
    "```python\n",
    "def f(n):\n",
    "    while n < 10:\n",
    "        n = n + 1\n",
    "    return n\n",
    "\n",
    "print(f(5))\n",
    "```"
   ]
  },
  {
   "cell_type": "code",
   "execution_count": 386,
   "metadata": {},
   "outputs": [
    {
     "name": "stdout",
     "output_type": "stream",
     "text": [
      "Number of correct responses:\n",
      "Functions5_points\n",
      "0    2105\n",
      "1     556\n",
      "Name: count, dtype: int64\n",
      "\n",
      "Top 5 most common answers:\n",
      "Functions5\n",
      "I don't know    1490\n",
      "10.0             556\n",
      "6.0              215\n",
      "9.0               92\n",
      "5.0               85\n",
      "Name: count, dtype: int64\n"
     ]
    }
   ],
   "source": [
    "print_task_result(\"Functions5\", df)"
   ]
  },
  {
   "cell_type": "markdown",
   "metadata": {},
   "source": [
    "### Functions 6\n",
    "What does this code snippet print?\n",
    "\n",
    "```python\n",
    "def f(s, ls):\n",
    "    for e in ls:\n",
    "        s = s + e\n",
    "    return s\n",
    "\n",
    "print(f('abc', ['x', 'y', 'z']))\n",
    "```"
   ]
  },
  {
   "cell_type": "code",
   "execution_count": 387,
   "metadata": {},
   "outputs": [
    {
     "name": "stdout",
     "output_type": "stream",
     "text": [
      "Number of correct responses:\n",
      "Functions6_points\n",
      "0    2249\n",
      "1     412\n",
      "Name: count, dtype: int64\n",
      "\n",
      "Top 5 most common answers:\n",
      "Functions6\n",
      "I don't know    2014\n",
      "abcxyz           403\n",
      "abc               10\n",
      "abcxabcyabcz      10\n",
      "Abcxyz             9\n",
      "Name: count, dtype: int64\n"
     ]
    }
   ],
   "source": [
    "print_task_result(\"Functions6\", df)"
   ]
  },
  {
   "cell_type": "markdown",
   "metadata": {},
   "source": [
    "### Functions 7\n",
    "What does this code snippet print?\n",
    "\n",
    "```python\n",
    "def f(n, ls):\n",
    "    return ls[n]\n",
    "\n",
    "print(f(2, ['a', 'b', 'c']))\n",
    "```"
   ]
  },
  {
   "cell_type": "code",
   "execution_count": 388,
   "metadata": {},
   "outputs": [
    {
     "name": "stdout",
     "output_type": "stream",
     "text": [
      "Number of correct responses:\n",
      "Functions7_points\n",
      "0    2177\n",
      "1     484\n",
      "Name: count, dtype: int64\n",
      "\n",
      "Top 5 most common answers:\n",
      "Functions7\n",
      "I don't know    1895\n",
      "c                464\n",
      "b                 62\n",
      "C                 20\n",
      "2                 12\n",
      "Name: count, dtype: int64\n"
     ]
    }
   ],
   "source": [
    "print_task_result(\"Functions7\", df)"
   ]
  },
  {
   "cell_type": "markdown",
   "metadata": {},
   "source": [
    "### Functions 8\n",
    "What does this code snippet print?\n",
    "\n",
    "```python\n",
    "def f(n, ls):\n",
    "    return ls[1] + n\n",
    "\n",
    "print(f(5, [10, 20, 30]))\n",
    "```"
   ]
  },
  {
   "cell_type": "code",
   "execution_count": 389,
   "metadata": {},
   "outputs": [
    {
     "name": "stdout",
     "output_type": "stream",
     "text": [
      "Number of correct responses:\n",
      "Functions8_points\n",
      "0    2137\n",
      "1     524\n",
      "Name: count, dtype: int64\n",
      "\n",
      "Top 5 most common answers:\n",
      "Functions8\n",
      "I don't know    1852\n",
      "25.0             524\n",
      "15.0              96\n",
      "152535.0           9\n",
      "65.0               6\n",
      "Name: count, dtype: int64\n"
     ]
    }
   ],
   "source": [
    "print_task_result(\"Functions8\", df)"
   ]
  },
  {
   "cell_type": "markdown",
   "metadata": {},
   "source": [
    "### Functions 9\n",
    "What does this code snippet print?\n",
    "\n",
    "```python\n",
    "def f(n, ls):\n",
    "    for e in ls:\n",
    "        ls[n] = ls[n] + e\n",
    "    return ls[n]\n",
    "\n",
    "print(f(1, [10, 20, 30]))\n",
    "```"
   ]
  },
  {
   "cell_type": "code",
   "execution_count": 390,
   "metadata": {},
   "outputs": [
    {
     "name": "stdout",
     "output_type": "stream",
     "text": [
      "Number of correct responses:\n",
      "Functions9_points\n",
      "0    2560\n",
      "1     101\n",
      "Name: count, dtype: int64\n",
      "\n",
      "Top 5 most common answers:\n",
      "Functions9\n",
      "I don't know    2027\n",
      "80.0             171\n",
      "90.0             101\n",
      "21.0              26\n",
      "60.0              24\n",
      "Name: count, dtype: int64\n"
     ]
    }
   ],
   "source": [
    "print_task_result(\"Functions9\", df)"
   ]
  },
  {
   "cell_type": "markdown",
   "metadata": {},
   "source": [
    "# Any comments about the test?"
   ]
  },
  {
   "attachments": {},
   "cell_type": "markdown",
   "metadata": {},
   "source": [
    "- Ønsker å lære mer om ls, og list funskjonen\n",
    "- Ønsker en begrunnelse for hvorfor Python foretrekkes f.eks SQL. Takk på forhånd.\n",
    "- Æ har my å lær.\n",
    "- Ydmykende.\n",
    "- wtf\n",
    "- Vær så snill og ikke la meg studere løkker med plussing av strings, det tar bare laaaang tid\n",
    "- väldigt specifik för python\n",
    "\"- void *p = NULL; *p;\"\n",
    "- Virkelig?\n",
    "- Ville vært interressant å kunne se fasit etter prøven er tatt, ikke nødvendigvis min egen score, men da tror jeg at jeg kunne lært en del\n",
    "- vil lære phyton og javascript bedre enn det jeg kan fra før\n",
    "- Vil lære basics\n",
    "- Vil gjerne lære mer om ls og e. synes det virker gøy og spennende\n",
    "- Vi trenger mer fokus på programmering i videregående og lærere med bedre opplæring i programmering :)\n",
    "- Vi holdt ikke på så mye string operatører og variabeltyper på videregående, så noe måtte gjettes på. Vi gikk for det meste gjennom det som var mest matematisk, men totalt var det grei python-quiz.\n",
    "- Vi har ikke gjennomgått lister eller for og while løkker integrert i funksjonsdefinisjoner\n",
    "- Vi gikk ikke så i dybde inn på funksjoner på VGS. Jeg merker at jeg svekket litt der\n",
    "- Vi gikk ikke igjennom pensum for programmering i mattefagene på vgs, kun i fyiskk 1 og fysikk 2\n",
    "- vet ikke om jeg svarte riktig på siste spørsmål\n",
    "- Vet ikke hva som skjer når man legger til noe i en liste.\n",
    "- vet ikke\n",
    "- Veldig veldig veldig vanskelig. Har ikke gjort noe av dette før. Kult om vi får lært noe om det! Og vite om det kommer på eksamen og om det henger sammen med noen av fagene og er lurt å lære seg!\n",
    "- Veldig vanskelig. Do better.\n",
    "- Veldig vanskelig, slev om jeg har hatt litt programmering fra før av. Kjente litt igjen selv om jeg ikke fikk til oppgavene.\n",
    "- Veldig vanskelig når eg ikkje hadde nokon forkunnskaper ever. takk for meg. men kul test.\n",
    "- Veldig mye som ikke er dekket av undervisningen i R1, og en god del R2 ikke dekker heller.\n",
    "- veldig mye like spørsmål\n",
    "- Veldig mye datatype- og listeforståelse. Ikke så mye programmering.\n",
    "- Veldig my logikk.\n",
    "- Veldig mange like oppgaver.\n",
    "- Veldig lang...\n",
    "- veldig lang.\n",
    "- veldig lang test. very monotonous\n",
    "- Veldig lang og mye spørsmål, spesielt for en som ikke kan programmering.\n",
    "- Veldig lang når man ikke har noen bakgrunn overhodet med programmering\n",
    "- Veldig lang\n",
    "- Veldig kjipt å måtte ta en slik test når man aldri har hatt programmering før.\n",
    "- veit ikke om den er vanskelig eller ikke eg kan bare ingenting om dette.\n",
    "- veeeeeeeeeeeeeeeeeeldig lang og repetetiv\n",
    "- Var veldig vanskelig etter som jag har aldri hatt programmering tidligere.\n",
    "- var relativt grei i starten, men forsto mindre og mindre jo lengre inn i testen vi kom\n",
    "- Var noen kommandoer/tegn jeg hadde aldri gått igjennom\n",
    "- Var noe jeg gjenkjente og annet som jeg ikke har blitt læret enda\n",
    "- Var mange oppgaver hvor jeg skjønte noen av kommandoene, men en ukjent for eksempel variabel førte til at jeg ikke klarte å svare\n",
    "- var litt simpelt men har glemt litt av det og husker ikke igjen alt\n",
    "- Var ikke så vanskelige spørsmål, er bare litt rusten på temaet.\n",
    "- Var ikke nødvendigvis testen som var vanskelig, men når man ikke har vært borti noe av det før blir det umulig å forstå..\n",
    "- Var helt nybegynner og ingen erfaring med noe koding utenom SQL world spørringer. Begynte å skjønne mere og mere etterhvert utover testen, blir nesten som en IQ test jo lengre inn mann kommer. Finner flere måter å tolke spørringene på om du ikke har noe relevanse fra det her.\n",
    "- Var fleire spørsmål som omfatta ting som vi ikkje blei lært på videregåande som ein del av pensum.\n",
    "- Var en greit omfattende test for Python. Tenkter at det dekker det grunnleggende man burde kunne i matte og python, pluss litt mer. Jeg skulle ønske at det hadde dekket et annet kodespråk som også brukes mye i feltet, f.eks. JS eller C+; da tenker jeg at kanskje noen flere kunne ha vist mer kompetanse, jeg selv bruker ikke så mye python pga. programmer jeg koder kjører mer effektivt på språk som rust. Derfor føler jeg at testen er nokså grei hvis man tenket på flertallet.\n",
    "- Vanskeligste oppgaver for meg var behandling av true/false i sammenheng med argumenter for funksjoner\n",
    "- Vanskelighetsgraden var vanskelig å bestemme på slutten, da starten var veldig lett, men vanskelighetsgraden tok seg veldig opp på slutten. Så det var en bra test siden man fikk testet oppgaver i økende vanskelighetsgrad.\n",
    "- Vanskelighetsgraden baserer seg mer på at jeg ikke husker visse ting så du kan si den var vanskelig, men den var grei.\n",
    "- Vanskelig å sette seg inn i med lite erfaring fra Python fra tidligere, så mye nytt å sette seg inn med.\n",
    "- Vanskelig å sette seg inn i det uten noken bakgrunn. Ikkje alt som virker direkte logisk med første augekast.\n",
    "- Vanskelig å huske ettersom det er 3 år siden faget mitt. usikker på om lister teller enheter fra 0,1,2 eller 1,2,3\n",
    "- Vanskelig å gjøre testen når man aldri har drevet med programmering før\n",
    "- Vanskelig uten nok kunnskap\n",
    "- Vanskelig test\n",
    "- vanskelig når man ikke har lært programeing\n",
    "- Vanskelig når man ikke ble undervist i programmering på vgs fordi det var en liten del av eksamen\n",
    "- Vanskelig for de som ikke har hatt programmering før, men ellers en fin test.\n",
    "- Vanskelig da jeg ikke har hatt faget før. Kan ingen ting.\n",
    "- Vanskelig :)\n",
    "- Uten å ha hørt noe om noe av dette før er det eneste jeg klarer å svare på det som gir mening rent matematisk og uten alt som er rundt det. Legg merke til at jeg gjorde dette før første forelesning\n",
    "- Uten forkunnskaper var det vanskelig å få med seg de mer avanserte delene til testen, og jeg kan ikke med sikkerhet si at der jeg svarte, svarte jeg riktig.\n",
    "- Usikker på om at lister starter på 0\n",
    "- Usikker på lister\n",
    "- Trur eg lærte programmering i Simula, kan slett ikkje hugse desse variablane :D\n",
    "- Tror testen er greit bygget opp, men jeg kan bare ingeting\n",
    "- Trenger god oppfriskning på hvordan lister fungerer\n",
    "- Tok ikke kurs på uni / høgskole, men tok halvt års fagskole kurs som ga 30 fagskole poeng\n",
    "- Tilby den på nynorsk også, til dei av oss som har det som hovudmål :)\n",
    "- testen virket ikke vanskelig i forhold til nivået vi burde ha, men jeg husker lite fra vgs\n",
    "- Testen kartlegger sikkert hvor mye elever kan av programmering, men syns dette blei skuffende og gjorde meg usikker... dette kunne kanskje stått i forkant\n",
    "- Testen kartlegger mer ut i fra teori bak språket i stedet for hvor mye man klarer å bruke det.\n",
    "- Testen ga meg impostersyndrome, men dette ordner seg\n",
    "- Testen er vanskelig for nybegynnere, denne testen er rettet mot de som har drevet med programmering for ikke så lenge siden.\n",
    "- Testen burde tas før undervisning\n",
    "- teist test koding handler ikke om å se en kode og forstå den det handler om 1000 timer på stack overflow\n",
    "- Takk for øvelsen\n",
    "- Strings i lister og boolske operatorer var det eneste som jeg tror var utfordrende.\n",
    "- Starter med at man kan bruke logikk til å finne løsninger. Etter hvert kommer det tegn og skrivemåter man ikke har sett før, og  må man ha erfaring med programmering for å skjønne språket.\n",
    "- starter ganske blank men motivert. testen var grei uten at eg har mye å basere det på\n",
    "- Spørsmålene hvor man behandlet string variabler/lister var de jeg har vært borti minst før.\n",
    "- Som studenter ønsker vi oss muligheten til å gå tilbake og se hvor vi eventuelt har gjort feil på testen. Ved å kunne sammenligne våre svar med fasit, kan vi identifisere kunnskapshull og forbedre vår læring. Dette ville gjort testen til en mer verdifull læringsopplevelse enn forkastelse en time forelesning.\n",
    "- Som en uten forkunnskaper var denne testen vanskelig. Men det er bra, slik at man får sett hvilket nivå man ligger på.\n",
    "- Slutt delen var ufostålig og noe vi aldri hadde om.\n",
    "- slet med siste 20%\n",
    "- Skulle vært litt mer diversifisert tematikk\n",
    "- Skulle gjerne hatt litt undervisning i enkel programmering før vi begynner med mer avansert enn dette.\n",
    "- Skjønte litt ikke mye :)\n",
    "- Skjønte ingenting. Har ikke hatt noe programmering før.\n",
    "- skjønte ingenting, men gleder meg til å lære mer.\n",
    "- skjønte ingenting\n",
    "- Skjønte ingenting\n",
    "- Skjønte ikke fagbegreper, == og andre symboler\n",
    "- Skjønte ikke en dritt\n",
    "- Skjønner konseptet / hva man vil fram til i alle oppgavene men er noen kommandoer jeg ikke har lært som gjør at jeg faller av på noen av dem.\n",
    "- skjønner ingenting, alt er nytt for meg\n",
    "- Siste oppgave var vanskelig siden det er uklart om for lager en kopi av array eller bruker referanse som oppdateres.\n",
    "- Sikkert lurt å ta, men selvtilliten når det kommer til koding ble brutalt knust\n",
    "- Sikkert en enkel test men for en som har liten programmeringsbakgrunn så var det ikke så lett å tolke\n",
    "- shiiiiii, wtf er dette. Maybe drop out?\n",
    "- Ser ikke poenget med å gjennomføre testen ved null forkunnskaper.\n",
    "- Ren gjetting når man kommer over begreper man ikke vet hva betyr.\n",
    "- på grunn av mangel av forkunnskap må jeg si at denne testen ga meg så og si ingen mening og det var ingenting å forstå da jeg aldri har drevet med python tidligere.\n",
    "- pls stopp med det!!\n",
    "- Orket ikke mer ved slutten, tok vet ikke på alt.\n",
    "- Oppleves som veldig ulik hva vi brukte python til i fysikken og matten\n",
    "- Oppklar om man skal inkludere \"\" eller ikke når svaret er en streng. I noen oppgaver kunne man ikke skrive \"\" og i andre kunne man\n",
    "- Offameg\n",
    "- Nå følte jeg meg dum 😭\n",
    "- næt\n",
    "- Null kompetanse. Sikkert grei skuring om man vet litt\n",
    "- null forkunnskaper, så skjønte ingenting:)\n",
    "- null efaring med koding.\n",
    "- Noe var veldig greit, og minnet mye om programmeringen fra videregående. Andre temaer har jeg ikke vært noe borti før\n",
    "- Noe var kjent fra videregående, men noe var enten skrevet på en annen måte her eller noe jeg ikke kunne fra før av\n",
    "- noe lett og noe vanskelig\n",
    "- Noe lett og noe jeg ikke kan. Lærerne i R matte var ikke spesielt gode i programmering\n",
    "- noe felt som kun gikk an å skrive tall, der jeg ønsket å skrive tekst\n",
    "- Nesten alt av min tildligere programmeringskunnskap var borte, så den virket vanskelig, men jeg tror med litt opp-freshning så er ikke vanskelighetsgraden egentlig så ille. Jeg tok yrkesfag og påbygg, og var det første kullet som fikk nytt R1 pensum (2021, når programmering kom inn i pensum) når jeg tok det for å komme inn på studiet, så jeg hadde ingen tidligere prog.-erfaring som man får på yngre trinn nå.\n",
    "- Må øves på\n",
    "- Må lære alt fra starten\n",
    "- Mye virker kjent, men vi hadde veldig lite programmering på vgs\n",
    "- mye virker ganske ulogisk i forhold til den matematikken jeg har i bakgrunn\n",
    "- Mye vi ikke har lært om, og små tegn gjør det vanskelig å tyde alt\n",
    "- Mye vanskeligere i slutten føltes det\n",
    "- mye ukjent ettersom jeg aldri gikk dypt inn i python ettersom vi aldri måtte lære alt dette. bare basics som man fort glemmer etter eksamen\n",
    "- mye ukjent\n",
    "- mye så kjent ut, men har ikke rørt noe programmeringsverktøy siden våren 2022\n",
    "- Mye ser relativt greit ut, så lenge man har vært gjennom stoffet, noe jeg ikke har\n",
    "- Mye repetering av det samme stoffet fra spørsmål til spørsmål, for mye \"ren\" python\n",
    "- Mye nytt jeg ikke har vært gjennom fra videregående, etter å ha vært en del av den gamle læreplanen.\n",
    "- Mye jeg ikke vet her\n",
    "- Mye jeg ikke har vært borti før på vgs\n",
    "- Mye jeg ikke forstod. Jeg kan litt programmering, men denne prøven var så dårlig formulert flere ganger, skjønte ikke noe av den\n",
    "- Mye gjetning. Kunne nok ikke så mye.\n",
    "- Mye av svarene mine er basert på det lille jeg husker. Jeg har sikkert masse feil, men ønsket å prøve meg fram.\n",
    "- mye av svarene jeg tror jeg har rett på kom av en generell kunnskap av matte ikke av programering\n",
    "- Mye av stoffet har jeg ikke gått igjennom på videregående.\n",
    "- mye av dette ga ikke mening siden je mangler forkunskaper\n",
    "- Mye av det samme, og kodeeksemplene er så enkle det blir litt forvirrende.\n",
    "- Mye av det samme som på test A. Tok unødvendig mye å gjennomføre begge testene med andre ord. Kunne kanskje vært mulig å hente resultatene fra respondentene i den første testen i og med at dere kan spore oss vi UiB-IDen.\n",
    "- Most of it was easy, could have been better to include a few syntax errors that need debugging\n",
    "- Mogus\n",
    "- meste av funksjonene brukes lite\n",
    "- Merkes at det blir økende vanskelighetsgrad, hadde vært kult å få en indikasjon på om man husker rett eller ikke, underveis.\n",
    "- Mengden programmering som ble gjennomgått i matematikk på videregående skole var begrenset grunnet mangel på kunnskap hos lærerne.\n",
    "- Med ingen tidligere erfaring er det noen spørsmål som kan virke logisk ved å tyde skriptet, men ellers vanskelig å forstå.\n",
    "- Med grunnleggende mattekunskaper kunne man gjette seg til logiske løsninger som var interesant.\n",
    "- Matten var vanskeligere enn koden\n",
    "- Mangler det grunnleggende, men gleder meg til å få lært det\n",
    "\"- mange uttrykk som jeg ikke har vært borti, mest hørt om list og funksjoner\n",
    "Synes vanskelighetsgraden var grei, men merker at jeg trenger oppfriskning.\"\n",
    "- mange problemstillinger jeg aldri har vært borti, og hadde ikke noe form for programmering på videregående\n",
    "- Mange av spørsmålene var mer eller mindre de samme, og testen kunne sikkert vært litt kortere.\n",
    "- lærte så vitt noe i videregående, kunnskapen jeg har baserer jeg på andre språk.\n",
    "- Lærte ikke så mye av dette på videregående.\n",
    "- lærte aldri om list\n",
    "- Lurespørsmål 😢\n",
    "- Litt vanskelig mot slutten.\n",
    "- Litt vanskelig med div. doble nektelser\n",
    "- Litt uforståelig hvordan man skulle skrive svaret ettersom ingen eksempler annet enn multisvarene ble gitt\n",
    "- Litt repetitiv, mange like spørsmål\n",
    "- Litt rar noen steder\n",
    "- Litt lang. Og med lite forkunnskaper -ganske umotiverende. Vært borti mye av det men lenge siden jeg har brukt det, glemsel\n",
    "- litt lang, ble litt lei underveis\n",
    "- Litt lang\n",
    "- Litt kjedelig, mange like oppgaver som ikke var vanskelig, bare kjedelig å \"kjøre\" i hodet\n",
    "- Litt for repetitivt til tider\n",
    "- Litt for mange spørsmål med a=tall b=tall a = b.\n",
    "- lister og funksjoner var vanskelig, ikke hatt mye om det\n",
    "- list og funksjoner var ikke noe jeg kjenner\n",
    "- Lette men irriterende oppgaver hvor man må ha tungen rett i munnen\n",
    "- Lett i starten, vanskelig når det begynte med funksjoner\n",
    "- Lett i starten, lister og funksjoner var verst\n",
    "- lett i starten og vanskelig på slutten :)\n",
    "- Lenge siden sist jeg holdt på med mange av disse tingene, så har glemt en del.\n",
    "- Lenge siden jeg har programmert og kan egentlig ganske lite.\n",
    "- Lenge siden jeg har drevet med Python! Gleder meg til faget.\n",
    "- Lang\n",
    "- lag testen kortere sånn at man har energi igjen til å faktisk prøve å tenke ut svaret på slutten\n",
    "- kunnskapen min har helt der når det kommer til oppgavene, forsto ingenting dessverre🤷🏽\n",
    "- Kunne noe av dette (trooor jeg), men husker lite da det ikke har blitt vedlikeholdt.\n",
    "- Kunne litt fra noen Python kurs, men husker ikke mye. Bare noen deler. Ellers veldig bra test :)\n",
    "- kunne lite, håper å lære mer\n",
    "- Kunne ingenting, men har heller aldri lært eller sett noe av dette.\n",
    "- kunne ingenting as\n",
    "- Kunne ingenting\n",
    "- kunne ikke vært enklere\n",
    "- Kunne hatt objektorientert programmering også. Burde også hatt oppgaver der man konverterer variabler, som hva blir type(str(2244))?\n",
    "\"- Kunne gjerne hatt mindre hoderegning.\n",
    "\n",
    "Kunne gjerne vært kortere.\n",
    "\n",
    "Kunne gjerne hatt en fasit etter hvert spørsmål eller på slutten, så kunne man lært litt av den.\"\n",
    "- Kunne evt vært litt mer forklaringer til kodene, altså hva slags koder det er for eksempel.\n",
    "- Kunne det meste pga forkunnskaper. Synes løkker og funksjoner er litt vanskelig så husket ikke det så godt.\n",
    "- Kunne brukt mye mer |x += t| istedenfor |x = x + t|.\n",
    "- kult, hadde situasjoner jeg ikke hadde kommet over før, måtte tenke litt ekstra på flere\n",
    "- Kommer jeg i det hele tatt til å bestå selv om jeg putter inn all arbeidet jeg har i meg? Jeg er veldig motivert og disiplinert, men her er jeg redd om jeg i det hele tatt kan klare å bestå.\n",
    "- kjente kunnskapen sviktet ved koding av lister. veldig bra måte å teste kunnskapen på\n",
    "- kjente at jeg vet ikke så mye om lister og funksjoner\n",
    "- Kjenner igjen noe, men mye er helt nytt\n",
    "- Kjenner at en del kunnskap manglet, hovedsakelig som resultat av at lærere ba oss om å kopiere heller enn å lære, og at enkelte begreper og funksjoner ikke ble brukt.\n",
    "- kanskje se fasit etter at man har skrevet inn en verdi/tekst/tabell.\n",
    "- Kanskje\n",
    "- Kan være jeg har feil, men det var en oppgave der jeg ønsket å svare med en bool, enten det var True eller False, men dette fikk jeg ikke lov til. Dette ga meg et hint om at det jeg tenkte var feil og forhåpentligvis ledet meg i rett retning. Det burde være mulighet for å svare Ture eller False også.\n",
    "- kan omtrent ikke programmering\n",
    "- Kan null\n",
    "- Kan lite om lister så da ble testen vanskelig.\n",
    "- Kan lite eller ingenting om programmering. Så mange av oppgåvane var umogleg å gjera\n",
    "- Kan ingenting om python eller programmering, alt ser derfor helt gresk ut for meg :/\n",
    "- Kan ingenting om koding\n",
    "- Kan ingenting fra før.\n",
    "- Kan ingenting fra før, såååå. gøy test\n",
    "- Kan ingenting :)\n",
    "- Kan ingenting\n",
    "- Kan ikke si noe om vanskelighetsgrad da jeg ikke har noen grunnkunnskaper som kan testes.\n",
    "- Kan ikke si at den var lett eller vanskelig fordi jeg har ikke noe erfaring med programmering.\n",
    "- kan ikke programere\n",
    "- kan ikke noe om lister. Det er også en del tegn jeg ikke har lært\n",
    "- Kan ikke noe\n",
    "- Kan ikke koding fra før.\n",
    "- Kan generelt lite om lister\n",
    "- Kan bare litt basic Python og Anaconda programmering vi har gjort litt med i matten på videregående, ellers ingenting og derfor var denne kartleggingsprøven vanskelig for meg.\n",
    "- Kan absolutt ingen koding, så vet ikke hvordan jeg leser av eller løser oppgaver. Vet ikke hva de ordene på første oppgave betyr engang. Så veldig spent på å lære, og håper dermed på en fin start slik at jeg henger med :))\n",
    "- Jes kan ingen koding fra før\n",
    "\"- Jeg vil gjerne vite om jeg fikk alle rett eller om jeg slurvet på noe, om det er mulig :-)\n",
    "\n",
    "kaspere@stud.ntnu.no\"\n",
    "- jeg vet ikke om denne testen er vanskelig elller ei fordi jeg ikke har noe kunskap om programmering enda.\n",
    "- jeg vet ikke om den var lett eller vanskelig fordi jeg ikke hadde programmering på vgs.\n",
    "\"- Jeg vet ikke hva 'e' er i en liste.\n",
    "\n",
    "I løpet av testen har jeg gjort antagelsen at lister begynner med [0], istedenfor min første antagelse at de begynner med [1]. Jeg har gått tilbake og korrigert svarene mine i følge med det.\"\n",
    "- Jeg vet ikke\n",
    "- jeg vet ike\n",
    "- Jeg var usikker på noen ting, siden jeg er bare vant til editoren.\n",
    "- Jeg tror det kan ha vært en feil i en av oppgavene, funksjoner 4, der påstand a ikke stemte og «if»-scenarioet ikke ville skjedd. Det var også en skrivefeil i tittelen på funksjoner 1 (Funskjoner 1). :)\n",
    "- Jeg tror at testen er god dersom man har forkunnskaper om programmering, eller har hatt det på videregående. For min del kan jeg ikke programmere fra før, og jeg opplevde derfor testen som vanskelig. Noen av spørsmålene ser kjente ut fra matte, uten at jeg klarer å huske helt hva som er riktig og jeg blir usikker på om det betyr det samme i programmering som i vanlig matte.\n",
    "- Jeg synes denne testen var veldig vanskelig da jeg ikke har hatt noe programmering før. Men, jeg ser frem til å lære mer og ønsker å heve mitt kompetansenivå.\n",
    "- Jeg orket ikke tenke gjennom alt\n",
    "- Jeg mangler undervisning i programmering fra videregående, og har kun brukt nettressurser i forberedning for UiS. Mangler kunnskaper om store deler av grunnleggende Python.\n",
    "- Jeg kunne ikke velge 2013 som år for videregående skole\n",
    "- jeg kan ærlig ikke huske mye, men har kunnet litt mer før. så skal være mulig å lære igjen og litt til med god innsats :)\n",
    "- Jeg kan lære det ettervært\n",
    "- Jeg kan ingenting om progging og derfor svarte jeg nøytral fordi jeg ikke vet noe om vanskelighetsgrad\n",
    "- Jeg kan ingenting om koding\n",
    "- Jeg kan ingenting om dette.\n",
    "- Jeg kan ingenting og har ingen forkunnskaper\n",
    "- Jeg kan ingenting\n",
    "- Jeg kan ikke sånt enda\n",
    "- Jeg kan ikke programeringsspråket ennå, men er sikkert lett bare jeg blir fortalt/lært\n",
    "- Jeg kan ikke programere\n",
    "- Jeg kan ikke lister\n",
    "- jeg kan ikke kode\n",
    "- Jeg kan absolutt ingenting om \"e\" i en kode, heller ikke så mye om strings. Ellers virket det meste ganske kjent, og overkommelig selv om jeg har hatt 1 år pause mellom videregående og universitetet\n",
    "- Jeg håper å kunne lære alt jeg ikke forsto av denne testen, på skolen\n",
    "- Jeg håper virkelig at jeg får vite hvor mye riktig jeg fikk!\n",
    "- Jeg håper jeg lærer mye av dette i løpet av semesteret\n",
    "- jeg håper dere lærer meg dette godt og nøyaktig, punkt til punkt ord for ord.\n",
    "- jeg husker litt men min vgs opplæring var minimal\n",
    "- Jeg husker ingenting fra videregående.\n",
    "- Jeg husker ikke så mye, ettersom at vi ikke gikk så grunnleggende igjennom vi bruker pyton.\n",
    "- Jeg henger ikke helt med på alt, men hadde programmering da jeg hadde fysikk 1 i 3. klasse, men er to år siden så det sitter noe der, men er en el hull og trenger oppfriskning\n",
    "- jeg har veldig lite kjennskap til programmering, så jeg kan ikke si så mye om vanskelighetsgrad\n",
    "- Jeg har så og si ingen kunnskap innenfor koding fra før, så dette er veldig utfordrende. Det var ikke i pensum i noen relevant grad når jeg fikk VGS.\n",
    "- Jeg har null forkunnskaper i dette emne. Så jeg hadde satt pris på om du forklare grundig, og forenkler ting.\n",
    "- Jeg har lært noe for 3 år siden. Jeg husker tegna men jeg husker ikke hva de var eller hvordan de funket.\n",
    "- jeg har kun lært noe grunnleggende, kan ellers ingenting\n",
    "- Jeg har ingen forkunnskaper i programmering, gjerne forklar litt prinsipper/ ord først\n",
    "- Jeg har ingen forkunnskap om koding før og derfor var denne testen vanskelig for meg.\n",
    "- Jeg har ingen erfaring med Python, og alt av svar jeg avga har vært basert på intuisjon.\n",
    "\"- Jeg har ingen bakgrunn med programmering, så med unntak av de enkle logiske argumentene vet jeg ikke hva svarene er. \n",
    "Men jeg er motivert for å lære meg det.\"\n",
    "- Jeg har ikke vært innom alt dette på vgs\n",
    "- Jeg har ikke vært borti noen form for programmering, bortsett fra et lyn-kurs gjort av mattelæreren min på 1.5 time for 2 år siden. Altså mine kunnskaper om programmering er minimale\n",
    "- Jeg har ikke programmert før så har ikke noe å sammenligne det med.\n",
    "- Jeg har ikke programert mye med python, men med javascript, mye ligner men har andre måter å sette ting opp på, så jeg blir forvirra\n",
    "- jeg har ikke noe kompetanse innfir programering\n",
    "- Jeg har ikke lært noe om følgende kodee\n",
    "- Jeg har ikke lært noe enda\n",
    "- jeg har ikke hatt programmering på to år la meg leve </3\n",
    "- Jeg har ikke hatt programmering på min læreplan i matematikk.\n",
    "- Jeg har ikke hatt om dette før.\n",
    "- Jeg har ikke hatt noe programmering før, så kan ikke noe av dette. For noen som har hatt programmering før er det nok en fin test for å se hvor mye folk kan fra før\n",
    "- Jeg har ikke hatt noe form for programmering før.\n",
    "- Jeg har ikke hat opplæring i programmering før, så jeg syntes det var vanskelig.\n",
    "- Jeg har ikke erfaring i programmering fra før av, så det var ganske vanskelig.\n",
    "- Jeg har ikke de forkunnskapene jeg trenger\n",
    "- Jeg har ikke blitt lært om programmering før, annet en det lille jeg forsto som privatist i r1.\n",
    "- Jeg har hatt IT en, men alt ble lagt i glemmeboka når sommerferien begynte.\n",
    "- Jeg har hatt faget før, så vet ikke hvor representativ jeg er. Tar det opp for å lære meg det som er basic på nytt (så noen ting kan jeg mens andre ting kan jeg ikke).\n",
    "- jeg har hatt 1t, r1 og r2 på videregående skole og la med si deg at jeg har ikke lært noen ting av det som kom på denne testen.\n",
    "- Jeg har hatt 1t, r1 og r2 på vgs. jeg kom ut av vgs i 2024 med en 5 i r2. jeg klarte kanskje 3% av denne testen....... vi lærte såvidt programmering noe på vgs:(\n",
    "- jeg har glemt list og def, har lært det før men må pusse opp.\n",
    "- Jeg har bachelor i informatikk\n",
    "- jeg har aldri vært borti programmering før\n",
    "- Jeg har aldri vert borti python\n",
    "- Jeg har aldri sett på programmering før, har ikke hatt det på skolen.\n",
    "- jeg har aldri prøvd å programmere før så jeg vet ikke mest av det her.!\n",
    "- Jeg har ALDRI holdt på med programmering før, så da er denne testen litt håpløs. Prøvde å gjette\n",
    "- jeg har aldri hatt programmering før og derfor var det umulig å svare på spørsmålene\n",
    "- Jeg har aldri hatt programmering før og derfor var det umulig å svare på de fleste spørsmålene.\n",
    "- jeg har aldri hatt programmering før :)\n",
    "- Jeg har aldri hatt noen form for programmering før, null forkunnskaper\n",
    "- Jeg har aldri hatt noen form for programmering før så alt på denne testen var nytt for meg.\n",
    "- Jeg har aldri drevet med programmering\n",
    "- jeg hadde programmering, men ikke svært mye, og det stoppet på if else løkker\n",
    "- Jeg hadde ingen forkunnskaper om Python.\n",
    "- jeg forstår minimalt\n",
    "- jeg forstår kun mattematikken i python.\n",
    "- Jeg forstod egentlig ikke så mye. vi har bare hatt veldig grunnleggende. kan nesten ingen av de ordene eller symbolene. alt er forvirrende\n",
    "- jeg forsto ikke noe :)\n",
    "- Jeg fikk ikke lov til å svare \"123123\" med anførselstegn på et tidlig spørsmål.\n",
    "- Jeg er dårlig i programmering så kan hende testen ikke var så vanskelig, men vi har ikke hatt sp mye programmering på VGS,\n",
    "- Jag har aldrig haft programmering\n",
    "- irrasjonelle oppgaver\n",
    "- Ingen forkunnskaper om Python\n",
    "- Ingen erfaring med programmering\n",
    "- Ingen erfaring me detter programmerings språket\n",
    "- ingen\n",
    "- Im a noob in this\n",
    "- Ikke til testen, men jeg synes det var vanskelig å finne informasjon om hva jeg skal/skulle gjøre i denne starttimen (NTNU)\n",
    "- ikke smidig nok, bare barnemat\n",
    "- ikke lært på skolen\n",
    "- Ikke hatt programmering tidligere\n",
    "- I våre it1 og it2 timer hadde vi html, css og javascript, kan ingenting om phyton\n",
    "- I don't know\n",
    "- I det generelle innholder denne testen en rekke elementer som er realtivt enkle, men noen andre elementer på slutten inneholder ting som er vanskelig å gjøre uten å kunne kjøre koden og sjekke ut ulike elementer. Selv om testen av veldig bra og har bra elementer.\n",
    "- håper vi starter å lære akt fra scratch\n",
    "- Håper jeg klarer faget selv om jeg svarte «vet ikke» på nesten.\n",
    "- Håper du tar en grundig gjennomgang gjennom alt selvom noen syntes det er lett.\n",
    "- håper du går igjennom alt uansett hvor mye folk kan\n",
    "- Hvorfor python og ikke javascript?\n",
    "- Hvordan skriver man lister i svar?\n",
    "- Hvis man svarer at man ikke har hatt programering før på introduksjonsspørsmålene. Burde man ikke det bare komme til en \"test over\" skjerm?\n",
    "- Hvert tema startet greit så ble det vanskeligere og vanskeligere. På slutten skjønte jeg veldig lite.\n",
    "\"- hva er:\n",
    "for e in x\"\n",
    "- hva betyr ==?\n",
    "\"- Husket lite fra IT 1 på VGS. \n",
    "Er nok forskjell på studenter født i 2003 og tidligere kontra 2004 og senere, ettersom vi «eldre» ikke hadde programmering i mattefagene. Håper derfor vi starter helt på «scratch» i ITGK.\"\n",
    "- Husker ikke ting, trenger en refresher.\n",
    "- Husker ikke små detaljer\n",
    "- husker ikke lister og funksjoner\n",
    "- Humbling\n",
    "- Hovuddelen av kunnskapen min kjem ifrå vidergåande. Eg går ut ifrå at det varierer kva del-emner det er fokus på. Eg hadde f.eks. ein del om eksterne datasett, som det var ingen spørsmål om. Dermed varierer nok resultata litt p.g.a lignande tilfeller: altså meir variasjon i spørsmåla.\n",
    "- hoderegning er vanskelig, mye bedre når pcen gjør det for meg :)\n",
    "- hjelp.\n",
    "- Hjelp programmering!\n",
    "- Hjelp\n",
    "- Helt grei, når man har gått informasjonsteknologi 1 og 2 som valgfag på vgs.\n",
    "- Hatt lite av dette før, derfor vanskelig\n",
    "- Har veldig lite forkunnskaper, så det meste av denne testen kunne jeg ikke svare på.\n",
    "- har tatt et par kurs i python, men er en stund siden sist, så jeg er litt rusten.\n",
    "- Har prøvd å lære litt programmering på egenhånd, men kun noen få timer\n",
    "- har null peiling når det kommer til programmering\n",
    "- Har null kunnskaper om programmering, derfor visste jeg ingenting.\n",
    "- har null erfaring når det kommer til programmering\n",
    "- Har nesten ingen forkunnskaper for programmering\n",
    "- Har nesten ikke gått gjennom noe av dette på VGS...\n",
    "- Har lyst til å bli mye bedre og er motivert for det!\n",
    "- Har lite efaring med python frå tidligere undervisning.\n",
    "- Har kun programmert litt\n",
    "- Har kun litt forkunnskaper fra R, men ellers veldig lite\n",
    "- Har kodet i it på videregående, men de fleste begrepene var ukjent på grunn av annet språk\n",
    "- har jobbet lite med lister i Python så kan lite om det, og trengs derfor å øves på\n",
    "- Har ingen tidligere kunnskaper. Et par ting var bare logisk, men mye var gresk\n",
    "- Har ingen Python-erfaring\n",
    "- Har ingen kunnskaper om programmering.\n",
    "- Har ingen kommentarer til testen, men vil bare informere om at vi har lært utrolig lite om programmering på skolen.\n",
    "- har ingen forkunnskaper om programmering og kan derfor ikke si noe om vanskelighetsgraden.\n",
    "- Har ingen forkunnskaper om koding.\n",
    "- Har ingen forkunnskaper i programmering.\n",
    "- har ingen forkunnskaper i programmering så kunne ikke svaret på noen av oppgavene\n",
    "- Har ingen forkunnskaper fra før, så dette var litt vanskelig...\n",
    "- har ingen erfaring med programmering.\n",
    "- Har ingen erfaring med koding, så alt er griskt for meg\n",
    "- Har ikkje hatt programmering på vgs. Hatt noko programmering i Fysikk 1 som privatist.\n",
    "- Har ikkje hatt programmering på skolen siden vg1\n",
    "- Har ikke vært så mye innom lister i python før\n",
    "- har ikke vært så mye borti lister eller også var det ! som jeg ikke viste hva gjorde\n",
    "- Har ikke vært noe særlig innom programmering tidligere.\n",
    "- Har ikke vært borti Python før\n",
    "- Har ikke vært borti dette før så var veldig vanskelig.\n",
    "\"- Har ikke programmert før så mye av dette var vanskelig for meg,\n",
    "men heldigvis så har jeg tatt en liten kurs i Python som fikk meg til å skjønne noen av syntxen\"\n",
    "- har ikke programert python ;_;\n",
    "- Har ikke mye erfaring med bool-verdier.\n",
    "- har ikke lært om lister\n",
    "- har ikke lært om dette temaet så er litt vanskelig å forstå\n",
    "- Har ikke lært noe som helst programering fra før\n",
    "- har ikke lært noe om komandoen \"ls\" på videregående\n",
    "- Har ikke lært noe av dette, så hvis dette er forventet å kunne har jeg ikke en kjangs i timene fremmover.\n",
    "- har ikke lært mestparten av det som kom mot slutten av testen\n",
    "- Har ikke lært grunnleggende programmering på skolen\n",
    "- har ikke lært dette på videregående. vi lærte veldig basic ting som ikke var på testen engang\n",
    "- Har ikke lært dette før så har ikke så mye å dele på om det er vanskelig eller ikke.\n",
    "- har ikke lært dette\n",
    "- Har ikke holdt på med mye Python så denne testen var vanskelig for min del :)\n",
    "- Har ikke hatt så mye fokus på denne typen programmering. Heller mer mot formler i matte og fysikk samt numeriske løsninger for integral o.l.\n",
    "- Har ikke hatt programmering. Kan ikke si noe på vanskelighetsgraden til oppgavene.\n",
    "- har ikke hatt programmering på vgs\n",
    "- Har ikke hatt noen programmering på vgs\n",
    "- Har ikke hatt noe python\n",
    "- Har ikke hatt noe programmering tidligere.\n",
    "- Har ikke hatt noe programmering så hadde ingen forutsetninger for å få til noe.\n",
    "- Har ikke hatt noe programmering før. Har bare vært på forkurset til dette faget\n",
    "- Har ikke hatt noe programmering før\n",
    "- har ikke hatt noe programmering før\n",
    "- Har ikke hatt mye programmering før. Men har programmert litt spill i Java\n",
    "- har ikke hatt koding før. så må si meg nøytral. mye svar fra meg som jeg må svare \"jeg vet ikke\"\n",
    "- Har ikke haft någon programering för. Gissade på vissa som verkade logiska\n",
    "- Har ikke gjort noe programmering før. Ble veldig forvirra og var ikke motiverende å ikke skjønne noe\n",
    "- Har ikke gjort noe av dette før.\n",
    "- Har ikke erfaring med programmering fra før\n",
    "- har ike noe kunnskap om it nesten, håper vi lærer alt som en ny begynner\n",
    "- Har hatt pc shcematic...\n",
    "\"- Har hatt LITE programmering, kun i sammenheng med mattefag tidligere, men kan ikke noe. Ønsker gjerne å starte som nybegynner. \n",
    "Greit å gå gjennom så jeg ser hvor lite jeg egentlig kan.\"\n",
    "- Har hatt it grunnkurs før, men er greit med refresh\n",
    "- Har hatt annerledes programmering på videregående. Mye utkjente formler\n",
    "- har gått forkurs ingeniør så har både R1 og R2 men spørsmålet var ikke gitt slik at jeg kunne dele den informasjonen\n",
    "- Har for det meste erfaring med blokkprogramering med litt tekst.\n",
    "- Har du noen kommentarer til denne testen?\n",
    "- Har brukt boolske verdier veldig lite på VGS\n",
    "- Har bare programert i C# og C++\n",
    "- Har bare ikke lært om f() og sånt.\n",
    "- Har bare hatt programering i matte, men jeg likte hvordan testen testet funksjons forståelse på et brett område. PGA uklarhet på om man kunne dobbeltsjekke hvordan div funksjoner virker gjorde jeg det (så kan i så fall alt nå).\n",
    "- Har att friår, så har ikke programmert på over ett år. Mye er kjent, men kan ikke huske mye med sikkerhet. Trenger oppfriskning, så synes det er bra at vi starter kruset fra scratch slik som vi har gjort.\n",
    "- Har alldri programert før, data kunneskapene mine er beskjeden, måtte ta emne i fjor men syntes var forvansklig for meg så ga jeg opp, nå har bestemt å løre meg dette onklig\n",
    "- Har aldri åpnet et programmeringsprogram, så aner ikke hvordan det brukes. Derfor blir testen vanskelig, når man ikke vet hva de forskjellige tingene betyr.\n",
    "- Har aldri sett dette før :)\n",
    "- Har aldri programmert Python før, kommer fra c++, c# og vb. Mulig at jeg har bommet litt på semantikken\n",
    "- Har aldri programmert før:) Gleder meg til å lære.\n",
    "- Har aldri programmert før, så kunne ingenting. Tippet på de første der det bare så ut som matte.\n",
    "- har aldri lært om ls, eller slikt. Ble derfor vanskeligere enn tenkt. Artig test for det :)\n",
    "- Har aldri jobba med dette før\n",
    "- har aldri holdt på med programmering så var selvfølgelig vanskelig å svare på testen, men fint å få kartlegget hvordan folk ligger Ann når det kommer til programmering\n",
    "- har aldri hatt python før så har berre gjordt antaginger utifra andre programmeringsspråk eg har hatt før.\n",
    "- Har aldri hatt programmering før, så var umulig å svare på noen som helst spørsmål.\n",
    "- Har aldri hatt programmering før, da det ikke var på læreplanen når jeg gikk på vgs.\n",
    "- har aldri hatt programmering før til vi hadde det litt i IMRT100 (robotikk)\n",
    "- har aldri hatt noe med programering å gjøre, merker at dette var som å lese gresk.. blir mye jobbing framover\n",
    "- har aldri gjort noe med programering før\n",
    "- hadde vært lett om jeg hadde holdt på med looper som inkluderer lister, strings og multiplikasjon. i tillegg har jeg ikke brukt spsifikke elementer fra lister tidligere. koden er lett å forstå men jeg trenger en halvtime til å lære meg hva som skjer med de forskjellige interaksjonene.\n",
    "- Hadde vært kjekt med den nye studieplanen når jeg gikk videregående. Alt så fortsatt kjent ut til det lille jeg kunne fra før.\n",
    "- Hadde vært fint om man kunne dele tankegangen på noen av oppgavene. Flere av de har jeg en ide, men kan kun skrive et tall:)\n",
    "- Hadde vært fint om jeg kunne se resultatet mitt.\n",
    "- Hadde veldig lite programmering på skolen, lærere lærte aldri bort noe. Vi bare kopierte koder.\n",
    "- hadde ITGK høsten 2021, men pga covid fikk vi kun bestått/ikke bestått. tar emnet igjen nå, for å få en god karakter og fordi gode python-ferdigheter er svært nyttig i studiet ellers\n",
    "- hadde gått gjennom det meste men, lister er noe vi ikke egentlig har brukt gjennom skolegangen.\n",
    "- gått eit uferdig studie før\n",
    "- Gøyal øving. :-)\n",
    "- Grunnet av mangel på kunnskap og at jeg ikke har utført slike oppgaver før syns jeg det var litt for komplisert. Ulike formler og utrykk som er vanskelig å tolke, men kommer forhåpentligvis med litt opplæring.\n",
    "- Greit å innføring i hva e bokstaven betyr resten ar greit usikker om dere mener bokstaven eller eulers tall eller hva en\n",
    "- grei test, husker lite siden det er 1.5 år siden sist jeg programmerte python bare\n",
    "- Grei test for grunn kunnskap.\n",
    "- God test. Har fiklet litt i pyton på egenhånd og gjennom forbredelse til privatist eksamen i R1 og R2, merket det var gode forkonskuaper å ha.\n",
    "- God test som testar grunnleggjande programmeringskunnskapar. Nokre få grublisar der ein må tenke litt meir.\n",
    "- God test for å se hvor man ligger\n",
    "- God stemning\n",
    "- God grunnleggende forståelse på starten, men veldig kompleks tilslutt.\n",
    "- Glemte at lister starter med element nr 0 på nån av oppgavene\n",
    "- Glemt litt virker det som\n",
    "- Gikk ut av vgs i 2013. Kunne ikke velge 2013. Har aldri programmert før.\n",
    "- gelder meg til å lære hva jeg ikke kunne, god test\n",
    "\"- Ganske unødvendig lang, legger merke til at mange medstudenter gidder ikke å investere tiden til å svare alt seriøst.\n",
    "\n",
    "Vurder følgende:\n",
    "1. Å begrense de vanskeligere oppgavene i antall, og gjør testen mer presis og tidseffektiv generelt.\n",
    "2. Gi en meny på starten som lar deg velge mellom to ulike valg, med en tidsestimering på hvor lang tid det tar. Da kan du beholde denne originale testen, og lage en kortere og litt enklere versjon. Da blir nok muligens testresultatene mer nøyaktige, og tatt mer seriøst av de fleste.\"\n",
    "- Får se hvordan det går\n",
    "- første del tror jeg at jeg forsto litt. Slutten skjønte jeg ikke, tror ikke jeg har vært så mye bort det heller. Har ikke vært så mye bort \"==\" \"!=\" og sånt heller.\n",
    "- Första halvan var enkel för mig, men listor or funktioner var svårare.\n",
    "- Føles unødvendig for meg personlig å ta denne testen. Jeg kan ingenting, hadde vært kjekt å bare kunne huke av det på starten et sted, så slapp jeg å trykke \"jeg vet ikke\" 100000000 ganger.\n",
    "- føler selv at de feilene som eventuelt er gjort er slurvefeil. føles veldig lett.\n",
    "- Føler seg svak på siste tredjedel av testen.\n",
    "- Føler det er vanskelig med programmering, fikk aldri lært det grunnleggende skikkelig, gikk bare fort gjennom siden lærer som oftest også syntes det var vanskelig\n",
    "- Funksjonene var umulig. Det hadde vært gøy å se hvordan det gikk.\n",
    "- Funkjsoner var vanskelig\n",
    "- Fortså ikke en shit\n",
    "- Forstår basics, men har lite erfaring med løkker og videre.\n",
    "- Forstår at dette er ikke er avansert stoff, men har ikke hørt om mange av begrepene. Derfor blir den «vanskelig»\n",
    "- forsto ikke noe\n",
    "- For repetitiv\n",
    "- For mange av oppgavene var nesten helt like.\n",
    "- For de med null tidligere erfaring hadde det vært fint å kunne huke av flere \"jeg vet ikke\" på en gang, så slipper man å bla seg gjennom hver eneste side.\n",
    "- Flott test ;)\n",
    "- Flere forkortelser jeg aldri har hørt om før\n",
    "- Flere begreper eller koder i testen er jeg ikke kjent med, og synes dermed det var vanskelig å regne ut enkelte oppgaver.\n",
    "- Flere anvendelser som selv for en tidligere R2 elev, er helt ukjente.\n",
    "- Fint at vansklighetsgraden økte mot slutten. Føler jeg fikk vist hva jeg kan om basisprogramering.\n",
    "- Fin test. Føler ikke at programmeringen på vgs dekker andre halvdel av testen, med mindre man har hatt IT som valgfag.\n",
    "- Fin test, ser virkelig hva man har gått gjennom og ikke.\n",
    "- Fekk knapphet på tid, loge på nett\n",
    "- Ez.\n",
    "- Er kanskje ikke en veldig vanskelig test, men jeg har aldri hatt programmering, så jeg forsto ikke mye av dette.\n",
    "- er flere ting her jeg har lært, men som har gått litt i glemmeboka, trenger bare litt repetisjon, og så er det noe som er nytt\n",
    "- Enten skjønte jeg det helt, eller så hadde jeg ikke peiling\n",
    "- Enkle kommandoer er vanskelig når man ikke har hatt koding før\n",
    "- Enkel i starten, vanskelig mot slutten, spesielt liste-oppgavene\n",
    "- Eneste oppgaven jeg er usikker på er den siste. Jeg tror at for-løkken lager en kopi av listen når den starter og dermed ikke legger til 30, men isteden orginalverdien 20 når den kommer til index 1. Er ikke helt sikker.\n",
    "- En god test, men har ikke lært om programmering så den var vanskelig\n",
    "- en del av tingene her var ikke en del av pensum i 1T, S1 eller S2 som jeg kan huske, men gjettet meg frem til noen av svarene basert på hva jeg husker\n",
    "- Ekstremt vanskelig når man har null erfaring med programmering:(\n",
    "- Eg var nok eit av dei siste som aldri he hatt programmering på hverken barneskule, ungdomsskule eller vidaregåande utdanning - så mine data kan derfor kanskje avvike noko frå resten(?)\n",
    "- Eg kunne ikkje noko.\n",
    "- Eg har so og sei null forkunskapar, so var veldig vanskelig. Har vert borti R, men har knapt skreve kode sjølv.\n",
    "- e var ikke definert på foregående oppgave men at programet ikke vil kjøre var ikke et alternativ.\n",
    "- dårlig oppsett\n",
    "- Dårlig formulering av oppgaver som resulterer med at jeg ikke vet hva jeg skal gjøre/svare\n",
    "- dårlig forklaring på oppgavene\n",
    "- dårlig\n",
    "- Dro seg veldig til mot slutten\n",
    "- driiitvanskelig wtf\n",
    "- Drev med programmering på fritiden for noen år siden, glemt det meste siden jeg ikke har jobbet med det siden.\n",
    "- Det virket som grunnleggende programmeringsspråk. Da jeg lærte Python i R2 gjennom Flipclass så bruker han et mer avansert språk som jeg har blitt vant til. En liste der defineres ikke som \"ls\" og liknende, så selvom prinsippene er det samme, ble det litt fjernt for meg.\n",
    "- Det var veldig mange spørsmål og det tok lang tid\n",
    "- Det var noen litt rare funksjoner her og der, og kunne kanskje forklart litt om type-definitions i funksjonene, ettersom det er noe jeg merker gjør python litt lettere å forholde seg til\n",
    "- det var mye nytt som ikke ga mening for meg\n",
    "- det var mange av spørsmålene som ikke ga mening, siden jeg aldri har lært python\n",
    "- det var litt vanskelig grunnen til til at vi nye studenter vi kommer til å lære i frem over\n",
    "- det var jævlig vanskelig, jeg hadde it i 2. på vgs, men jeg husker ingenting.\n",
    "- det var ikke mulighet å skrive komma \",\". Måtte derfor skrive mange tall etter hverandres om ett tall (eller med mellomrom).\n",
    "- det var en del ting som virker logisk, men tok bare ¨vet ikke¨ for selv om det virker logisk så vet jeg faktisk ikke om det er riktig.\n",
    "- Det var en bra test, ikke noe problem med den, det var heller jeg som var problemet. Jeg kommer til å stryke, hjelp :)\n",
    "- Det var bare lett om jeg fikk riktig svar på endel\n",
    "- Det skulle vært en knapp for de som ikke har vært innom programering før, siden de, som jeg, trykker \"jeg vet ikke\" på rundt alle svarene\n",
    "- Det meste var ganske enkelt, utenom ting eg ikkje hadde sett før\n",
    "- Det i slutten var veldig vanskelig og langt over mitt nivå\n",
    "- Det hjelper mye å forstå INF120.\n",
    "- Det gikk ok i starten, men jeg merket ut over i testen at dette er noe jeg ikke kan.\n",
    "- det fikk meg til å føle meg dårlig\n",
    "- det er vanskelig når en ikke har hatt programmering i livet.\n",
    "- Det er vanskelig dersom man ikke har hatt koding, jeg har hatt for lite koding til å forstå dette.\n",
    "- Det er vanskelig , lite kunnskap i Python nå , men håper blir bedre om 2-3 måned\n",
    "\"- Det er uheldig å ikke la bruker skrive inn strengverdier og tvinge at en må skrive et tall når utverdien helt klart er en streng. \n",
    "\n",
    "Siden det var slik på en oppgave, gjorde jeg det slik på alle. '12' + '3' = '123', ikke 123\"\n",
    "- Det er ikke vits å å gå gjennom dette starten, de som har null forkunnskap med programmering!\n",
    "- det er ikke vanskelig. enten så har man vært borti det før og kan svaret, eller så har man ikke vært borti det og kan bare tippe på hva syntaxene betyr\n",
    "- Det er greit å svare her hvor man har alternativer og kan gjete seg litt frem til riktig svar, men hadde selv slitt med å skrive koden som ble oppgitt.\n",
    "- Det burde være mindre flervalgsoppgaver. Det var en oppgave jeg hadde gjort feil, men ettersom at svaret jeg kom frem til ikke var et alternativ, endte jeg med å tenke meg om å få svaret riktig.\n",
    "- Det blir veldig vanskelig å forstå når jeg ikke har noe som helst av forkunnskaper om programmering.\n",
    "- det ble en del gjetting fra min side. det var også et par begreper som jeg ikke helt forsto som ls, boot osv. tror denne testen hadde gått bedre hvis jeg hadde hatt en bedre forståelse for begrepene og deres funksjon.\n",
    "- Dersom man ikke har peiling på noe av dette, burde det være mulig å trykke jeg vet ikke på alle elementer\n",
    "- dere fikk meg til å føle meg smart igjen :)\n",
    "- denne skjønte jeg ingenting av\n",
    "- Den var veldig vanskelig, har ikke sett halve av disse kommandoene engang :/\n",
    "- Den var vanskeligere mot slutten. Har lite erfaring med python - særlig når det kommer til funksjoner.\n",
    "- den er jo satt opp med hensikt av å være forvirrende, med ett bokstavs variabelnavn og slik, som tar vanskelighetsgraden vekk fra programering og over til å holde kontroll på bokstaver\n",
    "- Dekker mye forskjellig, både enkle ting, men også vanskelige ting eller ting man fort kan gjøre slurvefeil på. Alt i alt bra test for å sjekke generell kunnskap\n",
    "- De første spørsmålene var veldig enkle, men de med funksjoner og lister var veldig vanskelige\n",
    "- Da jeg ikke har hatt programmering tidligere, fant jeg testen noe unødvendig. Jeg har ingen forkunnskaper. På den andre siden fikk oppgavene hodet mitt til å begynne å småtygge på programmering.\n",
    "- da jeg bare har hatt strukturert tekst programering i PLSer så blir mange av funksjonsutrykkene noe jeg aldri har vært borti :(\n",
    "- burde være lov å klikke forbi temaer man ikke har noe kunskap om\n",
    "- Bra test. Har jobbet med arduino og PLS programmering. Men mye nytt og interessant her. Bra test.\n",
    "- Bra test, men jeg har ikke hatt programmering før, så jeg vet ingenting av svarene sikkert.\n",
    "- Bra test som setter lys på hva jeg burde se/øve på selv i programmering\n",
    "- bra test for å se om hvilken forståelse man har over faget\n",
    "- Bra test\n",
    "- Bra test\n",
    "- bra for å sjekke forkunskaper, men jeg visste veldig lite.\n",
    "- Bra at dere kjører den slik at det kan tas grep i vidregående skole med opplæring\n",
    "- bombaclat\n",
    "- ble veldig kompleks mot slutten\n",
    "- ble vanskeligere mot slutten, et par ting jeg var litt usikker på hvordan funket ettersom jeg ikke har prøvd det før\n",
    "- begynte å bli kjedelig og vanskelig, så jeg trakk vet ikke på mye av dem\n",
    "- bare å dapse drit hardt\n",
    "- Bare vanskelig siden jeg glemmte mye av stoffet\n",
    "- Aner ikke hvordan jeg har gjort det. Kjenner igjen mye, men usikker på om jeg svarer riktig.\n",
    "- altså testen i seg selv er vanskeligere uten python.\n",
    "- Altfor vanskelig for å se hvordan nivået er...\n",
    "- ALTFOR LANG\n",
    "- Alt var lett unntatt «for e in ls». Vet ikke hva e i en liste er.\n",
    "- Alt for lang!\n",
    "- Alt for lang\n",
    "- Alt er vanskelig om man ikke har forkunnskapene.\n",
    "- Alt er ukjent\n",
    "- aldri vært igjennom dette\n",
    "- Aldri vært borti språket, så kjenner ikke syntaks, men forstår mye av logikken.\n",
    "- Aldri vært borti programmering før, men tenker dette kan forstås fort med grunnleggende kunnskaper.\n",
    "- Aldri vært borte det meste før\n",
    "- Aldri programmert i python før\n",
    "- Aldri programmert før!\n",
    "- Aldri programmert før så skjønner ofte ikke hva som skjer i det heletatt\n",
    "- aldri lært programmering...\n",
    "- Aldri hatt om det\n",
    "- aldri hatt noen form for programmering, så ingen ting av denne testen sier meg noe som helst\n",
    "- Aldri hatt koding før, skjønte ikke så mye\n",
    "- 2 is?\n",
    "- #hello world!\n",
    "- !"
   ]
  },
  {
   "cell_type": "code",
   "execution_count": null,
   "metadata": {},
   "outputs": [],
   "source": []
  }
 ],
 "metadata": {
  "kernelspec": {
   "display_name": "Python 3 (ipykernel)",
   "language": "python",
   "name": "python3"
  },
  "language_info": {
   "codemirror_mode": {
    "name": "ipython",
    "version": 3
   },
   "file_extension": ".py",
   "mimetype": "text/x-python",
   "name": "python",
   "nbconvert_exporter": "python",
   "pygments_lexer": "ipython3",
   "version": "3.8.1"
  }
 },
 "nbformat": 4,
 "nbformat_minor": 4
}
