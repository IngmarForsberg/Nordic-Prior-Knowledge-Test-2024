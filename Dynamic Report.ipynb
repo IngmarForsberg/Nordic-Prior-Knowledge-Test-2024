{
 "cells": [
  {
   "cell_type": "markdown",
   "metadata": {},
   "source": [
    "# The Nordic Prior Knowledge Test in Programming\n",
    "**Author**: [Sondre Sæther Bolland](https://www.uib.no/personer/Sondre.S%C3%A6ther.Bolland)\n",
    "\n",
    "**Institution**: Department of Informatics, University of Bergen\n",
    "\n",
    "**Email**: sondre.bolland@uib.no"
   ]
  },
  {
   "cell_type": "markdown",
   "metadata": {},
   "source": [
    "## Introduction\n",
    "The Nordic Prior Knowledge Test in Programming is a tool for assessing students’ programming skill. The test covers the fundamental elements of introductory programming taught at different universities and university colleges in Norway and Sweden. By testing the students in the concepts found in CS1 we aim for instructors to be better able to develop and adapt their courses to this new found prior knowledge.\n",
    "\n",
    "This Notebook is a dynamic report of the results from 2024, designed to effectivly convey the findings of the test at the start of the semester. The (static) written report will be published sometime fall 2024 here: https://programmeringstesten.no/ "
   ]
  },
  {
   "cell_type": "markdown",
   "metadata": {},
   "source": [
    "### Imports"
   ]
  },
  {
   "cell_type": "code",
   "execution_count": 3,
   "metadata": {},
   "outputs": [],
   "source": [
    "import numpy as np\n",
    "import pandas as pd\n",
    "import matplotlib.pyplot as plt\n",
    "from matplotlib.ticker import PercentFormatter"
   ]
  },
  {
   "cell_type": "markdown",
   "metadata": {},
   "source": [
    "### Data\n",
    "Before using this notebook two python scripts need to be run. A requirement to run these scripts is to have the csv file with the original dataset: `total.csv`. This must be placed in the `data` folder in the main directory (where this Notebook is located).\n",
    "\n",
    "`clean_data.py` cleans certain columns for ambigious data and renames columns for analysis.\n",
    "\n",
    "`grade_submissions.py` grades each question based on the rubric (`rubric.json`)."
   ]
  },
  {
   "cell_type": "code",
   "execution_count": 4,
   "metadata": {},
   "outputs": [
    {
     "name": "stdout",
     "output_type": "stream",
     "text": [
      "Replace escape characters: dict_items([('&lt;', '<'), ('&gt;', '>'), ('&#61;', '='), ('&#34;', '\"'), ('&#43;', '+')])\n",
      "Replace all institution full names with their shorthand.\n",
      "Replace all ambigious genders with standardized labels: ['m', 'f'] (other gender identities are not included)\n",
      "2119 submissions.\n",
      "Rename columns with simpler titles. Easier to use in analysis.\n",
      "Removed all genders that are not in: ['m', 'f']. The other gender identities do not have a large enough sample size for valid statistical analysis.\n",
      "Max score: 51.79999999999998\n",
      "Submissions to be graded: 2119\n",
      "Submissions graded.\n"
     ]
    }
   ],
   "source": [
    "!python clean_data.py\n",
    "!python grade_submissions.py"
   ]
  },
  {
   "cell_type": "markdown",
   "metadata": {},
   "source": [
    "### Dataset"
   ]
  },
  {
   "cell_type": "code",
   "execution_count": 450,
   "metadata": {},
   "outputs": [],
   "source": [
    "# Specify the path of the data file\n",
    "path = \"data/\"\n",
    "filename = path + \"results.csv\"\n",
    "df = pd.read_csv(filename, on_bad_lines=\"skip\", delimiter=\";\", encoding=\"utf8\")\n",
    "\n",
    "# Remove all students who have taken a university level course\n",
    "df = df[(df['UniversityExperience'] == 'Nei')]"
   ]
  },
  {
   "cell_type": "markdown",
   "metadata": {},
   "source": [
    "### Filter the dataframe\n",
    "Do you want to look at a specific subset of students?\n",
    "Use the next cell to filter the students based on your criteria.\n",
    "\n",
    "To reset the dataframe, simply run the cell above."
   ]
  },
  {
   "cell_type": "code",
   "execution_count": 451,
   "metadata": {},
   "outputs": [],
   "source": [
    "# Filter by institution\n",
    "specific_institutions = ['UiB'] # 'UiB', 'NTNU', 'UiS', 'HvL', 'UiO', 'Kristiania', 'NMBU', 'OsloMet'\n",
    "#df = df[(df['Institution'].isin(specific_institutions))]"
   ]
  },
  {
   "cell_type": "code",
   "execution_count": 452,
   "metadata": {},
   "outputs": [],
   "source": [
    "# Filter out all non INF100 related study programs\n",
    "inf100_studyprograms = ['Nanoteknologi, Bachelor', 'Datateknologi, Bachelor', 'Datasikkerhet, Bachelor', 'Bioinformatikk, Bachelor', 'Informatikk, Matematikk og Økonomi, Bachelor', 'Fysikk, Bachelor', 'Data science, Siv.ing.', 'Kognitiv vitenskap, Bachelor', 'Energi, Siv.ing.', 'Geofysikk, Bachelor', 'Anvendt matematikk, Bachelor', 'Geovitenskap, Bachelor', 'Kjemi, Bachelor', 'Matematikk, Bachelor', 'Statistikk og data science, Bachelor', 'Vær hav og klimafysikk, Bachelor', 'Havteknologi, Siv.ing.', 'Integrert masterprogram i aktuarfag og analyse', 'Informatikk, Årsstudium', 'Biologi, Bachelor', 'Geofag og informatikk, Bachelor', 'Molykelærbiologi, Bachelor', 'Havbruk, Siv.ing.', 'Medisinsk teknologi, Siv.ing.']\n",
    "#df = df[(df['Studyprogram'].isin(inf100_studyprograms))]"
   ]
  },
  {
   "cell_type": "code",
   "execution_count": 453,
   "metadata": {},
   "outputs": [],
   "source": [
    "# Filter out all non informatics students at UiB\n",
    "informatics_studyprograms = ['Datateknologi, Bachelor', 'Datasikkerhet, Bachelor', 'Bioinformatikk, Bachelor', 'Informatikk, Matematikk og Økonomi, Bachelor', 'Data science, Siv.ing.', 'Informatikk, Årsstudium']\n",
    "#df = df[(df['Studyprogram'].isin(informatics_studyprograms))]"
   ]
  },
  {
   "cell_type": "code",
   "execution_count": 454,
   "metadata": {},
   "outputs": [],
   "source": [
    "# Filter by Graduate Year\n",
    "specific_graduateyears = ['2023', '2024']\n",
    "df = df[(df['GraduateYear'].isin(specific_graduateyears))]"
   ]
  },
  {
   "cell_type": "code",
   "execution_count": 455,
   "metadata": {},
   "outputs": [],
   "source": [
    "# Filter by Gender\n",
    "specific_genders = ['f', 'm', ' '] # 'f', 'm', ' '\n",
    "#df = df[(df['Gender'].isin(specific_genders))]"
   ]
  },
  {
   "cell_type": "markdown",
   "metadata": {},
   "source": [
    "## Demographics\n",
    "See the background of the students. Note that there are a large number of submissions that are blank for some of the following items. This is due to the students submitting ambigious answers, which have not been labled correctly by `clean_data.py`."
   ]
  },
  {
   "cell_type": "code",
   "execution_count": 456,
   "metadata": {},
   "outputs": [
    {
     "name": "stdout",
     "output_type": "stream",
     "text": [
      "The dataset has 856 student submissions.\n"
     ]
    }
   ],
   "source": [
    "# Total number of students\n",
    "print(f\"The dataset has {len(df['Total'])} student submissions.\")"
   ]
  },
  {
   "cell_type": "markdown",
   "metadata": {},
   "source": [
    "\n",
    "### Institutions"
   ]
  },
  {
   "cell_type": "code",
   "execution_count": 457,
   "metadata": {},
   "outputs": [
    {
     "name": "stdout",
     "output_type": "stream",
     "text": [
      "Institution\n",
      "NTNU    388\n",
      "UiB     155\n",
      "UiS     142\n",
      "UiO     123\n",
      "HiOf     33\n",
      "HVL      15\n",
      "Name: count, dtype: int64\n"
     ]
    },
    {
     "data": {
      "text/plain": [
       "<Axes: ylabel='count'>"
      ]
     },
     "execution_count": 457,
     "metadata": {},
     "output_type": "execute_result"
    },
    {
     "data": {
      "image/png": "[encoded data removed]",
      "text/plain": [
       "<Figure size 640x480 with 1 Axes>"
      ]
     },
     "metadata": {},
     "output_type": "display_data"
    }
   ],
   "source": [
    "institutions = df.Institution.unique()\n",
    "\n",
    "institution_column = \"Institution\"\n",
    "print(df[institution_column].value_counts())\n",
    "df[institution_column].value_counts().plot.pie()"
   ]
  },
  {
   "cell_type": "markdown",
   "metadata": {},
   "source": [
    "### Study Program"
   ]
  },
  {
   "cell_type": "code",
   "execution_count": 458,
   "metadata": {},
   "outputs": [
    {
     "name": "stdout",
     "output_type": "stream",
     "text": [
      "Studyprogram\n",
      "Annet                                           69\n",
      "Geovitenskap, Bachelor                          19\n",
      "Fysikk, Bachelor                                13\n",
      "Havteknologi, Siv.ing.                          10\n",
      "Datateknologi, Bachelor                          8\n",
      "Datasikkerhet, Bachelor                          8\n",
      "Matematikk, Bachelor                             6\n",
      "Informatikk, Årsstudium                          5\n",
      "Informatikk, Matematikk og Økonomi, Bachelor     2\n",
      "Data science, Siv.ing.                           2\n",
      "Geofysikk, Bachelor                              2\n",
      "Nanoteknologi, Bachelor                          1\n",
      "Kjemi, Bachelor                                  1\n",
      "Kognitiv vitenskap, Bachelor                     1\n",
      "Name: count, dtype: int64\n"
     ]
    },
    {
     "data": {
      "text/plain": [
       "<Axes: ylabel='count'>"
      ]
     },
     "execution_count": 458,
     "metadata": {},
     "output_type": "execute_result"
    },
    {
     "data": {
      "image/png": "[encoded data removed]",
      "text/plain": [
       "<Figure size 640x480 with 1 Axes>"
      ]
     },
     "metadata": {},
     "output_type": "display_data"
    }
   ],
   "source": [
    "studyprogram = df.Studyprogram.unique()\n",
    "\n",
    "studyprogram_column = \"Studyprogram\"\n",
    "print(df[studyprogram_column].value_counts())\n",
    "df[studyprogram_column].value_counts().plot.pie()"
   ]
  },
  {
   "cell_type": "markdown",
   "metadata": {},
   "source": [
    "### Graduate Year"
   ]
  },
  {
   "cell_type": "code",
   "execution_count": 459,
   "metadata": {},
   "outputs": [
    {
     "name": "stdout",
     "output_type": "stream",
     "text": [
      "GraduateYear\n",
      "2024    458\n",
      "2023    398\n",
      "Name: count, dtype: int64\n"
     ]
    },
    {
     "data": {
      "text/plain": [
       "<Axes: ylabel='count'>"
      ]
     },
     "execution_count": 459,
     "metadata": {},
     "output_type": "execute_result"
    },
    {
     "data": {
      "image/png": "[encoded data removed]",
      "text/plain": [
       "<Figure size 640x480 with 1 Axes>"
      ]
     },
     "metadata": {},
     "output_type": "display_data"
    }
   ],
   "source": [
    "years = df.GraduateYear.unique()\n",
    "\n",
    "graduateyear_column = \"GraduateYear\"\n",
    "print(df[graduateyear_column].value_counts())\n",
    "df[graduateyear_column].value_counts().plot.pie()"
   ]
  },
  {
   "cell_type": "markdown",
   "metadata": {},
   "source": [
    "### Gender"
   ]
  },
  {
   "cell_type": "code",
   "execution_count": 460,
   "metadata": {},
   "outputs": [
    {
     "name": "stdout",
     "output_type": "stream",
     "text": [
      "Gender\n",
      "m    501\n",
      "f    299\n",
      "      56\n",
      "Name: count, dtype: int64\n",
      "Gender\n",
      "m    0.585280\n",
      "f    0.349299\n",
      "     0.065421\n",
      "Name: proportion, dtype: float64\n"
     ]
    },
    {
     "data": {
      "text/plain": [
       "<Axes: ylabel='count'>"
      ]
     },
     "execution_count": 460,
     "metadata": {},
     "output_type": "execute_result"
    },
    {
     "data": {
      "image/png": "[encoded data removed]",
      "text/plain": [
       "<Figure size 640x480 with 1 Axes>"
      ]
     },
     "metadata": {},
     "output_type": "display_data"
    }
   ],
   "source": [
    "genders = df.Gender.unique()\n",
    "gender_column = \"Gender\"\n",
    "\n",
    "print(df[gender_column].value_counts())\n",
    "print(df[gender_column].value_counts(normalize=True))\n",
    "df[gender_column].value_counts().plot.pie()"
   ]
  },
  {
   "cell_type": "markdown",
   "metadata": {},
   "source": [
    "## Educational Background\n",
    "What experiences with programming do these students have? \n",
    "\n",
    "### Elective Programming Courses\n",
    "During the secondary school phase, students have the option to take three elective courses in programming: *Information Technology 1* (IT1), *Information Technology 2* (IT2), and *Programming and Modelling X* (PMX). "
   ]
  },
  {
   "cell_type": "code",
   "execution_count": 461,
   "metadata": {},
   "outputs": [],
   "source": [
    "# Make new column for NO elective programming course\n",
    "courses = ['Informasjonsteknologi 1 (IT1)', 'Informasjonsteknologi 2 (IT2)', 'Programmering og modellering X']\n",
    "df_temp = df[(~df['IT1'].isin(courses))]\n",
    "df_temp = df_temp[(~df_temp['IT2'].isin(courses))]\n",
    "df_temp = df_temp[(~df_temp['PMX'].isin(courses))]\n",
    "df_temp['NoElective'] = ~df_temp['IT1'].isin(courses)\n",
    "\n",
    "df['NoElective'] = df_temp['NoElective']"
   ]
  },
  {
   "cell_type": "code",
   "execution_count": 462,
   "metadata": {},
   "outputs": [
    {
     "data": {
      "image/png": "[encoded data removed]",
      "text/plain": [
       "<Figure size 640x480 with 1 Axes>"
      ]
     },
     "metadata": {},
     "output_type": "display_data"
    }
   ],
   "source": [
    "fig, ax = plt.subplots()\n",
    "\n",
    "courses = ['IT1', 'IT2', 'PMX', 'No Electives']\n",
    "n_it1 = df['IT1'].value_counts()['Informasjonsteknologi 1 (IT1)']\n",
    "n_it2 = df['IT2'].value_counts()['Informasjonsteknologi 2 (IT2)']\n",
    "n_pmx = df['PMX'].value_counts()['Programmering og modellering X']\n",
    "n_noelectives = df['NoElective'].value_counts()[True]\n",
    "counts = [n_it1, n_it2, n_pmx, n_noelectives]\n",
    "\n",
    "ax.bar(courses, counts)\n",
    "ax.set_ylabel('Students')\n",
    "ax.set_title('Courses')\n",
    "\n",
    "plt.show()"
   ]
  },
  {
   "cell_type": "markdown",
   "metadata": {},
   "source": [
    "### Math Courses\n",
    "The most common math courses available in secondary school are:\n",
    " * Practical Math 1 (1P)\n",
    " * Practical Math 2 (2P)\n",
    " * Theoretical Math 1 (1T)\n",
    " * Social Science Math 1 (S1)\n",
    " * Social Science Math 2 (S2)\n",
    " * Natural Science Math 1 (R1)\n",
    " * Natural Science Math 2 (R2)\n",
    "\n",
    "The majority of students who took the test belonged to STEM fields, where the typical admission requirement includes S1 and S2 or R1 mathematics. Certain math-intensive study programs may also demand R2 mathematics. Notably, most students had completed the Natural Science Math courses (see plot below), which is the most advanced option."
   ]
  },
  {
   "cell_type": "code",
   "execution_count": 463,
   "metadata": {},
   "outputs": [
    {
     "data": {
      "image/png": "[encoded data removed]",
      "text/plain": [
       "<Figure size 640x480 with 1 Axes>"
      ]
     },
     "metadata": {},
     "output_type": "display_data"
    }
   ],
   "source": [
    "fig, ax = plt.subplots()\n",
    "\n",
    "courses = ['1P', '2P', '1T', 'S1', 'S2', 'R1', 'R2']\n",
    "gotten_courses = []\n",
    "counts = []\n",
    "for course in courses:\n",
    "    try:\n",
    "        count = df[course].value_counts()[course]\n",
    "        counts.append(count)\n",
    "        gotten_courses.append(course)\n",
    "    except:\n",
    "        continue\n",
    "\n",
    "ax.bar(gotten_courses, counts)\n",
    "ax.set_ylabel('Students')\n",
    "ax.set_title('Courses')\n",
    "\n",
    "plt.show()"
   ]
  },
  {
   "cell_type": "markdown",
   "metadata": {},
   "source": [
    "### Experience outside of school\n",
    "A source of programming knowledge is self-directed learning outside of formal education, where individuals independently explore the field, using resources like books and online materials. The following plot shows the distribution of students who report having at least 30 hours of outside experience with either block based or text based programming."
   ]
  },
  {
   "cell_type": "code",
   "execution_count": 464,
   "metadata": {},
   "outputs": [
    {
     "name": "stdout",
     "output_type": "stream",
     "text": [
      "OutsideExperience\n",
      "Nei    653\n",
      "Ja     201\n",
      "Name: count, dtype: int64\n",
      "OutsideExperience\n",
      "Nei    0.764637\n",
      "Ja     0.235363\n",
      "Name: proportion, dtype: float64\n"
     ]
    },
    {
     "data": {
      "text/plain": [
       "<Axes: ylabel='count'>"
      ]
     },
     "execution_count": 464,
     "metadata": {},
     "output_type": "execute_result"
    },
    {
     "data": {
      "image/png": "[encoded data removed]",
      "text/plain": [
       "<Figure size 640x480 with 1 Axes>"
      ]
     },
     "metadata": {},
     "output_type": "display_data"
    }
   ],
   "source": [
    "outside_column = \"OutsideExperience\"\n",
    "\n",
    "print(df[outside_column].value_counts())\n",
    "print(df[outside_column].value_counts(normalize=True))\n",
    "df[outside_column].value_counts().plot.pie()"
   ]
  },
  {
   "cell_type": "markdown",
   "metadata": {},
   "source": [
    "# Results\n",
    "In this section of the report, the main results are presented before a review of the background the students have on the various study paths and what connection there is between background and results. Later we take a close look at how well they performed in specific programming tasks to understand their grasp of the different concepts."
   ]
  },
  {
   "cell_type": "code",
   "execution_count": 465,
   "metadata": {},
   "outputs": [],
   "source": [
    "# Configurations\n",
    "bins = 25\n",
    "edgecolor = 'red'\n",
    "alpha = 0.5"
   ]
  },
  {
   "cell_type": "markdown",
   "metadata": {},
   "source": [
    "## Main Result\n",
    "A histogram of the total score of the students. Maximum score: 51.8."
   ]
  },
  {
   "cell_type": "code",
   "execution_count": 466,
   "metadata": {},
   "outputs": [
    {
     "name": "stdout",
     "output_type": "stream",
     "text": [
      "Mean: 29.03\n",
      "Standard deviation: 15.462\n"
     ]
    },
    {
     "data": {
      "image/png": "[encoded data removed]",
      "text/plain": [
       "<Figure size 640x480 with 1 Axes>"
      ]
     },
     "metadata": {},
     "output_type": "display_data"
    }
   ],
   "source": [
    "x = df['Total']\n",
    "\n",
    "mean = df.loc[:, 'Total'].mean()\n",
    "sd = df.loc[:, 'Total'].std()\n",
    "print(f'Mean: {round(mean, 3)}')\n",
    "print(f'Standard deviation: {round(sd, 3)}')\n",
    "\n",
    "\n",
    "plt.hist(x, edgecolor=edgecolor, bins=bins, range=[0, 52])\n",
    "plt.show() "
   ]
  },
  {
   "cell_type": "markdown",
   "metadata": {},
   "source": [
    "### Did the students find the test hard?\n",
    "We asked the students to rate the test's difficulty on a Likert scale from 1 (very easy) to 7 (very hard)"
   ]
  },
  {
   "cell_type": "code",
   "execution_count": 467,
   "metadata": {},
   "outputs": [
    {
     "data": {
      "text/plain": [
       "<Axes: xlabel='difficulty'>"
      ]
     },
     "execution_count": 467,
     "metadata": {},
     "output_type": "execute_result"
    },
    {
     "data": {
      "image/png": "[encoded data removed]",
      "text/plain": [
       "<Figure size 640x480 with 1 Axes>"
      ]
     },
     "metadata": {},
     "output_type": "display_data"
    }
   ],
   "source": [
    "df['difficulty'].value_counts().loc[['Veldig lett', 'Lett', 'Litt lett', 'Nøytral', 'Litt vanskelig', 'Vanskelig', 'Veldig vanskelig']].plot.bar()"
   ]
  },
  {
   "cell_type": "code",
   "execution_count": 468,
   "metadata": {},
   "outputs": [],
   "source": [
    "def compare_distributions(x, y, x_label, y_label):\n",
    "    n = len(x)\n",
    "    mean = x.mean()\n",
    "    sd = x.std()\n",
    "    print(f'N students in {x_label}: {n}')\n",
    "    print(f'Mean of {x_label}: {round(mean, 3)}')\n",
    "    print(f'Standard deviation of {x_label}: {round(sd, 3)}')\n",
    "    print()\n",
    "\n",
    "    n = len(y)\n",
    "    mean = y.mean()\n",
    "    sd = y.std()\n",
    "    print(f'N students in {y_label}: {n}')\n",
    "    print(f'Mean of {y_label}: {round(mean, 3)}')\n",
    "    print(f'Standard deviation of {y_label}: {round(sd, 3)}')\n",
    "    \n",
    "    #plt.hist(x, bins=bins, alpha=alpha, edgecolor=edgecolor, label=x_label, weights=np.ones(len(x)) / len(x), range=[0, 52])\n",
    "    #plt.hist(y, bins=bins, alpha=alpha, edgecolor=edgecolor, label=y_label, weights=np.ones(len(y)) / len(y), range=[0, 52])\n",
    "    plt.hist(x, bins=bins, alpha=alpha, edgecolor=edgecolor, label=x_label, range=[0, 52])\n",
    "    plt.hist(y, bins=bins, alpha=alpha, edgecolor=edgecolor, label=y_label, range=[0, 52])\n",
    "    #plt.gca().yaxis.set_major_formatter(PercentFormatter(1))\n",
    "    plt.legend(loc='upper right')\n",
    "    plt.show()"
   ]
  },
  {
   "cell_type": "markdown",
   "metadata": {},
   "source": [
    "## Prior Programming Experience in Secondary School\n",
    "In the initial segment of the test, we inquired with the students regarding their prior exposure to\n",
    "programming before to commencing their higher education studies.\n",
    "\n",
    "### Graduation Year\n",
    "The educational reforms outlined in LK20 were introduced in the year 2020, resulting in programming becoming a compulsory component solely for those students who graduated in 2023 and onward."
   ]
  },
  {
   "cell_type": "code",
   "execution_count": 469,
   "metadata": {},
   "outputs": [
    {
     "name": "stdout",
     "output_type": "stream",
     "text": [
      "N students in 2023 and 2024: 856\n",
      "Mean of 2023 and 2024: 29.03\n",
      "Standard deviation of 2023 and 2024: 15.462\n",
      "\n",
      "N students in before 2023: 0\n",
      "Mean of before 2023: nan\n",
      "Standard deviation of before 2023: nan\n"
     ]
    },
    {
     "data": {
      "image/png": "[encoded data removed]",
      "text/plain": [
       "<Figure size 640x480 with 1 Axes>"
      ]
     },
     "metadata": {},
     "output_type": "display_data"
    }
   ],
   "source": [
    "years = df['GraduateYear']\n",
    "x = df[(years.isin(['2023', '2024']))]['Total']\n",
    "y = df[(~years.isin(['2023', '2024']))]['Total']\n",
    "y = y[~np.isnan(y)]\n",
    "\n",
    "x_label = '2023 and 2024'\n",
    "y_label = 'before 2023'\n",
    "\n",
    "compare_distributions(x, y, x_label, y_label)"
   ]
  },
  {
   "cell_type": "markdown",
   "metadata": {},
   "source": [
    "### How many students do not need introductory programming?\n",
    "The students who perform very well on this test might not need CS1. If we set an (arbitrary) point threshold we can get an indication of how many students can perhaps move on to more advanced courses."
   ]
  },
  {
   "cell_type": "code",
   "execution_count": 470,
   "metadata": {},
   "outputs": [
    {
     "name": "stdout",
     "output_type": "stream",
     "text": [
      "Number of students with a score over 48: 138 (16.12%)\n"
     ]
    }
   ],
   "source": [
    "threshold = 48\n",
    "x = df[df['Total'] > threshold]\n",
    "n = len(x)\n",
    "percentage = round((n/len(df))*100, 2)\n",
    "\n",
    "print(f'Number of students with a score over {threshold}: {n} ({percentage}%)')"
   ]
  },
  {
   "cell_type": "markdown",
   "metadata": {},
   "source": [
    "### Gender"
   ]
  },
  {
   "cell_type": "code",
   "execution_count": 471,
   "metadata": {},
   "outputs": [
    {
     "name": "stdout",
     "output_type": "stream",
     "text": [
      "N students in women: 299\n",
      "Mean of women: 23.124\n",
      "Standard deviation of women: 14.782\n",
      "\n",
      "N students in men: 501\n",
      "Mean of men: 32.456\n",
      "Standard deviation of men: 14.802\n"
     ]
    },
    {
     "data": {
      "image/png": "[encoded data removed]",
      "text/plain": [
       "<Figure size 640x480 with 1 Axes>"
      ]
     },
     "metadata": {},
     "output_type": "display_data"
    }
   ],
   "source": [
    "x = df[(df['Gender'] == 'f')]['Total']\n",
    "y = df[(df['Gender'] == 'm')]['Total']\n",
    "\n",
    "x_label = 'women'\n",
    "y_label = 'men'\n",
    "\n",
    "compare_distributions(x, y, x_label, y_label)"
   ]
  },
  {
   "cell_type": "markdown",
   "metadata": {},
   "source": [
    "# Programming Tasks\n",
    "Each task featured in the test pertained to a designated concept category. The following cells show the number of correct answers and the most common answers for each task."
   ]
  },
  {
   "cell_type": "markdown",
   "metadata": {},
   "source": [
    "## Correctness rate for each concept category\n",
    "Below you can find the percentage of accurate responses achieved by the students for each concept.\n",
    "\n",
    "Note that performance within each category may not exclusively reflect the students’ mastery of that programming concept. Variability in task difficulty plays a substantial role, with some tasks naturally being easier than others, irrespective of the underlying concept."
   ]
  },
  {
   "cell_type": "code",
   "execution_count": 472,
   "metadata": {},
   "outputs": [],
   "source": [
    "def correctnes_rate(columns, category, task_weight=1):\n",
    "    correct_answer_rate = 0\n",
    "    for column in columns:\n",
    "        points_column = column + \"_points\"\n",
    "        task_mean = df.loc[:, points_column].mean()\n",
    "        correct_answer_rate += task_mean\n",
    "    correct_answer_rate /= len(columns)*task_weight\n",
    "    print(f'{category:15s} {correct_answer_rate*100:3.2f} %')"
   ]
  },
  {
   "cell_type": "code",
   "execution_count": 473,
   "metadata": {},
   "outputs": [
    {
     "name": "stdout",
     "output_type": "stream",
     "text": [
      "The students have the following average correctness rate for each concept category:\n",
      "Datatypes       66.30 %\n",
      "Booleans        71.61 %\n",
      "Variables       66.71 %\n",
      "Conditionals    70.41 %\n",
      "Loops           42.04 %\n",
      "Lists           44.51 %\n",
      "Functions       31.13 %\n"
     ]
    }
   ],
   "source": [
    "print(\"The students have the following average correctness rate for each concept category:\")\n",
    "\n",
    "# Datatypes\n",
    "datatype_columns = ['datatypes1', 'datatypes2', 'datatypes3', 'datatypes4']\n",
    "correctnes_rate(datatype_columns, \"Datatypes\")\n",
    "\n",
    "# Booleans\n",
    "boolean_columns = [\"100 == 100\", \"2 > 7\", \"(10 + 3) >= 13\", \"(10*2) < 9\", \"(1 + 3) < (2*3)\", \"(10.3 + 9) == (10.3 + 10)\",\t\"100 != 100\", \"(5 < 7) and (4 > 5)\", \"(5 < 7) or (4 > 5)\", \"(3 < 7) and (7 < 9)\", \"(3 < 7) or (7 < 9)\", \"not (100 != 100)\", \"True != True\", \"True and False\", \"True or False\" , \"True and True\", \"True or True\", \"not (True != True)\", \"n < 10\", \"100 == n\", \"(n < 7) and (4 > n)\", \"(n < 7) or (4 > n)\", \"n <= 5\", \"not (n < 10)\"]\n",
    "correctnes_rate(boolean_columns, \"Booleans\", task_weight=0.2)\n",
    "\n",
    "# Variables\n",
    "variable_columns = [\"Variables1a\", \"Variables1b\", \"Variables2a\", \"Variables2b\", \"Variables3a\", \"Variables3b\", \"Variables4a\", \"Variables4b\", \"Variables5a\", \"Variables5b\", \"Variables5c\", \"Variables6a\", \"Variables6b\", \"Variables6c\"]\n",
    "correctnes_rate(variable_columns, \"Variables\")\n",
    "\n",
    "# Conditionals\n",
    "conditional_columns = [\"Conditionals1\", \"Conditionals2\", \"Conditionals3\", \"Conditionals4\"]\n",
    "correctnes_rate(conditional_columns, \"Conditionals\")\n",
    "\n",
    "# Loops\n",
    "loop_columns = [\"Loops1\", \"Loops2\", \"Loops3\", \"Loops4\", \"Loops5\", \"Loops6\", \"Loops7\"]\n",
    "correctnes_rate(loop_columns, \"Loops\")\n",
    "\n",
    "# Lists\n",
    "list_columns = [\"Lists1\", \"Lists2\", \"Lists3a\", \"Lists3b\"]\n",
    "correctnes_rate(list_columns, \"Lists\")\n",
    "\n",
    "# Functions\n",
    "function_columns = [\"Functions1\", \"Functions2\", \"Functions3\", \"Functions4\", \"Functions5\", \"Functions6\", \"Functions7\", \"Functions8\", \"Functions9\"]\n",
    "correctnes_rate(function_columns, \"Functions\")"
   ]
  },
  {
   "cell_type": "markdown",
   "metadata": {},
   "source": [
    "## Tasks\n",
    "To gain a deeper understanding of the students’ knowledge and comprehension of specific programming concepts, it is important to analyze their performance on these concepts. "
   ]
  },
  {
   "cell_type": "code",
   "execution_count": 474,
   "metadata": {},
   "outputs": [],
   "source": [
    "def print_task_result(task_column, df, n_answers=5, verbose_correct_answers=True):\n",
    "    '''\n",
    "    Print number of correct (1) and incorrect (0) responses.\n",
    "    Print the top 5 most common answers.\n",
    "    '''\n",
    "    if verbose_correct_answers:\n",
    "        task_point_column = task_column + \"_points\"\n",
    "        print(\"Number of correct responses:\")\n",
    "        print(df[task_point_column].value_counts())\n",
    "        print()\n",
    "    \n",
    "    print(f\"Top {n_answers} most common answers:\")\n",
    "    try:\n",
    "        print(df[task_column].value_counts()[:n_answers])\n",
    "    except:\n",
    "        print(df[task_column].value_counts())"
   ]
  },
  {
   "cell_type": "markdown",
   "metadata": {},
   "source": [
    "# Datatypes\n",
    "What datatype do the following variables have?\n",
    "```python\n",
    "a = 123\n",
    "b = 1.23\n",
    "c = '123'\n",
    "d = [1, 2, 3]\n",
    "```"
   ]
  },
  {
   "cell_type": "code",
   "execution_count": 475,
   "metadata": {},
   "outputs": [
    {
     "name": "stdout",
     "output_type": "stream",
     "text": [
      "Number of correct responses:\n",
      "datatypes1_points\n",
      "1    528\n",
      "0    328\n",
      "Name: count, dtype: int64\n",
      "\n",
      "Top 6 most common answers:\n",
      "datatypes1\n",
      "int             528\n",
      "Jeg vet ikke    174\n",
      "str              64\n",
      "float            53\n",
      "bool             17\n",
      "list             15\n",
      "Name: count, dtype: int64\n",
      "\n",
      "Number of correct responses:\n",
      "datatypes2_points\n",
      "1    550\n",
      "0    306\n",
      "Name: count, dtype: int64\n",
      "\n",
      "Top 6 most common answers:\n",
      "datatypes2\n",
      "float           550\n",
      "Jeg vet ikke    169\n",
      "int              58\n",
      "str              47\n",
      "bool             19\n",
      "list              6\n",
      "Name: count, dtype: int64\n",
      "\n",
      "Number of correct responses:\n",
      "datatypes3_points\n",
      "1    470\n",
      "0    386\n",
      "Name: count, dtype: int64\n",
      "\n",
      "Top 6 most common answers:\n",
      "datatypes3\n",
      "str             470\n",
      "Jeg vet ikke    252\n",
      "int              45\n",
      "bool             44\n",
      "float            30\n",
      "list              6\n",
      "Name: count, dtype: int64\n",
      "\n",
      "Number of correct responses:\n",
      "datatypes4_points\n",
      "1    722\n",
      "0    134\n",
      "Name: count, dtype: int64\n",
      "\n",
      "Top 6 most common answers:\n",
      "datatypes4\n",
      "list            722\n",
      "Jeg vet ikke    105\n",
      "int              12\n",
      "bool              5\n",
      "str               5\n",
      "float             4\n",
      "Name: count, dtype: int64\n"
     ]
    }
   ],
   "source": [
    "print_task_result(\"datatypes1\", df, 6, True)\n",
    "print()\n",
    "print_task_result(\"datatypes2\", df, 6, True)\n",
    "print()\n",
    "print_task_result(\"datatypes3\", df, 6, True)\n",
    "print()\n",
    "print_task_result(\"datatypes4\", df, 6, True)"
   ]
  },
  {
   "cell_type": "markdown",
   "metadata": {},
   "source": [
    "# Operators"
   ]
  },
  {
   "cell_type": "markdown",
   "metadata": {},
   "source": [
    "### Operators 1\n",
    "What is the value of `result`?\n",
    "```python\n",
    "a = 12\n",
    "result = a + a\n",
    "```"
   ]
  },
  {
   "cell_type": "code",
   "execution_count": 476,
   "metadata": {},
   "outputs": [
    {
     "name": "stdout",
     "output_type": "stream",
     "text": [
      "Number of correct responses:\n",
      "Operators1_points\n",
      "1    768\n",
      "0     88\n",
      "Name: count, dtype: int64\n",
      "\n",
      "Top 4 most common answers:\n",
      "Operators1\n",
      "24.0            768\n",
      "I don't know     31\n",
      "12.0             14\n",
      "1212.0            7\n",
      "Name: count, dtype: int64\n"
     ]
    }
   ],
   "source": [
    "print_task_result(\"Operators1\", df, 4, True)"
   ]
  },
  {
   "cell_type": "markdown",
   "metadata": {},
   "source": [
    "### Operators 2\n",
    "What is the value of `result`?\n",
    "```python\n",
    "a = 12\n",
    "b = 1.23 \n",
    "\n",
    "result = b + a\n",
    "```"
   ]
  },
  {
   "cell_type": "code",
   "execution_count": 477,
   "metadata": {},
   "outputs": [
    {
     "name": "stdout",
     "output_type": "stream",
     "text": [
      "Number of correct responses:\n",
      "Operators2_points\n",
      "1    665\n",
      "0    191\n",
      "Name: count, dtype: int64\n",
      "\n",
      "Top 4 most common answers:\n",
      "Operators2\n",
      "13.23           665\n",
      "I don't know     56\n",
      "12.23             4\n",
      "1.2312            4\n",
      "Name: count, dtype: int64\n"
     ]
    }
   ],
   "source": [
    "print_task_result(\"Operators2\", df, 4, True)"
   ]
  },
  {
   "cell_type": "markdown",
   "metadata": {},
   "source": [
    "### Operators 3\n",
    "What is the value of `result`?\n",
    "```python\n",
    "c = '123'\n",
    "result = c + c\n",
    "```"
   ]
  },
  {
   "cell_type": "code",
   "execution_count": 478,
   "metadata": {},
   "outputs": [
    {
     "name": "stdout",
     "output_type": "stream",
     "text": [
      "Number of correct responses:\n",
      "Operators3_points\n",
      "0    509\n",
      "1    347\n",
      "Name: count, dtype: int64\n",
      "\n",
      "Top 4 most common answers:\n",
      "Operators3\n",
      "123123.0        347\n",
      "I don't know    111\n",
      "246.0            57\n",
      "123.0             4\n",
      "Name: count, dtype: int64\n"
     ]
    }
   ],
   "source": [
    "print_task_result(\"Operators3\", df, 4, True)"
   ]
  },
  {
   "cell_type": "markdown",
   "metadata": {},
   "source": [
    "### Operators 4\n",
    "What is printed here?\n",
    "```python\n",
    "n = 0\n",
    "n = n + 1\n",
    "n = n + 1\n",
    "\n",
    "print(n)\n",
    "```"
   ]
  },
  {
   "cell_type": "code",
   "execution_count": 479,
   "metadata": {},
   "outputs": [
    {
     "name": "stdout",
     "output_type": "stream",
     "text": [
      "Number of correct responses:\n",
      "Operators4_points\n",
      "1    672\n",
      "0    184\n",
      "Name: count, dtype: int64\n",
      "\n",
      "Top 4 most common answers:\n",
      "Operators4\n",
      "2.0             672\n",
      "I don't know     68\n",
      "1.0              29\n",
      "3.0              17\n",
      "Name: count, dtype: int64\n"
     ]
    }
   ],
   "source": [
    "print_task_result(\"Operators4\", df, 4, True)"
   ]
  },
  {
   "cell_type": "markdown",
   "metadata": {},
   "source": [
    "### Operators 5\n",
    "What is printed here?\n",
    "```python\n",
    "n = 'b'\n",
    "n = n + 'c'\n",
    "n = n + 'a'\n",
    "\n",
    "print(n)\n",
    "```"
   ]
  },
  {
   "cell_type": "code",
   "execution_count": 480,
   "metadata": {},
   "outputs": [
    {
     "name": "stdout",
     "output_type": "stream",
     "text": [
      "Number of correct responses:\n",
      "Operators5_points\n",
      "0    518\n",
      "1    338\n",
      "Name: count, dtype: int64\n",
      "\n",
      "Top 4 most common answers:\n",
      "Operators5\n",
      "bca             330\n",
      "I don't know    200\n",
      "'bca'             9\n",
      "abc               9\n",
      "Name: count, dtype: int64\n"
     ]
    }
   ],
   "source": [
    "print_task_result(\"Operators5\", df, 4, True)"
   ]
  },
  {
   "cell_type": "markdown",
   "metadata": {},
   "source": [
    "# Variables"
   ]
  },
  {
   "cell_type": "markdown",
   "metadata": {},
   "source": [
    "### Variables 1\n",
    "What is the value of variables `a` and `b`?\n",
    "```python\n",
    "a = 10\n",
    "b = 20\n",
    "\n",
    "a = b\n",
    "```"
   ]
  },
  {
   "cell_type": "code",
   "execution_count": 481,
   "metadata": {},
   "outputs": [
    {
     "name": "stdout",
     "output_type": "stream",
     "text": [
      "Number of correct responses:\n",
      "Variables1a_points\n",
      "1    630\n",
      "0    226\n",
      "Name: count, dtype: int64\n",
      "\n",
      "Top 5 most common answers:\n",
      "Variables1a\n",
      "20.0    630\n",
      "10.0     52\n",
      "1.0       2\n",
      "15.0      1\n",
      "10.2      1\n",
      "80.0      1\n",
      "30.0      1\n",
      "Name: count, dtype: int64\n",
      "Number of correct responses:\n",
      "Variables1b_points\n",
      "1    632\n",
      "0    224\n",
      "Name: count, dtype: int64\n",
      "\n",
      "Top 5 most common answers:\n",
      "Variables1b\n",
      "20.0            632\n",
      "I don't know    170\n",
      "10.0             44\n",
      "2.0               2\n",
      "15.0              1\n",
      "Name: count, dtype: int64\n"
     ]
    }
   ],
   "source": [
    "print_task_result(\"Variables1a\", df)\n",
    "print_task_result(\"Variables1b\", df)"
   ]
  },
  {
   "cell_type": "markdown",
   "metadata": {},
   "source": [
    "### Variables 2\n",
    "What is the value of variables `a` and `b`?\n",
    "```python\n",
    "a = 10\n",
    "b = 20\n",
    "\n",
    "b = a\n",
    "```"
   ]
  },
  {
   "cell_type": "code",
   "execution_count": 482,
   "metadata": {},
   "outputs": [
    {
     "name": "stdout",
     "output_type": "stream",
     "text": [
      "Number of correct responses:\n",
      "Variables2a_points\n",
      "1    608\n",
      "0    248\n",
      "Name: count, dtype: int64\n",
      "\n",
      "Top 5 most common answers:\n",
      "Variables2a\n",
      "10.0    608\n",
      "20.0     42\n",
      "2.0       2\n",
      "30.0      1\n",
      "0.0       1\n",
      "1.0       1\n",
      "80.0      1\n",
      "Name: count, dtype: int64\n",
      "Number of correct responses:\n",
      "Variables2b_points\n",
      "1    587\n",
      "0    269\n",
      "Name: count, dtype: int64\n",
      "\n",
      "Top 5 most common answers:\n",
      "Variables2b\n",
      "10.0            587\n",
      "I don't know    200\n",
      "20.0             62\n",
      "1.0               1\n",
      "0.0               1\n",
      "Name: count, dtype: int64\n"
     ]
    }
   ],
   "source": [
    "print_task_result(\"Variables2a\", df)\n",
    "print_task_result(\"Variables2b\", df)"
   ]
  },
  {
   "cell_type": "markdown",
   "metadata": {},
   "source": [
    "### Variables 3\n",
    "What is the value of variables `a` and `b`?\n",
    "```python\n",
    "a = 10\n",
    "b = 20\n",
    "\n",
    "a = b\n",
    "b = a\n",
    "```"
   ]
  },
  {
   "cell_type": "code",
   "execution_count": 483,
   "metadata": {},
   "outputs": [
    {
     "name": "stdout",
     "output_type": "stream",
     "text": [
      "Number of correct responses:\n",
      "Variables3a_points\n",
      "1    592\n",
      "0    264\n",
      "Name: count, dtype: int64\n",
      "\n",
      "Top 5 most common answers:\n",
      "Variables3a\n",
      "20.0    592\n",
      "10.0     38\n",
      "29.0      1\n",
      "1.0       1\n",
      "0.0       1\n",
      "15.0      1\n",
      "30.0      1\n",
      "Name: count, dtype: int64\n",
      "Number of correct responses:\n",
      "Variables3b_points\n",
      "1    522\n",
      "0    334\n",
      "Name: count, dtype: int64\n",
      "\n",
      "Top 5 most common answers:\n",
      "Variables3b\n",
      "20.0            522\n",
      "I don't know    216\n",
      "10.0            105\n",
      "2.0               1\n",
      "0.0               1\n",
      "Name: count, dtype: int64\n"
     ]
    }
   ],
   "source": [
    "print_task_result(\"Variables3a\", df)\n",
    "print_task_result(\"Variables3b\", df)"
   ]
  },
  {
   "cell_type": "markdown",
   "metadata": {},
   "source": [
    "### Variables 4\n",
    "What is the value of variables `a` and `b`?\n",
    "```python\n",
    "a = 10\n",
    "b = 20\n",
    "\n",
    "b = a\n",
    "a = b\n",
    "```"
   ]
  },
  {
   "cell_type": "code",
   "execution_count": 484,
   "metadata": {},
   "outputs": [
    {
     "name": "stdout",
     "output_type": "stream",
     "text": [
      "Number of correct responses:\n",
      "Variables4a_points\n",
      "1    539\n",
      "0    317\n",
      "Name: count, dtype: int64\n",
      "\n",
      "Top 5 most common answers:\n",
      "Variables4a\n",
      "10.0    539\n",
      "20.0     77\n",
      "1.0       1\n",
      "40.0      1\n",
      "30.0      1\n",
      "Name: count, dtype: int64\n",
      "Number of correct responses:\n",
      "Variables4b_points\n",
      "1    565\n",
      "0    291\n",
      "Name: count, dtype: int64\n",
      "\n",
      "Top 5 most common answers:\n",
      "Variables4b\n",
      "10.0            565\n",
      "I don't know    224\n",
      "20.0             51\n",
      "2.0               1\n",
      "60.0              1\n",
      "Name: count, dtype: int64\n"
     ]
    }
   ],
   "source": [
    "print_task_result(\"Variables4a\", df)\n",
    "print_task_result(\"Variables4b\", df)"
   ]
  },
  {
   "cell_type": "markdown",
   "metadata": {},
   "source": [
    "### Variables 5\n",
    "What is the value of variables `a`, `b` and `c`?\n",
    "```python\n",
    "a = 10\n",
    "b = 20\n",
    "c = 30\n",
    "\n",
    "a = b\n",
    "b = c\n",
    "```"
   ]
  },
  {
   "cell_type": "code",
   "execution_count": 485,
   "metadata": {},
   "outputs": [
    {
     "name": "stdout",
     "output_type": "stream",
     "text": [
      "Number of correct responses:\n",
      "Variables5a_points\n",
      "1    576\n",
      "0    280\n",
      "Name: count, dtype: int64\n",
      "\n",
      "Top 5 most common answers:\n",
      "Variables5a\n",
      "20.0    576\n",
      "30.0     35\n",
      "10.0     20\n",
      "1.0       2\n",
      "Name: count, dtype: int64\n",
      "Number of correct responses:\n",
      "Variables5b_points\n",
      "1    602\n",
      "0    254\n",
      "Name: count, dtype: int64\n",
      "\n",
      "Top 5 most common answers:\n",
      "Variables5b\n",
      "30.0    602\n",
      "20.0     14\n",
      "10.0     11\n",
      "2.0       2\n",
      "15.0      2\n",
      "3.0       1\n",
      "60.0      1\n",
      "Name: count, dtype: int64\n",
      "Number of correct responses:\n",
      "Variables5c_points\n",
      "1    596\n",
      "0    260\n",
      "Name: count, dtype: int64\n",
      "\n",
      "Top 5 most common answers:\n",
      "Variables5c\n",
      "30.0            596\n",
      "I don't know    215\n",
      "20.0             18\n",
      "10.0              8\n",
      "3.0               2\n",
      "Name: count, dtype: int64\n"
     ]
    }
   ],
   "source": [
    "print_task_result(\"Variables5a\", df)\n",
    "print_task_result(\"Variables5b\", df)\n",
    "print_task_result(\"Variables5c\", df)"
   ]
  },
  {
   "cell_type": "markdown",
   "metadata": {},
   "source": [
    "### Variables 6\n",
    "What is the value of variables `a`, `b` and `c`?\n",
    "```python\n",
    "a = 10\n",
    "b = 20\n",
    "c = 30\n",
    "\n",
    "a = c\n",
    "b = a\n",
    "c = b\n",
    "```"
   ]
  },
  {
   "cell_type": "code",
   "execution_count": 486,
   "metadata": {},
   "outputs": [
    {
     "name": "stdout",
     "output_type": "stream",
     "text": [
      "Number of correct responses:\n",
      "Variables6a_points\n",
      "1    576\n",
      "0    280\n",
      "Name: count, dtype: int64\n",
      "\n",
      "Top 5 most common answers:\n",
      "Variables6a\n",
      "30.0    576\n",
      "20.0     20\n",
      "10.0     12\n",
      "6.0       1\n",
      "5.0       1\n",
      "Name: count, dtype: int64\n",
      "Number of correct responses:\n",
      "Variables6b_points\n",
      "1    491\n",
      "0    365\n",
      "Name: count, dtype: int64\n",
      "\n",
      "Top 5 most common answers:\n",
      "Variables6b\n",
      "30.0    491\n",
      "10.0    104\n",
      "20.0     12\n",
      "60.0      1\n",
      "Name: count, dtype: int64\n",
      "Number of correct responses:\n",
      "Variables6c_points\n",
      "1    479\n",
      "0    377\n",
      "Name: count, dtype: int64\n",
      "\n",
      "Top 5 most common answers:\n",
      "Variables6c\n",
      "30.0            479\n",
      "I don't know    229\n",
      "20.0             93\n",
      "10.0             34\n",
      "60.0              1\n",
      "Name: count, dtype: int64\n"
     ]
    }
   ],
   "source": [
    "print_task_result(\"Variables6a\", df)\n",
    "print_task_result(\"Variables6b\", df)\n",
    "print_task_result(\"Variables6c\", df)"
   ]
  },
  {
   "cell_type": "markdown",
   "metadata": {},
   "source": [
    "## Booleans"
   ]
  },
  {
   "cell_type": "markdown",
   "metadata": {},
   "source": [
    "### Booleans 1\n",
    "What do these boolean expressions evaluate to?"
   ]
  },
  {
   "cell_type": "code",
   "execution_count": 487,
   "metadata": {
    "scrolled": true
   },
   "outputs": [
    {
     "name": "stdout",
     "output_type": "stream",
     "text": [
      "Top 3 most common answers:\n",
      "100 == 100\n",
      "TRUE            769\n",
      "Jeg vet ikke     62\n",
      "FALSE            17\n",
      "Name: count, dtype: int64\n",
      "\n",
      "Top 3 most common answers:\n",
      "2 > 7\n",
      "FALSE           808\n",
      "Jeg vet ikke     22\n",
      "TRUE             17\n",
      "Name: count, dtype: int64\n",
      "\n",
      "Top 3 most common answers:\n",
      "(10 + 3) >= 13\n",
      "TRUE            707\n",
      "FALSE            96\n",
      "Jeg vet ikke     44\n",
      "Name: count, dtype: int64\n",
      "\n",
      "Top 3 most common answers:\n",
      "(10*2) < 9\n",
      "FALSE           791\n",
      "TRUE             29\n",
      "Jeg vet ikke     25\n",
      "Name: count, dtype: int64\n",
      "\n",
      "Top 3 most common answers:\n",
      "(1 + 3) < (2*3)\n",
      "TRUE            783\n",
      "FALSE            36\n",
      "Jeg vet ikke     29\n",
      "Name: count, dtype: int64\n",
      "\n",
      "Top 3 most common answers:\n",
      "(10.3 + 9) == (10.3 + 10)\n",
      "FALSE           753\n",
      "Jeg vet ikke     71\n",
      "TRUE             25\n",
      "Name: count, dtype: int64\n"
     ]
    }
   ],
   "source": [
    "print_task_result(\"100 == 100\", df, 3, False)\n",
    "print()\n",
    "print_task_result(\"2 > 7\", df, 3, False)\n",
    "print()\n",
    "print_task_result(\"(10 + 3) >= 13\", df, 3, False)\n",
    "print()\n",
    "print_task_result(\"(10*2) < 9\", df, 3, False)\n",
    "print()\n",
    "print_task_result(\"(1 + 3) < (2*3)\", df, 3, False)\n",
    "print()\n",
    "print_task_result(\"(10.3 + 9) == (10.3 + 10)\", df, 3, False)"
   ]
  },
  {
   "cell_type": "markdown",
   "metadata": {},
   "source": [
    "### Booleans 2\n",
    "What do these boolean expressions evaluate to?"
   ]
  },
  {
   "cell_type": "code",
   "execution_count": 488,
   "metadata": {
    "scrolled": true
   },
   "outputs": [
    {
     "name": "stdout",
     "output_type": "stream",
     "text": [
      "Top 3 most common answers:\n",
      "100 != 100\n",
      "FALSE           552\n",
      "Jeg vet ikke    261\n",
      "TRUE             33\n",
      "Name: count, dtype: int64\n",
      "\n",
      "Top 3 most common answers:\n",
      "(5 < 7) and (4 > 5)\n",
      "FALSE           718\n",
      "Jeg vet ikke    104\n",
      "TRUE             24\n",
      "Name: count, dtype: int64\n",
      "\n",
      "Top 3 most common answers:\n",
      "(5 < 7) or (4 > 5)\n",
      "TRUE            536\n",
      "Jeg vet ikke    154\n",
      "FALSE           154\n",
      "Name: count, dtype: int64\n",
      "\n",
      "Top 3 most common answers:\n",
      "(3 < 7) and (7 < 9)\n",
      "TRUE            722\n",
      "Jeg vet ikke    102\n",
      "FALSE            16\n",
      "Name: count, dtype: int64\n",
      "\n",
      "Top 3 most common answers:\n",
      "(3 < 7) or (7 < 9)\n",
      "TRUE            595\n",
      "Jeg vet ikke    146\n",
      "FALSE           104\n",
      "Name: count, dtype: int64\n",
      "\n",
      "Top 3 most common answers:\n",
      "not (100 != 100)\n",
      "TRUE            416\n",
      "Jeg vet ikke    374\n",
      "FALSE            56\n",
      "Name: count, dtype: int64\n"
     ]
    }
   ],
   "source": [
    "print_task_result(\"100 != 100\", df, 3, False)\n",
    "print()\n",
    "print_task_result(\"(5 < 7) and (4 > 5)\", df, 3, False)\n",
    "print()\n",
    "print_task_result(\"(5 < 7) or (4 > 5)\", df, 3, False)\n",
    "print()\n",
    "print_task_result(\"(3 < 7) and (7 < 9)\", df, 3, False)\n",
    "print()\n",
    "print_task_result(\"(3 < 7) or (7 < 9)\", df, 3, False)\n",
    "print()\n",
    "print_task_result(\"not (100 != 100)\", df, 3, False)"
   ]
  },
  {
   "cell_type": "markdown",
   "metadata": {},
   "source": [
    "### Booleans 3\n",
    "What do these boolean expressions evaluate to?"
   ]
  },
  {
   "cell_type": "code",
   "execution_count": 489,
   "metadata": {
    "scrolled": true
   },
   "outputs": [
    {
     "name": "stdout",
     "output_type": "stream",
     "text": [
      "Top 3 most common answers:\n",
      "True != True\n",
      "FALSE           469\n",
      "Jeg vet ikke    332\n",
      "TRUE             42\n",
      "Name: count, dtype: int64\n",
      "\n",
      "Top 3 most common answers:\n",
      "True and False\n",
      "FALSE           422\n",
      "Jeg vet ikke    357\n",
      "TRUE             61\n",
      "Name: count, dtype: int64\n",
      "\n",
      "Top 3 most common answers:\n",
      "True or False\n",
      "TRUE            467\n",
      "Jeg vet ikke    326\n",
      "FALSE            45\n",
      "Name: count, dtype: int64\n",
      "\n",
      "Top 3 most common answers:\n",
      "True and True\n",
      "TRUE            492\n",
      "Jeg vet ikke    294\n",
      "FALSE            54\n",
      "Name: count, dtype: int64\n",
      "\n",
      "Top 3 most common answers:\n",
      "True or True\n",
      "TRUE            397\n",
      "Jeg vet ikke    308\n",
      "FALSE           134\n",
      "Name: count, dtype: int64\n",
      "\n",
      "Top 3 most common answers:\n",
      "not (True != True)\n",
      "Jeg vet ikke    414\n",
      "TRUE            355\n",
      "FALSE            71\n",
      "Name: count, dtype: int64\n"
     ]
    }
   ],
   "source": [
    "print_task_result(\"True != True\", df, 3, False)\n",
    "print()\n",
    "print_task_result(\"True and False\", df, 3, False)\n",
    "print()\n",
    "print_task_result(\"True or False\", df, 3, False)\n",
    "print()\n",
    "print_task_result(\"True and True\", df, 3, False)\n",
    "print()\n",
    "print_task_result(\"True or True\", df, 3, False)\n",
    "print()\n",
    "print_task_result(\"not (True != True)\", df, 3, False)"
   ]
  },
  {
   "cell_type": "markdown",
   "metadata": {},
   "source": [
    "### Booleans 4\n",
    "Given the variable `n = 5`, what do these boolean expressions evaluate to?"
   ]
  },
  {
   "cell_type": "code",
   "execution_count": 490,
   "metadata": {
    "scrolled": true
   },
   "outputs": [
    {
     "name": "stdout",
     "output_type": "stream",
     "text": [
      "Top 3 most common answers:\n",
      "n < 10\n",
      "TRUE            755\n",
      "FALSE            49\n",
      "Jeg vet ikke     42\n",
      "Name: count, dtype: int64\n",
      "\n",
      "Top 3 most common answers:\n",
      "100 == n\n",
      "FALSE           735\n",
      "Jeg vet ikke     93\n",
      "TRUE             17\n",
      "Name: count, dtype: int64\n",
      "\n",
      "Top 3 most common answers:\n",
      "(n < 7) and (4 > n)\n",
      "FALSE           713\n",
      "Jeg vet ikke     78\n",
      "TRUE             50\n",
      "Name: count, dtype: int64\n",
      "\n",
      "Top 3 most common answers:\n",
      "(n < 7) or (4 > n)\n",
      "TRUE            577\n",
      "FALSE           148\n",
      "Jeg vet ikke    113\n",
      "Name: count, dtype: int64\n",
      "\n",
      "Top 3 most common answers:\n",
      "n <= 5\n",
      "TRUE            692\n",
      "Jeg vet ikke     85\n",
      "FALSE            68\n",
      "Name: count, dtype: int64\n",
      "\n",
      "Top 3 most common answers:\n",
      "not (n < 10)\n",
      "FALSE           488\n",
      "Jeg vet ikke    255\n",
      "TRUE             97\n",
      "Name: count, dtype: int64\n"
     ]
    }
   ],
   "source": [
    "print_task_result(\"n < 10\", df, 3, False)\n",
    "print()\n",
    "print_task_result(\"100 == n\", df, 3, False)\n",
    "print()\n",
    "print_task_result(\"(n < 7) and (4 > n)\", df, 3, False)\n",
    "print()\n",
    "print_task_result(\"(n < 7) or (4 > n)\", df, 3, False)\n",
    "print()\n",
    "print_task_result(\"n <= 5\", df, 3, False)\n",
    "print()\n",
    "print_task_result(\"not (n < 10)\", df, 3, False)"
   ]
  },
  {
   "cell_type": "markdown",
   "metadata": {},
   "source": [
    "## Conditionals"
   ]
  },
  {
   "cell_type": "markdown",
   "metadata": {},
   "source": [
    "### Conditionals 1\n",
    "What does this code snippet print?\n",
    "\n",
    "```python\n",
    "if 2 > 7:\n",
    "    print(1)\n",
    "```"
   ]
  },
  {
   "cell_type": "code",
   "execution_count": 491,
   "metadata": {},
   "outputs": [
    {
     "name": "stdout",
     "output_type": "stream",
     "text": [
      "Number of correct responses:\n",
      "Conditionals1_points\n",
      "1    689\n",
      "0    167\n",
      "Name: count, dtype: int64\n",
      "\n",
      "Top 5 most common answers:\n",
      "Conditionals1\n",
      "Ingenting       689\n",
      "1               100\n",
      "Jeg vet ikke     60\n",
      "Name: count, dtype: int64\n"
     ]
    }
   ],
   "source": [
    "print_task_result(\"Conditionals1\", df)"
   ]
  },
  {
   "cell_type": "markdown",
   "metadata": {},
   "source": [
    "### Conditionals 2\n",
    "What does this code snippet print?\n",
    "\n",
    "```python\n",
    "if 100 != 100:\n",
    "    print(1)\n",
    "else:\n",
    "    print(2)\n",
    "```"
   ]
  },
  {
   "cell_type": "code",
   "execution_count": 492,
   "metadata": {},
   "outputs": [
    {
     "name": "stdout",
     "output_type": "stream",
     "text": [
      "Number of correct responses:\n",
      "Conditionals2_points\n",
      "1    530\n",
      "0    326\n",
      "Name: count, dtype: int64\n",
      "\n",
      "Top 5 most common answers:\n",
      "Conditionals2\n",
      "2               530\n",
      "Jeg vet ikke    215\n",
      "1                63\n",
      "1 og 2           25\n",
      "Ingenting        15\n",
      "Name: count, dtype: int64\n"
     ]
    }
   ],
   "source": [
    "print_task_result(\"Conditionals2\", df)"
   ]
  },
  {
   "cell_type": "markdown",
   "metadata": {},
   "source": [
    "### Conditionals 3\n",
    "What does this code snippet print?\n",
    "\n",
    "```python\n",
    "if (10*2) < 9:\n",
    "    print(1)\n",
    "elif 100 == 100:\n",
    "    print(2)\n",
    "else:\n",
    "    print(3)\n",
    "```"
   ]
  },
  {
   "cell_type": "code",
   "execution_count": 493,
   "metadata": {},
   "outputs": [
    {
     "name": "stdout",
     "output_type": "stream",
     "text": [
      "Number of correct responses:\n",
      "Conditionals3_points\n",
      "1    607\n",
      "0    249\n",
      "Name: count, dtype: int64\n",
      "\n",
      "Top 5 most common answers:\n",
      "Conditionals3\n",
      "2               607\n",
      "Jeg vet ikke    107\n",
      "2 og 3           51\n",
      "1 og 2           24\n",
      "1                22\n",
      "Name: count, dtype: int64\n"
     ]
    }
   ],
   "source": [
    "print_task_result(\"Conditionals3\", df)"
   ]
  },
  {
   "cell_type": "markdown",
   "metadata": {},
   "source": [
    "### Conditionals 4\n",
    "What does this code snippet print?\n",
    "\n",
    "```python\n",
    "if 100 == 100:\n",
    "    print(1)\n",
    "if (1 + 3) < (2*3):\n",
    "    print(2)\n",
    "else:\n",
    "    print(3)\n",
    "```"
   ]
  },
  {
   "cell_type": "code",
   "execution_count": 494,
   "metadata": {},
   "outputs": [
    {
     "name": "stdout",
     "output_type": "stream",
     "text": [
      "Number of correct responses:\n",
      "Conditionals4_points\n",
      "1    585\n",
      "0    271\n",
      "Name: count, dtype: int64\n",
      "\n",
      "Top 5 most common answers:\n",
      "Conditionals4\n",
      "1 og 2          585\n",
      "Jeg vet ikke    111\n",
      "1                72\n",
      "1 og 3           24\n",
      "1, 2 og 3        21\n",
      "Name: count, dtype: int64\n"
     ]
    }
   ],
   "source": [
    "print_task_result(\"Conditionals4\", df)"
   ]
  },
  {
   "cell_type": "markdown",
   "metadata": {},
   "source": [
    "## Loops"
   ]
  },
  {
   "cell_type": "markdown",
   "metadata": {},
   "source": [
    "### Loops 1\n",
    "What does this code snippet print?\n",
    "\n",
    "```python\n",
    "n = 0\n",
    "while n < 10:\n",
    "    n = n + 1\n",
    "\n",
    "print(n)\n",
    "```"
   ]
  },
  {
   "cell_type": "code",
   "execution_count": 495,
   "metadata": {},
   "outputs": [
    {
     "name": "stdout",
     "output_type": "stream",
     "text": [
      "Number of correct responses:\n",
      "Loops1_points\n",
      "0    448\n",
      "1    408\n",
      "Name: count, dtype: int64\n",
      "\n",
      "Top 5 most common answers:\n",
      "Loops1\n",
      "10.0            408\n",
      "9.0             124\n",
      "I don't know    109\n",
      "1.0              80\n",
      "123456789.0      60\n",
      "Name: count, dtype: int64\n"
     ]
    }
   ],
   "source": [
    "print_task_result(\"Loops1\", df)"
   ]
  },
  {
   "cell_type": "markdown",
   "metadata": {},
   "source": [
    "### Loops 2\n",
    "What does this code snippet print?\n",
    "\n",
    "```python\n",
    "n = 0\n",
    "while n < 10:\n",
    "    n = n + 2\n",
    "\n",
    "print(n)\n",
    "```"
   ]
  },
  {
   "cell_type": "code",
   "execution_count": 496,
   "metadata": {},
   "outputs": [
    {
     "name": "stdout",
     "output_type": "stream",
     "text": [
      "Number of correct responses:\n",
      "Loops2_points\n",
      "0    475\n",
      "1    381\n",
      "Name: count, dtype: int64\n",
      "\n",
      "Top 5 most common answers:\n",
      "Loops2\n",
      "10.0            381\n",
      "I don't know    114\n",
      "8.0             111\n",
      "2.0              78\n",
      "2468.0           60\n",
      "Name: count, dtype: int64\n"
     ]
    }
   ],
   "source": [
    "print_task_result(\"Loops2\", df)"
   ]
  },
  {
   "cell_type": "markdown",
   "metadata": {},
   "source": [
    "### Loops 3\n",
    "What does this code snippet print?\n",
    "\n",
    "```python\n",
    "n = 100\n",
    "while n < 10:\n",
    "    n = n + 2\n",
    "\n",
    "print(n)\n",
    "```"
   ]
  },
  {
   "cell_type": "code",
   "execution_count": 497,
   "metadata": {},
   "outputs": [
    {
     "name": "stdout",
     "output_type": "stream",
     "text": [
      "Number of correct responses:\n",
      "Loops3_points\n",
      "1    550\n",
      "0    306\n",
      "Name: count, dtype: int64\n",
      "\n",
      "Top 5 most common answers:\n",
      "Loops3\n",
      "100             550\n",
      "I don't know    184\n",
      "0                38\n",
      "102              20\n",
      "98                5\n",
      "Name: count, dtype: int64\n"
     ]
    }
   ],
   "source": [
    "print_task_result(\"Loops3\", df)"
   ]
  },
  {
   "cell_type": "markdown",
   "metadata": {},
   "source": [
    "### Loops 4\n",
    "What does this code snippet print?\n",
    "\n",
    "```python\n",
    "n = 0\n",
    "while (n < 7) and (4 > n):\n",
    "    n = n + 1\n",
    "\n",
    "print(n)\n",
    "```"
   ]
  },
  {
   "cell_type": "code",
   "execution_count": 498,
   "metadata": {},
   "outputs": [
    {
     "name": "stdout",
     "output_type": "stream",
     "text": [
      "Number of correct responses:\n",
      "Loops4_points\n",
      "0    507\n",
      "1    349\n",
      "Name: count, dtype: int64\n",
      "\n",
      "Top 5 most common answers:\n",
      "Loops4\n",
      "4.0             349\n",
      "I don't know    188\n",
      "3.0              94\n",
      "1.0              55\n",
      "0.0              48\n",
      "Name: count, dtype: int64\n"
     ]
    }
   ],
   "source": [
    "print_task_result(\"Loops4\", df)"
   ]
  },
  {
   "cell_type": "markdown",
   "metadata": {},
   "source": [
    "### Loops 5\n",
    "What does this code snippet print?\n",
    "\n",
    "```python\n",
    "n = 0\n",
    "ls = [1, 1, 3]\n",
    "for e in ls:\n",
    "    n = n + e\n",
    "\n",
    "print(n)\n",
    "```"
   ]
  },
  {
   "cell_type": "code",
   "execution_count": 499,
   "metadata": {},
   "outputs": [
    {
     "name": "stdout",
     "output_type": "stream",
     "text": [
      "Number of correct responses:\n",
      "Loops5_points\n",
      "0    534\n",
      "1    322\n",
      "Name: count, dtype: int64\n",
      "\n",
      "Top 5 most common answers:\n",
      "Loops5\n",
      "I don't know    441\n",
      "5.0             322\n",
      "0.0              23\n",
      "1.0              10\n",
      "3.0               9\n",
      "Name: count, dtype: int64\n"
     ]
    }
   ],
   "source": [
    "print_task_result(\"Loops5\", df)"
   ]
  },
  {
   "cell_type": "markdown",
   "metadata": {},
   "source": [
    "### Loops 6\n",
    "What does this code snippet print?\n",
    "\n",
    "```python\n",
    "n = 0\n",
    "ls = [-1, 4, -3, 0, -10, 5]\n",
    "for e in ls:\n",
    "    if e > 0:\n",
    "        n = n + e\n",
    "\n",
    "print(n)\n",
    "```"
   ]
  },
  {
   "cell_type": "code",
   "execution_count": 500,
   "metadata": {},
   "outputs": [
    {
     "name": "stdout",
     "output_type": "stream",
     "text": [
      "Number of correct responses:\n",
      "Loops6_points\n",
      "0    580\n",
      "1    276\n",
      "Name: count, dtype: int64\n",
      "\n",
      "Top 5 most common answers:\n",
      "Loops6\n",
      "I don't know    468\n",
      "9.0             276\n",
      "0.0              26\n",
      "5.0               8\n",
      "-14.0             8\n",
      "Name: count, dtype: int64\n"
     ]
    }
   ],
   "source": [
    "print_task_result(\"Loops6\", df)"
   ]
  },
  {
   "cell_type": "markdown",
   "metadata": {},
   "source": [
    "## Lists"
   ]
  },
  {
   "cell_type": "markdown",
   "metadata": {},
   "source": [
    "### Lists 1\n",
    "What does this code snippet print?\n",
    "\n",
    "```python\n",
    "ls = [10, 20, 30]\n",
    "print(ls[1])\n",
    "```"
   ]
  },
  {
   "cell_type": "code",
   "execution_count": 501,
   "metadata": {},
   "outputs": [
    {
     "name": "stdout",
     "output_type": "stream",
     "text": [
      "Number of correct responses:\n",
      "Lists1_points\n",
      "0    523\n",
      "1    333\n",
      "Name: count, dtype: int64\n",
      "\n",
      "Top 5 most common answers:\n",
      "Lists1\n",
      "20.0            333\n",
      "I don't know    252\n",
      "10.0            230\n",
      "102030.0         17\n",
      "40.0              2\n",
      "Name: count, dtype: int64\n"
     ]
    }
   ],
   "source": [
    "print_task_result(\"Lists1\", df)"
   ]
  },
  {
   "cell_type": "markdown",
   "metadata": {},
   "source": [
    "### Lists 2\n",
    "What does this code snippet print?\n",
    "\n",
    "```python\n",
    "ls = [10, 20, 30]\n",
    "ls[1] = ls[1] + 5\n",
    "\n",
    "print(ls[1])\n",
    "```"
   ]
  },
  {
   "cell_type": "code",
   "execution_count": 502,
   "metadata": {},
   "outputs": [
    {
     "name": "stdout",
     "output_type": "stream",
     "text": [
      "Number of correct responses:\n",
      "Lists2_points\n",
      "0    523\n",
      "1    333\n",
      "Name: count, dtype: int64\n",
      "\n",
      "Top 5 most common answers:\n",
      "Lists2\n",
      "25.0            333\n",
      "I don't know    272\n",
      "15.0            208\n",
      "152535.0          7\n",
      "10.0              4\n",
      "Name: count, dtype: int64\n"
     ]
    }
   ],
   "source": [
    "print_task_result(\"Lists2\", df)"
   ]
  },
  {
   "cell_type": "markdown",
   "metadata": {},
   "source": [
    "### Lists 3\n",
    "What does this code snippet print?\n",
    "\n",
    "```python\n",
    "a = [10, 20, 30]\n",
    "b = [5, 15, 25]\n",
    "\n",
    "b[1] = a[1] + b[1]\n",
    "\n",
    "print(a)\n",
    "print(b)\n",
    "```"
   ]
  },
  {
   "cell_type": "code",
   "execution_count": 503,
   "metadata": {},
   "outputs": [
    {
     "name": "stdout",
     "output_type": "stream",
     "text": [
      "Number of correct responses:\n",
      "Lists3a_points\n",
      "1    555\n",
      "0    301\n",
      "Name: count, dtype: int64\n",
      "\n",
      "Top 5 most common answers:\n",
      "Lists3a\n",
      "[10, 20, 30]    555\n",
      "Jeg vet ikke    223\n",
      "[15, 35, 55]     12\n",
      "[5, 15, 25]      12\n",
      "[10, 35, 30]      6\n",
      "Name: count, dtype: int64\n",
      "Number of correct responses:\n",
      "Lists3b_points\n",
      "0    553\n",
      "1    303\n",
      "Name: count, dtype: int64\n",
      "\n",
      "Top 5 most common answers:\n",
      "Lists3b\n",
      "Jeg vet ikke    313\n",
      "[5, 35, 25]     303\n",
      "[15, 35, 55]    133\n",
      "[5, 15, 25]      49\n",
      "[10, 35, 30]     14\n",
      "Name: count, dtype: int64\n"
     ]
    }
   ],
   "source": [
    "print_task_result(\"Lists3a\", df)\n",
    "print_task_result(\"Lists3b\", df)"
   ]
  },
  {
   "cell_type": "markdown",
   "metadata": {},
   "source": [
    "## Functions"
   ]
  },
  {
   "cell_type": "markdown",
   "metadata": {},
   "source": [
    "### Functions 1\n",
    "What does this code snippet print?\n",
    "\n",
    "```python\n",
    "def f(a, b):\n",
    "    return a + b\n",
    "\n",
    "print(f(5, 10))\n",
    "```"
   ]
  },
  {
   "cell_type": "code",
   "execution_count": 504,
   "metadata": {},
   "outputs": [
    {
     "name": "stdout",
     "output_type": "stream",
     "text": [
      "Number of correct responses:\n",
      "Functions1_points\n",
      "1    524\n",
      "0    332\n",
      "Name: count, dtype: int64\n",
      "\n",
      "Top 5 most common answers:\n",
      "Functions1\n",
      "15.0            524\n",
      "I don't know    286\n",
      "5.1              11\n",
      "510.0             5\n",
      "5678910.0         1\n",
      "Name: count, dtype: int64\n"
     ]
    }
   ],
   "source": [
    "print_task_result(\"Functions1\", df)"
   ]
  },
  {
   "cell_type": "markdown",
   "metadata": {},
   "source": [
    "### Functions 2\n",
    "What does this code snippet print?\n",
    "\n",
    "```python\n",
    "def f(a):\n",
    "    if a:\n",
    "        return 1\n",
    "    else:\n",
    "        return 2\n",
    "\n",
    "print(f(100 == 100))\n",
    "```"
   ]
  },
  {
   "cell_type": "code",
   "execution_count": 505,
   "metadata": {},
   "outputs": [
    {
     "name": "stdout",
     "output_type": "stream",
     "text": [
      "Number of correct responses:\n",
      "Functions2_points\n",
      "0    514\n",
      "1    342\n",
      "Name: count, dtype: int64\n",
      "\n",
      "Top 5 most common answers:\n",
      "Functions2\n",
      "I don't know    425\n",
      "1.0             342\n",
      "2.0              36\n",
      "100.0            19\n",
      "99.0              1\n",
      "Name: count, dtype: int64\n"
     ]
    }
   ],
   "source": [
    "print_task_result(\"Functions2\", df)"
   ]
  },
  {
   "cell_type": "markdown",
   "metadata": {},
   "source": [
    "### Functions 3\n",
    "What does this code snippet print?\n",
    "\n",
    "```python\n",
    "def f():\n",
    "    if 100 == 100:\n",
    "        return 1\n",
    "    if (1 + 3) < (2*3):\n",
    "        return 2\n",
    "    else:\n",
    "        return 3\n",
    "\n",
    "print(f())\n",
    "```"
   ]
  },
  {
   "cell_type": "code",
   "execution_count": 506,
   "metadata": {},
   "outputs": [
    {
     "name": "stdout",
     "output_type": "stream",
     "text": [
      "Number of correct responses:\n",
      "Functions3_points\n",
      "0    669\n",
      "1    187\n",
      "Name: count, dtype: int64\n",
      "\n",
      "Top 5 most common answers:\n",
      "Functions3\n",
      "I don't know    404\n",
      "1.0             187\n",
      "12.0             97\n",
      "1.2              53\n",
      "2.0              32\n",
      "Name: count, dtype: int64\n"
     ]
    }
   ],
   "source": [
    "print_task_result(\"Functions3\", df)"
   ]
  },
  {
   "cell_type": "markdown",
   "metadata": {},
   "source": [
    "### Functions 4\n",
    "What does this code snippet print?\n",
    "\n",
    "```python\n",
    "def f(n, a):\n",
    "    if a:\n",
    "        n = n + 1\n",
    "    return n\n",
    "\n",
    "print(f(5, (10*2) < 9))\n",
    "```"
   ]
  },
  {
   "cell_type": "code",
   "execution_count": 507,
   "metadata": {},
   "outputs": [
    {
     "name": "stdout",
     "output_type": "stream",
     "text": [
      "Number of correct responses:\n",
      "Functions4_points\n",
      "0    601\n",
      "1    255\n",
      "Name: count, dtype: int64\n",
      "\n",
      "Top 5 most common answers:\n",
      "Functions4\n",
      "I don't know    513\n",
      "5.0             255\n",
      "6.0              19\n",
      "0.0               4\n",
      "5209.0            2\n",
      "Name: count, dtype: int64\n"
     ]
    }
   ],
   "source": [
    "print_task_result(\"Functions4\", df)"
   ]
  },
  {
   "cell_type": "markdown",
   "metadata": {},
   "source": [
    "### Functions 5\n",
    "What does this code snippet print?\n",
    "\n",
    "```python\n",
    "def f(n):\n",
    "    while n < 10:\n",
    "        n = n + 1\n",
    "    return n\n",
    "\n",
    "print(f(5))\n",
    "```"
   ]
  },
  {
   "cell_type": "code",
   "execution_count": 508,
   "metadata": {},
   "outputs": [
    {
     "name": "stdout",
     "output_type": "stream",
     "text": [
      "Number of correct responses:\n",
      "Functions5_points\n",
      "0    560\n",
      "1    296\n",
      "Name: count, dtype: int64\n",
      "\n",
      "Top 5 most common answers:\n",
      "Functions5\n",
      "I don't know    321\n",
      "10.0            296\n",
      "6.0              77\n",
      "9.0              48\n",
      "5.0              32\n",
      "Name: count, dtype: int64\n"
     ]
    }
   ],
   "source": [
    "print_task_result(\"Functions5\", df)"
   ]
  },
  {
   "cell_type": "markdown",
   "metadata": {},
   "source": [
    "### Functions 6\n",
    "What does this code snippet print?\n",
    "\n",
    "```python\n",
    "def f(s, ls):\n",
    "    for e in ls:\n",
    "        s = s + e\n",
    "    return s\n",
    "\n",
    "print(f('abc', ['x', 'y', 'z']))\n",
    "```"
   ]
  },
  {
   "cell_type": "code",
   "execution_count": 509,
   "metadata": {},
   "outputs": [
    {
     "name": "stdout",
     "output_type": "stream",
     "text": [
      "Number of correct responses:\n",
      "Functions6_points\n",
      "0    642\n",
      "1    214\n",
      "Name: count, dtype: int64\n",
      "\n",
      "Top 5 most common answers:\n",
      "Functions6\n",
      "I don't know    559\n",
      "abcxyz          210\n",
      "abc x y z         6\n",
      "abcxabcyabcz      5\n",
      "abc               4\n",
      "Name: count, dtype: int64\n"
     ]
    }
   ],
   "source": [
    "print_task_result(\"Functions6\", df)"
   ]
  },
  {
   "cell_type": "markdown",
   "metadata": {},
   "source": [
    "### Functions 7\n",
    "What does this code snippet print?\n",
    "\n",
    "```python\n",
    "def f(n, ls):\n",
    "    return ls[n]\n",
    "\n",
    "print(f(2, ['a', 'b', 'c']))\n",
    "```"
   ]
  },
  {
   "cell_type": "code",
   "execution_count": 510,
   "metadata": {},
   "outputs": [
    {
     "name": "stdout",
     "output_type": "stream",
     "text": [
      "Number of correct responses:\n",
      "Functions7_points\n",
      "0    604\n",
      "1    252\n",
      "Name: count, dtype: int64\n",
      "\n",
      "Top 5 most common answers:\n",
      "Functions7\n",
      "I don't know    512\n",
      "c               245\n",
      "b                21\n",
      "C                 7\n",
      "2                 4\n",
      "Name: count, dtype: int64\n"
     ]
    }
   ],
   "source": [
    "print_task_result(\"Functions7\", df)"
   ]
  },
  {
   "cell_type": "markdown",
   "metadata": {},
   "source": [
    "### Functions 8\n",
    "What does this code snippet print?\n",
    "\n",
    "```python\n",
    "def f(n, ls):\n",
    "    return ls[1] + n\n",
    "\n",
    "print(f(5, [10, 20, 30]))\n",
    "```"
   ]
  },
  {
   "cell_type": "code",
   "execution_count": 511,
   "metadata": {},
   "outputs": [
    {
     "name": "stdout",
     "output_type": "stream",
     "text": [
      "Number of correct responses:\n",
      "Functions8_points\n",
      "0    590\n",
      "1    266\n",
      "Name: count, dtype: int64\n",
      "\n",
      "Top 5 most common answers:\n",
      "Functions8\n",
      "I don't know    488\n",
      "25.0            266\n",
      "15.0             35\n",
      "152535.0          4\n",
      "65.0              3\n",
      "Name: count, dtype: int64\n"
     ]
    }
   ],
   "source": [
    "print_task_result(\"Functions8\", df)"
   ]
  },
  {
   "cell_type": "markdown",
   "metadata": {},
   "source": [
    "### Functions 9\n",
    "What does this code snippet print?\n",
    "\n",
    "```python\n",
    "def f(n, ls):\n",
    "    for e in ls:\n",
    "        ls[n] = ls[n] + e\n",
    "    return ls[n]\n",
    "\n",
    "print(f(1, [10, 20, 30]))\n",
    "```"
   ]
  },
  {
   "cell_type": "code",
   "execution_count": 512,
   "metadata": {},
   "outputs": [
    {
     "name": "stdout",
     "output_type": "stream",
     "text": [
      "Number of correct responses:\n",
      "Functions9_points\n",
      "0    794\n",
      "1     62\n",
      "Name: count, dtype: int64\n",
      "\n",
      "Top 5 most common answers:\n",
      "Functions9\n",
      "I don't know    564\n",
      "80.0             90\n",
      "90.0             62\n",
      "21.0             13\n",
      "23.0             13\n",
      "Name: count, dtype: int64\n"
     ]
    }
   ],
   "source": [
    "print_task_result(\"Functions9\", df)"
   ]
  },
  {
   "cell_type": "markdown",
   "metadata": {},
   "source": [
    "# Programming Concept Dependence\n",
    "Many of the tasks utilize concepts tested in earlier tasks. To better understand how well "
   ]
  },
  {
   "cell_type": "code",
   "execution_count": 513,
   "metadata": {},
   "outputs": [],
   "source": [
    "import networkx as nx\n",
    "import matplotlib.pyplot as plt"
   ]
  },
  {
   "cell_type": "code",
   "execution_count": 514,
   "metadata": {},
   "outputs": [],
   "source": [
    "# Define the tasks and the which other task they depend on\n",
    "tasks = {        \n",
    "    'Conditionals1': {'2 > 7'},\n",
    "    'Conditionals2': {'100 != 100'},\n",
    "    'Conditionals3': {'(10*2) < 9', '100 == 100'},\n",
    "    'Conditionals4': {'(1 + 3) < (2*3)', '100 == 100'},\n",
    "    \n",
    "    'Loops1': {'Operators4', 'n < 10'},\n",
    "    'Loops2': {'Operators4', 'n < 10'},\n",
    "    'Loops3': {'Operators4', 'n < 10'},\n",
    "    'Loops4': {'Operators4', '(n < 7) and (4 > n)'},\n",
    "    'Loops5': {},\n",
    "    'Loops6': {'Conditionals1', 'Loops5'},\n",
    "    'Loops7': {'Operators5', 'Loops5'},\n",
    "\n",
    "    'Lists1': {},\n",
    "    'Lists2': {'Lists1'},\n",
    "    'Lists3a': {'Lists2'},\n",
    "    'Lists3b': {'Lists2'},\n",
    "    \n",
    "    'Functions1': {'Operators1'},\n",
    "    'Functions2': {'Conditionals1', '100 == 100'},\n",
    "    'Functions3': {'Conditionals4'},\n",
    "    'Functions4': {'Operators4', '(10*2) < 9', 'Conditionals1'},\n",
    "    'Functions5': {'Loops1'},\n",
    "    'Functions6': {'Loops7'},\n",
    "    'Functions7': {'Lists1'},\n",
    "    'Functions8': {'Lists2'},\n",
    "    'Functions9': {'Lists3a', 'Lists3b', 'Loops5'},\n",
    "}"
   ]
  },
  {
   "cell_type": "code",
   "execution_count": 515,
   "metadata": {},
   "outputs": [],
   "source": [
    "# Graph\n",
    "# Initialize a directed graph (DAG)\n",
    "G = nx.DiGraph()\n",
    "\n",
    "# Add all tasks as nodes\n",
    "G.add_nodes_from(tasks.keys())"
   ]
  },
  {
   "cell_type": "code",
   "execution_count": 516,
   "metadata": {},
   "outputs": [],
   "source": [
    "# Add nodes and edges to the graph based on dependencies\n",
    "for task, dependencies in tasks.items():\n",
    "    for dependency in dependencies:\n",
    "        # Add an edge from each dependency to the task\n",
    "        G.add_edge(dependency, task)"
   ]
  },
  {
   "cell_type": "code",
   "execution_count": 517,
   "metadata": {},
   "outputs": [
    {
     "data": {
      "image/png": "[encoded data removed]",
      "text/plain": [
       "<Figure size 1200x1000 with 1 Axes>"
      ]
     },
     "metadata": {},
     "output_type": "display_data"
    }
   ],
   "source": [
    "# Draw the graph\n",
    "plt.figure(figsize=(12, 10))\n",
    "pos = nx.spring_layout(G)  # Positions for all nodes\n",
    "nx.draw(G, pos, with_labels=True, node_color='lightgreen', node_size=2000, font_size=10, font_weight='bold', arrows=True)\n",
    "plt.title('Task Dependency Graph', fontsize=16)\n",
    "plt.show()"
   ]
  },
  {
   "cell_type": "code",
   "execution_count": 518,
   "metadata": {},
   "outputs": [],
   "source": [
    "def print_dependences(task):\n",
    "    try:\n",
    "        dependes = dependencies(task)\n",
    "    except:\n",
    "        dependes = []\n",
    "    print(f'The task {task} has the following dependencies: {dependes}')\n",
    "    n_correct = len(df[(df[task+'_points'] != 0)])\n",
    "    print(f'Total number of students that managed task \"{task}\": {n_correct} / {len(df)}')\n",
    "\n",
    "    if len(dependes) > 0: \n",
    "        print(f'How many students managed the dependent tasks?')\n",
    "        for depend_task in dependes:\n",
    "            n_correct = len(df[(df[depend_task+'_points'] != 0)])\n",
    "            print(f'Total number of students that managed task \"{depend_task}\": {n_correct} / {len(df)}')\n",
    "            task_df = df[(df[depend_task+'_points'] != 0)]\n",
    "\n",
    "        print()\n",
    "        n_correct = len(task_df[(task_df[task+'_points'] != 0)])\n",
    "        n_total = len(task_df)\n",
    "        print(f'Of all the students that managed all dependent tasks {n_correct} out of {n_total} managed \"{task}\"')\n",
    "        print(f'This indicates that {n_total - n_correct} struggle with the non dependent concept in \"{task}\"')\n",
    "\n",
    "def print_simple_dependeces(task):\n",
    "    try:\n",
    "        dependes = dependencies(task)\n",
    "        if len(dependes) == 0:\n",
    "            print('No dependence')\n",
    "            return\n",
    "    except:\n",
    "        print('No dependence')\n",
    "        return\n",
    "        \n",
    "    print(f'#### {task} ###')\n",
    "    total_correct = len(df[(df[task+'_points'] != 0)])\n",
    "    total_correct_percentage = round((total_correct / len(df)) * 100, 1)\n",
    "    task_df = df\n",
    "    for depend_task in dependes:\n",
    "        task_df = task_df[(task_df[depend_task+'_points'] != 0)]\n",
    "    dependent_correct = len(task_df)\n",
    "    dependent_correct_percentage = round((dependent_correct / len(df)) * 100, 1)\n",
    "    print('{:40s} {:50s} {:5d} {:5s}'.format('Correctly answered', task, total_correct, '('+str(total_correct_percentage)+'%)'))\n",
    "    print('{:40s} {:50s} {:5d} {:5s}'.format('Correctly answered dependent tasks', str(dependes), dependent_correct, '('+str(dependent_correct_percentage)+'%)'))\n",
    "    task_df = task_df[(task_df[task+'_points'] == 0)]\n",
    "    task_percentage = round((len(task_df) / dependent_correct) * 100, 1)\n",
    "    print('{:40s} {:50s} {:5d} {:5s}'.format('Managed dependent tasks, but failed', task, len(task_df), '('+str(task_percentage)+'%)'))\n",
    "    \n",
    "\n",
    "def dependencies(task):\n",
    "    dependency_list = []\n",
    "    for dependency in tasks[task]:\n",
    "        try:\n",
    "            dependency_list =+ dependencies(dependency)\n",
    "        except:\n",
    "            dependency_list.append(dependency)\n",
    "    return dependency_list"
   ]
  },
  {
   "cell_type": "code",
   "execution_count": 519,
   "metadata": {},
   "outputs": [
    {
     "name": "stdout",
     "output_type": "stream",
     "text": [
      "#### Conditionals1 ###\n",
      "Correctly answered                       Conditionals1                                        689 (80.5%)\n",
      "Correctly answered dependent tasks       ['2 > 7']                                            808 (94.4%)\n",
      "Managed dependent tasks, but failed      Conditionals1                                        138 (17.1%)\n",
      "\n",
      "\n",
      "#### Conditionals2 ###\n",
      "Correctly answered                       Conditionals2                                        530 (61.9%)\n",
      "Correctly answered dependent tasks       ['100 != 100']                                       552 (64.5%)\n",
      "Managed dependent tasks, but failed      Conditionals2                                         81 (14.7%)\n",
      "\n",
      "\n",
      "#### Conditionals3 ###\n",
      "Correctly answered                       Conditionals3                                        607 (70.9%)\n",
      "Correctly answered dependent tasks       ['100 == 100', '(10*2) < 9']                         729 (85.2%)\n",
      "Managed dependent tasks, but failed      Conditionals3                                        157 (21.5%)\n",
      "\n",
      "\n",
      "#### Conditionals4 ###\n",
      "Correctly answered                       Conditionals4                                        585 (68.3%)\n",
      "Correctly answered dependent tasks       ['(1 + 3) < (2*3)', '100 == 100']                    730 (85.3%)\n",
      "Managed dependent tasks, but failed      Conditionals4                                        176 (24.1%)\n",
      "\n",
      "\n",
      "#### Loops1 ###\n",
      "Correctly answered                       Loops1                                               408 (47.7%)\n",
      "Correctly answered dependent tasks       ['n < 10', 'Operators4']                             614 (71.7%)\n",
      "Managed dependent tasks, but failed      Loops1                                               245 (39.9%)\n",
      "\n",
      "\n",
      "#### Loops2 ###\n",
      "Correctly answered                       Loops2                                               381 (44.5%)\n",
      "Correctly answered dependent tasks       ['n < 10', 'Operators4']                             614 (71.7%)\n",
      "Managed dependent tasks, but failed      Loops2                                               265 (43.2%)\n",
      "\n",
      "\n",
      "#### Loops3 ###\n",
      "Correctly answered                       Loops3                                               550 (64.3%)\n",
      "Correctly answered dependent tasks       ['n < 10', 'Operators4']                             614 (71.7%)\n",
      "Managed dependent tasks, but failed      Loops3                                               136 (22.1%)\n",
      "\n",
      "\n",
      "#### Loops4 ###\n",
      "Correctly answered                       Loops4                                               349 (40.8%)\n",
      "Correctly answered dependent tasks       ['Operators4', '(n < 7) and (4 > n)']                591 (69.0%)\n",
      "Managed dependent tasks, but failed      Loops4                                               271 (45.9%)\n",
      "\n",
      "\n",
      "No dependence\n",
      "\n",
      "\n",
      "#### Loops6 ###\n",
      "Correctly answered                       Loops6                                               276 (32.2%)\n",
      "Correctly answered dependent tasks       ['Conditionals1', 'Loops5']                          309 (36.1%)\n",
      "Managed dependent tasks, but failed      Loops6                                                51 (16.5%)\n",
      "\n",
      "\n",
      "#### Loops7 ###\n",
      "Correctly answered                       Loops7                                               233 (27.2%)\n",
      "Correctly answered dependent tasks       ['Operators5', 'Loops5']                             222 (25.9%)\n",
      "Managed dependent tasks, but failed      Loops7                                                28 (12.6%)\n",
      "\n",
      "\n",
      "No dependence\n",
      "\n",
      "\n",
      "#### Lists2 ###\n",
      "Correctly answered                       Lists2                                               333 (38.9%)\n",
      "Correctly answered dependent tasks       ['Lists1']                                           333 (38.9%)\n",
      "Managed dependent tasks, but failed      Lists2                                                 8 (2.4%)\n",
      "\n",
      "\n",
      "#### Lists3a ###\n",
      "Correctly answered                       Lists3a                                              555 (64.8%)\n",
      "Correctly answered dependent tasks       ['Lists2']                                           333 (38.9%)\n",
      "Managed dependent tasks, but failed      Lists3a                                               12 (3.6%)\n",
      "\n",
      "\n",
      "#### Lists3b ###\n",
      "Correctly answered                       Lists3b                                              303 (35.4%)\n",
      "Correctly answered dependent tasks       ['Lists2']                                           333 (38.9%)\n",
      "Managed dependent tasks, but failed      Lists3b                                               38 (11.4%)\n",
      "\n",
      "\n",
      "#### Functions1 ###\n",
      "Correctly answered                       Functions1                                           524 (61.2%)\n",
      "Correctly answered dependent tasks       ['Operators1']                                       768 (89.7%)\n",
      "Managed dependent tasks, but failed      Functions1                                           275 (35.8%)\n",
      "\n",
      "\n",
      "#### Functions2 ###\n",
      "Correctly answered                       Functions2                                           342 (40.0%)\n",
      "Correctly answered dependent tasks       ['Conditionals1', '100 == 100']                      646 (75.5%)\n",
      "Managed dependent tasks, but failed      Functions2                                           323 (50.0%)\n",
      "\n",
      "\n",
      "#### Functions3 ###\n",
      "Correctly answered                       Functions3                                           187 (21.8%)\n",
      "Correctly answered dependent tasks       ['Conditionals4']                                    585 (68.3%)\n",
      "Managed dependent tasks, but failed      Functions3                                           445 (76.1%)\n",
      "\n",
      "\n",
      "#### Functions4 ###\n",
      "Correctly answered                       Functions4                                           255 (29.8%)\n",
      "Correctly answered dependent tasks       ['Operators4', 'Conditionals1', '(10*2) < 9']        562 (65.7%)\n",
      "Managed dependent tasks, but failed      Functions4                                           319 (56.8%)\n",
      "\n",
      "\n",
      "#### Functions5 ###\n",
      "Correctly answered                       Functions5                                           296 (34.6%)\n",
      "Correctly answered dependent tasks       ['Loops1']                                           408 (47.7%)\n",
      "Managed dependent tasks, but failed      Functions5                                           130 (31.9%)\n",
      "\n",
      "\n",
      "#### Functions6 ###\n",
      "Correctly answered                       Functions6                                           214 (25.0%)\n",
      "Correctly answered dependent tasks       ['Loops7']                                           233 (27.2%)\n",
      "Managed dependent tasks, but failed      Functions6                                            37 (15.9%)\n",
      "\n",
      "\n",
      "#### Functions7 ###\n",
      "Correctly answered                       Functions7                                           252 (29.4%)\n",
      "Correctly answered dependent tasks       ['Lists1']                                           333 (38.9%)\n",
      "Managed dependent tasks, but failed      Functions7                                            91 (27.3%)\n",
      "\n",
      "\n",
      "#### Functions8 ###\n",
      "Correctly answered                       Functions8                                           266 (31.1%)\n",
      "Correctly answered dependent tasks       ['Lists2']                                           333 (38.9%)\n",
      "Managed dependent tasks, but failed      Functions8                                            75 (22.5%)\n",
      "\n",
      "\n",
      "#### Functions9 ###\n",
      "Correctly answered                       Functions9                                            62 (7.2%)\n",
      "Correctly answered dependent tasks       ['Lists3b', 'Loops5', 'Lists3a']                     237 (27.7%)\n",
      "Managed dependent tasks, but failed      Functions9                                           179 (75.5%)\n",
      "\n",
      "\n"
     ]
    }
   ],
   "source": [
    "for task in tasks:\n",
    "    print_simple_dependeces(task)\n",
    "    print()\n",
    "    print()"
   ]
  },
  {
   "cell_type": "code",
   "execution_count": null,
   "metadata": {},
   "outputs": [],
   "source": []
  }
 ],
 "metadata": {
  "kernelspec": {
   "display_name": "Python 3 (ipykernel)",
   "language": "python",
   "name": "python3"
  },
  "language_info": {
   "codemirror_mode": {
    "name": "ipython",
    "version": 3
   },
   "file_extension": ".py",
   "mimetype": "text/x-python",
   "name": "python",
   "nbconvert_exporter": "python",
   "pygments_lexer": "ipython3",
   "version": "3.8.1"
  }
 },
 "nbformat": 4,
 "nbformat_minor": 4
}
