{
 "cells": [
  {
   "cell_type": "markdown",
   "metadata": {},
   "source": [
    "# The Nordic Prior Knowledge Test in Programming\n",
    "**Author**: [Sondre Sæther Bolland](https://www.uib.no/personer/Sondre.S%C3%A6ther.Bolland)\n",
    "\n",
    "**Institution**: Department of Informatics, University of Bergen\n",
    "\n",
    "**Email**: sondre.bolland@uib.no"
   ]
  },
  {
   "cell_type": "markdown",
   "metadata": {},
   "source": [
    "## Introduction\n",
    "The Nordic Prior Knowledge Test in Programming is a tool for assessing students’ programming skill. The test covers the fundamental elements of introductory programming taught at different universities and university colleges in Norway and Sweden. By testing the students in the concepts found in CS1 we aim for instructors to be better able to develop and adapt their courses to this new found prior knowledge.\n",
    "\n",
    "This Notebook is a dynamic report of the results from 2024, designed to effectivly convey the findings of the test at the start of the semester. The (static) written report will be published sometime fall 2024 here: https://programmeringstesten.no/ "
   ]
  },
  {
   "cell_type": "markdown",
   "metadata": {},
   "source": [
    "### Imports"
   ]
  },
  {
   "cell_type": "code",
   "execution_count": 242,
   "metadata": {},
   "outputs": [],
   "source": [
    "import numpy as np\n",
    "import pandas as pd\n",
    "import matplotlib.pyplot as plt\n",
    "from matplotlib.ticker import PercentFormatter\n",
    "from scipy import stats"
   ]
  },
  {
   "cell_type": "markdown",
   "metadata": {},
   "source": [
    "### Data\n",
    "Before using this notebook two python scripts need to be run. A requirement to run these scripts is to have the csv file with the original dataset: `total.csv`. This must be placed in the `data` folder in the main directory (where this Notebook is located).\n",
    "\n",
    "`clean_data.py` cleans certain columns for ambigious data and renames columns for analysis.\n",
    "\n",
    "`grade_submissions.py` grades each question based on the rubric (`rubric.json`)."
   ]
  },
  {
   "cell_type": "code",
   "execution_count": 2,
   "metadata": {},
   "outputs": [
    {
     "name": "stdout",
     "output_type": "stream",
     "text": [
      "Replace escape characters: dict_items([('&lt;', '<'), ('&gt;', '>'), ('&#61;', '='), ('&#34;', '\"'), ('&#43;', '+')])\n",
      "Replace all institution full names with their shorthand.\n",
      "Replace all ambigious genders with standardized labels: ['m', 'f'] (other gender identities are not included)\n",
      "2243 submissions.\n",
      "Rename columns with simpler titles. Easier to use in analysis.\n",
      "Removed all genders that are not in: ['m', 'f']. The other gender identities do not have a large enough sample size for valid statistical analysis.\n",
      "Max score: 51.79999999999998\n",
      "Submissions to be graded: 2243\n",
      "Submissions graded.\n"
     ]
    }
   ],
   "source": [
    "!python clean_data.py\n",
    "!python grade_submissions.py"
   ]
  },
  {
   "cell_type": "markdown",
   "metadata": {},
   "source": [
    "### Dataset"
   ]
  },
  {
   "cell_type": "code",
   "execution_count": 410,
   "metadata": {},
   "outputs": [],
   "source": [
    "# Specify the path of the data file\n",
    "path = \"data/\"\n",
    "filename = path + \"results.csv\"\n",
    "df = pd.read_csv(filename, on_bad_lines=\"skip\", delimiter=\";\", encoding=\"utf8\")\n",
    "\n",
    "# Remove all students who have taken a university level course\n",
    "df = df[(df['UniversityExperience'] == 'Nei')]"
   ]
  },
  {
   "cell_type": "markdown",
   "metadata": {},
   "source": [
    "### Filter the dataframe\n",
    "Do you want to look at a specific subset of students?\n",
    "Use the next cell to filter the students based on your criteria.\n",
    "\n",
    "To reset the dataframe, simply run the cell above."
   ]
  },
  {
   "cell_type": "code",
   "execution_count": 411,
   "metadata": {},
   "outputs": [],
   "source": [
    "# Filter by institution\n",
    "specific_institutions = ['UiS'] # 'UiB', 'NTNU', 'UiS', 'HvL', 'UiO', 'Kristiania', 'NMBU', 'OsloMet'\n",
    "#df = df[(df['Institution'].isin(specific_institutions))]"
   ]
  },
  {
   "cell_type": "code",
   "execution_count": 412,
   "metadata": {},
   "outputs": [],
   "source": [
    "# Filter out all non INF100 related study programs\n",
    "inf100_studyprograms = ['Nanoteknologi, Bachelor', 'Datateknologi, Bachelor', 'Datasikkerhet, Bachelor', 'Bioinformatikk, Bachelor', 'Informatikk, Matematikk og Økonomi, Bachelor', 'Fysikk, Bachelor', 'Data science, Siv.ing.', 'Kognitiv vitenskap, Bachelor', 'Energi, Siv.ing.', 'Geofysikk, Bachelor', 'Anvendt matematikk, Bachelor', 'Geovitenskap, Bachelor', 'Kjemi, Bachelor', 'Matematikk, Bachelor', 'Statistikk og data science, Bachelor', 'Vær hav og klimafysikk, Bachelor', 'Havteknologi, Siv.ing.', 'Integrert masterprogram i aktuarfag og analyse', 'Informatikk, Årsstudium', 'Biologi, Bachelor', 'Geofag og informatikk, Bachelor', 'Molykelærbiologi, Bachelor', 'Havbruk, Siv.ing.', 'Medisinsk teknologi, Siv.ing.']\n",
    "#df = df[(df['Studyprogram'].isin(inf100_studyprograms))]"
   ]
  },
  {
   "cell_type": "code",
   "execution_count": 413,
   "metadata": {},
   "outputs": [],
   "source": [
    "# Filter out all non informatics students at UiB\n",
    "informatics_studyprograms = ['Datateknologi, Bachelor', 'Datasikkerhet, Bachelor', 'Bioinformatikk, Bachelor', 'Informatikk, Matematikk og Økonomi, Bachelor', 'Data science, Siv.ing.', 'Informatikk, Årsstudium']\n",
    "#df = df[(df['Studyprogram'].isin(informatics_studyprograms))]"
   ]
  },
  {
   "cell_type": "code",
   "execution_count": 414,
   "metadata": {},
   "outputs": [],
   "source": [
    "# Filter by Graduate Year\n",
    "specific_graduateyears = ['2023', '2024']\n",
    "#df = df[(df['GraduateYear'].isin(specific_graduateyears))]"
   ]
  },
  {
   "cell_type": "code",
   "execution_count": 415,
   "metadata": {},
   "outputs": [],
   "source": [
    "# Filter by Gender\n",
    "specific_genders = ['f', 'm', ' '] # 'f', 'm', ' '\n",
    "#df = df[(df['Gender'].isin(specific_genders))]"
   ]
  },
  {
   "cell_type": "markdown",
   "metadata": {},
   "source": [
    "## Demographics\n",
    "See the background of the students. Note that there are a large number of submissions that are blank for some of the following items. This is due to the students submitting ambigious answers, which have not been labled correctly by `clean_data.py`."
   ]
  },
  {
   "cell_type": "code",
   "execution_count": 416,
   "metadata": {},
   "outputs": [
    {
     "name": "stdout",
     "output_type": "stream",
     "text": [
      "The dataset has 1971 student submissions.\n"
     ]
    }
   ],
   "source": [
    "# Total number of students\n",
    "print(f\"The dataset has {len(df['Total'])} student submissions.\")"
   ]
  },
  {
   "cell_type": "markdown",
   "metadata": {},
   "source": [
    "\n",
    "### Institutions"
   ]
  },
  {
   "cell_type": "code",
   "execution_count": 417,
   "metadata": {},
   "outputs": [
    {
     "name": "stdout",
     "output_type": "stream",
     "text": [
      "Institution\n",
      "NTNU    917\n",
      "UiS     333\n",
      "UiB     332\n",
      "UiO     214\n",
      "HiOf     95\n",
      "HVL      75\n",
      "NMBU      2\n",
      "Name: count, dtype: int64\n"
     ]
    },
    {
     "data": {
      "text/plain": [
       "<Axes: ylabel='count'>"
      ]
     },
     "execution_count": 417,
     "metadata": {},
     "output_type": "execute_result"
    },
    {
     "data": {
      "image/png": "[encoded data removed]",
      "text/plain": [
       "<Figure size 640x480 with 1 Axes>"
      ]
     },
     "metadata": {},
     "output_type": "display_data"
    }
   ],
   "source": [
    "institutions = df.Institution.unique()\n",
    "\n",
    "institution_column = \"Institution\"\n",
    "print(df[institution_column].value_counts())\n",
    "df[institution_column].value_counts().plot.pie()"
   ]
  },
  {
   "cell_type": "markdown",
   "metadata": {},
   "source": [
    "### Study Program"
   ]
  },
  {
   "cell_type": "code",
   "execution_count": 418,
   "metadata": {},
   "outputs": [
    {
     "name": "stdout",
     "output_type": "stream",
     "text": [
      "Studyprogram\n",
      "Informatikk, bachelor                    38\n",
      "Informasjonssystemer, bachelor           25\n",
      "Ingeniørfag - data, bachelor             10\n",
      "Årsstudiet i informasjonsteknologi        8\n",
      "Ingeniørfag - data, Tress, bachelor       7\n",
      "Ingeniørfag - data, Y-veien, bachelor     6\n",
      "Name: count, dtype: int64\n"
     ]
    },
    {
     "data": {
      "text/plain": [
       "<Axes: ylabel='count'>"
      ]
     },
     "execution_count": 418,
     "metadata": {},
     "output_type": "execute_result"
    },
    {
     "data": {
      "image/png": "[encoded data removed]",
      "text/plain": [
       "<Figure size 640x480 with 1 Axes>"
      ]
     },
     "metadata": {},
     "output_type": "display_data"
    }
   ],
   "source": [
    "studyprogram = df.Studyprogram.unique()\n",
    "\n",
    "studyprogram_column = \"Studyprogram\"\n",
    "print(df[studyprogram_column].value_counts())\n",
    "df[studyprogram_column].value_counts().plot.pie()"
   ]
  },
  {
   "cell_type": "markdown",
   "metadata": {},
   "source": [
    "### Graduate Year"
   ]
  },
  {
   "cell_type": "code",
   "execution_count": 419,
   "metadata": {},
   "outputs": [
    {
     "name": "stdout",
     "output_type": "stream",
     "text": [
      "GraduateYear\n",
      "2024     483\n",
      "2023     419\n",
      "2022     387\n",
      "2021     142\n",
      "2019      89\n",
      "2020      85\n",
      "2018      39\n",
      "2017      33\n",
      "2015      24\n",
      "2014      23\n",
      "2016      15\n",
      "2012      11\n",
      "2005      11\n",
      "Annet     10\n",
      "2010       6\n",
      "2011       5\n",
      "2007       4\n",
      "2008       3\n",
      "2009       3\n",
      "2006       3\n",
      "Name: count, dtype: int64\n"
     ]
    },
    {
     "data": {
      "text/plain": [
       "<Axes: ylabel='count'>"
      ]
     },
     "execution_count": 419,
     "metadata": {},
     "output_type": "execute_result"
    },
    {
     "data": {
      "image/png": "[encoded data removed]",
      "text/plain": [
       "<Figure size 640x480 with 1 Axes>"
      ]
     },
     "metadata": {},
     "output_type": "display_data"
    }
   ],
   "source": [
    "years = df.GraduateYear.unique()\n",
    "\n",
    "graduateyear_column = \"GraduateYear\"\n",
    "print(df[graduateyear_column].value_counts())\n",
    "df[graduateyear_column].value_counts().plot.pie()"
   ]
  },
  {
   "cell_type": "markdown",
   "metadata": {},
   "source": [
    "### Gender"
   ]
  },
  {
   "cell_type": "code",
   "execution_count": 420,
   "metadata": {},
   "outputs": [
    {
     "name": "stdout",
     "output_type": "stream",
     "text": [
      "Gender\n",
      "m    1171\n",
      "f     661\n",
      "      139\n",
      "Name: count, dtype: int64\n",
      "Gender\n",
      "m    0.594115\n",
      "f    0.335363\n",
      "     0.070523\n",
      "Name: proportion, dtype: float64\n"
     ]
    },
    {
     "data": {
      "text/plain": [
       "<Axes: ylabel='count'>"
      ]
     },
     "execution_count": 420,
     "metadata": {},
     "output_type": "execute_result"
    },
    {
     "data": {
      "image/png": "[encoded data removed]",
      "text/plain": [
       "<Figure size 640x480 with 1 Axes>"
      ]
     },
     "metadata": {},
     "output_type": "display_data"
    }
   ],
   "source": [
    "genders = df.Gender.unique()\n",
    "gender_column = \"Gender\"\n",
    "\n",
    "print(df[gender_column].value_counts())\n",
    "print(df[gender_column].value_counts(normalize=True))\n",
    "df[gender_column].value_counts().plot.pie()"
   ]
  },
  {
   "cell_type": "markdown",
   "metadata": {},
   "source": [
    "## Educational Background\n",
    "What experiences with programming do these students have? \n",
    "\n",
    "### Elective Programming Courses\n",
    "During the secondary school phase, students have the option to take three elective courses in programming: *Information Technology 1* (IT1), *Information Technology 2* (IT2), and *Programming and Modelling X* (PMX). "
   ]
  },
  {
   "cell_type": "code",
   "execution_count": 421,
   "metadata": {},
   "outputs": [],
   "source": [
    "# Make new column for NO elective programming course\n",
    "courses = ['Informasjonsteknologi 1 (IT1)', 'Informasjonsteknologi 2 (IT2)', 'Programmering og modellering X']\n",
    "df_temp = df[(~df['IT1'].isin(courses))]\n",
    "df_temp = df_temp[(~df_temp['IT2'].isin(courses))]\n",
    "df_temp = df_temp[(~df_temp['PMX'].isin(courses))]\n",
    "df_temp['NoElective'] = ~df_temp['IT1'].isin(courses)\n",
    "\n",
    "df['NoElective'] = df_temp['NoElective']"
   ]
  },
  {
   "cell_type": "code",
   "execution_count": 422,
   "metadata": {},
   "outputs": [
    {
     "data": {
      "image/png": "[encoded data removed]",
      "text/plain": [
       "<Figure size 640x480 with 1 Axes>"
      ]
     },
     "metadata": {},
     "output_type": "display_data"
    }
   ],
   "source": [
    "fig, ax = plt.subplots()\n",
    "\n",
    "courses = ['IT1', 'IT2', 'PMX', 'No Electives']\n",
    "n_it1 = df['IT1'].value_counts()['Informasjonsteknologi 1 (IT1)']\n",
    "n_it2 = df['IT2'].value_counts()['Informasjonsteknologi 2 (IT2)']\n",
    "n_pmx = df['PMX'].value_counts()['Programmering og modellering X']\n",
    "n_noelectives = df['NoElective'].value_counts()[True]\n",
    "counts = [n_it1, n_it2, n_pmx, n_noelectives]\n",
    "\n",
    "ax.bar(courses, counts)\n",
    "ax.set_ylabel('Students')\n",
    "ax.set_title('Courses')\n",
    "\n",
    "plt.show()"
   ]
  },
  {
   "cell_type": "markdown",
   "metadata": {},
   "source": [
    "### Math Courses\n",
    "The most common math courses available in secondary school are:\n",
    " * Practical Math 1 (1P)\n",
    " * Practical Math 2 (2P)\n",
    " * Theoretical Math 1 (1T)\n",
    " * Social Science Math 1 (S1)\n",
    " * Social Science Math 2 (S2)\n",
    " * Natural Science Math 1 (R1)\n",
    " * Natural Science Math 2 (R2)\n",
    "\n",
    "The majority of students who took the test belonged to STEM fields, where the typical admission requirement includes S1 and S2 or R1 mathematics. Certain math-intensive study programs may also demand R2 mathematics. Notably, most students had completed the Natural Science Math courses (see plot below), which is the most advanced option."
   ]
  },
  {
   "cell_type": "code",
   "execution_count": 423,
   "metadata": {},
   "outputs": [
    {
     "name": "stdout",
     "output_type": "stream",
     "text": [
      "[287, 230, 1109, 200, 199, 1201, 1271]\n"
     ]
    },
    {
     "data": {
      "image/png": "[encoded data removed]",
      "text/plain": [
       "<Figure size 640x480 with 1 Axes>"
      ]
     },
     "metadata": {},
     "output_type": "display_data"
    }
   ],
   "source": [
    "fig, ax = plt.subplots()\n",
    "\n",
    "courses = ['1P', '2P', '1T', 'S1', 'S2', 'R1', 'R2']\n",
    "gotten_courses = []\n",
    "counts = []\n",
    "for course in courses:\n",
    "    try:\n",
    "        count = df[course].value_counts()[course]\n",
    "        counts.append(count)\n",
    "        gotten_courses.append(course)\n",
    "    except:\n",
    "        continue\n",
    "\n",
    "print(counts)\n",
    "ax.bar(gotten_courses, counts)\n",
    "ax.set_ylabel('Students')\n",
    "ax.set_title('Courses')\n",
    "\n",
    "plt.show()"
   ]
  },
  {
   "cell_type": "markdown",
   "metadata": {},
   "source": [
    "### Experience outside of school\n",
    "A source of programming knowledge is self-directed learning outside of formal education, where individuals independently explore the field, using resources like books and online materials. The following plot shows the distribution of students who report having at least 30 hours of outside experience with either block based or text based programming."
   ]
  },
  {
   "cell_type": "code",
   "execution_count": 424,
   "metadata": {},
   "outputs": [
    {
     "name": "stdout",
     "output_type": "stream",
     "text": [
      "OutsideExperience\n",
      "Nei    1527\n",
      "Ja      437\n",
      "Name: count, dtype: int64\n",
      "OutsideExperience\n",
      "Nei    0.777495\n",
      "Ja     0.222505\n",
      "Name: proportion, dtype: float64\n"
     ]
    },
    {
     "data": {
      "text/plain": [
       "<Axes: ylabel='count'>"
      ]
     },
     "execution_count": 424,
     "metadata": {},
     "output_type": "execute_result"
    },
    {
     "data": {
      "image/png": "[encoded data removed]",
      "text/plain": [
       "<Figure size 640x480 with 1 Axes>"
      ]
     },
     "metadata": {},
     "output_type": "display_data"
    }
   ],
   "source": [
    "outside_column = \"OutsideExperience\"\n",
    "\n",
    "print(df[outside_column].value_counts())\n",
    "print(df[outside_column].value_counts(normalize=True))\n",
    "df[outside_column].value_counts().plot.pie()"
   ]
  },
  {
   "cell_type": "markdown",
   "metadata": {},
   "source": [
    "# Results\n",
    "In this section of the report, the main results are presented before a review of the background the students have on the various study paths and what connection there is between background and results. Later we take a close look at how well they performed in specific programming tasks to understand their grasp of the different concepts."
   ]
  },
  {
   "cell_type": "code",
   "execution_count": 425,
   "metadata": {},
   "outputs": [],
   "source": [
    "# Configurations\n",
    "bins = 52\n",
    "edgecolor = 'red'\n",
    "alpha = 0.5"
   ]
  },
  {
   "cell_type": "markdown",
   "metadata": {},
   "source": [
    "## Main Result\n",
    "A histogram of the total score of the students. Maximum score: 51.8."
   ]
  },
  {
   "cell_type": "code",
   "execution_count": 426,
   "metadata": {},
   "outputs": [
    {
     "name": "stdout",
     "output_type": "stream",
     "text": [
      "Mean: 23.074\n",
      "Standard deviation: 16.457\n"
     ]
    },
    {
     "data": {
      "image/png": "[encoded data removed]",
      "text/plain": [
       "<Figure size 640x480 with 1 Axes>"
      ]
     },
     "metadata": {},
     "output_type": "display_data"
    }
   ],
   "source": [
    "x = df['Total']\n",
    "\n",
    "mean = df.loc[:, 'Total'].mean()\n",
    "sd = df.loc[:, 'Total'].std()\n",
    "print(f'Mean: {round(mean, 3)}')\n",
    "print(f'Standard deviation: {round(sd, 3)}')\n",
    "\n",
    "plt.hist(x, edgecolor=edgecolor, bins=bins, range=[0, 52])\n",
    "plt.margins(x=0.0001)\n",
    "fig = plt.gcf()\n",
    "plt.show()\n",
    "fig.savefig('plots/allHist.png')"
   ]
  },
  {
   "cell_type": "markdown",
   "metadata": {},
   "source": [
    "### Did the students find the test hard?\n",
    "We asked the students to rate the test's difficulty on a Likert scale from 1 (very easy) to 7 (very hard)"
   ]
  },
  {
   "cell_type": "code",
   "execution_count": 427,
   "metadata": {},
   "outputs": [
    {
     "data": {
      "text/plain": [
       "<Axes: xlabel='difficulty'>"
      ]
     },
     "execution_count": 427,
     "metadata": {},
     "output_type": "execute_result"
    },
    {
     "data": {
      "image/png": "[encoded data removed]",
      "text/plain": [
       "<Figure size 640x480 with 1 Axes>"
      ]
     },
     "metadata": {},
     "output_type": "display_data"
    }
   ],
   "source": [
    "df['difficulty'].value_counts().loc[['Veldig lett', 'Lett', 'Litt lett', 'Nøytral', 'Litt vanskelig', 'Vanskelig', 'Veldig vanskelig']].plot.bar()"
   ]
  },
  {
   "cell_type": "code",
   "execution_count": 428,
   "metadata": {},
   "outputs": [],
   "source": [
    "def compare_distributions(x, y, x_label, y_label):\n",
    "    n = len(x)\n",
    "    mean = x.mean()\n",
    "    sd = x.std()\n",
    "    print(f'N students in {x_label}: {n}')\n",
    "    print(f'Mean of {x_label}: {round(mean, 3)}')\n",
    "    print(f'Standard deviation of {x_label}: {round(sd, 3)}')\n",
    "    print()\n",
    "\n",
    "    n = len(y)\n",
    "    mean = y.mean()\n",
    "    sd = y.std()\n",
    "    print(f'N students in {y_label}: {n}')\n",
    "    print(f'Mean of {y_label}: {round(mean, 3)}')\n",
    "    print(f'Standard deviation of {y_label}: {round(sd, 3)}')\n",
    "    \n",
    "    plt.hist(x, bins=bins, alpha=alpha, edgecolor=edgecolor, label=x_label, weights=np.ones(len(x)) / len(x), range=[0, 52])\n",
    "    plt.hist(y, bins=bins, alpha=alpha, edgecolor=edgecolor, label=y_label, weights=np.ones(len(y)) / len(y), range=[0, 52])\n",
    "    #plt.hist(x, bins=bins, alpha=alpha, edgecolor=edgecolor, label=x_label, range=[0, 52])\n",
    "    #plt.hist(y, bins=bins, alpha=alpha, edgecolor=edgecolor, label=y_label, range=[0, 52])\n",
    "    plt.gca().yaxis.set_major_formatter(PercentFormatter(1))\n",
    "    plt.margins(x=0.0001)\n",
    "    plt.legend(loc='upper right')\n",
    "    fig = plt.gcf()\n",
    "    plt.show()\n",
    "    fig.savefig('plots/graduateYear.png')"
   ]
  },
  {
   "cell_type": "markdown",
   "metadata": {},
   "source": [
    "## Prior Programming Experience in Secondary School\n",
    "In the initial segment of the test, we inquired with the students regarding their prior exposure to\n",
    "programming before to commencing their higher education studies.\n",
    "\n",
    "### Graduation Year\n",
    "The educational reforms outlined in LK20 were introduced in the year 2020, resulting in programming becoming a compulsory component solely for those students who graduated in 2023 and onward."
   ]
  },
  {
   "cell_type": "code",
   "execution_count": 429,
   "metadata": {},
   "outputs": [
    {
     "name": "stdout",
     "output_type": "stream",
     "text": [
      "N students in 2023 and 2024: 902\n",
      "Mean of 2023 and 2024: 29.09\n",
      "Standard deviation of 2023 and 2024: 15.413\n",
      "\n",
      "N students in before 2023: 1069\n",
      "Mean of before 2023: 17.999\n",
      "Standard deviation of before 2023: 15.583\n"
     ]
    },
    {
     "data": {
      "image/png": "[encoded data removed]",
      "text/plain": [
       "<Figure size 640x480 with 1 Axes>"
      ]
     },
     "metadata": {},
     "output_type": "display_data"
    }
   ],
   "source": [
    "years = df['GraduateYear']\n",
    "x = df[(years.isin(['2023', '2024']))]['Total']\n",
    "y = df[(~years.isin(['2023', '2024']))]['Total']\n",
    "y = y[~np.isnan(y)]\n",
    "\n",
    "x_label = '2023 and 2024'\n",
    "y_label = 'before 2023'\n",
    "\n",
    "compare_distributions(x, y, x_label, y_label)"
   ]
  },
  {
   "cell_type": "code",
   "execution_count": 430,
   "metadata": {},
   "outputs": [
    {
     "name": "stdout",
     "output_type": "stream",
     "text": [
      "Wilcox Rank-sum test: 15.400563618104654\n",
      "P-value: 1.622489797556795e-53\n",
      "Reject the null hypothesis: There is a significant difference between the two groups.\n"
     ]
    }
   ],
   "source": [
    "group1 = df[(years.isin(['2023', '2024']))]['Total']\n",
    "group2 = df[(~years.isin(['2023', '2024']))]['Total']\n",
    "\n",
    "\n",
    "# Perform Mann-Whitney U Test\n",
    "stat, p_value = stats.ranksums(group1, group2)\n",
    "\n",
    "# Print the test statistic and p-value\n",
    "print(f\"Wilcox Rank-sum test: {stat}\")\n",
    "print(f\"P-value: {p_value}\")\n",
    "\n",
    "# Interpretation of p-value\n",
    "a = 0.05\n",
    "if p_value < a:\n",
    "    print(\"Reject the null hypothesis: There is a significant difference between the two groups.\")\n",
    "else:\n",
    "    print(\"Fail to reject the null hypothesis: There is no significant difference between the two groups.\")"
   ]
  },
  {
   "cell_type": "markdown",
   "metadata": {},
   "source": [
    "### Mathematics Courses"
   ]
  },
  {
   "cell_type": "code",
   "execution_count": 431,
   "metadata": {},
   "outputs": [
    {
     "name": "stdout",
     "output_type": "stream",
     "text": [
      "N students in 2P: 230\n",
      "Mean of 2P: 15.363\n",
      "Standard deviation of 2P: 14.333\n",
      "\n",
      "N students in R2: 1271\n",
      "Mean of R2: 26.363\n",
      "Standard deviation of R2: 16.526\n"
     ]
    },
    {
     "data": {
      "image/png": "[encoded data removed]",
      "text/plain": [
       "<Figure size 640x480 with 1 Axes>"
      ]
     },
     "metadata": {},
     "output_type": "display_data"
    }
   ],
   "source": [
    "x = df[(df['2P'].isin(['2P']))]['Total']\n",
    "y = df[(df['R2'].isin(['R2']))]['Total']\n",
    "y = y[~np.isnan(y)]\n",
    "\n",
    "x_label = '2P'\n",
    "y_label = 'R2'\n",
    "\n",
    "compare_distributions(x, y, x_label, y_label)"
   ]
  },
  {
   "cell_type": "code",
   "execution_count": 432,
   "metadata": {},
   "outputs": [
    {
     "name": "stdout",
     "output_type": "stream",
     "text": [
      "Wilcox Rank-sum test: -9.247450516467438\n",
      "P-value: 2.299109585396125e-20\n",
      "Reject the null hypothesis: There is a significant difference between the two groups.\n"
     ]
    }
   ],
   "source": [
    "group1 = df[(df['2P'].isin(['2P']))]['Total']\n",
    "group2 = df[(df['R2'].isin(['R2']))]['Total']\n",
    "\n",
    "\n",
    "# Perform Mann-Whitney U Test\n",
    "stat, p_value = stats.ranksums(group1, group2)\n",
    "\n",
    "# Print the test statistic and p-value\n",
    "print(f\"Wilcox Rank-sum test: {stat}\")\n",
    "print(f\"P-value: {p_value}\")\n",
    "\n",
    "# Interpretation of p-value\n",
    "a = 0.05\n",
    "if p_value < a:\n",
    "    print(\"Reject the null hypothesis: There is a significant difference between the two groups.\")\n",
    "else:\n",
    "    print(\"Fail to reject the null hypothesis: There is no significant difference between the two groups.\")"
   ]
  },
  {
   "cell_type": "markdown",
   "metadata": {},
   "source": [
    "### Programming Electives"
   ]
  },
  {
   "cell_type": "code",
   "execution_count": 433,
   "metadata": {},
   "outputs": [
    {
     "name": "stdout",
     "output_type": "stream",
     "text": [
      "N students in IT2: 258\n",
      "Mean of IT2: 37.912\n",
      "Standard deviation of IT2: 14.167\n",
      "\n",
      "N students in NoElective: 1514\n",
      "Mean of NoElective: 19.56\n",
      "Standard deviation of NoElective: 15.077\n"
     ]
    },
    {
     "data": {
      "image/png": "[encoded data removed]",
      "text/plain": [
       "<Figure size 640x480 with 1 Axes>"
      ]
     },
     "metadata": {},
     "output_type": "display_data"
    }
   ],
   "source": [
    "x = df[(df['IT2'].isin(['Informasjonsteknologi 2 (IT2)']))]['Total']\n",
    "y = df[(df['NoElective'].isin([True]))]['Total']\n",
    "y = y[~np.isnan(y)]\n",
    "\n",
    "x_label = 'IT2'\n",
    "y_label = 'NoElective'\n",
    "\n",
    "compare_distributions(x, y, x_label, y_label)"
   ]
  },
  {
   "cell_type": "code",
   "execution_count": 434,
   "metadata": {},
   "outputs": [
    {
     "name": "stdout",
     "output_type": "stream",
     "text": [
      "Wilcox Rank-sum test: 15.830860641840246\n",
      "P-value: 1.9059625563759802e-56\n",
      "Reject the null hypothesis: There is a significant difference between the two groups.\n"
     ]
    }
   ],
   "source": [
    "group1 = df[(df['IT2'].isin(['Informasjonsteknologi 2 (IT2)']))]['Total']\n",
    "group2 = df[(df['NoElective'].isin([True]))]['Total']\n",
    "\n",
    "\n",
    "# Perform Mann-Whitney U Test\n",
    "stat, p_value = stats.ranksums(group1, group2)\n",
    "\n",
    "# Print the test statistic and p-value\n",
    "print(f\"Wilcox Rank-sum test: {stat}\")\n",
    "print(f\"P-value: {p_value}\")\n",
    "\n",
    "# Interpretation of p-value\n",
    "a = 0.05\n",
    "if p_value < a:\n",
    "    print(\"Reject the null hypothesis: There is a significant difference between the two groups.\")\n",
    "else:\n",
    "    print(\"Fail to reject the null hypothesis: There is no significant difference between the two groups.\")"
   ]
  },
  {
   "cell_type": "markdown",
   "metadata": {},
   "source": [
    "### Outside Experience"
   ]
  },
  {
   "cell_type": "code",
   "execution_count": 435,
   "metadata": {},
   "outputs": [
    {
     "name": "stdout",
     "output_type": "stream",
     "text": [
      "N students in Outside experience: 437\n",
      "Mean of Outside experience: 37.155\n",
      "Standard deviation of Outside experience: 14.051\n",
      "\n",
      "N students in No outside experience: 1527\n",
      "Mean of No outside experience: 19.038\n",
      "Standard deviation of No outside experience: 14.792\n"
     ]
    },
    {
     "data": {
      "image/png": "[encoded data removed]",
      "text/plain": [
       "<Figure size 640x480 with 1 Axes>"
      ]
     },
     "metadata": {},
     "output_type": "display_data"
    }
   ],
   "source": [
    "x = df[(df['OutsideExperience'].isin(['Ja']))]['Total']\n",
    "y = df[(df['OutsideExperience'].isin(['Nei']))]['Total']\n",
    "y = y[~np.isnan(y)]\n",
    "\n",
    "x_label = 'Outside experience'\n",
    "y_label = 'No outside experience'\n",
    "\n",
    "compare_distributions(x, y, x_label, y_label)"
   ]
  },
  {
   "cell_type": "code",
   "execution_count": 436,
   "metadata": {},
   "outputs": [
    {
     "name": "stdout",
     "output_type": "stream",
     "text": [
      "Wilcox Ra: 19.731826150638188\n",
      "P-value: 1.14942293731912e-86\n",
      "Reject the null hypothesis: There is a significant difference between the two groups.\n"
     ]
    }
   ],
   "source": [
    "group1 = df[(df['OutsideExperience'].isin(['Ja']))]['Total']\n",
    "group2 = df[(df['OutsideExperience'].isin(['Nei']))]['Total']\n",
    "\n",
    "\n",
    "# Perform Mann-Whitney U Test\n",
    "stat, p_value = stats.ranksums(group1, group2)\n",
    "\n",
    "# Print the test statistic and p-value\n",
    "print(f\"Wilcox Ra: {stat}\")\n",
    "print(f\"P-value: {p_value}\")\n",
    "\n",
    "# Interpretation of p-value\n",
    "a = 0.05\n",
    "if p_value < a:\n",
    "    print(\"Reject the null hypothesis: There is a significant difference between the two groups.\")\n",
    "else:\n",
    "    print(\"Fail to reject the null hypothesis: There is no significant difference between the two groups.\")"
   ]
  },
  {
   "cell_type": "markdown",
   "metadata": {},
   "source": [
    "### How many students do not need introductory programming?\n",
    "The students who perform very well on this test might not need CS1. If we set an (arbitrary) point threshold we can get an indication of how many students can perhaps move on to more advanced courses."
   ]
  },
  {
   "cell_type": "code",
   "execution_count": 437,
   "metadata": {},
   "outputs": [
    {
     "name": "stdout",
     "output_type": "stream",
     "text": [
      "Number of students with a score over 48: 210 (10.65%)\n"
     ]
    }
   ],
   "source": [
    "threshold = 48\n",
    "x = df[df['Total'] > threshold]\n",
    "n = len(x)\n",
    "percentage = round((n/len(df))*100, 2)\n",
    "\n",
    "print(f'Number of students with a score over {threshold}: {n} ({percentage}%)')"
   ]
  },
  {
   "cell_type": "markdown",
   "metadata": {},
   "source": [
    "### Gender"
   ]
  },
  {
   "cell_type": "code",
   "execution_count": 438,
   "metadata": {},
   "outputs": [
    {
     "name": "stdout",
     "output_type": "stream",
     "text": [
      "N students in women: 661\n",
      "Mean of women: 17.027\n",
      "Standard deviation of women: 14.76\n",
      "\n",
      "N students in men: 1171\n",
      "Mean of men: 26.332\n",
      "Standard deviation of men: 16.452\n"
     ]
    },
    {
     "data": {
      "image/png": "[encoded data removed]",
      "text/plain": [
       "<Figure size 640x480 with 1 Axes>"
      ]
     },
     "metadata": {},
     "output_type": "display_data"
    }
   ],
   "source": [
    "x = df[(df['Gender'] == 'f')]['Total']\n",
    "y = df[(df['Gender'] == 'm')]['Total']\n",
    "\n",
    "x_label = 'women'\n",
    "y_label = 'men'\n",
    "\n",
    "compare_distributions(x, y, x_label, y_label)"
   ]
  },
  {
   "cell_type": "markdown",
   "metadata": {},
   "source": [
    "# Programming Tasks\n",
    "Each task featured in the test pertained to a designated concept category. The following cells show the number of correct answers and the most common answers for each task."
   ]
  },
  {
   "cell_type": "markdown",
   "metadata": {},
   "source": [
    "## Correctness rate for each concept category\n",
    "Below you can find the percentage of accurate responses achieved by the students for each concept.\n",
    "\n",
    "Note that performance within each category may not exclusively reflect the students’ mastery of that programming concept. Variability in task difficulty plays a substantial role, with some tasks naturally being easier than others, irrespective of the underlying concept."
   ]
  },
  {
   "cell_type": "code",
   "execution_count": 439,
   "metadata": {},
   "outputs": [],
   "source": [
    "def correctnes_rate(columns, category, task_weight=1):\n",
    "    correct_answer_rate = 0\n",
    "    for column in columns:\n",
    "        points_column = column + \"_points\"\n",
    "        task_mean = df.loc[:, points_column].mean()\n",
    "        correct_answer_rate += task_mean\n",
    "    correct_answer_rate /= len(columns)*task_weight\n",
    "    print(f'{category:15s} {correct_answer_rate*100:3.2f} %')"
   ]
  },
  {
   "cell_type": "code",
   "execution_count": 440,
   "metadata": {},
   "outputs": [
    {
     "name": "stdout",
     "output_type": "stream",
     "text": [
      "The students have the following average correctness rate for each concept category:\n",
      "Datatypes       54.38 %\n",
      "Booleans        62.49 %\n",
      "Variables       52.99 %\n",
      "Conditionals    57.51 %\n",
      "Loops           29.62 %\n",
      "Lists           33.73 %\n",
      "Functions       22.00 %\n"
     ]
    }
   ],
   "source": [
    "print(\"The students have the following average correctness rate for each concept category:\")\n",
    "\n",
    "# Datatypes\n",
    "datatype_columns = ['datatypes1', 'datatypes2', 'datatypes3', 'datatypes4']\n",
    "correctnes_rate(datatype_columns, \"Datatypes\")\n",
    "\n",
    "# Booleans\n",
    "boolean_columns = [\"100 == 100\", \"2 > 7\", \"(10 + 3) >= 13\", \"(10*2) < 9\", \"(1 + 3) < (2*3)\", \"(10.3 + 9) == (10.3 + 10)\",\t\"100 != 100\", \"(5 < 7) and (4 > 5)\", \"(5 < 7) or (4 > 5)\", \"(3 < 7) and (7 < 9)\", \"(3 < 7) or (7 < 9)\", \"not (100 != 100)\", \"True != True\", \"True and False\", \"True or False\" , \"True and True\", \"True or True\", \"not (True != True)\", \"n < 10\", \"100 == n\", \"(n < 7) and (4 > n)\", \"(n < 7) or (4 > n)\", \"n <= 5\", \"not (n < 10)\"]\n",
    "correctnes_rate(boolean_columns, \"Booleans\", task_weight=0.2)\n",
    "\n",
    "# Variables\n",
    "variable_columns = [\"Variables1a\", \"Variables1b\", \"Variables2a\", \"Variables2b\", \"Variables3a\", \"Variables3b\", \"Variables4a\", \"Variables4b\", \"Variables5a\", \"Variables5b\", \"Variables5c\", \"Variables6a\", \"Variables6b\", \"Variables6c\"]\n",
    "correctnes_rate(variable_columns, \"Variables\")\n",
    "\n",
    "# Conditionals\n",
    "conditional_columns = [\"Conditionals1\", \"Conditionals2\", \"Conditionals3\", \"Conditionals4\"]\n",
    "correctnes_rate(conditional_columns, \"Conditionals\")\n",
    "\n",
    "# Loops\n",
    "loop_columns = [\"Loops1\", \"Loops2\", \"Loops3\", \"Loops4\", \"Loops5\", \"Loops6\", \"Loops7\"]\n",
    "correctnes_rate(loop_columns, \"Loops\")\n",
    "\n",
    "# Lists\n",
    "list_columns = [\"Lists1\", \"Lists2\", \"Lists3a\", \"Lists3b\"]\n",
    "correctnes_rate(list_columns, \"Lists\")\n",
    "\n",
    "# Functions\n",
    "function_columns = [\"Functions1\", \"Functions2\", \"Functions3\", \"Functions4\", \"Functions5\", \"Functions6\", \"Functions7\", \"Functions8\", \"Functions9\"]\n",
    "correctnes_rate(function_columns, \"Functions\")"
   ]
  },
  {
   "cell_type": "markdown",
   "metadata": {},
   "source": [
    "## Tasks\n",
    "To gain a deeper understanding of the students’ knowledge and comprehension of specific programming concepts, it is important to analyze their performance on these concepts. "
   ]
  },
  {
   "cell_type": "code",
   "execution_count": 441,
   "metadata": {},
   "outputs": [],
   "source": [
    "def print_task_result(task_column, df, n_answers=5, verbose_correct_answers=True):\n",
    "    '''\n",
    "    Print number of correct (1) and incorrect (0) responses.\n",
    "    Print the top 5 most common answers.\n",
    "    '''\n",
    "    if verbose_correct_answers:\n",
    "        task_point_column = task_column + \"_points\"\n",
    "        print(\"Number of correct responses:\")\n",
    "        print(df[task_point_column].value_counts())\n",
    "        print()\n",
    "    \n",
    "    print(f\"Top {n_answers} most common answers:\")\n",
    "    try:\n",
    "        print(df[task_column].value_counts()[:n_answers])\n",
    "    except:\n",
    "        print(df[task_column].value_counts())"
   ]
  },
  {
   "cell_type": "markdown",
   "metadata": {},
   "source": [
    "# Datatypes\n",
    "What datatype do the following variables have?\n",
    "```python\n",
    "a = 123\n",
    "b = 1.23\n",
    "c = '123'\n",
    "d = [1, 2, 3]\n",
    "```"
   ]
  },
  {
   "cell_type": "code",
   "execution_count": 442,
   "metadata": {},
   "outputs": [
    {
     "name": "stdout",
     "output_type": "stream",
     "text": [
      "Number of correct responses:\n",
      "datatypes1_points\n",
      "1    1005\n",
      "0     966\n",
      "Name: count, dtype: int64\n",
      "\n",
      "Top 6 most common answers:\n",
      "datatypes1\n",
      "int             1005\n",
      "Jeg vet ikke     652\n",
      "str              124\n",
      "float             99\n",
      "list              47\n",
      "bool              34\n",
      "Name: count, dtype: int64\n",
      "\n",
      "Number of correct responses:\n",
      "datatypes2_points\n",
      "1    1009\n",
      "0     962\n",
      "Name: count, dtype: int64\n",
      "\n",
      "Top 6 most common answers:\n",
      "datatypes2\n",
      "float           1009\n",
      "Jeg vet ikke     659\n",
      "int              133\n",
      "str              101\n",
      "bool              43\n",
      "list              11\n",
      "Name: count, dtype: int64\n",
      "\n",
      "Number of correct responses:\n",
      "datatypes3_points\n",
      "0    1081\n",
      "1     890\n",
      "Name: count, dtype: int64\n",
      "\n",
      "Top 6 most common answers:\n",
      "datatypes3\n",
      "str             890\n",
      "Jeg vet ikke    795\n",
      "int              87\n",
      "float            82\n",
      "bool             74\n",
      "list             21\n",
      "Name: count, dtype: int64\n",
      "\n",
      "Number of correct responses:\n",
      "datatypes4_points\n",
      "1    1383\n",
      "0     588\n",
      "Name: count, dtype: int64\n",
      "\n",
      "Top 6 most common answers:\n",
      "datatypes4\n",
      "list            1383\n",
      "Jeg vet ikke     498\n",
      "int               38\n",
      "str               20\n",
      "float             13\n",
      "bool              12\n",
      "Name: count, dtype: int64\n"
     ]
    }
   ],
   "source": [
    "print_task_result(\"datatypes1\", df, 6, True)\n",
    "print()\n",
    "print_task_result(\"datatypes2\", df, 6, True)\n",
    "print()\n",
    "print_task_result(\"datatypes3\", df, 6, True)\n",
    "print()\n",
    "print_task_result(\"datatypes4\", df, 6, True)"
   ]
  },
  {
   "cell_type": "markdown",
   "metadata": {},
   "source": [
    "# Operators"
   ]
  },
  {
   "cell_type": "markdown",
   "metadata": {},
   "source": [
    "### Operators 1\n",
    "What is the value of `result`?\n",
    "```python\n",
    "a = 12\n",
    "result = a + a\n",
    "```"
   ]
  },
  {
   "cell_type": "code",
   "execution_count": 443,
   "metadata": {},
   "outputs": [
    {
     "name": "stdout",
     "output_type": "stream",
     "text": [
      "Number of correct responses:\n",
      "Operators1_points\n",
      "1    1619\n",
      "0     352\n",
      "Name: count, dtype: int64\n",
      "\n",
      "Top 4 most common answers:\n",
      "Operators1\n",
      "24.0            1619\n",
      "I don't know     223\n",
      "12.0              23\n",
      "6.0               12\n",
      "Name: count, dtype: int64\n"
     ]
    }
   ],
   "source": [
    "print_task_result(\"Operators1\", df, 4, True)"
   ]
  },
  {
   "cell_type": "markdown",
   "metadata": {},
   "source": [
    "### Operators 2\n",
    "What is the value of `result`?\n",
    "```python\n",
    "a = 12\n",
    "b = 1.23 \n",
    "\n",
    "result = b + a\n",
    "```"
   ]
  },
  {
   "cell_type": "code",
   "execution_count": 444,
   "metadata": {},
   "outputs": [
    {
     "name": "stdout",
     "output_type": "stream",
     "text": [
      "Number of correct responses:\n",
      "Operators2_points\n",
      "1    1358\n",
      "0     613\n",
      "Name: count, dtype: int64\n",
      "\n",
      "Top 4 most common answers:\n",
      "Operators2\n",
      "13.23           1358\n",
      "I don't know     320\n",
      "13.0              14\n",
      "12.23              6\n",
      "Name: count, dtype: int64\n"
     ]
    }
   ],
   "source": [
    "print_task_result(\"Operators2\", df, 4, True)"
   ]
  },
  {
   "cell_type": "markdown",
   "metadata": {},
   "source": [
    "### Operators 3\n",
    "What is the value of `result`?\n",
    "```python\n",
    "c = '123'\n",
    "result = c + c\n",
    "```"
   ]
  },
  {
   "cell_type": "code",
   "execution_count": 445,
   "metadata": {},
   "outputs": [
    {
     "name": "stdout",
     "output_type": "stream",
     "text": [
      "Number of correct responses:\n",
      "Operators3_points\n",
      "0    1336\n",
      "1     635\n",
      "Name: count, dtype: int64\n",
      "\n",
      "Top 4 most common answers:\n",
      "Operators3\n",
      "123123.0        635\n",
      "I don't know    471\n",
      "246.0           177\n",
      "123.0            12\n",
      "Name: count, dtype: int64\n"
     ]
    }
   ],
   "source": [
    "print_task_result(\"Operators3\", df, 4, True)"
   ]
  },
  {
   "cell_type": "markdown",
   "metadata": {},
   "source": [
    "### Operators 4\n",
    "What is printed here?\n",
    "```python\n",
    "n = 0\n",
    "n = n + 1\n",
    "n = n + 1\n",
    "\n",
    "print(n)\n",
    "```"
   ]
  },
  {
   "cell_type": "code",
   "execution_count": 446,
   "metadata": {},
   "outputs": [
    {
     "name": "stdout",
     "output_type": "stream",
     "text": [
      "Number of correct responses:\n",
      "Operators4_points\n",
      "1    1253\n",
      "0     718\n",
      "Name: count, dtype: int64\n",
      "\n",
      "Top 4 most common answers:\n",
      "Operators4\n",
      "2.0             1253\n",
      "I don't know     391\n",
      "1.0              102\n",
      "3.0               42\n",
      "Name: count, dtype: int64\n"
     ]
    }
   ],
   "source": [
    "print_task_result(\"Operators4\", df, 4, True)"
   ]
  },
  {
   "cell_type": "markdown",
   "metadata": {},
   "source": [
    "### Operators 5\n",
    "What is printed here?\n",
    "```python\n",
    "n = 'b'\n",
    "n = n + 'c'\n",
    "n = n + 'a'\n",
    "\n",
    "print(n)\n",
    "```"
   ]
  },
  {
   "cell_type": "code",
   "execution_count": 447,
   "metadata": {},
   "outputs": [
    {
     "name": "stdout",
     "output_type": "stream",
     "text": [
      "Number of correct responses:\n",
      "Operators5_points\n",
      "0    1360\n",
      "1     611\n",
      "Name: count, dtype: int64\n",
      "\n",
      "Top 4 most common answers:\n",
      "Operators5\n",
      "I don't know    709\n",
      "bca             598\n",
      "abc              18\n",
      "'bca'            16\n",
      "Name: count, dtype: int64\n"
     ]
    }
   ],
   "source": [
    "print_task_result(\"Operators5\", df, 4, True)"
   ]
  },
  {
   "cell_type": "markdown",
   "metadata": {},
   "source": [
    "# Variables"
   ]
  },
  {
   "cell_type": "markdown",
   "metadata": {},
   "source": [
    "### Variables 1\n",
    "What is the value of variables `a` and `b`?\n",
    "```python\n",
    "a = 10\n",
    "b = 20\n",
    "\n",
    "a = b\n",
    "```"
   ]
  },
  {
   "cell_type": "code",
   "execution_count": 448,
   "metadata": {},
   "outputs": [
    {
     "name": "stdout",
     "output_type": "stream",
     "text": [
      "Number of correct responses:\n",
      "Variables1a_points\n",
      "1    1164\n",
      "0     807\n",
      "Name: count, dtype: int64\n",
      "\n",
      "Top 5 most common answers:\n",
      "Variables1a\n",
      "20.0      1164\n",
      "10.0       112\n",
      "30.0         4\n",
      "1.0          4\n",
      "15.0         2\n",
      "1020.0       2\n",
      "0.5          1\n",
      "10.2         1\n",
      "220.0        1\n",
      "80.0         1\n",
      "Name: count, dtype: int64\n",
      "Number of correct responses:\n",
      "Variables1b_points\n",
      "1    1169\n",
      "0     802\n",
      "Name: count, dtype: int64\n",
      "\n",
      "Top 5 most common answers:\n",
      "Variables1b\n",
      "20.0            1169\n",
      "I don't know     679\n",
      "10.0              92\n",
      "2.0                3\n",
      "15.0               2\n",
      "Name: count, dtype: int64\n"
     ]
    }
   ],
   "source": [
    "print_task_result(\"Variables1a\", df)\n",
    "print_task_result(\"Variables1b\", df)"
   ]
  },
  {
   "cell_type": "markdown",
   "metadata": {},
   "source": [
    "### Variables 2\n",
    "What is the value of variables `a` and `b`?\n",
    "```python\n",
    "a = 10\n",
    "b = 20\n",
    "\n",
    "b = a\n",
    "```"
   ]
  },
  {
   "cell_type": "code",
   "execution_count": 449,
   "metadata": {},
   "outputs": [
    {
     "name": "stdout",
     "output_type": "stream",
     "text": [
      "Number of correct responses:\n",
      "Variables2a_points\n",
      "1    1108\n",
      "0     863\n",
      "Name: count, dtype: int64\n",
      "\n",
      "Top 5 most common answers:\n",
      "Variables2a\n",
      "10.0    1108\n",
      "20.0     108\n",
      "2.0        3\n",
      "40.0       1\n",
      "30.0       1\n",
      "0.5        1\n",
      "0.0        1\n",
      "1.0        1\n",
      "80.0       1\n",
      "15.0       1\n",
      "Name: count, dtype: int64\n",
      "Number of correct responses:\n",
      "Variables2b_points\n",
      "1    1079\n",
      "0     892\n",
      "Name: count, dtype: int64\n",
      "\n",
      "Top 5 most common answers:\n",
      "Variables2b\n",
      "10.0            1079\n",
      "I don't know     729\n",
      "20.0             132\n",
      "30.0               3\n",
      "1.0                3\n",
      "Name: count, dtype: int64\n"
     ]
    }
   ],
   "source": [
    "print_task_result(\"Variables2a\", df)\n",
    "print_task_result(\"Variables2b\", df)"
   ]
  },
  {
   "cell_type": "markdown",
   "metadata": {},
   "source": [
    "### Variables 3\n",
    "What is the value of variables `a` and `b`?\n",
    "```python\n",
    "a = 10\n",
    "b = 20\n",
    "\n",
    "a = b\n",
    "b = a\n",
    "```"
   ]
  },
  {
   "cell_type": "code",
   "execution_count": 450,
   "metadata": {},
   "outputs": [
    {
     "name": "stdout",
     "output_type": "stream",
     "text": [
      "Number of correct responses:\n",
      "Variables3a_points\n",
      "1    1082\n",
      "0     889\n",
      "Name: count, dtype: int64\n",
      "\n",
      "Top 5 most common answers:\n",
      "Variables3a\n",
      "20.0    1082\n",
      "10.0      96\n",
      "30.0       5\n",
      "29.0       1\n",
      "1.0        1\n",
      "0.5        1\n",
      "0.0        1\n",
      "15.0       1\n",
      "Name: count, dtype: int64\n",
      "Number of correct responses:\n",
      "Variables3b_points\n",
      "0    1021\n",
      "1     950\n",
      "Name: count, dtype: int64\n",
      "\n",
      "Top 5 most common answers:\n",
      "Variables3b\n",
      "20.0            950\n",
      "I don't know    770\n",
      "10.0            218\n",
      "30.0              3\n",
      "2.0               1\n",
      "Name: count, dtype: int64\n"
     ]
    }
   ],
   "source": [
    "print_task_result(\"Variables3a\", df)\n",
    "print_task_result(\"Variables3b\", df)"
   ]
  },
  {
   "cell_type": "markdown",
   "metadata": {},
   "source": [
    "### Variables 4\n",
    "What is the value of variables `a` and `b`?\n",
    "```python\n",
    "a = 10\n",
    "b = 20\n",
    "\n",
    "b = a\n",
    "a = b\n",
    "```"
   ]
  },
  {
   "cell_type": "code",
   "execution_count": 451,
   "metadata": {},
   "outputs": [
    {
     "name": "stdout",
     "output_type": "stream",
     "text": [
      "Number of correct responses:\n",
      "Variables4a_points\n",
      "0    1006\n",
      "1     965\n",
      "Name: count, dtype: int64\n",
      "\n",
      "Top 5 most common answers:\n",
      "Variables4a\n",
      " 10.0    965\n",
      " 20.0    176\n",
      " 40.0      3\n",
      " 30.0      3\n",
      " 1.0       2\n",
      " 10.2      1\n",
      "-10.0      1\n",
      "Name: count, dtype: int64\n",
      "Number of correct responses:\n",
      "Variables4b_points\n",
      "1    1022\n",
      "0     949\n",
      "Name: count, dtype: int64\n",
      "\n",
      "Top 5 most common answers:\n",
      "Variables4b\n",
      "10.0            1022\n",
      "I don't know     793\n",
      "20.0             119\n",
      "30.0               4\n",
      "2.0                2\n",
      "Name: count, dtype: int64\n"
     ]
    }
   ],
   "source": [
    "print_task_result(\"Variables4a\", df)\n",
    "print_task_result(\"Variables4b\", df)"
   ]
  },
  {
   "cell_type": "markdown",
   "metadata": {},
   "source": [
    "### Variables 5\n",
    "What is the value of variables `a`, `b` and `c`?\n",
    "```python\n",
    "a = 10\n",
    "b = 20\n",
    "c = 30\n",
    "\n",
    "a = b\n",
    "b = c\n",
    "```"
   ]
  },
  {
   "cell_type": "code",
   "execution_count": 452,
   "metadata": {},
   "outputs": [
    {
     "name": "stdout",
     "output_type": "stream",
     "text": [
      "Number of correct responses:\n",
      "Variables5a_points\n",
      "1    1067\n",
      "0     904\n",
      "Name: count, dtype: int64\n",
      "\n",
      "Top 5 most common answers:\n",
      "Variables5a\n",
      "20.0    1067\n",
      "30.0      60\n",
      "10.0      54\n",
      "1.0        3\n",
      "0.0        1\n",
      "29.0       1\n",
      "Name: count, dtype: int64\n",
      "Number of correct responses:\n",
      "Variables5b_points\n",
      "1    1111\n",
      "0     860\n",
      "Name: count, dtype: int64\n",
      "\n",
      "Top 5 most common answers:\n",
      "Variables5b\n",
      " 30.0    1111\n",
      " 20.0      37\n",
      " 10.0      26\n",
      " 2.0        2\n",
      " 15.0       2\n",
      " 3.0        1\n",
      "-10.0       1\n",
      " 1.0        1\n",
      " 60.0       1\n",
      "Name: count, dtype: int64\n",
      "Number of correct responses:\n",
      "Variables5c_points\n",
      "1    1104\n",
      "0     867\n",
      "Name: count, dtype: int64\n",
      "\n",
      "Top 5 most common answers:\n",
      "Variables5c\n",
      "30.0            1104\n",
      "I don't know     763\n",
      "20.0              29\n",
      "10.0              28\n",
      "60.0               2\n",
      "Name: count, dtype: int64\n"
     ]
    }
   ],
   "source": [
    "print_task_result(\"Variables5a\", df)\n",
    "print_task_result(\"Variables5b\", df)\n",
    "print_task_result(\"Variables5c\", df)"
   ]
  },
  {
   "cell_type": "markdown",
   "metadata": {},
   "source": [
    "### Variables 6\n",
    "What is the value of variables `a`, `b` and `c`?\n",
    "```python\n",
    "a = 10\n",
    "b = 20\n",
    "c = 30\n",
    "\n",
    "a = c\n",
    "b = a\n",
    "c = b\n",
    "```"
   ]
  },
  {
   "cell_type": "code",
   "execution_count": 453,
   "metadata": {},
   "outputs": [
    {
     "name": "stdout",
     "output_type": "stream",
     "text": [
      "Number of correct responses:\n",
      "Variables6a_points\n",
      "1    1062\n",
      "0     909\n",
      "Name: count, dtype: int64\n",
      "\n",
      "Top 5 most common answers:\n",
      "Variables6a\n",
      "30.0    1062\n",
      "20.0      42\n",
      "10.0      31\n",
      "60.0       2\n",
      "0.0        2\n",
      "6.0        1\n",
      "5.0        1\n",
      "Name: count, dtype: int64\n",
      "Number of correct responses:\n",
      "Variables6b_points\n",
      "0    1095\n",
      "1     876\n",
      "Name: count, dtype: int64\n",
      "\n",
      "Top 5 most common answers:\n",
      "Variables6b\n",
      " 30.0    876\n",
      " 10.0    218\n",
      " 20.0     38\n",
      " 0.0       2\n",
      "-20.0      1\n",
      " 40.0      1\n",
      " 60.0      1\n",
      "Name: count, dtype: int64\n",
      "Number of correct responses:\n",
      "Variables6c_points\n",
      "0    1108\n",
      "1     863\n",
      "Name: count, dtype: int64\n",
      "\n",
      "Top 5 most common answers:\n",
      "Variables6c\n",
      "30.0            863\n",
      "I don't know    791\n",
      "20.0            188\n",
      "10.0             79\n",
      "60.0              3\n",
      "Name: count, dtype: int64\n"
     ]
    }
   ],
   "source": [
    "print_task_result(\"Variables6a\", df)\n",
    "print_task_result(\"Variables6b\", df)\n",
    "print_task_result(\"Variables6c\", df)"
   ]
  },
  {
   "cell_type": "markdown",
   "metadata": {},
   "source": [
    "## Booleans"
   ]
  },
  {
   "cell_type": "markdown",
   "metadata": {},
   "source": [
    "### Booleans 1\n",
    "What do these boolean expressions evaluate to?"
   ]
  },
  {
   "cell_type": "code",
   "execution_count": 454,
   "metadata": {
    "scrolled": true
   },
   "outputs": [
    {
     "name": "stdout",
     "output_type": "stream",
     "text": [
      "Top 3 most common answers:\n",
      "100 == 100\n",
      "True            1578\n",
      "Jeg vet ikke     312\n",
      "False             42\n",
      "Name: count, dtype: int64\n",
      "\n",
      "Top 3 most common answers:\n",
      "2 > 7\n",
      "False           1732\n",
      "Jeg vet ikke     144\n",
      "True              59\n",
      "Name: count, dtype: int64\n",
      "\n",
      "Top 3 most common answers:\n",
      "(10 + 3) >= 13\n",
      "True            1454\n",
      "Jeg vet ikke     244\n",
      "False            233\n",
      "Name: count, dtype: int64\n",
      "\n",
      "Top 3 most common answers:\n",
      "(10*2) < 9\n",
      "False           1699\n",
      "Jeg vet ikke     161\n",
      "True              66\n",
      "Name: count, dtype: int64\n",
      "\n",
      "Top 3 most common answers:\n",
      "(1 + 3) < (2*3)\n",
      "True            1667\n",
      "Jeg vet ikke     177\n",
      "False             89\n",
      "Name: count, dtype: int64\n",
      "\n",
      "Top 3 most common answers:\n",
      "(10.3 + 9) == (10.3 + 10)\n",
      "False           1552\n",
      "Jeg vet ikke     332\n",
      "True              48\n",
      "Name: count, dtype: int64\n"
     ]
    }
   ],
   "source": [
    "print_task_result(\"100 == 100\", df, 3, False)\n",
    "print()\n",
    "print_task_result(\"2 > 7\", df, 3, False)\n",
    "print()\n",
    "print_task_result(\"(10 + 3) >= 13\", df, 3, False)\n",
    "print()\n",
    "print_task_result(\"(10*2) < 9\", df, 3, False)\n",
    "print()\n",
    "print_task_result(\"(1 + 3) < (2*3)\", df, 3, False)\n",
    "print()\n",
    "print_task_result(\"(10.3 + 9) == (10.3 + 10)\", df, 3, False)"
   ]
  },
  {
   "cell_type": "markdown",
   "metadata": {},
   "source": [
    "### Booleans 2\n",
    "What do these boolean expressions evaluate to?"
   ]
  },
  {
   "cell_type": "code",
   "execution_count": 455,
   "metadata": {
    "scrolled": true
   },
   "outputs": [
    {
     "name": "stdout",
     "output_type": "stream",
     "text": [
      "Top 3 most common answers:\n",
      "100 != 100\n",
      "False           1068\n",
      "Jeg vet ikke     786\n",
      "True              71\n",
      "Name: count, dtype: int64\n",
      "\n",
      "Top 3 most common answers:\n",
      "(5 < 7) and (4 > 5)\n",
      "False           1463\n",
      "Jeg vet ikke     401\n",
      "True              60\n",
      "Name: count, dtype: int64\n",
      "\n",
      "Top 3 most common answers:\n",
      "(5 < 7) or (4 > 5)\n",
      "True            1028\n",
      "Jeg vet ikke     522\n",
      "False            371\n",
      "Name: count, dtype: int64\n",
      "\n",
      "Top 3 most common answers:\n",
      "(3 < 7) and (7 < 9)\n",
      "True            1453\n",
      "Jeg vet ikke     409\n",
      "False             53\n",
      "Name: count, dtype: int64\n",
      "\n",
      "Top 3 most common answers:\n",
      "(3 < 7) or (7 < 9)\n",
      "True            1183\n",
      "Jeg vet ikke     518\n",
      "False            217\n",
      "Name: count, dtype: int64\n",
      "\n",
      "Top 3 most common answers:\n",
      "not (100 != 100)\n",
      "Jeg vet ikke    1056\n",
      "True             769\n",
      "False            101\n",
      "Name: count, dtype: int64\n"
     ]
    }
   ],
   "source": [
    "print_task_result(\"100 != 100\", df, 3, False)\n",
    "print()\n",
    "print_task_result(\"(5 < 7) and (4 > 5)\", df, 3, False)\n",
    "print()\n",
    "print_task_result(\"(5 < 7) or (4 > 5)\", df, 3, False)\n",
    "print()\n",
    "print_task_result(\"(3 < 7) and (7 < 9)\", df, 3, False)\n",
    "print()\n",
    "print_task_result(\"(3 < 7) or (7 < 9)\", df, 3, False)\n",
    "print()\n",
    "print_task_result(\"not (100 != 100)\", df, 3, False)"
   ]
  },
  {
   "cell_type": "markdown",
   "metadata": {},
   "source": [
    "### Booleans 3\n",
    "What do these boolean expressions evaluate to?"
   ]
  },
  {
   "cell_type": "code",
   "execution_count": 456,
   "metadata": {
    "scrolled": true
   },
   "outputs": [
    {
     "name": "stdout",
     "output_type": "stream",
     "text": [
      "Top 3 most common answers:\n",
      "True != True\n",
      "Jeg vet ikke    972\n",
      "False           860\n",
      "True             86\n",
      "Name: count, dtype: int64\n",
      "\n",
      "Top 3 most common answers:\n",
      "True and False\n",
      "Jeg vet ikke    973\n",
      "False           814\n",
      "True            125\n",
      "Name: count, dtype: int64\n",
      "\n",
      "Top 3 most common answers:\n",
      "True or False\n",
      "Jeg vet ikke    927\n",
      "True            891\n",
      "False            90\n",
      "Name: count, dtype: int64\n",
      "\n",
      "Top 3 most common answers:\n",
      "True and True\n",
      "True            982\n",
      "Jeg vet ikke    834\n",
      "False            98\n",
      "Name: count, dtype: int64\n",
      "\n",
      "Top 3 most common answers:\n",
      "True or True\n",
      "Jeg vet ikke    875\n",
      "True            795\n",
      "False           240\n",
      "Name: count, dtype: int64\n",
      "\n",
      "Top 3 most common answers:\n",
      "not (True != True)\n",
      "Jeg vet ikke    1132\n",
      "True             631\n",
      "False            149\n",
      "Name: count, dtype: int64\n"
     ]
    }
   ],
   "source": [
    "print_task_result(\"True != True\", df, 3, False)\n",
    "print()\n",
    "print_task_result(\"True and False\", df, 3, False)\n",
    "print()\n",
    "print_task_result(\"True or False\", df, 3, False)\n",
    "print()\n",
    "print_task_result(\"True and True\", df, 3, False)\n",
    "print()\n",
    "print_task_result(\"True or True\", df, 3, False)\n",
    "print()\n",
    "print_task_result(\"not (True != True)\", df, 3, False)"
   ]
  },
  {
   "cell_type": "markdown",
   "metadata": {},
   "source": [
    "### Booleans 4\n",
    "Given the variable `n = 5`, what do these boolean expressions evaluate to?"
   ]
  },
  {
   "cell_type": "code",
   "execution_count": 457,
   "metadata": {
    "scrolled": true
   },
   "outputs": [
    {
     "name": "stdout",
     "output_type": "stream",
     "text": [
      "Top 3 most common answers:\n",
      "n < 10\n",
      "True            1572\n",
      "Jeg vet ikke     230\n",
      "False            119\n",
      "Name: count, dtype: int64\n",
      "\n",
      "Top 3 most common answers:\n",
      "100 == n\n",
      "False           1459\n",
      "Jeg vet ikke     428\n",
      "True              35\n",
      "Name: count, dtype: int64\n",
      "\n",
      "Top 3 most common answers:\n",
      "(n < 7) and (4 > n)\n",
      "False           1458\n",
      "Jeg vet ikke     332\n",
      "True             125\n",
      "Name: count, dtype: int64\n",
      "\n",
      "Top 3 most common answers:\n",
      "(n < 7) or (4 > n)\n",
      "True            1138\n",
      "Jeg vet ikke     425\n",
      "False            349\n",
      "Name: count, dtype: int64\n",
      "\n",
      "Top 3 most common answers:\n",
      "n <= 5\n",
      "True            1382\n",
      "Jeg vet ikke     394\n",
      "False            146\n",
      "Name: count, dtype: int64\n",
      "\n",
      "Top 3 most common answers:\n",
      "not (n < 10)\n",
      "False           931\n",
      "Jeg vet ikke    780\n",
      "True            206\n",
      "Name: count, dtype: int64\n"
     ]
    }
   ],
   "source": [
    "print_task_result(\"n < 10\", df, 3, False)\n",
    "print()\n",
    "print_task_result(\"100 == n\", df, 3, False)\n",
    "print()\n",
    "print_task_result(\"(n < 7) and (4 > n)\", df, 3, False)\n",
    "print()\n",
    "print_task_result(\"(n < 7) or (4 > n)\", df, 3, False)\n",
    "print()\n",
    "print_task_result(\"n <= 5\", df, 3, False)\n",
    "print()\n",
    "print_task_result(\"not (n < 10)\", df, 3, False)"
   ]
  },
  {
   "cell_type": "markdown",
   "metadata": {},
   "source": [
    "## Conditionals"
   ]
  },
  {
   "cell_type": "markdown",
   "metadata": {},
   "source": [
    "### Conditionals 1\n",
    "What does this code snippet print?\n",
    "\n",
    "```python\n",
    "if 2 > 7:\n",
    "    print(1)\n",
    "```"
   ]
  },
  {
   "cell_type": "code",
   "execution_count": 458,
   "metadata": {},
   "outputs": [
    {
     "name": "stdout",
     "output_type": "stream",
     "text": [
      "Number of correct responses:\n",
      "Conditionals1_points\n",
      "1    1343\n",
      "0     628\n",
      "Name: count, dtype: int64\n",
      "\n",
      "Top 5 most common answers:\n",
      "Conditionals1\n",
      "Ingenting       1343\n",
      "Jeg vet ikke     343\n",
      "1                259\n",
      "Name: count, dtype: int64\n"
     ]
    }
   ],
   "source": [
    "print_task_result(\"Conditionals1\", df)"
   ]
  },
  {
   "cell_type": "markdown",
   "metadata": {},
   "source": [
    "### Conditionals 2\n",
    "What does this code snippet print?\n",
    "\n",
    "```python\n",
    "if 100 != 100:\n",
    "    print(1)\n",
    "else:\n",
    "    print(2)\n",
    "```"
   ]
  },
  {
   "cell_type": "code",
   "execution_count": 459,
   "metadata": {},
   "outputs": [
    {
     "name": "stdout",
     "output_type": "stream",
     "text": [
      "Number of correct responses:\n",
      "Conditionals2_points\n",
      "0    989\n",
      "1    982\n",
      "Name: count, dtype: int64\n",
      "\n",
      "Top 5 most common answers:\n",
      "Conditionals2\n",
      "2               982\n",
      "Jeg vet ikke    727\n",
      "1               131\n",
      "1 og 2           63\n",
      "Ingenting        40\n",
      "Name: count, dtype: int64\n"
     ]
    }
   ],
   "source": [
    "print_task_result(\"Conditionals2\", df)"
   ]
  },
  {
   "cell_type": "markdown",
   "metadata": {},
   "source": [
    "### Conditionals 3\n",
    "What does this code snippet print?\n",
    "\n",
    "```python\n",
    "if (10*2) < 9:\n",
    "    print(1)\n",
    "elif 100 == 100:\n",
    "    print(2)\n",
    "else:\n",
    "    print(3)\n",
    "```"
   ]
  },
  {
   "cell_type": "code",
   "execution_count": 460,
   "metadata": {},
   "outputs": [
    {
     "name": "stdout",
     "output_type": "stream",
     "text": [
      "Number of correct responses:\n",
      "Conditionals3_points\n",
      "1    1109\n",
      "0     862\n",
      "Name: count, dtype: int64\n",
      "\n",
      "Top 5 most common answers:\n",
      "Conditionals3\n",
      "2               1109\n",
      "Jeg vet ikke     517\n",
      "2 og 3           114\n",
      "3                 60\n",
      "1 og 2            50\n",
      "Name: count, dtype: int64\n"
     ]
    }
   ],
   "source": [
    "print_task_result(\"Conditionals3\", df)"
   ]
  },
  {
   "cell_type": "markdown",
   "metadata": {},
   "source": [
    "### Conditionals 4\n",
    "What does this code snippet print?\n",
    "\n",
    "```python\n",
    "if 100 == 100:\n",
    "    print(1)\n",
    "if (1 + 3) < (2*3):\n",
    "    print(2)\n",
    "else:\n",
    "    print(3)\n",
    "```"
   ]
  },
  {
   "cell_type": "code",
   "execution_count": 461,
   "metadata": {},
   "outputs": [
    {
     "name": "stdout",
     "output_type": "stream",
     "text": [
      "Number of correct responses:\n",
      "Conditionals4_points\n",
      "1    1100\n",
      "0     871\n",
      "Name: count, dtype: int64\n",
      "\n",
      "Top 5 most common answers:\n",
      "Conditionals4\n",
      "1 og 2          1100\n",
      "Jeg vet ikke     521\n",
      "1                131\n",
      "1, 2 og 3         51\n",
      "2                 44\n",
      "Name: count, dtype: int64\n"
     ]
    }
   ],
   "source": [
    "print_task_result(\"Conditionals4\", df)"
   ]
  },
  {
   "cell_type": "markdown",
   "metadata": {},
   "source": [
    "## Loops"
   ]
  },
  {
   "cell_type": "markdown",
   "metadata": {},
   "source": [
    "### Loops 1\n",
    "What does this code snippet print?\n",
    "\n",
    "```python\n",
    "n = 0\n",
    "while n < 10:\n",
    "    n = n + 1\n",
    "\n",
    "print(n)\n",
    "```"
   ]
  },
  {
   "cell_type": "code",
   "execution_count": 462,
   "metadata": {},
   "outputs": [
    {
     "name": "stdout",
     "output_type": "stream",
     "text": [
      "Number of correct responses:\n",
      "Loops1_points\n",
      "0    1305\n",
      "1     666\n",
      "Name: count, dtype: int64\n",
      "\n",
      "Top 5 most common answers:\n",
      "Loops1\n",
      "10.0            666\n",
      "I don't know    561\n",
      "1.0             248\n",
      "9.0             207\n",
      "123456789.0     111\n",
      "Name: count, dtype: int64\n"
     ]
    }
   ],
   "source": [
    "print_task_result(\"Loops1\", df)"
   ]
  },
  {
   "cell_type": "markdown",
   "metadata": {},
   "source": [
    "### Loops 2\n",
    "What does this code snippet print?\n",
    "\n",
    "```python\n",
    "n = 0\n",
    "while n < 10:\n",
    "    n = n + 2\n",
    "\n",
    "print(n)\n",
    "```"
   ]
  },
  {
   "cell_type": "code",
   "execution_count": 463,
   "metadata": {},
   "outputs": [
    {
     "name": "stdout",
     "output_type": "stream",
     "text": [
      "Number of correct responses:\n",
      "Loops2_points\n",
      "0    1346\n",
      "1     625\n",
      "Name: count, dtype: int64\n",
      "\n",
      "Top 5 most common answers:\n",
      "Loops2\n",
      "10.0            625\n",
      "I don't know    580\n",
      "2.0             245\n",
      "8.0             185\n",
      "2468.0          107\n",
      "Name: count, dtype: int64\n"
     ]
    }
   ],
   "source": [
    "print_task_result(\"Loops2\", df)"
   ]
  },
  {
   "cell_type": "markdown",
   "metadata": {},
   "source": [
    "### Loops 3\n",
    "What does this code snippet print?\n",
    "\n",
    "```python\n",
    "n = 100\n",
    "while n < 10:\n",
    "    n = n + 2\n",
    "\n",
    "print(n)\n",
    "```"
   ]
  },
  {
   "cell_type": "code",
   "execution_count": 464,
   "metadata": {},
   "outputs": [
    {
     "name": "stdout",
     "output_type": "stream",
     "text": [
      "Number of correct responses:\n",
      "Loops3_points\n",
      "0    1037\n",
      "1     934\n",
      "Name: count, dtype: int64\n",
      "\n",
      "Top 5 most common answers:\n",
      "Loops3\n",
      "100             934\n",
      "I don't know    755\n",
      "0                71\n",
      "102              54\n",
      "2                 8\n",
      "Name: count, dtype: int64\n"
     ]
    }
   ],
   "source": [
    "print_task_result(\"Loops3\", df)"
   ]
  },
  {
   "cell_type": "markdown",
   "metadata": {},
   "source": [
    "### Loops 4\n",
    "What does this code snippet print?\n",
    "\n",
    "```python\n",
    "n = 0\n",
    "while (n < 7) and (4 > n):\n",
    "    n = n + 1\n",
    "\n",
    "print(n)\n",
    "```"
   ]
  },
  {
   "cell_type": "code",
   "execution_count": 465,
   "metadata": {},
   "outputs": [
    {
     "name": "stdout",
     "output_type": "stream",
     "text": [
      "Number of correct responses:\n",
      "Loops4_points\n",
      "0    1425\n",
      "1     546\n",
      "Name: count, dtype: int64\n",
      "\n",
      "Top 5 most common answers:\n",
      "Loops4\n",
      "I don't know    745\n",
      "4.0             546\n",
      "1.0             167\n",
      "3.0             161\n",
      "0.0              91\n",
      "Name: count, dtype: int64\n"
     ]
    }
   ],
   "source": [
    "print_task_result(\"Loops4\", df)"
   ]
  },
  {
   "cell_type": "markdown",
   "metadata": {},
   "source": [
    "### Loops 5\n",
    "What does this code snippet print?\n",
    "\n",
    "```python\n",
    "n = 0\n",
    "ls = [1, 1, 3]\n",
    "for e in ls:\n",
    "    n = n + e\n",
    "\n",
    "print(n)\n",
    "```"
   ]
  },
  {
   "cell_type": "code",
   "execution_count": 466,
   "metadata": {},
   "outputs": [
    {
     "name": "stdout",
     "output_type": "stream",
     "text": [
      "Number of correct responses:\n",
      "Loops5_points\n",
      "0    1463\n",
      "1     508\n",
      "Name: count, dtype: int64\n",
      "\n",
      "Top 5 most common answers:\n",
      "Loops5\n",
      "I don't know    1258\n",
      "5.0              508\n",
      "0.0               36\n",
      "113.0             21\n",
      "3.0               20\n",
      "Name: count, dtype: int64\n"
     ]
    }
   ],
   "source": [
    "print_task_result(\"Loops5\", df)"
   ]
  },
  {
   "cell_type": "markdown",
   "metadata": {},
   "source": [
    "### Loops 6\n",
    "What does this code snippet print?\n",
    "\n",
    "```python\n",
    "n = 0\n",
    "ls = [-1, 4, -3, 0, -10, 5]\n",
    "for e in ls:\n",
    "    if e > 0:\n",
    "        n = n + e\n",
    "\n",
    "print(n)\n",
    "```"
   ]
  },
  {
   "cell_type": "code",
   "execution_count": 467,
   "metadata": {},
   "outputs": [
    {
     "name": "stdout",
     "output_type": "stream",
     "text": [
      "Number of correct responses:\n",
      "Loops6_points\n",
      "0    1533\n",
      "1     438\n",
      "Name: count, dtype: int64\n",
      "\n",
      "Top 5 most common answers:\n",
      "Loops6\n",
      "I don't know    1289\n",
      "9.0              438\n",
      "0.0               49\n",
      "-5.0              18\n",
      "-14.0             13\n",
      "Name: count, dtype: int64\n"
     ]
    }
   ],
   "source": [
    "print_task_result(\"Loops6\", df)"
   ]
  },
  {
   "cell_type": "markdown",
   "metadata": {},
   "source": [
    "## Lists"
   ]
  },
  {
   "cell_type": "markdown",
   "metadata": {},
   "source": [
    "### Lists 1\n",
    "What does this code snippet print?\n",
    "\n",
    "```python\n",
    "ls = [10, 20, 30]\n",
    "print(ls[1])\n",
    "```"
   ]
  },
  {
   "cell_type": "code",
   "execution_count": 468,
   "metadata": {},
   "outputs": [
    {
     "name": "stdout",
     "output_type": "stream",
     "text": [
      "Number of correct responses:\n",
      "Lists1_points\n",
      "0    1392\n",
      "1     579\n",
      "Name: count, dtype: int64\n",
      "\n",
      "Top 5 most common answers:\n",
      "Lists1\n",
      "I don't know    831\n",
      "20.0            579\n",
      "10.0            439\n",
      "102030.0         37\n",
      "60.0             10\n",
      "Name: count, dtype: int64\n"
     ]
    }
   ],
   "source": [
    "print_task_result(\"Lists1\", df)"
   ]
  },
  {
   "cell_type": "markdown",
   "metadata": {},
   "source": [
    "### Lists 2\n",
    "What does this code snippet print?\n",
    "\n",
    "```python\n",
    "ls = [10, 20, 30]\n",
    "ls[1] = ls[1] + 5\n",
    "\n",
    "print(ls[1])\n",
    "```"
   ]
  },
  {
   "cell_type": "code",
   "execution_count": 469,
   "metadata": {},
   "outputs": [
    {
     "name": "stdout",
     "output_type": "stream",
     "text": [
      "Number of correct responses:\n",
      "Lists2_points\n",
      "0    1399\n",
      "1     572\n",
      "Name: count, dtype: int64\n",
      "\n",
      "Top 5 most common answers:\n",
      "Lists2\n",
      "I don't know    880\n",
      "25.0            572\n",
      "15.0            390\n",
      "152535.0         17\n",
      "65.0             10\n",
      "Name: count, dtype: int64\n"
     ]
    }
   ],
   "source": [
    "print_task_result(\"Lists2\", df)"
   ]
  },
  {
   "cell_type": "markdown",
   "metadata": {},
   "source": [
    "### Lists 3\n",
    "What does this code snippet print?\n",
    "\n",
    "```python\n",
    "a = [10, 20, 30]\n",
    "b = [5, 15, 25]\n",
    "\n",
    "b[1] = a[1] + b[1]\n",
    "\n",
    "print(a)\n",
    "print(b)\n",
    "```"
   ]
  },
  {
   "cell_type": "code",
   "execution_count": 470,
   "metadata": {},
   "outputs": [
    {
     "name": "stdout",
     "output_type": "stream",
     "text": [
      "Number of correct responses:\n",
      "Lists3a_points\n",
      "1    988\n",
      "0    983\n",
      "Name: count, dtype: int64\n",
      "\n",
      "Top 5 most common answers:\n",
      "Lists3a\n",
      "[10, 20, 30]    988\n",
      "Jeg vet ikke    762\n",
      "[15, 35, 55]     50\n",
      "[5, 15, 25]      23\n",
      "[10, 35, 30]     10\n",
      "Name: count, dtype: int64\n",
      "Number of correct responses:\n",
      "Lists3b_points\n",
      "0    1451\n",
      "1     520\n",
      "Name: count, dtype: int64\n",
      "\n",
      "Top 5 most common answers:\n",
      "Lists3b\n",
      "Jeg vet ikke    959\n",
      "[5, 35, 25]     520\n",
      "[15, 35, 55]    252\n",
      "[5, 15, 25]     101\n",
      "[10, 35, 30]     25\n",
      "Name: count, dtype: int64\n"
     ]
    }
   ],
   "source": [
    "print_task_result(\"Lists3a\", df)\n",
    "print_task_result(\"Lists3b\", df)"
   ]
  },
  {
   "cell_type": "markdown",
   "metadata": {},
   "source": [
    "## Functions"
   ]
  },
  {
   "cell_type": "markdown",
   "metadata": {},
   "source": [
    "### Functions 1\n",
    "What does this code snippet print?\n",
    "\n",
    "```python\n",
    "def f(a, b):\n",
    "    return a + b\n",
    "\n",
    "print(f(5, 10))\n",
    "```"
   ]
  },
  {
   "cell_type": "code",
   "execution_count": 471,
   "metadata": {},
   "outputs": [
    {
     "name": "stdout",
     "output_type": "stream",
     "text": [
      "Number of correct responses:\n",
      "Functions1_points\n",
      "0    1093\n",
      "1     878\n",
      "Name: count, dtype: int64\n",
      "\n",
      "Top 5 most common answers:\n",
      "Functions1\n",
      "I don't know    976\n",
      "15.0            878\n",
      "5.1              23\n",
      "510.0            13\n",
      "10.0              2\n",
      "Name: count, dtype: int64\n"
     ]
    }
   ],
   "source": [
    "print_task_result(\"Functions1\", df)"
   ]
  },
  {
   "cell_type": "markdown",
   "metadata": {},
   "source": [
    "### Functions 2\n",
    "What does this code snippet print?\n",
    "\n",
    "```python\n",
    "def f(a):\n",
    "    if a:\n",
    "        return 1\n",
    "    else:\n",
    "        return 2\n",
    "\n",
    "print(f(100 == 100))\n",
    "```"
   ]
  },
  {
   "cell_type": "code",
   "execution_count": 472,
   "metadata": {},
   "outputs": [
    {
     "name": "stdout",
     "output_type": "stream",
     "text": [
      "Number of correct responses:\n",
      "Functions2_points\n",
      "0    1380\n",
      "1     591\n",
      "Name: count, dtype: int64\n",
      "\n",
      "Top 5 most common answers:\n",
      "Functions2\n",
      "I don't know    1201\n",
      "1.0              591\n",
      "2.0               55\n",
      "100.0             38\n",
      "0.0                2\n",
      "Name: count, dtype: int64\n"
     ]
    }
   ],
   "source": [
    "print_task_result(\"Functions2\", df)"
   ]
  },
  {
   "cell_type": "markdown",
   "metadata": {},
   "source": [
    "### Functions 3\n",
    "What does this code snippet print?\n",
    "\n",
    "```python\n",
    "def f():\n",
    "    if 100 == 100:\n",
    "        return 1\n",
    "    if (1 + 3) < (2*3):\n",
    "        return 2\n",
    "    else:\n",
    "        return 3\n",
    "\n",
    "print(f())\n",
    "```"
   ]
  },
  {
   "cell_type": "code",
   "execution_count": 473,
   "metadata": {},
   "outputs": [
    {
     "name": "stdout",
     "output_type": "stream",
     "text": [
      "Number of correct responses:\n",
      "Functions3_points\n",
      "0    1669\n",
      "1     302\n",
      "Name: count, dtype: int64\n",
      "\n",
      "Top 5 most common answers:\n",
      "Functions3\n",
      "I don't know    1177\n",
      "1.0              302\n",
      "12.0             172\n",
      "1.2               91\n",
      "2.0               64\n",
      "Name: count, dtype: int64\n"
     ]
    }
   ],
   "source": [
    "print_task_result(\"Functions3\", df)"
   ]
  },
  {
   "cell_type": "markdown",
   "metadata": {},
   "source": [
    "### Functions 4\n",
    "What does this code snippet print?\n",
    "\n",
    "```python\n",
    "def f(n, a):\n",
    "    if a:\n",
    "        n = n + 1\n",
    "    return n\n",
    "\n",
    "print(f(5, (10*2) < 9))\n",
    "```"
   ]
  },
  {
   "cell_type": "code",
   "execution_count": 474,
   "metadata": {},
   "outputs": [
    {
     "name": "stdout",
     "output_type": "stream",
     "text": [
      "Number of correct responses:\n",
      "Functions4_points\n",
      "0    1560\n",
      "1     411\n",
      "Name: count, dtype: int64\n",
      "\n",
      "Top 5 most common answers:\n",
      "Functions4\n",
      "I don't know    1384\n",
      "5.0              411\n",
      "6.0               37\n",
      "0.0                9\n",
      "2.0                2\n",
      "Name: count, dtype: int64\n"
     ]
    }
   ],
   "source": [
    "print_task_result(\"Functions4\", df)"
   ]
  },
  {
   "cell_type": "markdown",
   "metadata": {},
   "source": [
    "### Functions 5\n",
    "What does this code snippet print?\n",
    "\n",
    "```python\n",
    "def f(n):\n",
    "    while n < 10:\n",
    "        n = n + 1\n",
    "    return n\n",
    "\n",
    "print(f(5))\n",
    "```"
   ]
  },
  {
   "cell_type": "code",
   "execution_count": 475,
   "metadata": {},
   "outputs": [
    {
     "name": "stdout",
     "output_type": "stream",
     "text": [
      "Number of correct responses:\n",
      "Functions5_points\n",
      "0    1510\n",
      "1     461\n",
      "Name: count, dtype: int64\n",
      "\n",
      "Top 5 most common answers:\n",
      "Functions5\n",
      "I don't know    1050\n",
      "10.0             461\n",
      "6.0              160\n",
      "9.0               78\n",
      "5.0               58\n",
      "Name: count, dtype: int64\n"
     ]
    }
   ],
   "source": [
    "print_task_result(\"Functions5\", df)"
   ]
  },
  {
   "cell_type": "markdown",
   "metadata": {},
   "source": [
    "### Functions 6\n",
    "What does this code snippet print?\n",
    "\n",
    "```python\n",
    "def f(s, ls):\n",
    "    for e in ls:\n",
    "        s = s + e\n",
    "    return s\n",
    "\n",
    "print(f('abc', ['x', 'y', 'z']))\n",
    "```"
   ]
  },
  {
   "cell_type": "code",
   "execution_count": 476,
   "metadata": {},
   "outputs": [
    {
     "name": "stdout",
     "output_type": "stream",
     "text": [
      "Number of correct responses:\n",
      "Functions6_points\n",
      "0    1632\n",
      "1     339\n",
      "Name: count, dtype: int64\n",
      "\n",
      "Top 5 most common answers:\n",
      "Functions6\n",
      "I don't know    1454\n",
      "abcxyz           333\n",
      "abc                9\n",
      "abcxabcyabcz       8\n",
      "Abcxyz             6\n",
      "Name: count, dtype: int64\n"
     ]
    }
   ],
   "source": [
    "print_task_result(\"Functions6\", df)"
   ]
  },
  {
   "cell_type": "markdown",
   "metadata": {},
   "source": [
    "### Functions 7\n",
    "What does this code snippet print?\n",
    "\n",
    "```python\n",
    "def f(n, ls):\n",
    "    return ls[n]\n",
    "\n",
    "print(f(2, ['a', 'b', 'c']))\n",
    "```"
   ]
  },
  {
   "cell_type": "code",
   "execution_count": 477,
   "metadata": {},
   "outputs": [
    {
     "name": "stdout",
     "output_type": "stream",
     "text": [
      "Number of correct responses:\n",
      "Functions7_points\n",
      "0    1570\n",
      "1     401\n",
      "Name: count, dtype: int64\n",
      "\n",
      "Top 5 most common answers:\n",
      "Functions7\n",
      "I don't know    1367\n",
      "c                390\n",
      "b                 44\n",
      "C                 11\n",
      "2                  9\n",
      "Name: count, dtype: int64\n"
     ]
    }
   ],
   "source": [
    "print_task_result(\"Functions7\", df)"
   ]
  },
  {
   "cell_type": "markdown",
   "metadata": {},
   "source": [
    "### Functions 8\n",
    "What does this code snippet print?\n",
    "\n",
    "```python\n",
    "def f(n, ls):\n",
    "    return ls[1] + n\n",
    "\n",
    "print(f(5, [10, 20, 30]))\n",
    "```"
   ]
  },
  {
   "cell_type": "code",
   "execution_count": 478,
   "metadata": {},
   "outputs": [
    {
     "name": "stdout",
     "output_type": "stream",
     "text": [
      "Number of correct responses:\n",
      "Functions8_points\n",
      "0    1538\n",
      "1     433\n",
      "Name: count, dtype: int64\n",
      "\n",
      "Top 5 most common answers:\n",
      "Functions8\n",
      "I don't know    1328\n",
      "25.0             433\n",
      "15.0              66\n",
      "152535.0           7\n",
      "65.0               6\n",
      "Name: count, dtype: int64\n"
     ]
    }
   ],
   "source": [
    "print_task_result(\"Functions8\", df)"
   ]
  },
  {
   "cell_type": "markdown",
   "metadata": {},
   "source": [
    "### Functions 9\n",
    "What does this code snippet print?\n",
    "\n",
    "```python\n",
    "def f(n, ls):\n",
    "    for e in ls:\n",
    "        ls[n] = ls[n] + e\n",
    "    return ls[n]\n",
    "\n",
    "print(f(1, [10, 20, 30]))\n",
    "```"
   ]
  },
  {
   "cell_type": "code",
   "execution_count": 479,
   "metadata": {},
   "outputs": [
    {
     "name": "stdout",
     "output_type": "stream",
     "text": [
      "Number of correct responses:\n",
      "Functions9_points\n",
      "0    1884\n",
      "1      87\n",
      "Name: count, dtype: int64\n",
      "\n",
      "Top 5 most common answers:\n",
      "Functions9\n",
      "I don't know    1459\n",
      "80.0             144\n",
      "90.0              87\n",
      "21.0              22\n",
      "60.0              20\n",
      "Name: count, dtype: int64\n"
     ]
    }
   ],
   "source": [
    "print_task_result(\"Functions9\", df)"
   ]
  },
  {
   "cell_type": "markdown",
   "metadata": {},
   "source": [
    "# Programming Concept Dependence\n",
    "Many of the tasks utilize concepts tested in earlier tasks. To better understand how well "
   ]
  },
  {
   "cell_type": "code",
   "execution_count": 480,
   "metadata": {},
   "outputs": [],
   "source": [
    "import networkx as nx\n",
    "import matplotlib.pyplot as plt"
   ]
  },
  {
   "cell_type": "code",
   "execution_count": 481,
   "metadata": {},
   "outputs": [],
   "source": [
    "# Define the tasks and the which other task they depend on\n",
    "tasks = {        \n",
    "    'Conditionals1': {'2 > 7'},\n",
    "    'Conditionals2': {'100 != 100'},\n",
    "    'Conditionals3': {'(10*2) < 9', '100 == 100'},\n",
    "    'Conditionals4': {'(1 + 3) < (2*3)', '100 == 100'},\n",
    "    \n",
    "    'Loops1': {'Operators4', 'n < 10'},\n",
    "    'Loops2': {'Operators4', 'n < 10'},\n",
    "    'Loops3': {'Operators4', 'n < 10'},\n",
    "    'Loops4': {'Operators4', '(n < 7) and (4 > n)'},\n",
    "    'Loops5': {},\n",
    "    'Loops6': {'Conditionals1', 'Loops5'},\n",
    "    'Loops7': {'Operators5', 'Loops5'},\n",
    "\n",
    "    'Lists1': {},\n",
    "    'Lists2': {'Lists1'},\n",
    "    'Lists3a': {'Lists2'},\n",
    "    'Lists3b': {'Lists2'},\n",
    "    \n",
    "    'Functions1': {'Operators1'},\n",
    "    'Functions2': {'Conditionals1', '100 == 100'},\n",
    "    'Functions3': {'Conditionals4'},\n",
    "    'Functions4': {'Operators4', '(10*2) < 9', 'Conditionals1'},\n",
    "    'Functions5': {'Loops1'},\n",
    "    'Functions6': {'Loops7'},\n",
    "    'Functions7': {'Lists1'},\n",
    "    'Functions8': {'Lists2'},\n",
    "    'Functions9': {'Lists3a', 'Lists3b', 'Loops5'},\n",
    "}"
   ]
  },
  {
   "cell_type": "code",
   "execution_count": 482,
   "metadata": {},
   "outputs": [],
   "source": [
    "# Graph\n",
    "# Initialize a directed graph (DAG)\n",
    "G = nx.DiGraph()\n",
    "\n",
    "# Add all tasks as nodes\n",
    "G.add_nodes_from(tasks.keys())"
   ]
  },
  {
   "cell_type": "code",
   "execution_count": 483,
   "metadata": {},
   "outputs": [],
   "source": [
    "# Add nodes and edges to the graph based on dependencies\n",
    "for task, dependencies in tasks.items():\n",
    "    for dependency in dependencies:\n",
    "        # Add an edge from each dependency to the task\n",
    "        G.add_edge(dependency, task)"
   ]
  },
  {
   "cell_type": "code",
   "execution_count": 484,
   "metadata": {},
   "outputs": [
    {
     "data": {
      "image/png": "[encoded data removed]",
      "text/plain": [
       "<Figure size 1200x1000 with 1 Axes>"
      ]
     },
     "metadata": {},
     "output_type": "display_data"
    }
   ],
   "source": [
    "# Draw the graph\n",
    "plt.figure(figsize=(12, 10))\n",
    "pos = nx.spring_layout(G)  # Positions for all nodes\n",
    "nx.draw(G, pos, with_labels=True, node_color='lightgreen', node_size=2000, font_size=10, font_weight='bold', arrows=True)\n",
    "plt.title('Task Dependency Graph', fontsize=16)\n",
    "plt.show()"
   ]
  },
  {
   "cell_type": "code",
   "execution_count": 485,
   "metadata": {},
   "outputs": [],
   "source": [
    "def print_dependences(task):\n",
    "    try:\n",
    "        dependes = dependencies(task)\n",
    "    except:\n",
    "        dependes = []\n",
    "    print(f'The task {task} has the following dependencies: {dependes}')\n",
    "    n_correct = len(df[(df[task+'_points'] != 0)])\n",
    "    print(f'Total number of students that managed task \"{task}\": {n_correct} / {len(df)}')\n",
    "\n",
    "    if len(dependes) > 0: \n",
    "        print(f'How many students managed the dependent tasks?')\n",
    "        for depend_task in dependes:\n",
    "            n_correct = len(df[(df[depend_task+'_points'] != 0)])\n",
    "            print(f'Total number of students that managed task \"{depend_task}\": {n_correct} / {len(df)}')\n",
    "            task_df = df[(df[depend_task+'_points'] != 0)]\n",
    "\n",
    "        print()\n",
    "        n_correct = len(task_df[(task_df[task+'_points'] != 0)])\n",
    "        n_total = len(task_df)\n",
    "        print(f'Of all the students that managed all dependent tasks {n_correct} out of {n_total} managed \"{task}\"')\n",
    "        print(f'This indicates that {n_total - n_correct} struggle with the non dependent concept in \"{task}\"')\n",
    "\n",
    "def print_simple_dependeces(task):\n",
    "    try:\n",
    "        dependes = dependencies(task)\n",
    "        if len(dependes) == 0:\n",
    "            print('No dependence')\n",
    "            return\n",
    "    except:\n",
    "        print('No dependence')\n",
    "        return\n",
    "        \n",
    "    print(f'#### {task} ###')\n",
    "    total_correct = len(df[(df[task+'_points'] != 0)])\n",
    "    total_correct_percentage = round((total_correct / len(df)) * 100, 1)\n",
    "    task_df = df\n",
    "    for depend_task in dependes:\n",
    "        task_df = task_df[(task_df[depend_task+'_points'] != 0)]\n",
    "    dependent_correct = len(task_df)\n",
    "    dependent_correct_percentage = round((dependent_correct / len(df)) * 100, 1)\n",
    "    print('{:40s} {:50s} {:5d} {:5s}'.format('Correctly answered', task, total_correct, '('+str(total_correct_percentage)+'%)'))\n",
    "    print('{:40s} {:50s} {:5d} {:5s}'.format('Correctly answered dependent tasks', str(dependes), dependent_correct, '('+str(dependent_correct_percentage)+'%)'))\n",
    "    task_df = task_df[(task_df[task+'_points'] == 0)]\n",
    "    task_percentage = round((len(task_df) / dependent_correct) * 100, 1)\n",
    "    print('{:40s} {:50s} {:5d} {:5s}'.format('Managed dependent tasks, but failed', task, len(task_df), '('+str(task_percentage)+'%)'))\n",
    "    \n",
    "\n",
    "def dependencies(task):\n",
    "    dependency_list = []\n",
    "    for dependency in tasks[task]:\n",
    "        try:\n",
    "            dependency_list =+ dependencies(dependency)\n",
    "        except:\n",
    "            dependency_list.append(dependency)\n",
    "    return dependency_list"
   ]
  },
  {
   "cell_type": "code",
   "execution_count": 486,
   "metadata": {},
   "outputs": [
    {
     "name": "stdout",
     "output_type": "stream",
     "text": [
      "#### Conditionals1 ###\n",
      "Correctly answered                       Conditionals1                                       1343 (68.1%)\n",
      "Correctly answered dependent tasks       ['2 > 7']                                           1732 (87.9%)\n",
      "Managed dependent tasks, but failed      Conditionals1                                        443 (25.6%)\n",
      "\n",
      "\n",
      "#### Conditionals2 ###\n",
      "Correctly answered                       Conditionals2                                        982 (49.8%)\n",
      "Correctly answered dependent tasks       ['100 != 100']                                      1068 (54.2%)\n",
      "Managed dependent tasks, but failed      Conditionals2                                        208 (19.5%)\n",
      "\n",
      "\n",
      "#### Conditionals3 ###\n",
      "Correctly answered                       Conditionals3                                       1109 (56.3%)\n",
      "Correctly answered dependent tasks       ['100 == 100', '(10*2) < 9']                        1483 (75.2%)\n",
      "Managed dependent tasks, but failed      Conditionals3                                        438 (29.5%)\n",
      "\n",
      "\n",
      "#### Conditionals4 ###\n",
      "Correctly answered                       Conditionals4                                       1100 (55.8%)\n",
      "Correctly answered dependent tasks       ['(1 + 3) < (2*3)', '100 == 100']                   1473 (74.7%)\n",
      "Managed dependent tasks, but failed      Conditionals4                                        442 (30.0%)\n",
      "\n",
      "\n",
      "#### Loops1 ###\n",
      "Correctly answered                       Loops1                                               666 (33.8%)\n",
      "Correctly answered dependent tasks       ['n < 10', 'Operators4']                            1125 (57.1%)\n",
      "Managed dependent tasks, but failed      Loops1                                               532 (47.3%)\n",
      "\n",
      "\n",
      "#### Loops2 ###\n",
      "Correctly answered                       Loops2                                               625 (31.7%)\n",
      "Correctly answered dependent tasks       ['n < 10', 'Operators4']                            1125 (57.1%)\n",
      "Managed dependent tasks, but failed      Loops2                                               562 (50.0%)\n",
      "\n",
      "\n",
      "#### Loops3 ###\n",
      "Correctly answered                       Loops3                                               934 (47.4%)\n",
      "Correctly answered dependent tasks       ['n < 10', 'Operators4']                            1125 (57.1%)\n",
      "Managed dependent tasks, but failed      Loops3                                               340 (30.2%)\n",
      "\n",
      "\n",
      "#### Loops4 ###\n",
      "Correctly answered                       Loops4                                               546 (27.7%)\n",
      "Correctly answered dependent tasks       ['Operators4', '(n < 7) and (4 > n)']               1077 (54.6%)\n",
      "Managed dependent tasks, but failed      Loops4                                               585 (54.3%)\n",
      "\n",
      "\n",
      "No dependence\n",
      "\n",
      "\n",
      "#### Loops6 ###\n",
      "Correctly answered                       Loops6                                               438 (22.2%)\n",
      "Correctly answered dependent tasks       ['Conditionals1', 'Loops5']                          485 (24.6%)\n",
      "Managed dependent tasks, but failed      Loops6                                                77 (15.9%)\n",
      "\n",
      "\n",
      "#### Loops7 ###\n",
      "Correctly answered                       Loops7                                               370 (18.8%)\n",
      "Correctly answered dependent tasks       ['Operators5', 'Loops5']                             347 (17.6%)\n",
      "Managed dependent tasks, but failed      Loops7                                                49 (14.1%)\n",
      "\n",
      "\n",
      "No dependence\n",
      "\n",
      "\n",
      "#### Lists2 ###\n",
      "Correctly answered                       Lists2                                               572 (29.0%)\n",
      "Correctly answered dependent tasks       ['Lists1']                                           579 (29.4%)\n",
      "Managed dependent tasks, but failed      Lists2                                                21 (3.6%)\n",
      "\n",
      "\n",
      "#### Lists3a ###\n",
      "Correctly answered                       Lists3a                                              988 (50.1%)\n",
      "Correctly answered dependent tasks       ['Lists2']                                           572 (29.0%)\n",
      "Managed dependent tasks, but failed      Lists3a                                               29 (5.1%)\n",
      "\n",
      "\n",
      "#### Lists3b ###\n",
      "Correctly answered                       Lists3b                                              520 (26.4%)\n",
      "Correctly answered dependent tasks       ['Lists2']                                           572 (29.0%)\n",
      "Managed dependent tasks, but failed      Lists3b                                               75 (13.1%)\n",
      "\n",
      "\n",
      "#### Functions1 ###\n",
      "Correctly answered                       Functions1                                           878 (44.5%)\n",
      "Correctly answered dependent tasks       ['Operators1']                                      1619 (82.1%)\n",
      "Managed dependent tasks, but failed      Functions1                                           792 (48.9%)\n",
      "\n",
      "\n",
      "#### Functions2 ###\n",
      "Correctly answered                       Functions2                                           591 (30.0%)\n",
      "Correctly answered dependent tasks       ['Conditionals1', '100 == 100']                     1231 (62.5%)\n",
      "Managed dependent tasks, but failed      Functions2                                           674 (54.8%)\n",
      "\n",
      "\n",
      "#### Functions3 ###\n",
      "Correctly answered                       Functions3                                           302 (15.3%)\n",
      "Correctly answered dependent tasks       ['Conditionals4']                                   1100 (55.8%)\n",
      "Managed dependent tasks, but failed      Functions3                                           865 (78.6%)\n",
      "\n",
      "\n",
      "#### Functions4 ###\n",
      "Correctly answered                       Functions4                                           411 (20.9%)\n",
      "Correctly answered dependent tasks       ['Operators4', '(10*2) < 9', 'Conditionals1']       1005 (51.0%)\n",
      "Managed dependent tasks, but failed      Functions4                                           617 (61.4%)\n",
      "\n",
      "\n",
      "#### Functions5 ###\n",
      "Correctly answered                       Functions5                                           461 (23.4%)\n",
      "Correctly answered dependent tasks       ['Loops1']                                           666 (33.8%)\n",
      "Managed dependent tasks, but failed      Functions5                                           231 (34.7%)\n",
      "\n",
      "\n",
      "#### Functions6 ###\n",
      "Correctly answered                       Functions6                                           339 (17.2%)\n",
      "Correctly answered dependent tasks       ['Loops7']                                           370 (18.8%)\n",
      "Managed dependent tasks, but failed      Functions6                                            67 (18.1%)\n",
      "\n",
      "\n",
      "#### Functions7 ###\n",
      "Correctly answered                       Functions7                                           401 (20.3%)\n",
      "Correctly answered dependent tasks       ['Lists1']                                           579 (29.4%)\n",
      "Managed dependent tasks, but failed      Functions7                                           196 (33.9%)\n",
      "\n",
      "\n",
      "#### Functions8 ###\n",
      "Correctly answered                       Functions8                                           433 (22.0%)\n",
      "Correctly answered dependent tasks       ['Lists2']                                           572 (29.0%)\n",
      "Managed dependent tasks, but failed      Functions8                                           158 (27.6%)\n",
      "\n",
      "\n",
      "#### Functions9 ###\n",
      "Correctly answered                       Functions9                                            87 (4.4%)\n",
      "Correctly answered dependent tasks       ['Loops5', 'Lists3a', 'Lists3b']                     369 (18.7%)\n",
      "Managed dependent tasks, but failed      Functions9                                           290 (78.6%)\n",
      "\n",
      "\n"
     ]
    }
   ],
   "source": [
    "for task in tasks:\n",
    "    print_simple_dependeces(task)\n",
    "    print()\n",
    "    print()"
   ]
  },
  {
   "cell_type": "code",
   "execution_count": null,
   "metadata": {},
   "outputs": [],
   "source": []
  }
 ],
 "metadata": {
  "kernelspec": {
   "display_name": "Python 3 (ipykernel)",
   "language": "python",
   "name": "python3"
  },
  "language_info": {
   "codemirror_mode": {
    "name": "ipython",
    "version": 3
   },
   "file_extension": ".py",
   "mimetype": "text/x-python",
   "name": "python",
   "nbconvert_exporter": "python",
   "pygments_lexer": "ipython3",
   "version": "3.8.1"
  }
 },
 "nbformat": 4,
 "nbformat_minor": 4
}
