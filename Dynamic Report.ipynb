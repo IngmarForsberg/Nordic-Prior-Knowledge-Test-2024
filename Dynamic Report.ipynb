{
 "cells": [
  {
   "cell_type": "markdown",
   "metadata": {},
   "source": [
    "# The Nordic Prior Knowledge Test in Programming\n",
    "**Author**: [Sondre Sæther Bolland](https://www.uib.no/personer/Sondre.S%C3%A6ther.Bolland)\n",
    "\n",
    "**Institution**: Department of Informatics, University of Bergen\n",
    "\n",
    "**Email**: sondre.bolland@uib.no"
   ]
  },
  {
   "cell_type": "markdown",
   "metadata": {},
   "source": [
    "## Introduction\n",
    "The Nordic Prior Knowledge Test in Programming is a tool for assessing students’ programming skill. The test covers the fundamental elements of introductory programming taught at different universities and university colleges in Norway and Sweden. By testing the students in the concepts found in CS1 we aim for instructors to be better able to develop and adapt their courses to this new found prior knowledge.\n",
    "\n",
    "This Notebook is a dynamic report of the results from 2024, designed to effectivly convey the findings of the test at the start of the semester. The (static) written report will be published sometime fall 2024 here: https://programmeringstesten.no/ "
   ]
  },
  {
   "cell_type": "markdown",
   "metadata": {},
   "source": [
    "### Imports"
   ]
  },
  {
   "cell_type": "code",
   "execution_count": 70,
   "metadata": {},
   "outputs": [],
   "source": [
    "import numpy as np\n",
    "import pandas as pd\n",
    "import matplotlib.pyplot as plt\n",
    "from matplotlib.ticker import PercentFormatter"
   ]
  },
  {
   "cell_type": "markdown",
   "metadata": {},
   "source": [
    "### Data\n",
    "Before using this notebook two python scripts need to be run. A requirement to run these scripts is to have the csv file with the original dataset: `total.csv`. This must be placed in the `data` folder in the main directory (where this Notebook is located).\n",
    "\n",
    "`clean_data.py` cleans certain columns for ambigious data and renames columns for analysis.\n",
    "\n",
    "`grade_submissions.py` grades each question based on the rubric (`rubric.json`)."
   ]
  },
  {
   "cell_type": "code",
   "execution_count": 71,
   "metadata": {},
   "outputs": [
    {
     "name": "stdout",
     "output_type": "stream",
     "text": [
      "Replace escape characters: dict_items([('&lt;', '<'), ('&gt;', '>'), ('&#61;', '='), ('&#34;', '\"'), ('&#43;', '+')])\n",
      "Replace all ambigious genders with standardized labels: ['m', 'f'] (other gender identities are not included)\n",
      "Rename columns with simpler titles. Easier to use in analysis.\n",
      "Removed all genders that are not in: ['m', 'f']. The other gender identities do not have a large enough sample size for valid statistical analysis.\n",
      "Max score: 51.79999999999998\n",
      "Submissions to be graded: 24\n",
      "Submissions graded.\n"
     ]
    }
   ],
   "source": [
    "!python clean_data.py\n",
    "!python grade_submissions.py"
   ]
  },
  {
   "cell_type": "markdown",
   "metadata": {},
   "source": [
    "### Dataset"
   ]
  },
  {
   "cell_type": "code",
   "execution_count": 72,
   "metadata": {},
   "outputs": [],
   "source": [
    "# Specify the path of the data file\n",
    "path = \"data/\"\n",
    "filename = path + \"results.csv\"\n",
    "df = pd.read_csv(filename, on_bad_lines=\"skip\", delimiter=\";\", encoding=\"utf8\")\n",
    "\n",
    "# Remove all students who have taken a university level course\n",
    "df = df[(df['UniversityExperience'] == 'Nei')]"
   ]
  },
  {
   "cell_type": "markdown",
   "metadata": {},
   "source": [
    "### Filter the dataframe\n",
    "Do you want to look at a specific subset of students?\n",
    "Use the next cell to filter the students based on your criteria.\n",
    "\n",
    "To reset the dataframe, simply run the cell above."
   ]
  },
  {
   "cell_type": "code",
   "execution_count": 73,
   "metadata": {},
   "outputs": [],
   "source": [
    "# Filter by institution\n",
    "specific_institutions = ['UiO'] # 'UiB', 'NTNU', 'UiS', 'HvL', 'UiO', 'Kristiania', 'NMBU', 'OsloMet'\n",
    "#df = df[(df['Institution'].isin(specific_institutions))]"
   ]
  },
  {
   "cell_type": "code",
   "execution_count": 74,
   "metadata": {},
   "outputs": [],
   "source": [
    "# Filter by Graduate Year\n",
    "specific_graduateyears = [2020, 2021, 2022, 2023, 2024]\n",
    "#df = df[(df['GraduateYear'].isin(specific_graduateyears))]"
   ]
  },
  {
   "cell_type": "code",
   "execution_count": 75,
   "metadata": {},
   "outputs": [],
   "source": [
    "# Filter by Gender\n",
    "specific_genders = ['f', 'm', ' '] # 'f', 'm', ' '\n",
    "#df = df[(df['Gender'].isin(specific_genders))]"
   ]
  },
  {
   "cell_type": "markdown",
   "metadata": {},
   "source": [
    "## Demographics\n",
    "See the background of the students. Note that there are a large number of submissions that are blank for some of the following items. This is due to the students submitting ambigious answers, which have not been labled correctly by `clean_data.py`."
   ]
  },
  {
   "cell_type": "code",
   "execution_count": 76,
   "metadata": {},
   "outputs": [
    {
     "name": "stdout",
     "output_type": "stream",
     "text": [
      "The dataset has 20 student submissions.\n"
     ]
    }
   ],
   "source": [
    "# Total number of students\n",
    "print(f\"The dataset has {len(df['Total'])} student submissions.\")"
   ]
  },
  {
   "cell_type": "markdown",
   "metadata": {},
   "source": [
    "\n",
    "### Institutions"
   ]
  },
  {
   "cell_type": "code",
   "execution_count": 77,
   "metadata": {},
   "outputs": [
    {
     "name": "stdout",
     "output_type": "stream",
     "text": [
      "Institution\n",
      "Norges teknisk-naturvitenskapelige universitet (NTNU)    20\n",
      "Name: count, dtype: int64\n"
     ]
    },
    {
     "data": {
      "text/plain": [
       "<Axes: ylabel='count'>"
      ]
     },
     "execution_count": 77,
     "metadata": {},
     "output_type": "execute_result"
    },
    {
     "data": {
      "image/png": "[encoded data removed]",
      "text/plain": [
       "<Figure size 640x480 with 1 Axes>"
      ]
     },
     "metadata": {},
     "output_type": "display_data"
    }
   ],
   "source": [
    "institutions = df.Institution.unique()\n",
    "\n",
    "institution_column = \"Institution\"\n",
    "print(df[institution_column].value_counts())\n",
    "df[institution_column].value_counts().plot.pie()"
   ]
  },
  {
   "cell_type": "markdown",
   "metadata": {},
   "source": [
    "### Graduate Year"
   ]
  },
  {
   "cell_type": "code",
   "execution_count": 78,
   "metadata": {},
   "outputs": [
    {
     "name": "stdout",
     "output_type": "stream",
     "text": [
      "GraduateYear\n",
      "2022    7\n",
      "2021    5\n",
      "2023    5\n",
      "2024    3\n",
      "Name: count, dtype: int64\n"
     ]
    },
    {
     "data": {
      "text/plain": [
       "<Axes: ylabel='count'>"
      ]
     },
     "execution_count": 78,
     "metadata": {},
     "output_type": "execute_result"
    },
    {
     "data": {
      "image/png": "[encoded data removed]",
      "text/plain": [
       "<Figure size 640x480 with 1 Axes>"
      ]
     },
     "metadata": {},
     "output_type": "display_data"
    }
   ],
   "source": [
    "years = df.GraduateYear.unique()\n",
    "\n",
    "graduateyear_column = \"GraduateYear\"\n",
    "print(df[graduateyear_column].value_counts())\n",
    "df[graduateyear_column].value_counts().plot.pie()"
   ]
  },
  {
   "cell_type": "markdown",
   "metadata": {},
   "source": [
    "### Gender"
   ]
  },
  {
   "cell_type": "code",
   "execution_count": 79,
   "metadata": {},
   "outputs": [
    {
     "name": "stdout",
     "output_type": "stream",
     "text": [
      "Gender\n",
      "m    15\n",
      "f     5\n",
      "Name: count, dtype: int64\n",
      "Gender\n",
      "m    0.75\n",
      "f    0.25\n",
      "Name: proportion, dtype: float64\n"
     ]
    },
    {
     "data": {
      "text/plain": [
       "<Axes: ylabel='count'>"
      ]
     },
     "execution_count": 79,
     "metadata": {},
     "output_type": "execute_result"
    },
    {
     "data": {
      "image/png": "[encoded data removed]",
      "text/plain": [
       "<Figure size 640x480 with 1 Axes>"
      ]
     },
     "metadata": {},
     "output_type": "display_data"
    }
   ],
   "source": [
    "genders = df.Gender.unique()\n",
    "gender_column = \"Gender\"\n",
    "\n",
    "print(df[gender_column].value_counts())\n",
    "print(df[gender_column].value_counts(normalize=True))\n",
    "df[gender_column].value_counts().plot.pie()"
   ]
  },
  {
   "cell_type": "markdown",
   "metadata": {},
   "source": [
    "## Educational Background\n",
    "What experiences with programming do these students have? \n",
    "\n",
    "### Elective Programming Courses\n",
    "During the secondary school phase, students have the option to take three elective courses in programming: *Information Technology 1* (IT1), *Information Technology 2* (IT2), and *Programming and Modelling X* (PMX). "
   ]
  },
  {
   "cell_type": "code",
   "execution_count": 80,
   "metadata": {},
   "outputs": [],
   "source": [
    "# Make new column for NO elective programming course\n",
    "courses = ['Informasjonsteknologi 1 (IT1)', 'Informasjonsteknologi 2 (IT2)', 'Programmering og modellering X']\n",
    "df_temp = df[(~df['IT1'].isin(courses))]\n",
    "df_temp = df_temp[(~df_temp['IT2'].isin(courses))]\n",
    "df_temp = df_temp[(~df_temp['PMX'].isin(courses))]\n",
    "df_temp['NoElective'] = ~df_temp['IT1'].isin(courses)\n",
    "\n",
    "df['NoElective'] = df_temp['NoElective']"
   ]
  },
  {
   "cell_type": "code",
   "execution_count": 81,
   "metadata": {},
   "outputs": [
    {
     "data": {
      "image/png": "[encoded data removed]",
      "text/plain": [
       "<Figure size 640x480 with 1 Axes>"
      ]
     },
     "metadata": {},
     "output_type": "display_data"
    }
   ],
   "source": [
    "fig, ax = plt.subplots()\n",
    "\n",
    "courses = ['IT1', 'IT2', 'PMX', 'No Electives']\n",
    "n_it1 = df['IT1'].value_counts()['Informasjonsteknologi 1 (IT1)']\n",
    "n_it2 = df['IT2'].value_counts()['Informasjonsteknologi 2 (IT2)']\n",
    "n_pmx = df['PMX'].value_counts()['Programmering og modellering X']\n",
    "n_noelectives = df['NoElective'].value_counts()[True]\n",
    "counts = [n_it1, n_it2, n_pmx, n_noelectives]\n",
    "\n",
    "ax.bar(courses, counts)\n",
    "ax.set_ylabel('Students')\n",
    "ax.set_title('Courses')\n",
    "\n",
    "plt.show()"
   ]
  },
  {
   "cell_type": "markdown",
   "metadata": {},
   "source": [
    "### Math Courses\n",
    "The most common math courses available in secondary school are:\n",
    " * Practical Math 1 (1P)\n",
    " * Practical Math 2 (2P)\n",
    " * Theoretical Math 1 (1T)\n",
    " * Social Science Math 1 (S1)\n",
    " * Social Science Math 2 (S2)\n",
    " * Natural Science Math 1 (R1)\n",
    " * Natural Science Math 2 (R2)\n",
    "\n",
    "The majority of students who took the test belonged to STEM fields, where the typical admission requirement includes S1 and S2 or R1 mathematics. Certain math-intensive study programs may also demand R2 mathematics. Notably, most students had completed the Natural Science Math courses (see plot below), which is the most advanced option."
   ]
  },
  {
   "cell_type": "code",
   "execution_count": 82,
   "metadata": {},
   "outputs": [
    {
     "data": {
      "image/png": "[encoded data removed]",
      "text/plain": [
       "<Figure size 640x480 with 1 Axes>"
      ]
     },
     "metadata": {},
     "output_type": "display_data"
    }
   ],
   "source": [
    "fig, ax = plt.subplots()\n",
    "\n",
    "courses = ['1P', '2P', '1T', 'S1', 'S2', 'R1', 'R2']\n",
    "gotten_courses = []\n",
    "counts = []\n",
    "for course in courses:\n",
    "    try:\n",
    "        count = df[course].value_counts()[course]\n",
    "        counts.append(count)\n",
    "        gotten_courses.append(course)\n",
    "    except:\n",
    "        continue\n",
    "\n",
    "ax.bar(gotten_courses, counts)\n",
    "ax.set_ylabel('Students')\n",
    "ax.set_title('Courses')\n",
    "\n",
    "plt.show()"
   ]
  },
  {
   "cell_type": "markdown",
   "metadata": {},
   "source": [
    "### Experience outside of school\n",
    "A source of programming knowledge is self-directed learning outside of formal education, where individuals independently explore the field, using resources like books and online materials. The following plot shows the distribution of students who report having at least 30 hours of outside experience with either block based or text based programming."
   ]
  },
  {
   "cell_type": "code",
   "execution_count": 83,
   "metadata": {},
   "outputs": [
    {
     "name": "stdout",
     "output_type": "stream",
     "text": [
      "OutsideExperience\n",
      "Nei    16\n",
      "Ja      4\n",
      "Name: count, dtype: int64\n",
      "OutsideExperience\n",
      "Nei    0.8\n",
      "Ja     0.2\n",
      "Name: proportion, dtype: float64\n"
     ]
    },
    {
     "data": {
      "text/plain": [
       "<Axes: ylabel='count'>"
      ]
     },
     "execution_count": 83,
     "metadata": {},
     "output_type": "execute_result"
    },
    {
     "data": {
      "image/png": "[encoded data removed]",
      "text/plain": [
       "<Figure size 640x480 with 1 Axes>"
      ]
     },
     "metadata": {},
     "output_type": "display_data"
    }
   ],
   "source": [
    "outside_column = \"OutsideExperience\"\n",
    "\n",
    "print(df[outside_column].value_counts())\n",
    "print(df[outside_column].value_counts(normalize=True))\n",
    "df[outside_column].value_counts().plot.pie()"
   ]
  },
  {
   "cell_type": "markdown",
   "metadata": {},
   "source": [
    "# Results\n",
    "In this section of the report, the main results are presented before a review of the background the students have on the various study paths and what connection there is between background and results. Later we take a close look at how well they performed in specific programming tasks to understand their grasp of the different concepts."
   ]
  },
  {
   "cell_type": "code",
   "execution_count": 84,
   "metadata": {},
   "outputs": [],
   "source": [
    "# Configurations\n",
    "bins = 25\n",
    "edgecolor = 'red'\n",
    "alpha = 0.5"
   ]
  },
  {
   "cell_type": "markdown",
   "metadata": {},
   "source": [
    "## Main Result\n",
    "A histogram of the total score of the students. Maximum score: 51.8."
   ]
  },
  {
   "cell_type": "code",
   "execution_count": 85,
   "metadata": {},
   "outputs": [
    {
     "name": "stdout",
     "output_type": "stream",
     "text": [
      "Mean: 22.7\n",
      "Standard deviation: 16.95\n"
     ]
    },
    {
     "data": {
      "image/png": "[encoded data removed]",
      "text/plain": [
       "<Figure size 640x480 with 1 Axes>"
      ]
     },
     "metadata": {},
     "output_type": "display_data"
    }
   ],
   "source": [
    "x = df['Total']\n",
    "\n",
    "mean = df.loc[:, 'Total'].mean()\n",
    "sd = df.loc[:, 'Total'].std()\n",
    "print(f'Mean: {round(mean, 3)}')\n",
    "print(f'Standard deviation: {round(sd, 3)}')\n",
    "\n",
    "\n",
    "plt.hist(x, edgecolor=edgecolor, bins=bins, range=[0, 52])\n",
    "plt.show() "
   ]
  },
  {
   "cell_type": "markdown",
   "metadata": {},
   "source": [
    "### Did the students find the test hard?\n",
    "We asked the students to rate the test's difficulty on a Likert scale from 1 (very easy) to 7 (very hard)"
   ]
  },
  {
   "cell_type": "code",
   "execution_count": 86,
   "metadata": {},
   "outputs": [
    {
     "data": {
      "text/plain": [
       "<Axes: xlabel='difficulty'>"
      ]
     },
     "execution_count": 86,
     "metadata": {},
     "output_type": "execute_result"
    },
    {
     "data": {
      "image/png": "[encoded data removed]",
      "text/plain": [
       "<Figure size 640x480 with 1 Axes>"
      ]
     },
     "metadata": {},
     "output_type": "display_data"
    }
   ],
   "source": [
    "df['difficulty'].value_counts().loc[['Lett', 'Litt lett', 'Nøytral', 'Litt vanskelig', 'Vanskelig', 'Veldig vanskelig']].plot.bar()\n",
    "# ['Veldig lett', 'Lett', 'Litt lett', 'Nøytral', 'Litt vanskelig', 'Vanskelig', 'Veldig vanskelig']"
   ]
  },
  {
   "cell_type": "code",
   "execution_count": 87,
   "metadata": {},
   "outputs": [],
   "source": [
    "def compare_distributions(x, y, x_label, y_label):\n",
    "    mean = x.mean()\n",
    "    sd = x.std()\n",
    "    print(f'Mean of {x_label}: {round(mean, 3)}')\n",
    "    print(f'Standard deviation of {x_label}: {round(sd, 3)}')\n",
    "    print()\n",
    "    \n",
    "    mean = y.mean()\n",
    "    sd = y.std()\n",
    "    print(f'Mean of {y_label}: {round(mean, 3)}')\n",
    "    print(f'Standard deviation of {y_label}: {round(sd, 3)}')\n",
    "    \n",
    "    plt.hist(x, bins=bins, alpha=alpha, edgecolor=edgecolor, label=x_label, weights=np.ones(len(x)) / len(x), range=[0, 52])\n",
    "    plt.hist(y, bins=bins, alpha=alpha, edgecolor=edgecolor, label=y_label, weights=np.ones(len(y)) / len(y), range=[0, 52])\n",
    "    plt.gca().yaxis.set_major_formatter(PercentFormatter(1))\n",
    "    plt.legend(loc='upper right')\n",
    "    plt.show()"
   ]
  },
  {
   "cell_type": "markdown",
   "metadata": {},
   "source": [
    "## Prior Programming Experience in Secondary School\n",
    "In the initial segment of the test, we inquired with the students regarding their prior exposure to\n",
    "programming before to commencing their higher education studies.\n",
    "\n",
    "### Graduation Year\n",
    "The educational reforms outlined in LK20 were introduced in the year 2020, resulting in programming becoming a compulsory component solely for those students who graduated in 2023 and onward."
   ]
  },
  {
   "cell_type": "code",
   "execution_count": 88,
   "metadata": {},
   "outputs": [
    {
     "name": "stdout",
     "output_type": "stream",
     "text": [
      "Mean of 2023 and 2024: 29.925\n",
      "Standard deviation of 2023 and 2024: 16.238\n",
      "\n",
      "Mean of before 2023: 17.883\n",
      "Standard deviation of before 2023: 16.285\n"
     ]
    },
    {
     "data": {
      "image/png": "[encoded data removed]",
      "text/plain": [
       "<Figure size 640x480 with 1 Axes>"
      ]
     },
     "metadata": {},
     "output_type": "display_data"
    }
   ],
   "source": [
    "x = df[(df['GraduateYear'].isin([2023, 2024]))]['Total']\n",
    "y = df[(~df['GraduateYear'].isin([2023, 2024]))]['Total']\n",
    "\n",
    "x_label = '2023 and 2024'\n",
    "y_label = 'before 2023'\n",
    "\n",
    "compare_distributions(x, y, x_label, y_label)"
   ]
  },
  {
   "cell_type": "markdown",
   "metadata": {},
   "source": [
    "### Gender"
   ]
  },
  {
   "cell_type": "code",
   "execution_count": 89,
   "metadata": {},
   "outputs": [
    {
     "name": "stdout",
     "output_type": "stream",
     "text": [
      "Mean of women: 9.48\n",
      "Standard deviation of women: 6.725\n",
      "\n",
      "Mean of men: 27.107\n",
      "Standard deviation of men: 17.14\n"
     ]
    },
    {
     "data": {
      "image/png": "[encoded data removed]",
      "text/plain": [
       "<Figure size 640x480 with 1 Axes>"
      ]
     },
     "metadata": {},
     "output_type": "display_data"
    }
   ],
   "source": [
    "x = df[(df['Gender'] == 'f')]['Total']\n",
    "y = df[(df['Gender'] == 'm')]['Total']\n",
    "\n",
    "x_label = 'women'\n",
    "y_label = 'men'\n",
    "\n",
    "compare_distributions(x, y, x_label, y_label)"
   ]
  },
  {
   "cell_type": "markdown",
   "metadata": {},
   "source": [
    "# Programming Tasks\n",
    "Each task featured in the test pertained to a designated concept category. The following cells show the number of correct answers and the most common answers for each task."
   ]
  },
  {
   "cell_type": "markdown",
   "metadata": {},
   "source": [
    "## Correctness rate for each concept category\n",
    "Below you can find the percentage of accurate responses achieved by the students for each concept.\n",
    "\n",
    "Note that performance within each category may not exclusively reflect the students’ mastery of that programming concept. Variability in task difficulty plays a substantial role, with some tasks naturally being easier than others, irrespective of the underlying concept."
   ]
  },
  {
   "cell_type": "code",
   "execution_count": 90,
   "metadata": {},
   "outputs": [],
   "source": [
    "def correctnes_rate(columns, category, task_weight=1):\n",
    "    correct_answer_rate = 0\n",
    "    for column in columns:\n",
    "        points_column = column + \"_points\"\n",
    "        task_mean = df.loc[:, points_column].mean()\n",
    "        correct_answer_rate += task_mean\n",
    "    correct_answer_rate /= len(columns)*task_weight\n",
    "    print(f'{category:15s} {correct_answer_rate*100:3.2f} %')"
   ]
  },
  {
   "cell_type": "code",
   "execution_count": 91,
   "metadata": {},
   "outputs": [
    {
     "name": "stdout",
     "output_type": "stream",
     "text": [
      "The students have the following average correctness rate for each concept category:\n",
      "Datatypes       67.50 %\n",
      "Booleans        52.08 %\n",
      "Variables       41.07 %\n",
      "Conditionals    61.25 %\n",
      "Loops           31.43 %\n",
      "Lists           42.50 %\n",
      "Functions       30.00 %\n"
     ]
    }
   ],
   "source": [
    "print(\"The students have the following average correctness rate for each concept category:\")\n",
    "\n",
    "# Datatypes\n",
    "datatype_columns = ['datatypes1', 'datatypes2', 'datatypes3', 'datatypes4']\n",
    "correctnes_rate(datatype_columns, \"Datatypes\")\n",
    "\n",
    "# Booleans\n",
    "boolean_columns = [\"100 == 100\", \"2 > 7\", \"(10 + 3) >= 13\", \"(10*2) < 9\", \"(1 + 3) < (2*3)\", \"(10.3 + 9) == (10.3 + 10)\",\t\"100 != 100\", \"(5 < 7) and (4 > 5)\", \"(5 < 7) or (4 > 5)\", \"(3 < 7) and (7 < 9)\", \"(3 < 7) or (7 < 9)\", \"not (100 != 100)\", \"True != True\", \"True and False\", \"True or False\" , \"True and True\", \"True or True\", \"not (True != True)\", \"n < 10\", \"100 == n\", \"(n < 7) and (4 > n)\", \"(n < 7) or (4 > n)\", \"n <= 5\", \"not (n < 10)\"]\n",
    "correctnes_rate(boolean_columns, \"Booleans\", task_weight=0.2)\n",
    "\n",
    "# Variables\n",
    "variable_columns = [\"Variables1a\", \"Variables1b\", \"Variables2a\", \"Variables2b\", \"Variables3a\", \"Variables3b\", \"Variables4a\", \"Variables4b\", \"Variables5a\", \"Variables5b\", \"Variables5c\", \"Variables6a\", \"Variables6b\", \"Variables6c\"]\n",
    "correctnes_rate(variable_columns, \"Variables\")\n",
    "\n",
    "# Conditionals\n",
    "conditional_columns = [\"Conditionals1\", \"Conditionals2\", \"Conditionals3\", \"Conditionals4\"]\n",
    "correctnes_rate(conditional_columns, \"Conditionals\")\n",
    "\n",
    "# Loops\n",
    "loop_columns = [\"Loops1\", \"Loops2\", \"Loops3\", \"Loops4\", \"Loops5\", \"Loops6\", \"Loops7\"]\n",
    "correctnes_rate(loop_columns, \"Loops\")\n",
    "\n",
    "# Lists\n",
    "list_columns = [\"Lists1\", \"Lists2\", \"Lists3a\", \"Lists3b\"]\n",
    "correctnes_rate(list_columns, \"Lists\")\n",
    "\n",
    "# Functions\n",
    "function_columns = [\"Functions1\", \"Functions2\", \"Functions3\", \"Functions4\", \"Functions5\", \"Functions6\", \"Functions7\", \"Functions8\", \"Functions9\"]\n",
    "correctnes_rate(function_columns, \"Functions\")"
   ]
  },
  {
   "cell_type": "markdown",
   "metadata": {},
   "source": [
    "## Tasks\n",
    "To gain a deeper understanding of the students’ knowledge and comprehension of specific programming concepts, it is important to analyze their performance on these concepts. "
   ]
  },
  {
   "cell_type": "code",
   "execution_count": 92,
   "metadata": {},
   "outputs": [],
   "source": [
    "def print_task_result(task_column, df, n_answers=5, verbose_correct_answers=True):\n",
    "    '''\n",
    "    Print number of correct (1) and incorrect (0) responses.\n",
    "    Print the top 5 most common answers.\n",
    "    '''\n",
    "    if verbose_correct_answers:\n",
    "        task_point_column = task_column + \"_points\"\n",
    "        print(\"Number of correct responses:\")\n",
    "        print(df[task_point_column].value_counts())\n",
    "        print()\n",
    "    \n",
    "    print(f\"Top {n_answers} most common answers:\")\n",
    "    print(df[task_column].value_counts()[:n_answers])"
   ]
  },
  {
   "cell_type": "markdown",
   "metadata": {},
   "source": [
    "# Datatypes\n",
    "What datatype do the following variables have?\n",
    "```python\n",
    "a = 123\n",
    "b = 1.23\n",
    "c = '123'\n",
    "d = [1, 2, 3]\n",
    "```"
   ]
  },
  {
   "cell_type": "code",
   "execution_count": 93,
   "metadata": {
    "scrolled": true
   },
   "outputs": [
    {
     "name": "stdout",
     "output_type": "stream",
     "text": [
      "Number of correct responses:\n",
      "datatypes1_points\n",
      "1    12\n",
      "0     8\n",
      "Name: count, dtype: int64\n",
      "\n",
      "Top 6 most common answers:\n",
      "datatypes1\n",
      "int             12\n",
      "Jeg vet ikke     5\n",
      "float            2\n",
      "list             1\n",
      "Name: count, dtype: int64\n",
      "\n",
      "Number of correct responses:\n",
      "datatypes2_points\n",
      "1    13\n",
      "0     7\n",
      "Name: count, dtype: int64\n",
      "\n",
      "Top 6 most common answers:\n",
      "datatypes2\n",
      "float           13\n",
      "Jeg vet ikke     4\n",
      "int              2\n",
      "str              1\n",
      "Name: count, dtype: int64\n",
      "\n",
      "Number of correct responses:\n",
      "datatypes3_points\n",
      "1    12\n",
      "0     8\n",
      "Name: count, dtype: int64\n",
      "\n",
      "Top 6 most common answers:\n",
      "datatypes3\n",
      "str             12\n",
      "Jeg vet ikke     6\n",
      "float            1\n",
      "int              1\n",
      "Name: count, dtype: int64\n",
      "\n",
      "Number of correct responses:\n",
      "datatypes4_points\n",
      "1    17\n",
      "0     3\n",
      "Name: count, dtype: int64\n",
      "\n",
      "Top 6 most common answers:\n",
      "datatypes4\n",
      "list            17\n",
      "Jeg vet ikke     2\n",
      "int              1\n",
      "Name: count, dtype: int64\n"
     ]
    }
   ],
   "source": [
    "print_task_result(\"datatypes1\", df, 6, True)\n",
    "print()\n",
    "print_task_result(\"datatypes2\", df, 6, True)\n",
    "print()\n",
    "print_task_result(\"datatypes3\", df, 6, True)\n",
    "print()\n",
    "print_task_result(\"datatypes4\", df, 6, True)"
   ]
  },
  {
   "cell_type": "markdown",
   "metadata": {},
   "source": [
    "# Operators"
   ]
  },
  {
   "cell_type": "markdown",
   "metadata": {},
   "source": [
    "### Operators 1\n",
    "What is the value of `result`?\n",
    "```python\n",
    "a = 12\n",
    "result = a + a\n",
    "```"
   ]
  },
  {
   "cell_type": "code",
   "execution_count": 94,
   "metadata": {},
   "outputs": [
    {
     "name": "stdout",
     "output_type": "stream",
     "text": [
      "Number of correct responses:\n",
      "Operators1_points\n",
      "1    19\n",
      "0     1\n",
      "Name: count, dtype: int64\n",
      "\n",
      "Top 4 most common answers:\n",
      "Operators1\n",
      "24.0            19\n",
      "I don't know     1\n",
      "Name: count, dtype: int64\n"
     ]
    }
   ],
   "source": [
    "print_task_result(\"Operators1\", df, 4, True)"
   ]
  },
  {
   "cell_type": "markdown",
   "metadata": {},
   "source": [
    "### Operators 2\n",
    "What is the value of `result`?\n",
    "```python\n",
    "a = 12\n",
    "b = 1.23 \n",
    "\n",
    "result = b + a\n",
    "```"
   ]
  },
  {
   "cell_type": "code",
   "execution_count": 95,
   "metadata": {},
   "outputs": [
    {
     "name": "stdout",
     "output_type": "stream",
     "text": [
      "Number of correct responses:\n",
      "Operators2_points\n",
      "1    13\n",
      "0     7\n",
      "Name: count, dtype: int64\n",
      "\n",
      "Top 4 most common answers:\n",
      "Operators2\n",
      "13.23           13\n",
      "I don't know     2\n",
      "Name: count, dtype: int64\n"
     ]
    }
   ],
   "source": [
    "print_task_result(\"Operators2\", df, 4, True)"
   ]
  },
  {
   "cell_type": "markdown",
   "metadata": {},
   "source": [
    "### Operators 3\n",
    "What is the value of `result`?\n",
    "```python\n",
    "c = '123'\n",
    "result = c + c\n",
    "```"
   ]
  },
  {
   "cell_type": "code",
   "execution_count": 96,
   "metadata": {},
   "outputs": [
    {
     "name": "stdout",
     "output_type": "stream",
     "text": [
      "Number of correct responses:\n",
      "Operators3_points\n",
      "0    20\n",
      "Name: count, dtype: int64\n",
      "\n",
      "Top 4 most common answers:\n",
      "Operators3\n",
      "123123.0        10\n",
      "I don't know     7\n",
      "Name: count, dtype: int64\n"
     ]
    }
   ],
   "source": [
    "print_task_result(\"Operators3\", df, 4, True)"
   ]
  },
  {
   "cell_type": "markdown",
   "metadata": {},
   "source": [
    "### Operators 4\n",
    "What is printed here?\n",
    "```python\n",
    "n = 0\n",
    "n = n + 1\n",
    "n = n + 1\n",
    "\n",
    "print(n)\n",
    "```"
   ]
  },
  {
   "cell_type": "code",
   "execution_count": 97,
   "metadata": {},
   "outputs": [
    {
     "name": "stdout",
     "output_type": "stream",
     "text": [
      "Number of correct responses:\n",
      "Operators4_points\n",
      "1    13\n",
      "0     7\n",
      "Name: count, dtype: int64\n",
      "\n",
      "Top 4 most common answers:\n",
      "Operators4\n",
      "2.0             13\n",
      "I don't know     3\n",
      "Name: count, dtype: int64\n"
     ]
    }
   ],
   "source": [
    "print_task_result(\"Operators4\", df, 4, True)"
   ]
  },
  {
   "cell_type": "markdown",
   "metadata": {},
   "source": [
    "### Operators 5\n",
    "What is printed here?\n",
    "```python\n",
    "n = 'b'\n",
    "n = n + 'c'\n",
    "n = n + 'a'\n",
    "\n",
    "print(n)\n",
    "```"
   ]
  },
  {
   "cell_type": "code",
   "execution_count": 98,
   "metadata": {},
   "outputs": [
    {
     "name": "stdout",
     "output_type": "stream",
     "text": [
      "Number of correct responses:\n",
      "Operators5_points\n",
      "0    11\n",
      "1     9\n",
      "Name: count, dtype: int64\n",
      "\n",
      "Top 4 most common answers:\n",
      "Operators5\n",
      "I don't know    9\n",
      "bca             9\n",
      "B c a           1\n",
      "Name: count, dtype: int64\n"
     ]
    }
   ],
   "source": [
    "print_task_result(\"Operators5\", df, 4, True)"
   ]
  },
  {
   "cell_type": "markdown",
   "metadata": {},
   "source": [
    "# Variables"
   ]
  },
  {
   "cell_type": "markdown",
   "metadata": {},
   "source": [
    "### Variables 1\n",
    "What is the value of variables `a` and `b`?\n",
    "```python\n",
    "a = 10\n",
    "b = 20\n",
    "\n",
    "a = b\n",
    "```"
   ]
  },
  {
   "cell_type": "code",
   "execution_count": 99,
   "metadata": {},
   "outputs": [
    {
     "name": "stdout",
     "output_type": "stream",
     "text": [
      "Number of correct responses:\n",
      "Variables1a_points\n",
      "1    12\n",
      "0     8\n",
      "Name: count, dtype: int64\n",
      "\n",
      "Top 5 most common answers:\n",
      "Series([], Name: count, dtype: int64)\n",
      "Number of correct responses:\n",
      "Variables1b_points\n",
      "1    10\n",
      "0    10\n",
      "Name: count, dtype: int64\n",
      "\n",
      "Top 5 most common answers:\n",
      "Variables1b\n",
      "20.0            10\n",
      "I don't know     8\n",
      "10.0             2\n",
      "Name: count, dtype: int64\n"
     ]
    }
   ],
   "source": [
    "print_task_result(\"Variables1a\", df)\n",
    "print_task_result(\"Variables1b\", df)"
   ]
  },
  {
   "cell_type": "markdown",
   "metadata": {},
   "source": [
    "### Variables 2\n",
    "What is the value of variables `a` and `b`?\n",
    "```python\n",
    "a = 10\n",
    "b = 20\n",
    "\n",
    "b = a\n",
    "```"
   ]
  },
  {
   "cell_type": "code",
   "execution_count": 100,
   "metadata": {},
   "outputs": [
    {
     "name": "stdout",
     "output_type": "stream",
     "text": [
      "Number of correct responses:\n",
      "Variables2a_points\n",
      "0    11\n",
      "1     9\n",
      "Name: count, dtype: int64\n",
      "\n",
      "Top 5 most common answers:\n",
      "Series([], Name: count, dtype: int64)\n",
      "Number of correct responses:\n",
      "Variables2b_points\n",
      "1    10\n",
      "0    10\n",
      "Name: count, dtype: int64\n",
      "\n",
      "Top 5 most common answers:\n",
      "Variables2b\n",
      "10.0            10\n",
      "I don't know     9\n",
      "20.0             1\n",
      "Name: count, dtype: int64\n"
     ]
    }
   ],
   "source": [
    "print_task_result(\"Variables2a\", df)\n",
    "print_task_result(\"Variables2b\", df)"
   ]
  },
  {
   "cell_type": "markdown",
   "metadata": {},
   "source": [
    "### Variables 3\n",
    "What is the value of variables `a` and `b`?\n",
    "```python\n",
    "a = 10\n",
    "b = 20\n",
    "\n",
    "a = b\n",
    "b = a\n",
    "```"
   ]
  },
  {
   "cell_type": "code",
   "execution_count": 101,
   "metadata": {},
   "outputs": [
    {
     "name": "stdout",
     "output_type": "stream",
     "text": [
      "Number of correct responses:\n",
      "Variables3a_points\n",
      "0    11\n",
      "1     9\n",
      "Name: count, dtype: int64\n",
      "\n",
      "Top 5 most common answers:\n",
      "Series([], Name: count, dtype: int64)\n",
      "Number of correct responses:\n",
      "Variables3b_points\n",
      "0    14\n",
      "1     6\n",
      "Name: count, dtype: int64\n",
      "\n",
      "Top 5 most common answers:\n",
      "Variables3b\n",
      "I don't know    12\n",
      "20.0             6\n",
      "10.0             2\n",
      "Name: count, dtype: int64\n"
     ]
    }
   ],
   "source": [
    "print_task_result(\"Variables3a\", df)\n",
    "print_task_result(\"Variables3b\", df)"
   ]
  },
  {
   "cell_type": "markdown",
   "metadata": {},
   "source": [
    "### Variables 4\n",
    "What is the value of variables `a` and `b`?\n",
    "```python\n",
    "a = 10\n",
    "b = 20\n",
    "\n",
    "b = a\n",
    "a = b\n",
    "```"
   ]
  },
  {
   "cell_type": "code",
   "execution_count": 102,
   "metadata": {},
   "outputs": [
    {
     "name": "stdout",
     "output_type": "stream",
     "text": [
      "Number of correct responses:\n",
      "Variables4a_points\n",
      "0    14\n",
      "1     6\n",
      "Name: count, dtype: int64\n",
      "\n",
      "Top 5 most common answers:\n",
      "Series([], Name: count, dtype: int64)\n",
      "Number of correct responses:\n",
      "Variables4b_points\n",
      "0    12\n",
      "1     8\n",
      "Name: count, dtype: int64\n",
      "\n",
      "Top 5 most common answers:\n",
      "Variables4b\n",
      "I don't know    12\n",
      "10.0             8\n",
      "Name: count, dtype: int64\n"
     ]
    }
   ],
   "source": [
    "print_task_result(\"Variables4a\", df)\n",
    "print_task_result(\"Variables4b\", df)"
   ]
  },
  {
   "cell_type": "markdown",
   "metadata": {},
   "source": [
    "### Variables 5\n",
    "What is the value of variables `a`, `b` and `c`?\n",
    "```python\n",
    "a = 10\n",
    "b = 20\n",
    "c = 30\n",
    "\n",
    "a = b\n",
    "b = c\n",
    "```"
   ]
  },
  {
   "cell_type": "code",
   "execution_count": 103,
   "metadata": {},
   "outputs": [
    {
     "name": "stdout",
     "output_type": "stream",
     "text": [
      "Number of correct responses:\n",
      "Variables5a_points\n",
      "0    13\n",
      "1     7\n",
      "Name: count, dtype: int64\n",
      "\n",
      "Top 5 most common answers:\n",
      "Series([], Name: count, dtype: int64)\n",
      "Number of correct responses:\n",
      "Variables5b_points\n",
      "0    12\n",
      "1     8\n",
      "Name: count, dtype: int64\n",
      "\n",
      "Top 5 most common answers:\n",
      "Series([], Name: count, dtype: int64)\n",
      "Number of correct responses:\n",
      "Variables5c_points\n",
      "0    12\n",
      "1     8\n",
      "Name: count, dtype: int64\n",
      "\n",
      "Top 5 most common answers:\n",
      "Variables5c\n",
      "I don't know    12\n",
      "30.0             8\n",
      "Name: count, dtype: int64\n"
     ]
    }
   ],
   "source": [
    "print_task_result(\"Variables5a\", df)\n",
    "print_task_result(\"Variables5b\", df)\n",
    "print_task_result(\"Variables5c\", df)"
   ]
  },
  {
   "cell_type": "markdown",
   "metadata": {},
   "source": [
    "### Variables 6\n",
    "What is the value of variables `a`, `b` and `c`?\n",
    "```python\n",
    "a = 10\n",
    "b = 20\n",
    "c = 30\n",
    "\n",
    "a = c\n",
    "b = a\n",
    "c = b\n",
    "```"
   ]
  },
  {
   "cell_type": "code",
   "execution_count": 104,
   "metadata": {},
   "outputs": [
    {
     "name": "stdout",
     "output_type": "stream",
     "text": [
      "Number of correct responses:\n",
      "Variables6a_points\n",
      "0    12\n",
      "1     8\n",
      "Name: count, dtype: int64\n",
      "\n",
      "Top 5 most common answers:\n",
      "Series([], Name: count, dtype: int64)\n",
      "Number of correct responses:\n",
      "Variables6b_points\n",
      "0    13\n",
      "1     7\n",
      "Name: count, dtype: int64\n",
      "\n",
      "Top 5 most common answers:\n",
      "Variables6b\n",
      "30.0    7\n",
      "10.0    1\n",
      "Name: count, dtype: int64\n",
      "Number of correct responses:\n",
      "Variables6c_points\n",
      "0    13\n",
      "1     7\n",
      "Name: count, dtype: int64\n",
      "\n",
      "Top 5 most common answers:\n",
      "Variables6c\n",
      "I don't know    12\n",
      "30.0             7\n",
      "20.0             1\n",
      "Name: count, dtype: int64\n"
     ]
    }
   ],
   "source": [
    "print_task_result(\"Variables6a\", df)\n",
    "print_task_result(\"Variables6b\", df)\n",
    "print_task_result(\"Variables6c\", df)"
   ]
  },
  {
   "cell_type": "markdown",
   "metadata": {},
   "source": [
    "## Booleans"
   ]
  },
  {
   "cell_type": "markdown",
   "metadata": {},
   "source": [
    "### Booleans 1\n",
    "What do these boolean expressions evaluate to?"
   ]
  },
  {
   "cell_type": "code",
   "execution_count": 105,
   "metadata": {
    "scrolled": true
   },
   "outputs": [
    {
     "name": "stdout",
     "output_type": "stream",
     "text": [
      "Top 3 most common answers:\n",
      "100 == 100\n",
      "True            16\n",
      "Jeg vet ikke     4\n",
      "Name: count, dtype: int64\n",
      "\n",
      "Top 3 most common answers:\n",
      "2 > 7\n",
      "False    20\n",
      "Name: count, dtype: int64\n",
      "\n",
      "Top 3 most common answers:\n",
      "(10 + 3) >= 13\n",
      "True     17\n",
      "False     3\n",
      "Name: count, dtype: int64\n",
      "\n",
      "Top 3 most common answers:\n",
      "(10*2) < 9\n",
      "False    20\n",
      "Name: count, dtype: int64\n",
      "\n",
      "Top 3 most common answers:\n",
      "(1 + 3) < (2*3)\n",
      "True            17\n",
      "False            2\n",
      "Jeg vet ikke     1\n",
      "Name: count, dtype: int64\n",
      "\n",
      "Top 3 most common answers:\n",
      "(10.3 + 9) == (10.3 + 10)\n",
      "False           15\n",
      "Jeg vet ikke     4\n",
      "True             1\n",
      "Name: count, dtype: int64\n"
     ]
    }
   ],
   "source": [
    "print_task_result(\"100 == 100\", df, 3, False)\n",
    "print()\n",
    "print_task_result(\"2 > 7\", df, 3, False)\n",
    "print()\n",
    "print_task_result(\"(10 + 3) >= 13\", df, 3, False)\n",
    "print()\n",
    "print_task_result(\"(10*2) < 9\", df, 3, False)\n",
    "print()\n",
    "print_task_result(\"(1 + 3) < (2*3)\", df, 3, False)\n",
    "print()\n",
    "print_task_result(\"(10.3 + 9) == (10.3 + 10)\", df, 3, False)"
   ]
  },
  {
   "cell_type": "markdown",
   "metadata": {},
   "source": [
    "### Booleans 2\n",
    "What do these boolean expressions evaluate to?"
   ]
  },
  {
   "cell_type": "code",
   "execution_count": 106,
   "metadata": {
    "scrolled": true
   },
   "outputs": [
    {
     "name": "stdout",
     "output_type": "stream",
     "text": [
      "Top 3 most common answers:\n",
      "100 != 100\n",
      "False           12\n",
      "Jeg vet ikke     8\n",
      "Name: count, dtype: int64\n",
      "\n",
      "Top 3 most common answers:\n",
      "(5 < 7) and (4 > 5)\n",
      "False           17\n",
      "Jeg vet ikke     2\n",
      "True             1\n",
      "Name: count, dtype: int64\n",
      "\n",
      "Top 3 most common answers:\n",
      "(5 < 7) or (4 > 5)\n",
      "True            14\n",
      "Jeg vet ikke     5\n",
      "False            1\n",
      "Name: count, dtype: int64\n",
      "\n",
      "Top 3 most common answers:\n",
      "(3 < 7) and (7 < 9)\n",
      "True            17\n",
      "Jeg vet ikke     2\n",
      "False            1\n",
      "Name: count, dtype: int64\n",
      "\n",
      "Top 3 most common answers:\n",
      "(3 < 7) or (7 < 9)\n",
      "True            13\n",
      "Jeg vet ikke     4\n",
      "False            3\n",
      "Name: count, dtype: int64\n",
      "\n",
      "Top 3 most common answers:\n",
      "not (100 != 100)\n",
      "Jeg vet ikke    11\n",
      "True             8\n",
      "False            1\n",
      "Name: count, dtype: int64\n"
     ]
    }
   ],
   "source": [
    "print_task_result(\"100 != 100\", df, 3, False)\n",
    "print()\n",
    "print_task_result(\"(5 < 7) and (4 > 5)\", df, 3, False)\n",
    "print()\n",
    "print_task_result(\"(5 < 7) or (4 > 5)\", df, 3, False)\n",
    "print()\n",
    "print_task_result(\"(3 < 7) and (7 < 9)\", df, 3, False)\n",
    "print()\n",
    "print_task_result(\"(3 < 7) or (7 < 9)\", df, 3, False)\n",
    "print()\n",
    "print_task_result(\"not (100 != 100)\", df, 3, False)"
   ]
  },
  {
   "cell_type": "markdown",
   "metadata": {},
   "source": [
    "### Booleans 3\n",
    "What do these boolean expressions evaluate to?"
   ]
  },
  {
   "cell_type": "code",
   "execution_count": 107,
   "metadata": {
    "scrolled": true
   },
   "outputs": [
    {
     "name": "stdout",
     "output_type": "stream",
     "text": [
      "Top 3 most common answers:\n",
      "True != True\n",
      "Jeg vet ikke    12\n",
      "False            8\n",
      "Name: count, dtype: int64\n",
      "\n",
      "Top 3 most common answers:\n",
      "True and False\n",
      "Jeg vet ikke    12\n",
      "False            8\n",
      "Name: count, dtype: int64\n",
      "\n",
      "Top 3 most common answers:\n",
      "True or False\n",
      "Jeg vet ikke    12\n",
      "True             8\n",
      "Name: count, dtype: int64\n",
      "\n",
      "Top 3 most common answers:\n",
      "True and True\n",
      "Jeg vet ikke    11\n",
      "True             9\n",
      "Name: count, dtype: int64\n",
      "\n",
      "Top 3 most common answers:\n",
      "True or True\n",
      "Jeg vet ikke    10\n",
      "True             7\n",
      "False            2\n",
      "Name: count, dtype: int64\n",
      "\n",
      "Top 3 most common answers:\n",
      "not (True != True)\n",
      "Jeg vet ikke    13\n",
      "True             5\n",
      "False            1\n",
      "Name: count, dtype: int64\n"
     ]
    }
   ],
   "source": [
    "print_task_result(\"True != True\", df, 3, False)\n",
    "print()\n",
    "print_task_result(\"True and False\", df, 3, False)\n",
    "print()\n",
    "print_task_result(\"True or False\", df, 3, False)\n",
    "print()\n",
    "print_task_result(\"True and True\", df, 3, False)\n",
    "print()\n",
    "print_task_result(\"True or True\", df, 3, False)\n",
    "print()\n",
    "print_task_result(\"not (True != True)\", df, 3, False)"
   ]
  },
  {
   "cell_type": "markdown",
   "metadata": {},
   "source": [
    "### Booleans 4\n",
    "Given the variable `n = 5`, what do these boolean expressions evaluate to?"
   ]
  },
  {
   "cell_type": "code",
   "execution_count": 108,
   "metadata": {
    "scrolled": true
   },
   "outputs": [
    {
     "name": "stdout",
     "output_type": "stream",
     "text": [
      "Top 3 most common answers:\n",
      "n < 10\n",
      "True     17\n",
      "False     3\n",
      "Name: count, dtype: int64\n",
      "\n",
      "Top 3 most common answers:\n",
      "100 == n\n",
      "False           15\n",
      "Jeg vet ikke     4\n",
      "True             1\n",
      "Name: count, dtype: int64\n",
      "\n",
      "Top 3 most common answers:\n",
      "(n < 7) and (4 > n)\n",
      "False    19\n",
      "True      1\n",
      "Name: count, dtype: int64\n",
      "\n",
      "Top 3 most common answers:\n",
      "(n < 7) or (4 > n)\n",
      "True            13\n",
      "False            4\n",
      "Jeg vet ikke     3\n",
      "Name: count, dtype: int64\n",
      "\n",
      "Top 3 most common answers:\n",
      "n <= 5\n",
      "True            15\n",
      "Jeg vet ikke     3\n",
      "False            2\n",
      "Name: count, dtype: int64\n",
      "\n",
      "Top 3 most common answers:\n",
      "not (n < 10)\n",
      "False           13\n",
      "Jeg vet ikke     6\n",
      "True             1\n",
      "Name: count, dtype: int64\n"
     ]
    }
   ],
   "source": [
    "print_task_result(\"n < 10\", df, 3, False)\n",
    "print()\n",
    "print_task_result(\"100 == n\", df, 3, False)\n",
    "print()\n",
    "print_task_result(\"(n < 7) and (4 > n)\", df, 3, False)\n",
    "print()\n",
    "print_task_result(\"(n < 7) or (4 > n)\", df, 3, False)\n",
    "print()\n",
    "print_task_result(\"n <= 5\", df, 3, False)\n",
    "print()\n",
    "print_task_result(\"not (n < 10)\", df, 3, False)"
   ]
  },
  {
   "cell_type": "markdown",
   "metadata": {},
   "source": [
    "## Conditionals"
   ]
  },
  {
   "cell_type": "markdown",
   "metadata": {},
   "source": [
    "### Conditionals 1\n",
    "What does this code snippet print?\n",
    "\n",
    "```python\n",
    "if 2 > 7:\n",
    "    print(1)\n",
    "```"
   ]
  },
  {
   "cell_type": "code",
   "execution_count": 109,
   "metadata": {},
   "outputs": [
    {
     "name": "stdout",
     "output_type": "stream",
     "text": [
      "Number of correct responses:\n",
      "Conditionals1_points\n",
      "1    14\n",
      "0     6\n",
      "Name: count, dtype: int64\n",
      "\n",
      "Top 5 most common answers:\n",
      "Conditionals1\n",
      "Ingenting       14\n",
      "Jeg vet ikke     5\n",
      "1                1\n",
      "Name: count, dtype: int64\n"
     ]
    }
   ],
   "source": [
    "print_task_result(\"Conditionals1\", df)"
   ]
  },
  {
   "cell_type": "markdown",
   "metadata": {},
   "source": [
    "### Conditionals 2\n",
    "What does this code snippet print?\n",
    "\n",
    "```python\n",
    "if 100 != 100:\n",
    "    print(1)\n",
    "else:\n",
    "    print(2)\n",
    "```"
   ]
  },
  {
   "cell_type": "code",
   "execution_count": 110,
   "metadata": {},
   "outputs": [
    {
     "name": "stdout",
     "output_type": "stream",
     "text": [
      "Number of correct responses:\n",
      "Conditionals2_points\n",
      "0    10\n",
      "1    10\n",
      "Name: count, dtype: int64\n",
      "\n",
      "Top 5 most common answers:\n",
      "Conditionals2\n",
      "2               10\n",
      "Jeg vet ikke     9\n",
      "1                1\n",
      "Name: count, dtype: int64\n"
     ]
    }
   ],
   "source": [
    "print_task_result(\"Conditionals2\", df)"
   ]
  },
  {
   "cell_type": "markdown",
   "metadata": {},
   "source": [
    "### Conditionals 3\n",
    "What does this code snippet print?\n",
    "\n",
    "```python\n",
    "if (10*2) < 9:\n",
    "    print(1)\n",
    "elif 100 == 100:\n",
    "    print(2)\n",
    "else:\n",
    "    print(3)\n",
    "```"
   ]
  },
  {
   "cell_type": "code",
   "execution_count": 111,
   "metadata": {},
   "outputs": [
    {
     "name": "stdout",
     "output_type": "stream",
     "text": [
      "Number of correct responses:\n",
      "Conditionals3_points\n",
      "1    14\n",
      "0     6\n",
      "Name: count, dtype: int64\n",
      "\n",
      "Top 5 most common answers:\n",
      "Conditionals3\n",
      "2               14\n",
      "Jeg vet ikke     6\n",
      "Name: count, dtype: int64\n"
     ]
    }
   ],
   "source": [
    "print_task_result(\"Conditionals3\", df)"
   ]
  },
  {
   "cell_type": "markdown",
   "metadata": {},
   "source": [
    "### Conditionals 4\n",
    "What does this code snippet print?\n",
    "\n",
    "```python\n",
    "if 100 == 100:\n",
    "    print(1)\n",
    "if (1 + 3) < (2*3):\n",
    "    print(2)\n",
    "else:\n",
    "    print(3)\n",
    "```"
   ]
  },
  {
   "cell_type": "code",
   "execution_count": 112,
   "metadata": {},
   "outputs": [
    {
     "name": "stdout",
     "output_type": "stream",
     "text": [
      "Number of correct responses:\n",
      "Conditionals4_points\n",
      "1    11\n",
      "0     9\n",
      "Name: count, dtype: int64\n",
      "\n",
      "Top 5 most common answers:\n",
      "Conditionals4\n",
      "1 og 2          11\n",
      "Jeg vet ikke     6\n",
      "1                3\n",
      "Name: count, dtype: int64\n"
     ]
    }
   ],
   "source": [
    "print_task_result(\"Conditionals4\", df)"
   ]
  },
  {
   "cell_type": "markdown",
   "metadata": {},
   "source": [
    "## Loops"
   ]
  },
  {
   "cell_type": "markdown",
   "metadata": {},
   "source": [
    "### Loops 1\n",
    "What does this code snippet print?\n",
    "\n",
    "```python\n",
    "n = 0\n",
    "while n < 10:\n",
    "    n = n + 1\n",
    "\n",
    "print(n)\n",
    "```"
   ]
  },
  {
   "cell_type": "code",
   "execution_count": 113,
   "metadata": {},
   "outputs": [
    {
     "name": "stdout",
     "output_type": "stream",
     "text": [
      "Number of correct responses:\n",
      "Loops1_points\n",
      "0    15\n",
      "1     5\n",
      "Name: count, dtype: int64\n",
      "\n",
      "Top 5 most common answers:\n",
      "Loops1\n",
      "I don't know    8\n",
      "10.0            5\n",
      "9.0             3\n",
      "1.0             1\n",
      "123456789.0     1\n",
      "Name: count, dtype: int64\n"
     ]
    }
   ],
   "source": [
    "print_task_result(\"Loops1\", df)"
   ]
  },
  {
   "cell_type": "markdown",
   "metadata": {},
   "source": [
    "### Loops 2\n",
    "What does this code snippet print?\n",
    "\n",
    "```python\n",
    "n = 0\n",
    "while n < 10:\n",
    "    n = n + 2\n",
    "\n",
    "print(n)\n",
    "```"
   ]
  },
  {
   "cell_type": "code",
   "execution_count": 114,
   "metadata": {},
   "outputs": [
    {
     "name": "stdout",
     "output_type": "stream",
     "text": [
      "Number of correct responses:\n",
      "Loops2_points\n",
      "0    14\n",
      "1     6\n",
      "Name: count, dtype: int64\n",
      "\n",
      "Top 5 most common answers:\n",
      "Loops2\n",
      "I don't know    6\n",
      "10.0            6\n",
      "8.0             2\n",
      "2.0             1\n",
      "9.0             1\n",
      "Name: count, dtype: int64\n"
     ]
    }
   ],
   "source": [
    "print_task_result(\"Loops2\", df)"
   ]
  },
  {
   "cell_type": "markdown",
   "metadata": {},
   "source": [
    "### Loops 3\n",
    "What does this code snippet print?\n",
    "\n",
    "```python\n",
    "n = 100\n",
    "while n < 10:\n",
    "    n = n + 2\n",
    "\n",
    "print(n)\n",
    "```"
   ]
  },
  {
   "cell_type": "code",
   "execution_count": 115,
   "metadata": {},
   "outputs": [
    {
     "name": "stdout",
     "output_type": "stream",
     "text": [
      "Number of correct responses:\n",
      "Loops3_points\n",
      "1    12\n",
      "0     8\n",
      "Name: count, dtype: int64\n",
      "\n",
      "Top 5 most common answers:\n",
      "Loops3\n",
      "100.0           12\n",
      "I don't know     7\n",
      "0.0              1\n",
      "Name: count, dtype: int64\n"
     ]
    }
   ],
   "source": [
    "print_task_result(\"Loops3\", df)"
   ]
  },
  {
   "cell_type": "markdown",
   "metadata": {},
   "source": [
    "### Loops 4\n",
    "What does this code snippet print?\n",
    "\n",
    "```python\n",
    "n = 0\n",
    "while (n < 7) and (4 > n):\n",
    "    n = n + 1\n",
    "\n",
    "print(n)\n",
    "```"
   ]
  },
  {
   "cell_type": "code",
   "execution_count": 116,
   "metadata": {},
   "outputs": [
    {
     "name": "stdout",
     "output_type": "stream",
     "text": [
      "Number of correct responses:\n",
      "Loops4_points\n",
      "0    13\n",
      "1     7\n",
      "Name: count, dtype: int64\n",
      "\n",
      "Top 5 most common answers:\n",
      "Loops4\n",
      "4.0             7\n",
      "I don't know    7\n",
      "3.0             3\n",
      "123.0           1\n",
      "0.0             1\n",
      "Name: count, dtype: int64\n"
     ]
    }
   ],
   "source": [
    "print_task_result(\"Loops4\", df)"
   ]
  },
  {
   "cell_type": "markdown",
   "metadata": {},
   "source": [
    "### Loops 5\n",
    "What does this code snippet print?\n",
    "\n",
    "```python\n",
    "n = 0\n",
    "ls = [1, 1, 3]\n",
    "for e in ls:\n",
    "    n = n + e\n",
    "\n",
    "print(n)\n",
    "```"
   ]
  },
  {
   "cell_type": "code",
   "execution_count": 117,
   "metadata": {},
   "outputs": [
    {
     "name": "stdout",
     "output_type": "stream",
     "text": [
      "Number of correct responses:\n",
      "Loops5_points\n",
      "0    14\n",
      "1     6\n",
      "Name: count, dtype: int64\n",
      "\n",
      "Top 5 most common answers:\n",
      "Loops5\n",
      "I don't know    12\n",
      "5.0              6\n",
      "113.0            1\n",
      "125.0            1\n",
      "Name: count, dtype: int64\n"
     ]
    }
   ],
   "source": [
    "print_task_result(\"Loops5\", df)"
   ]
  },
  {
   "cell_type": "markdown",
   "metadata": {},
   "source": [
    "### Loops 6\n",
    "What does this code snippet print?\n",
    "\n",
    "```python\n",
    "n = 0\n",
    "ls = [-1, 4, -3, 0, -10, 5]\n",
    "for e in ls:\n",
    "    if e > 0:\n",
    "        n = n + e\n",
    "\n",
    "print(n)\n",
    "```"
   ]
  },
  {
   "cell_type": "code",
   "execution_count": 118,
   "metadata": {},
   "outputs": [
    {
     "name": "stdout",
     "output_type": "stream",
     "text": [
      "Number of correct responses:\n",
      "Loops6_points\n",
      "0    16\n",
      "1     4\n",
      "Name: count, dtype: int64\n",
      "\n",
      "Top 5 most common answers:\n",
      "Loops6\n",
      "I don't know    13\n",
      "9.0              4\n",
      "36.0             1\n",
      "-1.0             1\n",
      "49.0             1\n",
      "Name: count, dtype: int64\n"
     ]
    }
   ],
   "source": [
    "print_task_result(\"Loops6\", df)"
   ]
  },
  {
   "cell_type": "markdown",
   "metadata": {},
   "source": [
    "## Lists"
   ]
  },
  {
   "cell_type": "markdown",
   "metadata": {},
   "source": [
    "### Lists 1\n",
    "What does this code snippet print?\n",
    "\n",
    "```python\n",
    "ls = [10, 20, 30]\n",
    "print(ls[1])\n",
    "```"
   ]
  },
  {
   "cell_type": "code",
   "execution_count": 119,
   "metadata": {},
   "outputs": [
    {
     "name": "stdout",
     "output_type": "stream",
     "text": [
      "Number of correct responses:\n",
      "Lists1_points\n",
      "0    12\n",
      "1     8\n",
      "Name: count, dtype: int64\n",
      "\n",
      "Top 5 most common answers:\n",
      "Lists1\n",
      "I don't know    11\n",
      "20.0             8\n",
      "10.0             1\n",
      "Name: count, dtype: int64\n"
     ]
    }
   ],
   "source": [
    "print_task_result(\"Lists1\", df)"
   ]
  },
  {
   "cell_type": "markdown",
   "metadata": {},
   "source": [
    "### Lists 2\n",
    "What does this code snippet print?\n",
    "\n",
    "```python\n",
    "ls = [10, 20, 30]\n",
    "ls[1] = ls[1] + 5\n",
    "\n",
    "print(ls[1])\n",
    "```"
   ]
  },
  {
   "cell_type": "code",
   "execution_count": 120,
   "metadata": {},
   "outputs": [
    {
     "name": "stdout",
     "output_type": "stream",
     "text": [
      "Number of correct responses:\n",
      "Lists2_points\n",
      "0    12\n",
      "1     8\n",
      "Name: count, dtype: int64\n",
      "\n",
      "Top 5 most common answers:\n",
      "Lists2\n",
      "I don't know    11\n",
      "25.0             8\n",
      "15.0             1\n",
      "Name: count, dtype: int64\n"
     ]
    }
   ],
   "source": [
    "print_task_result(\"Lists2\", df)"
   ]
  },
  {
   "cell_type": "markdown",
   "metadata": {},
   "source": [
    "### Lists 3\n",
    "What does this code snippet print?\n",
    "\n",
    "```python\n",
    "a = [10, 20, 30]\n",
    "b = [5, 15, 25]\n",
    "\n",
    "b[1] = a[1] + b[1]\n",
    "\n",
    "print(a)\n",
    "print(b)\n",
    "```"
   ]
  },
  {
   "cell_type": "code",
   "execution_count": 121,
   "metadata": {},
   "outputs": [
    {
     "name": "stdout",
     "output_type": "stream",
     "text": [
      "Number of correct responses:\n",
      "Lists3a_points\n",
      "0    10\n",
      "1    10\n",
      "Name: count, dtype: int64\n",
      "\n",
      "Top 5 most common answers:\n",
      "Lists3a\n",
      "[10, 20, 30]    10\n",
      "Jeg vet ikke     7\n",
      "[15, 35, 55]     1\n",
      "Name: count, dtype: int64\n",
      "Number of correct responses:\n",
      "Lists3b_points\n",
      "0    12\n",
      "1     8\n",
      "Name: count, dtype: int64\n",
      "\n",
      "Top 5 most common answers:\n",
      "Lists3b\n",
      "Jeg vet ikke    8\n",
      "[5, 35, 25]     8\n",
      "[15, 35, 55]    3\n",
      "[5, 15, 25]     1\n",
      "Name: count, dtype: int64\n"
     ]
    }
   ],
   "source": [
    "print_task_result(\"Lists3a\", df)\n",
    "print_task_result(\"Lists3b\", df)"
   ]
  },
  {
   "cell_type": "markdown",
   "metadata": {},
   "source": [
    "## Functions"
   ]
  },
  {
   "cell_type": "markdown",
   "metadata": {},
   "source": [
    "### Functions 1\n",
    "What does this code snippet print?\n",
    "\n",
    "```python\n",
    "def f(a, b):\n",
    "    return a + b\n",
    "\n",
    "print(f(5, 10))\n",
    "```"
   ]
  },
  {
   "cell_type": "code",
   "execution_count": 122,
   "metadata": {},
   "outputs": [
    {
     "name": "stdout",
     "output_type": "stream",
     "text": [
      "Number of correct responses:\n",
      "Functions1_points\n",
      "1    11\n",
      "0     9\n",
      "Name: count, dtype: int64\n",
      "\n",
      "Top 5 most common answers:\n",
      "Functions1\n",
      "15.0            11\n",
      "I don't know     8\n",
      "510.0            1\n",
      "Name: count, dtype: int64\n"
     ]
    }
   ],
   "source": [
    "print_task_result(\"Functions1\", df)"
   ]
  },
  {
   "cell_type": "markdown",
   "metadata": {},
   "source": [
    "### Functions 2\n",
    "What does this code snippet print?\n",
    "\n",
    "```python\n",
    "def f(a):\n",
    "    if a:\n",
    "        return 1\n",
    "    else:\n",
    "        return 2\n",
    "\n",
    "print(f(100 == 100))\n",
    "```"
   ]
  },
  {
   "cell_type": "code",
   "execution_count": 123,
   "metadata": {},
   "outputs": [
    {
     "name": "stdout",
     "output_type": "stream",
     "text": [
      "Number of correct responses:\n",
      "Functions2_points\n",
      "0    13\n",
      "1     7\n",
      "Name: count, dtype: int64\n",
      "\n",
      "Top 5 most common answers:\n",
      "Functions2\n",
      "I don't know    12\n",
      "1.0              7\n",
      "2.0              1\n",
      "Name: count, dtype: int64\n"
     ]
    }
   ],
   "source": [
    "print_task_result(\"Functions2\", df)"
   ]
  },
  {
   "cell_type": "markdown",
   "metadata": {},
   "source": [
    "### Functions 3\n",
    "What does this code snippet print?\n",
    "\n",
    "```python\n",
    "def f():\n",
    "    if 100 == 100:\n",
    "        return 1\n",
    "    if (1 + 3) < (2*3):\n",
    "        return 2\n",
    "    else:\n",
    "        return 3\n",
    "\n",
    "print(f())\n",
    "```"
   ]
  },
  {
   "cell_type": "code",
   "execution_count": 124,
   "metadata": {},
   "outputs": [
    {
     "name": "stdout",
     "output_type": "stream",
     "text": [
      "Number of correct responses:\n",
      "Functions3_points\n",
      "0    15\n",
      "1     5\n",
      "Name: count, dtype: int64\n",
      "\n",
      "Top 5 most common answers:\n",
      "Functions3\n",
      "I don't know    11\n",
      "1.0              5\n",
      "12.0             4\n",
      "Name: count, dtype: int64\n"
     ]
    }
   ],
   "source": [
    "print_task_result(\"Functions3\", df)"
   ]
  },
  {
   "cell_type": "markdown",
   "metadata": {},
   "source": [
    "### Functions 4\n",
    "What does this code snippet print?\n",
    "\n",
    "```python\n",
    "def f(n, a):\n",
    "    if a:\n",
    "        n = n + 1\n",
    "    return n\n",
    "\n",
    "print(f(5, (10*2) < 9))\n",
    "```"
   ]
  },
  {
   "cell_type": "code",
   "execution_count": 125,
   "metadata": {},
   "outputs": [
    {
     "name": "stdout",
     "output_type": "stream",
     "text": [
      "Number of correct responses:\n",
      "Functions4_points\n",
      "0    14\n",
      "1     6\n",
      "Name: count, dtype: int64\n",
      "\n",
      "Top 5 most common answers:\n",
      "Functions4\n",
      "I don't know    14\n",
      "5.0              6\n",
      "Name: count, dtype: int64\n"
     ]
    }
   ],
   "source": [
    "print_task_result(\"Functions4\", df)"
   ]
  },
  {
   "cell_type": "markdown",
   "metadata": {},
   "source": [
    "### Functions 5\n",
    "What does this code snippet print?\n",
    "\n",
    "```python\n",
    "def f(n):\n",
    "    while n < 10:\n",
    "        n = n + 1\n",
    "    return n\n",
    "\n",
    "print(f(5))\n",
    "```"
   ]
  },
  {
   "cell_type": "code",
   "execution_count": 126,
   "metadata": {},
   "outputs": [
    {
     "name": "stdout",
     "output_type": "stream",
     "text": [
      "Number of correct responses:\n",
      "Functions5_points\n",
      "0    15\n",
      "1     5\n",
      "Name: count, dtype: int64\n",
      "\n",
      "Top 5 most common answers:\n",
      "Functions5\n",
      "I don't know    11\n",
      "10.0             5\n",
      "9.0              2\n",
      "5678910.0        1\n",
      "6789.0           1\n",
      "Name: count, dtype: int64\n"
     ]
    }
   ],
   "source": [
    "print_task_result(\"Functions5\", df)"
   ]
  },
  {
   "cell_type": "markdown",
   "metadata": {},
   "source": [
    "### Functions 6\n",
    "What does this code snippet print?\n",
    "\n",
    "```python\n",
    "def f(s, ls):\n",
    "    for e in ls:\n",
    "        s = s + e\n",
    "    return s\n",
    "\n",
    "print(f('abc', ['x', 'y', 'z']))\n",
    "```"
   ]
  },
  {
   "cell_type": "code",
   "execution_count": 127,
   "metadata": {},
   "outputs": [
    {
     "name": "stdout",
     "output_type": "stream",
     "text": [
      "Number of correct responses:\n",
      "Functions6_points\n",
      "0    15\n",
      "1     5\n",
      "Name: count, dtype: int64\n",
      "\n",
      "Top 5 most common answers:\n",
      "Functions6\n",
      "I don't know     14\n",
      "abcxyz            5\n",
      "abcxabccyabcz     1\n",
      "Name: count, dtype: int64\n"
     ]
    }
   ],
   "source": [
    "print_task_result(\"Functions6\", df)"
   ]
  },
  {
   "cell_type": "markdown",
   "metadata": {},
   "source": [
    "### Functions 7\n",
    "What does this code snippet print?\n",
    "\n",
    "```python\n",
    "def f(n, ls):\n",
    "    return ls[n]\n",
    "\n",
    "print(f(2, ['a', 'b', 'c']))\n",
    "```"
   ]
  },
  {
   "cell_type": "code",
   "execution_count": 128,
   "metadata": {},
   "outputs": [
    {
     "name": "stdout",
     "output_type": "stream",
     "text": [
      "Number of correct responses:\n",
      "Functions7_points\n",
      "0    13\n",
      "1     7\n",
      "Name: count, dtype: int64\n",
      "\n",
      "Top 5 most common answers:\n",
      "Functions7\n",
      "I don't know    13\n",
      "c                7\n",
      "Name: count, dtype: int64\n"
     ]
    }
   ],
   "source": [
    "print_task_result(\"Functions7\", df)"
   ]
  },
  {
   "cell_type": "markdown",
   "metadata": {},
   "source": [
    "### Functions 8\n",
    "What does this code snippet print?\n",
    "\n",
    "```python\n",
    "def f(n, ls):\n",
    "    return ls[1] + n\n",
    "\n",
    "print(f(5, [10, 20, 30]))\n",
    "```"
   ]
  },
  {
   "cell_type": "code",
   "execution_count": 129,
   "metadata": {},
   "outputs": [
    {
     "name": "stdout",
     "output_type": "stream",
     "text": [
      "Number of correct responses:\n",
      "Functions8_points\n",
      "0    13\n",
      "1     7\n",
      "Name: count, dtype: int64\n",
      "\n",
      "Top 5 most common answers:\n",
      "Functions8\n",
      "I don't know    13\n",
      "25.0             7\n",
      "Name: count, dtype: int64\n"
     ]
    }
   ],
   "source": [
    "print_task_result(\"Functions8\", df)"
   ]
  },
  {
   "cell_type": "markdown",
   "metadata": {},
   "source": [
    "### Functions 9\n",
    "What does this code snippet print?\n",
    "\n",
    "```python\n",
    "def f(n, ls):\n",
    "    for e in ls:\n",
    "        ls[n] = ls[n] + e\n",
    "    return ls[n]\n",
    "\n",
    "print(f(1, [10, 20, 30]))\n",
    "```"
   ]
  },
  {
   "cell_type": "code",
   "execution_count": 130,
   "metadata": {},
   "outputs": [
    {
     "name": "stdout",
     "output_type": "stream",
     "text": [
      "Number of correct responses:\n",
      "Functions9_points\n",
      "0    19\n",
      "1     1\n",
      "Name: count, dtype: int64\n",
      "\n",
      "Top 5 most common answers:\n",
      "Functions9\n",
      "I don't know    14\n",
      "80.0             3\n",
      "90.0             1\n",
      "2030.0           1\n",
      "22.0             1\n",
      "Name: count, dtype: int64\n"
     ]
    }
   ],
   "source": [
    "print_task_result(\"Functions9\", df)"
   ]
  },
  {
   "cell_type": "code",
   "execution_count": null,
   "metadata": {},
   "outputs": [],
   "source": []
  }
 ],
 "metadata": {
  "kernelspec": {
   "display_name": "Python 3 (ipykernel)",
   "language": "python",
   "name": "python3"
  },
  "language_info": {
   "codemirror_mode": {
    "name": "ipython",
    "version": 3
   },
   "file_extension": ".py",
   "mimetype": "text/x-python",
   "name": "python",
   "nbconvert_exporter": "python",
   "pygments_lexer": "ipython3",
   "version": "3.8.1"
  }
 },
 "nbformat": 4,
 "nbformat_minor": 4
}
