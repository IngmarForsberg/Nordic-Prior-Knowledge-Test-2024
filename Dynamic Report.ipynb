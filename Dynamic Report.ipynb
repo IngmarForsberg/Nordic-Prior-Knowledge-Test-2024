{
 "cells": [
  {
   "cell_type": "markdown",
   "metadata": {},
   "source": [
    "# The Nordic Prior Knowledge Test in Programming\n",
    "**Author**: [Sondre Sæther Bolland](https://www.uib.no/personer/Sondre.S%C3%A6ther.Bolland)\n",
    "\n",
    "**Institution**: Department of Informatics, University of Bergen\n",
    "\n",
    "**Email**: sondre.bolland@uib.no"
   ]
  },
  {
   "cell_type": "markdown",
   "metadata": {},
   "source": [
    "## Introduction\n",
    "The Nordic Prior Knowledge Test in Programming is a tool for assessing students’ programming skill. The test covers the fundamental elements of introductory programming taught at different universities and university colleges in Norway and Sweden. By testing the students in the concepts found in CS1 we aim for instructors to be better able to develop and adapt their courses to this new found prior knowledge.\n",
    "\n",
    "This Notebook is a dynamic report of the results from 2024, designed to effectivly convey the findings of the test at the start of the semester. The (static) written report will be published sometime fall 2024 here: https://programmeringstesten.no/ "
   ]
  },
  {
   "cell_type": "markdown",
   "metadata": {},
   "source": [
    "### Imports"
   ]
  },
  {
   "cell_type": "code",
   "execution_count": 3,
   "metadata": {},
   "outputs": [],
   "source": [
    "import numpy as np\n",
    "import pandas as pd\n",
    "import matplotlib.pyplot as plt\n",
    "from matplotlib.ticker import PercentFormatter"
   ]
  },
  {
   "cell_type": "markdown",
   "metadata": {},
   "source": [
    "### Data\n",
    "Before using this notebook two python scripts need to be run. A requirement to run these scripts is to have the csv file with the original dataset: `total.csv`. This must be placed in the `data` folder in the main directory (where this Notebook is located).\n",
    "\n",
    "`clean_data.py` cleans certain columns for ambigious data and renames columns for analysis.\n",
    "\n",
    "`grade_submissions.py` grades each question based on the rubric (`rubric.json`)."
   ]
  },
  {
   "cell_type": "code",
   "execution_count": 4,
   "metadata": {},
   "outputs": [
    {
     "name": "stdout",
     "output_type": "stream",
     "text": [
      "Replace escape characters: dict_items([('&lt;', '<'), ('&gt;', '>'), ('&#61;', '='), ('&#34;', '\"'), ('&#43;', '+')])\n",
      "Replace all institution full names with their shorthand.\n",
      "Replace all ambigious genders with standardized labels: ['m', 'f'] (other gender identities are not included)\n",
      "2119 submissions.\n",
      "Rename columns with simpler titles. Easier to use in analysis.\n",
      "Removed all genders that are not in: ['m', 'f']. The other gender identities do not have a large enough sample size for valid statistical analysis.\n",
      "Max score: 51.79999999999998\n",
      "Submissions to be graded: 2119\n",
      "Submissions graded.\n"
     ]
    }
   ],
   "source": [
    "!python clean_data.py\n",
    "!python grade_submissions.py"
   ]
  },
  {
   "cell_type": "markdown",
   "metadata": {},
   "source": [
    "### Dataset"
   ]
  },
  {
   "cell_type": "code",
   "execution_count": 368,
   "metadata": {},
   "outputs": [],
   "source": [
    "# Specify the path of the data file\n",
    "path = \"data/\"\n",
    "filename = path + \"results.csv\"\n",
    "df = pd.read_csv(filename, on_bad_lines=\"skip\", delimiter=\";\", encoding=\"utf8\")\n",
    "\n",
    "# Remove all students who have taken a university level course\n",
    "df = df[(df['UniversityExperience'] == 'Nei')]"
   ]
  },
  {
   "cell_type": "markdown",
   "metadata": {},
   "source": [
    "### Filter the dataframe\n",
    "Do you want to look at a specific subset of students?\n",
    "Use the next cell to filter the students based on your criteria.\n",
    "\n",
    "To reset the dataframe, simply run the cell above."
   ]
  },
  {
   "cell_type": "code",
   "execution_count": 369,
   "metadata": {},
   "outputs": [],
   "source": [
    "# Filter by institution\n",
    "specific_institutions = ['UiB'] # 'UiB', 'NTNU', 'UiS', 'HvL', 'UiO', 'Kristiania', 'NMBU', 'OsloMet'\n",
    "#df = df[(df['Institution'].isin(specific_institutions))]"
   ]
  },
  {
   "cell_type": "code",
   "execution_count": 370,
   "metadata": {},
   "outputs": [],
   "source": [
    "# Filter out all non INF100 related study programs\n",
    "inf100_studyprograms = ['Nanoteknologi, Bachelor', 'Datateknologi, Bachelor', 'Datasikkerhet, Bachelor', 'Bioinformatikk, Bachelor', 'Informatikk, Matematikk og Økonomi, Bachelor', 'Fysikk, Bachelor', 'Data science, Siv.ing.', 'Kognitiv vitenskap, Bachelor', 'Energi, Siv.ing.', 'Geofysikk, Bachelor', 'Anvendt matematikk, Bachelor', 'Geovitenskap, Bachelor', 'Kjemi, Bachelor', 'Matematikk, Bachelor', 'Statistikk og data science, Bachelor', 'Vær hav og klimafysikk, Bachelor', 'Havteknologi, Siv.ing.', 'Integrert masterprogram i aktuarfag og analyse', 'Informatikk, Årsstudium', 'Biologi, Bachelor', 'Geofag og informatikk, Bachelor', 'Molykelærbiologi, Bachelor', 'Havbruk, Siv.ing.', 'Medisinsk teknologi, Siv.ing.']\n",
    "#df = df[(df['Studyprogram'].isin(inf100_studyprograms))]"
   ]
  },
  {
   "cell_type": "code",
   "execution_count": 371,
   "metadata": {},
   "outputs": [],
   "source": [
    "# Filter out all non informatics students at UiB\n",
    "informatics_studyprograms = ['Datateknologi, Bachelor', 'Datasikkerhet, Bachelor', 'Bioinformatikk, Bachelor', 'Informatikk, Matematikk og Økonomi, Bachelor', 'Data science, Siv.ing.', 'Informatikk, Årsstudium']\n",
    "#df = df[(df['Studyprogram'].isin(informatics_studyprograms))]"
   ]
  },
  {
   "cell_type": "code",
   "execution_count": 372,
   "metadata": {},
   "outputs": [],
   "source": [
    "# Filter by Graduate Year\n",
    "specific_graduateyears = ['2023', '2024']\n",
    "#df = df[(df['GraduateYear'].isin(specific_graduateyears))]"
   ]
  },
  {
   "cell_type": "code",
   "execution_count": 373,
   "metadata": {},
   "outputs": [],
   "source": [
    "# Filter by Gender\n",
    "specific_genders = ['f', 'm', ' '] # 'f', 'm', ' '\n",
    "#df = df[(df['Gender'].isin(specific_genders))]"
   ]
  },
  {
   "cell_type": "markdown",
   "metadata": {},
   "source": [
    "## Demographics\n",
    "See the background of the students. Note that there are a large number of submissions that are blank for some of the following items. This is due to the students submitting ambigious answers, which have not been labled correctly by `clean_data.py`."
   ]
  },
  {
   "cell_type": "code",
   "execution_count": 374,
   "metadata": {},
   "outputs": [
    {
     "name": "stdout",
     "output_type": "stream",
     "text": [
      "The dataset has 1865 student submissions.\n"
     ]
    }
   ],
   "source": [
    "# Total number of students\n",
    "print(f\"The dataset has {len(df['Total'])} student submissions.\")"
   ]
  },
  {
   "cell_type": "markdown",
   "metadata": {},
   "source": [
    "\n",
    "### Institutions"
   ]
  },
  {
   "cell_type": "code",
   "execution_count": 375,
   "metadata": {},
   "outputs": [
    {
     "name": "stdout",
     "output_type": "stream",
     "text": [
      "Institution\n",
      "NTNU    846\n",
      "UiB     332\n",
      "UiS     332\n",
      "UiO     214\n",
      "HiOf     95\n",
      "HVL      43\n",
      "Name: count, dtype: int64\n"
     ]
    },
    {
     "data": {
      "text/plain": [
       "<Axes: ylabel='count'>"
      ]
     },
     "execution_count": 375,
     "metadata": {},
     "output_type": "execute_result"
    },
    {
     "data": {
      "image/png": "[encoded data removed]",
      "text/plain": [
       "<Figure size 640x480 with 1 Axes>"
      ]
     },
     "metadata": {},
     "output_type": "display_data"
    }
   ],
   "source": [
    "institutions = df.Institution.unique()\n",
    "\n",
    "institution_column = \"Institution\"\n",
    "print(df[institution_column].value_counts())\n",
    "df[institution_column].value_counts().plot.pie()"
   ]
  },
  {
   "cell_type": "markdown",
   "metadata": {},
   "source": [
    "### Study Program"
   ]
  },
  {
   "cell_type": "code",
   "execution_count": 376,
   "metadata": {},
   "outputs": [
    {
     "name": "stdout",
     "output_type": "stream",
     "text": [
      "Studyprogram\n",
      "Annet                                             143\n",
      "Geovitenskap, Bachelor                             37\n",
      "Informatikk, Årsstudium                            23\n",
      "Havteknologi, Siv.ing.                             21\n",
      "Datasikkerhet, Bachelor                            19\n",
      "Datateknologi, Bachelor                            18\n",
      "Fysikk, Bachelor                                   15\n",
      "Informatikk, Matematikk og Økonomi, Bachelor       10\n",
      "Geofysikk, Bachelor                                 7\n",
      "Matematikk, Bachelor                                6\n",
      "Biologi, Bachelor                                   5\n",
      "Kjemi, Bachelor                                     4\n",
      "Data science, Siv.ing.                              3\n",
      "Vær hav og klimafysikk, Bachelor                    3\n",
      "Molykelærbiologi, Bachelor                          1\n",
      "Integrert masterprogram i aktuarfag og analyse      1\n",
      "Havbruk, Siv.ing.                                   1\n",
      "Nanoteknologi, Bachelor                             1\n",
      "Kognitiv vitenskap, Bachelor                        1\n",
      "Name: count, dtype: int64\n"
     ]
    },
    {
     "data": {
      "text/plain": [
       "<Axes: ylabel='count'>"
      ]
     },
     "execution_count": 376,
     "metadata": {},
     "output_type": "execute_result"
    },
    {
     "data": {
      "image/png": "[encoded data removed]",
      "text/plain": [
       "<Figure size 640x480 with 1 Axes>"
      ]
     },
     "metadata": {},
     "output_type": "display_data"
    }
   ],
   "source": [
    "studyprogram = df.Studyprogram.unique()\n",
    "\n",
    "studyprogram_column = \"Studyprogram\"\n",
    "print(df[studyprogram_column].value_counts())\n",
    "df[studyprogram_column].value_counts().plot.pie()"
   ]
  },
  {
   "cell_type": "markdown",
   "metadata": {},
   "source": [
    "### Graduate Year"
   ]
  },
  {
   "cell_type": "code",
   "execution_count": 377,
   "metadata": {},
   "outputs": [
    {
     "name": "stdout",
     "output_type": "stream",
     "text": [
      "GraduateYear\n",
      "2024     458\n",
      "2023     398\n",
      "2022     367\n",
      "2021     136\n",
      "2019      86\n",
      "2020      81\n",
      "2018      39\n",
      "2017      30\n",
      "2015      23\n",
      "2014      22\n",
      "2016      14\n",
      "2012      10\n",
      "2005       9\n",
      "Annet      8\n",
      "2010       5\n",
      "2011       4\n",
      "2007       4\n",
      "2009       3\n",
      "2006       3\n",
      "2008       2\n",
      "Name: count, dtype: int64\n"
     ]
    },
    {
     "data": {
      "text/plain": [
       "<Axes: ylabel='count'>"
      ]
     },
     "execution_count": 377,
     "metadata": {},
     "output_type": "execute_result"
    },
    {
     "data": {
      "image/png": "[encoded data removed]",
      "text/plain": [
       "<Figure size 640x480 with 1 Axes>"
      ]
     },
     "metadata": {},
     "output_type": "display_data"
    }
   ],
   "source": [
    "years = df.GraduateYear.unique()\n",
    "\n",
    "graduateyear_column = \"GraduateYear\"\n",
    "print(df[graduateyear_column].value_counts())\n",
    "df[graduateyear_column].value_counts().plot.pie()"
   ]
  },
  {
   "cell_type": "markdown",
   "metadata": {},
   "source": [
    "### Gender"
   ]
  },
  {
   "cell_type": "code",
   "execution_count": 378,
   "metadata": {},
   "outputs": [
    {
     "name": "stdout",
     "output_type": "stream",
     "text": [
      "Gender\n",
      "m    1110\n",
      "f     622\n",
      "      133\n",
      "Name: count, dtype: int64\n",
      "Gender\n",
      "m    0.595174\n",
      "f    0.333512\n",
      "     0.071314\n",
      "Name: proportion, dtype: float64\n"
     ]
    },
    {
     "data": {
      "text/plain": [
       "<Axes: ylabel='count'>"
      ]
     },
     "execution_count": 378,
     "metadata": {},
     "output_type": "execute_result"
    },
    {
     "data": {
      "image/png": "[encoded data removed]",
      "text/plain": [
       "<Figure size 640x480 with 1 Axes>"
      ]
     },
     "metadata": {},
     "output_type": "display_data"
    }
   ],
   "source": [
    "genders = df.Gender.unique()\n",
    "gender_column = \"Gender\"\n",
    "\n",
    "print(df[gender_column].value_counts())\n",
    "print(df[gender_column].value_counts(normalize=True))\n",
    "df[gender_column].value_counts().plot.pie()"
   ]
  },
  {
   "cell_type": "markdown",
   "metadata": {},
   "source": [
    "## Educational Background\n",
    "What experiences with programming do these students have? \n",
    "\n",
    "### Elective Programming Courses\n",
    "During the secondary school phase, students have the option to take three elective courses in programming: *Information Technology 1* (IT1), *Information Technology 2* (IT2), and *Programming and Modelling X* (PMX). "
   ]
  },
  {
   "cell_type": "code",
   "execution_count": 379,
   "metadata": {},
   "outputs": [],
   "source": [
    "# Make new column for NO elective programming course\n",
    "courses = ['Informasjonsteknologi 1 (IT1)', 'Informasjonsteknologi 2 (IT2)', 'Programmering og modellering X']\n",
    "df_temp = df[(~df['IT1'].isin(courses))]\n",
    "df_temp = df_temp[(~df_temp['IT2'].isin(courses))]\n",
    "df_temp = df_temp[(~df_temp['PMX'].isin(courses))]\n",
    "df_temp['NoElective'] = ~df_temp['IT1'].isin(courses)\n",
    "\n",
    "df['NoElective'] = df_temp['NoElective']"
   ]
  },
  {
   "cell_type": "code",
   "execution_count": 380,
   "metadata": {},
   "outputs": [
    {
     "data": {
      "image/png": "[encoded data removed]",
      "text/plain": [
       "<Figure size 640x480 with 1 Axes>"
      ]
     },
     "metadata": {},
     "output_type": "display_data"
    }
   ],
   "source": [
    "fig, ax = plt.subplots()\n",
    "\n",
    "courses = ['IT1', 'IT2', 'PMX', 'No Electives']\n",
    "n_it1 = df['IT1'].value_counts()['Informasjonsteknologi 1 (IT1)']\n",
    "n_it2 = df['IT2'].value_counts()['Informasjonsteknologi 2 (IT2)']\n",
    "n_pmx = df['PMX'].value_counts()['Programmering og modellering X']\n",
    "n_noelectives = df['NoElective'].value_counts()[True]\n",
    "counts = [n_it1, n_it2, n_pmx, n_noelectives]\n",
    "\n",
    "ax.bar(courses, counts)\n",
    "ax.set_ylabel('Students')\n",
    "ax.set_title('Courses')\n",
    "\n",
    "plt.show()"
   ]
  },
  {
   "cell_type": "markdown",
   "metadata": {},
   "source": [
    "### Math Courses\n",
    "The most common math courses available in secondary school are:\n",
    " * Practical Math 1 (1P)\n",
    " * Practical Math 2 (2P)\n",
    " * Theoretical Math 1 (1T)\n",
    " * Social Science Math 1 (S1)\n",
    " * Social Science Math 2 (S2)\n",
    " * Natural Science Math 1 (R1)\n",
    " * Natural Science Math 2 (R2)\n",
    "\n",
    "The majority of students who took the test belonged to STEM fields, where the typical admission requirement includes S1 and S2 or R1 mathematics. Certain math-intensive study programs may also demand R2 mathematics. Notably, most students had completed the Natural Science Math courses (see plot below), which is the most advanced option."
   ]
  },
  {
   "cell_type": "code",
   "execution_count": 381,
   "metadata": {},
   "outputs": [
    {
     "data": {
      "image/png": "[encoded data removed]",
      "text/plain": [
       "<Figure size 640x480 with 1 Axes>"
      ]
     },
     "metadata": {},
     "output_type": "display_data"
    }
   ],
   "source": [
    "fig, ax = plt.subplots()\n",
    "\n",
    "courses = ['1P', '2P', '1T', 'S1', 'S2', 'R1', 'R2']\n",
    "gotten_courses = []\n",
    "counts = []\n",
    "for course in courses:\n",
    "    try:\n",
    "        count = df[course].value_counts()[course]\n",
    "        counts.append(count)\n",
    "        gotten_courses.append(course)\n",
    "    except:\n",
    "        continue\n",
    "\n",
    "ax.bar(gotten_courses, counts)\n",
    "ax.set_ylabel('Students')\n",
    "ax.set_title('Courses')\n",
    "\n",
    "plt.show()"
   ]
  },
  {
   "cell_type": "markdown",
   "metadata": {},
   "source": [
    "### Experience outside of school\n",
    "A source of programming knowledge is self-directed learning outside of formal education, where individuals independently explore the field, using resources like books and online materials. The following plot shows the distribution of students who report having at least 30 hours of outside experience with either block based or text based programming."
   ]
  },
  {
   "cell_type": "code",
   "execution_count": 382,
   "metadata": {},
   "outputs": [
    {
     "name": "stdout",
     "output_type": "stream",
     "text": [
      "OutsideExperience\n",
      "Nei    1444\n",
      "Ja      416\n",
      "Name: count, dtype: int64\n",
      "OutsideExperience\n",
      "Nei    0.776344\n",
      "Ja     0.223656\n",
      "Name: proportion, dtype: float64\n"
     ]
    },
    {
     "data": {
      "text/plain": [
       "<Axes: ylabel='count'>"
      ]
     },
     "execution_count": 382,
     "metadata": {},
     "output_type": "execute_result"
    },
    {
     "data": {
      "image/png": "[encoded data removed]",
      "text/plain": [
       "<Figure size 640x480 with 1 Axes>"
      ]
     },
     "metadata": {},
     "output_type": "display_data"
    }
   ],
   "source": [
    "outside_column = \"OutsideExperience\"\n",
    "\n",
    "print(df[outside_column].value_counts())\n",
    "print(df[outside_column].value_counts(normalize=True))\n",
    "df[outside_column].value_counts().plot.pie()"
   ]
  },
  {
   "cell_type": "markdown",
   "metadata": {},
   "source": [
    "# Results\n",
    "In this section of the report, the main results are presented before a review of the background the students have on the various study paths and what connection there is between background and results. Later we take a close look at how well they performed in specific programming tasks to understand their grasp of the different concepts."
   ]
  },
  {
   "cell_type": "code",
   "execution_count": 383,
   "metadata": {},
   "outputs": [],
   "source": [
    "# Configurations\n",
    "bins = 25\n",
    "edgecolor = 'red'\n",
    "alpha = 0.5"
   ]
  },
  {
   "cell_type": "markdown",
   "metadata": {},
   "source": [
    "## Main Result\n",
    "A histogram of the total score of the students. Maximum score: 51.8."
   ]
  },
  {
   "cell_type": "code",
   "execution_count": 384,
   "metadata": {},
   "outputs": [
    {
     "name": "stdout",
     "output_type": "stream",
     "text": [
      "Mean: 22.944\n",
      "Standard deviation: 16.442\n"
     ]
    },
    {
     "data": {
      "image/png": "[encoded data removed]",
      "text/plain": [
       "<Figure size 640x480 with 1 Axes>"
      ]
     },
     "metadata": {},
     "output_type": "display_data"
    }
   ],
   "source": [
    "x = df['Total']\n",
    "\n",
    "mean = df.loc[:, 'Total'].mean()\n",
    "sd = df.loc[:, 'Total'].std()\n",
    "print(f'Mean: {round(mean, 3)}')\n",
    "print(f'Standard deviation: {round(sd, 3)}')\n",
    "\n",
    "\n",
    "plt.hist(x, edgecolor=edgecolor, bins=bins, range=[0, 52])\n",
    "plt.show() "
   ]
  },
  {
   "cell_type": "markdown",
   "metadata": {},
   "source": [
    "### Did the students find the test hard?\n",
    "We asked the students to rate the test's difficulty on a Likert scale from 1 (very easy) to 7 (very hard)"
   ]
  },
  {
   "cell_type": "code",
   "execution_count": 385,
   "metadata": {},
   "outputs": [
    {
     "data": {
      "text/plain": [
       "<Axes: xlabel='difficulty'>"
      ]
     },
     "execution_count": 385,
     "metadata": {},
     "output_type": "execute_result"
    },
    {
     "data": {
      "image/png": "[encoded data removed]",
      "text/plain": [
       "<Figure size 640x480 with 1 Axes>"
      ]
     },
     "metadata": {},
     "output_type": "display_data"
    }
   ],
   "source": [
    "df['difficulty'].value_counts().loc[['Veldig lett', 'Lett', 'Litt lett', 'Nøytral', 'Litt vanskelig', 'Vanskelig', 'Veldig vanskelig']].plot.bar()"
   ]
  },
  {
   "cell_type": "code",
   "execution_count": 386,
   "metadata": {},
   "outputs": [],
   "source": [
    "def compare_distributions(x, y, x_label, y_label):\n",
    "    n = len(x)\n",
    "    mean = x.mean()\n",
    "    sd = x.std()\n",
    "    print(f'N students in {x_label}: {n}')\n",
    "    print(f'Mean of {x_label}: {round(mean, 3)}')\n",
    "    print(f'Standard deviation of {x_label}: {round(sd, 3)}')\n",
    "    print()\n",
    "\n",
    "    n = len(y)\n",
    "    mean = y.mean()\n",
    "    sd = y.std()\n",
    "    print(f'N students in {y_label}: {n}')\n",
    "    print(f'Mean of {y_label}: {round(mean, 3)}')\n",
    "    print(f'Standard deviation of {y_label}: {round(sd, 3)}')\n",
    "    \n",
    "    #plt.hist(x, bins=bins, alpha=alpha, edgecolor=edgecolor, label=x_label, weights=np.ones(len(x)) / len(x), range=[0, 52])\n",
    "    #plt.hist(y, bins=bins, alpha=alpha, edgecolor=edgecolor, label=y_label, weights=np.ones(len(y)) / len(y), range=[0, 52])\n",
    "    plt.hist(x, bins=bins, alpha=alpha, edgecolor=edgecolor, label=x_label, range=[0, 52])\n",
    "    plt.hist(y, bins=bins, alpha=alpha, edgecolor=edgecolor, label=y_label, range=[0, 52])\n",
    "    #plt.gca().yaxis.set_major_formatter(PercentFormatter(1))\n",
    "    plt.legend(loc='upper right')\n",
    "    plt.show()"
   ]
  },
  {
   "cell_type": "markdown",
   "metadata": {},
   "source": [
    "## Prior Programming Experience in Secondary School\n",
    "In the initial segment of the test, we inquired with the students regarding their prior exposure to\n",
    "programming before to commencing their higher education studies.\n",
    "\n",
    "### Graduation Year\n",
    "The educational reforms outlined in LK20 were introduced in the year 2020, resulting in programming becoming a compulsory component solely for those students who graduated in 2023 and onward."
   ]
  },
  {
   "cell_type": "code",
   "execution_count": 387,
   "metadata": {},
   "outputs": [
    {
     "name": "stdout",
     "output_type": "stream",
     "text": [
      "N students in 2023 and 2024: 856\n",
      "Mean of 2023 and 2024: 29.03\n",
      "Standard deviation of 2023 and 2024: 15.462\n",
      "\n",
      "N students in before 2023: 1009\n",
      "Mean of before 2023: 17.782\n",
      "Standard deviation of before 2023: 15.46\n"
     ]
    },
    {
     "data": {
      "image/png": "[encoded data removed]",
      "text/plain": [
       "<Figure size 640x480 with 1 Axes>"
      ]
     },
     "metadata": {},
     "output_type": "display_data"
    }
   ],
   "source": [
    "years = df['GraduateYear']\n",
    "x = df[(years.isin(['2023', '2024']))]['Total']\n",
    "y = df[(~years.isin(['2023', '2024']))]['Total']\n",
    "y = y[~np.isnan(y)]\n",
    "\n",
    "x_label = '2023 and 2024'\n",
    "y_label = 'before 2023'\n",
    "\n",
    "compare_distributions(x, y, x_label, y_label)"
   ]
  },
  {
   "cell_type": "markdown",
   "metadata": {},
   "source": [
    "### How many students do not need introductory programming?\n",
    "The students who perform very well on this test might not need CS1. If we set an (arbitrary) point threshold we can get an indication of how many students can perhaps move on to more advanced courses."
   ]
  },
  {
   "cell_type": "code",
   "execution_count": 388,
   "metadata": {},
   "outputs": [
    {
     "name": "stdout",
     "output_type": "stream",
     "text": [
      "Number of students with a score over 48: 201 (10.78%)\n"
     ]
    }
   ],
   "source": [
    "threshold = 48\n",
    "x = df[df['Total'] > threshold]\n",
    "n = len(x)\n",
    "percentage = round((n/len(df))*100, 2)\n",
    "\n",
    "print(f'Number of students with a score over {threshold}: {n} ({percentage}%)')"
   ]
  },
  {
   "cell_type": "markdown",
   "metadata": {},
   "source": [
    "### Gender"
   ]
  },
  {
   "cell_type": "code",
   "execution_count": 389,
   "metadata": {},
   "outputs": [
    {
     "name": "stdout",
     "output_type": "stream",
     "text": [
      "N students in women: 622\n",
      "Mean of women: 16.774\n",
      "Standard deviation of women: 14.725\n",
      "\n",
      "N students in men: 1110\n",
      "Mean of men: 26.245\n",
      "Standard deviation of men: 16.401\n"
     ]
    },
    {
     "data": {
      "image/png": "[encoded data removed]",
      "text/plain": [
       "<Figure size 640x480 with 1 Axes>"
      ]
     },
     "metadata": {},
     "output_type": "display_data"
    }
   ],
   "source": [
    "x = df[(df['Gender'] == 'f')]['Total']\n",
    "y = df[(df['Gender'] == 'm')]['Total']\n",
    "\n",
    "x_label = 'women'\n",
    "y_label = 'men'\n",
    "\n",
    "compare_distributions(x, y, x_label, y_label)"
   ]
  },
  {
   "cell_type": "markdown",
   "metadata": {},
   "source": [
    "# Programming Tasks\n",
    "Each task featured in the test pertained to a designated concept category. The following cells show the number of correct answers and the most common answers for each task."
   ]
  },
  {
   "cell_type": "markdown",
   "metadata": {},
   "source": [
    "## Correctness rate for each concept category\n",
    "Below you can find the percentage of accurate responses achieved by the students for each concept.\n",
    "\n",
    "Note that performance within each category may not exclusively reflect the students’ mastery of that programming concept. Variability in task difficulty plays a substantial role, with some tasks naturally being easier than others, irrespective of the underlying concept."
   ]
  },
  {
   "cell_type": "code",
   "execution_count": 390,
   "metadata": {},
   "outputs": [],
   "source": [
    "def correctnes_rate(columns, category, task_weight=1):\n",
    "    correct_answer_rate = 0\n",
    "    for column in columns:\n",
    "        points_column = column + \"_points\"\n",
    "        task_mean = df.loc[:, points_column].mean()\n",
    "        correct_answer_rate += task_mean\n",
    "    correct_answer_rate /= len(columns)*task_weight\n",
    "    print(f'{category:15s} {correct_answer_rate*100:3.2f} %')"
   ]
  },
  {
   "cell_type": "code",
   "execution_count": 391,
   "metadata": {},
   "outputs": [
    {
     "name": "stdout",
     "output_type": "stream",
     "text": [
      "The students have the following average correctness rate for each concept category:\n",
      "Datatypes       53.79 %\n",
      "Booleans        62.44 %\n",
      "Variables       52.54 %\n",
      "Conditionals    57.47 %\n",
      "Loops           29.45 %\n",
      "Lists           33.40 %\n",
      "Functions       21.86 %\n"
     ]
    }
   ],
   "source": [
    "print(\"The students have the following average correctness rate for each concept category:\")\n",
    "\n",
    "# Datatypes\n",
    "datatype_columns = ['datatypes1', 'datatypes2', 'datatypes3', 'datatypes4']\n",
    "correctnes_rate(datatype_columns, \"Datatypes\")\n",
    "\n",
    "# Booleans\n",
    "boolean_columns = [\"100 == 100\", \"2 > 7\", \"(10 + 3) >= 13\", \"(10*2) < 9\", \"(1 + 3) < (2*3)\", \"(10.3 + 9) == (10.3 + 10)\",\t\"100 != 100\", \"(5 < 7) and (4 > 5)\", \"(5 < 7) or (4 > 5)\", \"(3 < 7) and (7 < 9)\", \"(3 < 7) or (7 < 9)\", \"not (100 != 100)\", \"True != True\", \"True and False\", \"True or False\" , \"True and True\", \"True or True\", \"not (True != True)\", \"n < 10\", \"100 == n\", \"(n < 7) and (4 > n)\", \"(n < 7) or (4 > n)\", \"n <= 5\", \"not (n < 10)\"]\n",
    "correctnes_rate(boolean_columns, \"Booleans\", task_weight=0.2)\n",
    "\n",
    "# Variables\n",
    "variable_columns = [\"Variables1a\", \"Variables1b\", \"Variables2a\", \"Variables2b\", \"Variables3a\", \"Variables3b\", \"Variables4a\", \"Variables4b\", \"Variables5a\", \"Variables5b\", \"Variables5c\", \"Variables6a\", \"Variables6b\", \"Variables6c\"]\n",
    "correctnes_rate(variable_columns, \"Variables\")\n",
    "\n",
    "# Conditionals\n",
    "conditional_columns = [\"Conditionals1\", \"Conditionals2\", \"Conditionals3\", \"Conditionals4\"]\n",
    "correctnes_rate(conditional_columns, \"Conditionals\")\n",
    "\n",
    "# Loops\n",
    "loop_columns = [\"Loops1\", \"Loops2\", \"Loops3\", \"Loops4\", \"Loops5\", \"Loops6\", \"Loops7\"]\n",
    "correctnes_rate(loop_columns, \"Loops\")\n",
    "\n",
    "# Lists\n",
    "list_columns = [\"Lists1\", \"Lists2\", \"Lists3a\", \"Lists3b\"]\n",
    "correctnes_rate(list_columns, \"Lists\")\n",
    "\n",
    "# Functions\n",
    "function_columns = [\"Functions1\", \"Functions2\", \"Functions3\", \"Functions4\", \"Functions5\", \"Functions6\", \"Functions7\", \"Functions8\", \"Functions9\"]\n",
    "correctnes_rate(function_columns, \"Functions\")"
   ]
  },
  {
   "cell_type": "markdown",
   "metadata": {},
   "source": [
    "## Tasks\n",
    "To gain a deeper understanding of the students’ knowledge and comprehension of specific programming concepts, it is important to analyze their performance on these concepts. "
   ]
  },
  {
   "cell_type": "code",
   "execution_count": 392,
   "metadata": {},
   "outputs": [],
   "source": [
    "def print_task_result(task_column, df, n_answers=5, verbose_correct_answers=True):\n",
    "    '''\n",
    "    Print number of correct (1) and incorrect (0) responses.\n",
    "    Print the top 5 most common answers.\n",
    "    '''\n",
    "    if verbose_correct_answers:\n",
    "        task_point_column = task_column + \"_points\"\n",
    "        print(\"Number of correct responses:\")\n",
    "        print(df[task_point_column].value_counts())\n",
    "        print()\n",
    "    \n",
    "    print(f\"Top {n_answers} most common answers:\")\n",
    "    try:\n",
    "        print(df[task_column].value_counts()[:n_answers])\n",
    "    except:\n",
    "        print(df[task_column].value_counts())"
   ]
  },
  {
   "cell_type": "markdown",
   "metadata": {},
   "source": [
    "# Datatypes\n",
    "What datatype do the following variables have?\n",
    "```python\n",
    "a = 123\n",
    "b = 1.23\n",
    "c = '123'\n",
    "d = [1, 2, 3]\n",
    "```"
   ]
  },
  {
   "cell_type": "code",
   "execution_count": 393,
   "metadata": {},
   "outputs": [
    {
     "name": "stdout",
     "output_type": "stream",
     "text": [
      "Number of correct responses:\n",
      "datatypes1_points\n",
      "1    938\n",
      "0    927\n",
      "Name: count, dtype: int64\n",
      "\n",
      "Top 6 most common answers:\n",
      "datatypes1\n",
      "int             938\n",
      "Jeg vet ikke    623\n",
      "str             120\n",
      "float            95\n",
      "list             47\n",
      "bool             34\n",
      "Name: count, dtype: int64\n",
      "\n",
      "Number of correct responses:\n",
      "datatypes2_points\n",
      "1    943\n",
      "0    922\n",
      "Name: count, dtype: int64\n",
      "\n",
      "Top 6 most common answers:\n",
      "datatypes2\n",
      "float           943\n",
      "Jeg vet ikke    628\n",
      "int             127\n",
      "str             100\n",
      "bool             43\n",
      "list             11\n",
      "Name: count, dtype: int64\n",
      "\n",
      "Number of correct responses:\n",
      "datatypes3_points\n",
      "0    1038\n",
      "1     827\n",
      "Name: count, dtype: int64\n",
      "\n",
      "Top 6 most common answers:\n",
      "datatypes3\n",
      "str             827\n",
      "Jeg vet ikke    758\n",
      "int              85\n",
      "float            81\n",
      "bool             73\n",
      "list             21\n",
      "Name: count, dtype: int64\n",
      "\n",
      "Number of correct responses:\n",
      "datatypes4_points\n",
      "1    1305\n",
      "0     560\n",
      "Name: count, dtype: int64\n",
      "\n",
      "Top 6 most common answers:\n",
      "datatypes4\n",
      "list            1305\n",
      "Jeg vet ikke     474\n",
      "int               38\n",
      "str               19\n",
      "float             13\n",
      "bool              11\n",
      "Name: count, dtype: int64\n"
     ]
    }
   ],
   "source": [
    "print_task_result(\"datatypes1\", df, 6, True)\n",
    "print()\n",
    "print_task_result(\"datatypes2\", df, 6, True)\n",
    "print()\n",
    "print_task_result(\"datatypes3\", df, 6, True)\n",
    "print()\n",
    "print_task_result(\"datatypes4\", df, 6, True)"
   ]
  },
  {
   "cell_type": "markdown",
   "metadata": {},
   "source": [
    "# Operators"
   ]
  },
  {
   "cell_type": "markdown",
   "metadata": {},
   "source": [
    "### Operators 1\n",
    "What is the value of `result`?\n",
    "```python\n",
    "a = 12\n",
    "result = a + a\n",
    "```"
   ]
  },
  {
   "cell_type": "code",
   "execution_count": 394,
   "metadata": {},
   "outputs": [
    {
     "name": "stdout",
     "output_type": "stream",
     "text": [
      "Number of correct responses:\n",
      "Operators1_points\n",
      "1    1531\n",
      "0     334\n",
      "Name: count, dtype: int64\n",
      "\n",
      "Top 4 most common answers:\n",
      "Operators1\n",
      "24.0            1531\n",
      "I don't know     210\n",
      "12.0              22\n",
      "6.0               12\n",
      "Name: count, dtype: int64\n"
     ]
    }
   ],
   "source": [
    "print_task_result(\"Operators1\", df, 4, True)"
   ]
  },
  {
   "cell_type": "markdown",
   "metadata": {},
   "source": [
    "### Operators 2\n",
    "What is the value of `result`?\n",
    "```python\n",
    "a = 12\n",
    "b = 1.23 \n",
    "\n",
    "result = b + a\n",
    "```"
   ]
  },
  {
   "cell_type": "code",
   "execution_count": 395,
   "metadata": {},
   "outputs": [
    {
     "name": "stdout",
     "output_type": "stream",
     "text": [
      "Number of correct responses:\n",
      "Operators2_points\n",
      "1    1288\n",
      "0     577\n",
      "Name: count, dtype: int64\n",
      "\n",
      "Top 4 most common answers:\n",
      "Operators2\n",
      "13.23           1288\n",
      "I don't know     303\n",
      "13.0               9\n",
      "12.23              5\n",
      "Name: count, dtype: int64\n"
     ]
    }
   ],
   "source": [
    "print_task_result(\"Operators2\", df, 4, True)"
   ]
  },
  {
   "cell_type": "markdown",
   "metadata": {},
   "source": [
    "### Operators 3\n",
    "What is the value of `result`?\n",
    "```python\n",
    "c = '123'\n",
    "result = c + c\n",
    "```"
   ]
  },
  {
   "cell_type": "code",
   "execution_count": 396,
   "metadata": {},
   "outputs": [
    {
     "name": "stdout",
     "output_type": "stream",
     "text": [
      "Number of correct responses:\n",
      "Operators3_points\n",
      "0    1268\n",
      "1     597\n",
      "Name: count, dtype: int64\n",
      "\n",
      "Top 4 most common answers:\n",
      "Operators3\n",
      "123123.0        597\n",
      "I don't know    450\n",
      "246.0           170\n",
      "123.0            11\n",
      "Name: count, dtype: int64\n"
     ]
    }
   ],
   "source": [
    "print_task_result(\"Operators3\", df, 4, True)"
   ]
  },
  {
   "cell_type": "markdown",
   "metadata": {},
   "source": [
    "### Operators 4\n",
    "What is printed here?\n",
    "```python\n",
    "n = 0\n",
    "n = n + 1\n",
    "n = n + 1\n",
    "\n",
    "print(n)\n",
    "```"
   ]
  },
  {
   "cell_type": "code",
   "execution_count": 397,
   "metadata": {},
   "outputs": [
    {
     "name": "stdout",
     "output_type": "stream",
     "text": [
      "Number of correct responses:\n",
      "Operators4_points\n",
      "1    1181\n",
      "0     684\n",
      "Name: count, dtype: int64\n",
      "\n",
      "Top 4 most common answers:\n",
      "Operators4\n",
      "2.0             1181\n",
      "I don't know     371\n",
      "1.0              100\n",
      "3.0               40\n",
      "Name: count, dtype: int64\n"
     ]
    }
   ],
   "source": [
    "print_task_result(\"Operators4\", df, 4, True)"
   ]
  },
  {
   "cell_type": "markdown",
   "metadata": {},
   "source": [
    "### Operators 5\n",
    "What is printed here?\n",
    "```python\n",
    "n = 'b'\n",
    "n = n + 'c'\n",
    "n = n + 'a'\n",
    "\n",
    "print(n)\n",
    "```"
   ]
  },
  {
   "cell_type": "code",
   "execution_count": 398,
   "metadata": {},
   "outputs": [
    {
     "name": "stdout",
     "output_type": "stream",
     "text": [
      "Number of correct responses:\n",
      "Operators5_points\n",
      "0    1286\n",
      "1     579\n",
      "Name: count, dtype: int64\n",
      "\n",
      "Top 4 most common answers:\n",
      "Operators5\n",
      "I don't know    683\n",
      "bca             567\n",
      "abc              17\n",
      "'bca'            15\n",
      "Name: count, dtype: int64\n"
     ]
    }
   ],
   "source": [
    "print_task_result(\"Operators5\", df, 4, True)"
   ]
  },
  {
   "cell_type": "markdown",
   "metadata": {},
   "source": [
    "# Variables"
   ]
  },
  {
   "cell_type": "markdown",
   "metadata": {},
   "source": [
    "### Variables 1\n",
    "What is the value of variables `a` and `b`?\n",
    "```python\n",
    "a = 10\n",
    "b = 20\n",
    "\n",
    "a = b\n",
    "```"
   ]
  },
  {
   "cell_type": "code",
   "execution_count": 399,
   "metadata": {},
   "outputs": [
    {
     "name": "stdout",
     "output_type": "stream",
     "text": [
      "Number of correct responses:\n",
      "Variables1a_points\n",
      "1    1094\n",
      "0     771\n",
      "Name: count, dtype: int64\n",
      "\n",
      "Top 5 most common answers:\n",
      "Variables1a\n",
      "20.0      1094\n",
      "10.0       108\n",
      "30.0         4\n",
      "1.0          4\n",
      "15.0         2\n",
      "1020.0       2\n",
      "0.5          1\n",
      "10.2         1\n",
      "220.0        1\n",
      "80.0         1\n",
      "Name: count, dtype: int64\n",
      "Number of correct responses:\n",
      "Variables1b_points\n",
      "1    1100\n",
      "0     765\n",
      "Name: count, dtype: int64\n",
      "\n",
      "Top 5 most common answers:\n",
      "Variables1b\n",
      "20.0            1100\n",
      "I don't know     650\n",
      "10.0              89\n",
      "2.0                3\n",
      "15.0               2\n",
      "Name: count, dtype: int64\n"
     ]
    }
   ],
   "source": [
    "print_task_result(\"Variables1a\", df)\n",
    "print_task_result(\"Variables1b\", df)"
   ]
  },
  {
   "cell_type": "markdown",
   "metadata": {},
   "source": [
    "### Variables 2\n",
    "What is the value of variables `a` and `b`?\n",
    "```python\n",
    "a = 10\n",
    "b = 20\n",
    "\n",
    "b = a\n",
    "```"
   ]
  },
  {
   "cell_type": "code",
   "execution_count": 400,
   "metadata": {},
   "outputs": [
    {
     "name": "stdout",
     "output_type": "stream",
     "text": [
      "Number of correct responses:\n",
      "Variables2a_points\n",
      "1    1041\n",
      "0     824\n",
      "Name: count, dtype: int64\n",
      "\n",
      "Top 5 most common answers:\n",
      "Variables2a\n",
      "10.0    1041\n",
      "20.0     105\n",
      "2.0        3\n",
      "40.0       1\n",
      "30.0       1\n",
      "0.5        1\n",
      "0.0        1\n",
      "1.0        1\n",
      "80.0       1\n",
      "15.0       1\n",
      "Name: count, dtype: int64\n",
      "Number of correct responses:\n",
      "Variables2b_points\n",
      "1    1011\n",
      "0     854\n",
      "Name: count, dtype: int64\n",
      "\n",
      "Top 5 most common answers:\n",
      "Variables2b\n",
      "10.0            1011\n",
      "I don't know     696\n",
      "20.0             130\n",
      "30.0               3\n",
      "1.0                3\n",
      "Name: count, dtype: int64\n"
     ]
    }
   ],
   "source": [
    "print_task_result(\"Variables2a\", df)\n",
    "print_task_result(\"Variables2b\", df)"
   ]
  },
  {
   "cell_type": "markdown",
   "metadata": {},
   "source": [
    "### Variables 3\n",
    "What is the value of variables `a` and `b`?\n",
    "```python\n",
    "a = 10\n",
    "b = 20\n",
    "\n",
    "a = b\n",
    "b = a\n",
    "```"
   ]
  },
  {
   "cell_type": "code",
   "execution_count": 401,
   "metadata": {},
   "outputs": [
    {
     "name": "stdout",
     "output_type": "stream",
     "text": [
      "Number of correct responses:\n",
      "Variables3a_points\n",
      "1    1014\n",
      "0     851\n",
      "Name: count, dtype: int64\n",
      "\n",
      "Top 5 most common answers:\n",
      "Variables3a\n",
      "20.0    1014\n",
      "10.0      94\n",
      "30.0       5\n",
      "29.0       1\n",
      "1.0        1\n",
      "0.5        1\n",
      "0.0        1\n",
      "15.0       1\n",
      "Name: count, dtype: int64\n",
      "Number of correct responses:\n",
      "Variables3b_points\n",
      "0    975\n",
      "1    890\n",
      "Name: count, dtype: int64\n",
      "\n",
      "Top 5 most common answers:\n",
      "Variables3b\n",
      "20.0            890\n",
      "I don't know    735\n",
      "10.0            210\n",
      "30.0              3\n",
      "2.0               1\n",
      "Name: count, dtype: int64\n"
     ]
    }
   ],
   "source": [
    "print_task_result(\"Variables3a\", df)\n",
    "print_task_result(\"Variables3b\", df)"
   ]
  },
  {
   "cell_type": "markdown",
   "metadata": {},
   "source": [
    "### Variables 4\n",
    "What is the value of variables `a` and `b`?\n",
    "```python\n",
    "a = 10\n",
    "b = 20\n",
    "\n",
    "b = a\n",
    "a = b\n",
    "```"
   ]
  },
  {
   "cell_type": "code",
   "execution_count": 402,
   "metadata": {},
   "outputs": [
    {
     "name": "stdout",
     "output_type": "stream",
     "text": [
      "Number of correct responses:\n",
      "Variables4a_points\n",
      "0    961\n",
      "1    904\n",
      "Name: count, dtype: int64\n",
      "\n",
      "Top 5 most common answers:\n",
      "Variables4a\n",
      " 10.0    904\n",
      " 20.0    168\n",
      " 40.0      3\n",
      " 30.0      3\n",
      " 1.0       2\n",
      " 10.2      1\n",
      "-10.0      1\n",
      "Name: count, dtype: int64\n",
      "Number of correct responses:\n",
      "Variables4b_points\n",
      "1    956\n",
      "0    909\n",
      "Name: count, dtype: int64\n",
      "\n",
      "Top 5 most common answers:\n",
      "Variables4b\n",
      "10.0            956\n",
      "I don't know    759\n",
      "20.0            116\n",
      "30.0              4\n",
      "2.0               2\n",
      "Name: count, dtype: int64\n"
     ]
    }
   ],
   "source": [
    "print_task_result(\"Variables4a\", df)\n",
    "print_task_result(\"Variables4b\", df)"
   ]
  },
  {
   "cell_type": "markdown",
   "metadata": {},
   "source": [
    "### Variables 5\n",
    "What is the value of variables `a`, `b` and `c`?\n",
    "```python\n",
    "a = 10\n",
    "b = 20\n",
    "c = 30\n",
    "\n",
    "a = b\n",
    "b = c\n",
    "```"
   ]
  },
  {
   "cell_type": "code",
   "execution_count": 403,
   "metadata": {},
   "outputs": [
    {
     "name": "stdout",
     "output_type": "stream",
     "text": [
      "Number of correct responses:\n",
      "Variables5a_points\n",
      "1    1000\n",
      "0     865\n",
      "Name: count, dtype: int64\n",
      "\n",
      "Top 5 most common answers:\n",
      "Variables5a\n",
      "20.0    1000\n",
      "30.0      60\n",
      "10.0      54\n",
      "1.0        3\n",
      "0.0        1\n",
      "Name: count, dtype: int64\n",
      "Number of correct responses:\n",
      "Variables5b_points\n",
      "1    1044\n",
      "0     821\n",
      "Name: count, dtype: int64\n",
      "\n",
      "Top 5 most common answers:\n",
      "Variables5b\n",
      " 30.0    1044\n",
      " 20.0      36\n",
      " 10.0      26\n",
      " 2.0        2\n",
      " 15.0       2\n",
      " 3.0        1\n",
      "-10.0       1\n",
      " 1.0        1\n",
      " 60.0       1\n",
      "Name: count, dtype: int64\n",
      "Number of correct responses:\n",
      "Variables5c_points\n",
      "1    1037\n",
      "0     828\n",
      "Name: count, dtype: int64\n",
      "\n",
      "Top 5 most common answers:\n",
      "Variables5c\n",
      "30.0            1037\n",
      "I don't know     728\n",
      "20.0              29\n",
      "10.0              28\n",
      "60.0               2\n",
      "Name: count, dtype: int64\n"
     ]
    }
   ],
   "source": [
    "print_task_result(\"Variables5a\", df)\n",
    "print_task_result(\"Variables5b\", df)\n",
    "print_task_result(\"Variables5c\", df)"
   ]
  },
  {
   "cell_type": "markdown",
   "metadata": {},
   "source": [
    "### Variables 6\n",
    "What is the value of variables `a`, `b` and `c`?\n",
    "```python\n",
    "a = 10\n",
    "b = 20\n",
    "c = 30\n",
    "\n",
    "a = c\n",
    "b = a\n",
    "c = b\n",
    "```"
   ]
  },
  {
   "cell_type": "code",
   "execution_count": 404,
   "metadata": {},
   "outputs": [
    {
     "name": "stdout",
     "output_type": "stream",
     "text": [
      "Number of correct responses:\n",
      "Variables6a_points\n",
      "1    996\n",
      "0    869\n",
      "Name: count, dtype: int64\n",
      "\n",
      "Top 5 most common answers:\n",
      "Variables6a\n",
      "30.0    996\n",
      "20.0     42\n",
      "10.0     30\n",
      "60.0      2\n",
      "0.0       2\n",
      "6.0       1\n",
      "5.0       1\n",
      "Name: count, dtype: int64\n",
      "Number of correct responses:\n",
      "Variables6b_points\n",
      "0    1043\n",
      "1     822\n",
      "Name: count, dtype: int64\n",
      "\n",
      "Top 5 most common answers:\n",
      "Variables6b\n",
      " 30.0    822\n",
      " 10.0    206\n",
      " 20.0     37\n",
      " 0.0       2\n",
      "-20.0      1\n",
      " 40.0      1\n",
      " 60.0      1\n",
      "Name: count, dtype: int64\n",
      "Number of correct responses:\n",
      "Variables6c_points\n",
      "0    1056\n",
      "1     809\n",
      "Name: count, dtype: int64\n",
      "\n",
      "Top 5 most common answers:\n",
      "Variables6c\n",
      "30.0            809\n",
      "I don't know    755\n",
      "20.0            179\n",
      "10.0             75\n",
      "60.0              3\n",
      "Name: count, dtype: int64\n"
     ]
    }
   ],
   "source": [
    "print_task_result(\"Variables6a\", df)\n",
    "print_task_result(\"Variables6b\", df)\n",
    "print_task_result(\"Variables6c\", df)"
   ]
  },
  {
   "cell_type": "markdown",
   "metadata": {},
   "source": [
    "## Booleans"
   ]
  },
  {
   "cell_type": "markdown",
   "metadata": {},
   "source": [
    "### Booleans 1\n",
    "What do these boolean expressions evaluate to?"
   ]
  },
  {
   "cell_type": "code",
   "execution_count": 405,
   "metadata": {
    "scrolled": true
   },
   "outputs": [
    {
     "name": "stdout",
     "output_type": "stream",
     "text": [
      "Top 3 most common answers:\n",
      "100 == 100\n",
      "TRUE            1496\n",
      "Jeg vet ikke     294\n",
      "FALSE             41\n",
      "Name: count, dtype: int64\n",
      "\n",
      "Top 3 most common answers:\n",
      "2 > 7\n",
      "FALSE           1644\n",
      "Jeg vet ikke     135\n",
      "TRUE              55\n",
      "Name: count, dtype: int64\n",
      "\n",
      "Top 3 most common answers:\n",
      "(10 + 3) >= 13\n",
      "TRUE            1372\n",
      "Jeg vet ikke     231\n",
      "FALSE            228\n",
      "Name: count, dtype: int64\n",
      "\n",
      "Top 3 most common answers:\n",
      "(10*2) < 9\n",
      "FALSE           1614\n",
      "Jeg vet ikke     150\n",
      "TRUE              61\n",
      "Name: count, dtype: int64\n",
      "\n",
      "Top 3 most common answers:\n",
      "(1 + 3) < (2*3)\n",
      "TRUE            1583\n",
      "Jeg vet ikke     165\n",
      "FALSE             84\n",
      "Name: count, dtype: int64\n",
      "\n",
      "Top 3 most common answers:\n",
      "(10.3 + 9) == (10.3 + 10)\n",
      "FALSE           1470\n",
      "Jeg vet ikke     315\n",
      "TRUE              47\n",
      "Name: count, dtype: int64\n"
     ]
    }
   ],
   "source": [
    "print_task_result(\"100 == 100\", df, 3, False)\n",
    "print()\n",
    "print_task_result(\"2 > 7\", df, 3, False)\n",
    "print()\n",
    "print_task_result(\"(10 + 3) >= 13\", df, 3, False)\n",
    "print()\n",
    "print_task_result(\"(10*2) < 9\", df, 3, False)\n",
    "print()\n",
    "print_task_result(\"(1 + 3) < (2*3)\", df, 3, False)\n",
    "print()\n",
    "print_task_result(\"(10.3 + 9) == (10.3 + 10)\", df, 3, False)"
   ]
  },
  {
   "cell_type": "markdown",
   "metadata": {},
   "source": [
    "### Booleans 2\n",
    "What do these boolean expressions evaluate to?"
   ]
  },
  {
   "cell_type": "code",
   "execution_count": 406,
   "metadata": {
    "scrolled": true
   },
   "outputs": [
    {
     "name": "stdout",
     "output_type": "stream",
     "text": [
      "Top 3 most common answers:\n",
      "100 != 100\n",
      "FALSE           1013\n",
      "Jeg vet ikke     745\n",
      "TRUE              68\n",
      "Name: count, dtype: int64\n",
      "\n",
      "Top 3 most common answers:\n",
      "(5 < 7) and (4 > 5)\n",
      "FALSE           1391\n",
      "Jeg vet ikke     379\n",
      "TRUE              57\n",
      "Name: count, dtype: int64\n",
      "\n",
      "Top 3 most common answers:\n",
      "(5 < 7) or (4 > 5)\n",
      "TRUE            969\n",
      "Jeg vet ikke    496\n",
      "FALSE           358\n",
      "Name: count, dtype: int64\n",
      "\n",
      "Top 3 most common answers:\n",
      "(3 < 7) and (7 < 9)\n",
      "TRUE            1381\n",
      "Jeg vet ikke     388\n",
      "FALSE             48\n",
      "Name: count, dtype: int64\n",
      "\n",
      "Top 3 most common answers:\n",
      "(3 < 7) or (7 < 9)\n",
      "TRUE            1122\n",
      "Jeg vet ikke     489\n",
      "FALSE            209\n",
      "Name: count, dtype: int64\n",
      "\n",
      "Top 3 most common answers:\n",
      "not (100 != 100)\n",
      "Jeg vet ikke    1003\n",
      "TRUE             729\n",
      "FALSE             96\n",
      "Name: count, dtype: int64\n"
     ]
    }
   ],
   "source": [
    "print_task_result(\"100 != 100\", df, 3, False)\n",
    "print()\n",
    "print_task_result(\"(5 < 7) and (4 > 5)\", df, 3, False)\n",
    "print()\n",
    "print_task_result(\"(5 < 7) or (4 > 5)\", df, 3, False)\n",
    "print()\n",
    "print_task_result(\"(3 < 7) and (7 < 9)\", df, 3, False)\n",
    "print()\n",
    "print_task_result(\"(3 < 7) or (7 < 9)\", df, 3, False)\n",
    "print()\n",
    "print_task_result(\"not (100 != 100)\", df, 3, False)"
   ]
  },
  {
   "cell_type": "markdown",
   "metadata": {},
   "source": [
    "### Booleans 3\n",
    "What do these boolean expressions evaluate to?"
   ]
  },
  {
   "cell_type": "code",
   "execution_count": 407,
   "metadata": {
    "scrolled": true
   },
   "outputs": [
    {
     "name": "stdout",
     "output_type": "stream",
     "text": [
      "Top 3 most common answers:\n",
      "True != True\n",
      "Jeg vet ikke    926\n",
      "FALSE           814\n",
      "TRUE             81\n",
      "Name: count, dtype: int64\n",
      "\n",
      "Top 3 most common answers:\n",
      "True and False\n",
      "Jeg vet ikke    930\n",
      "FALSE           769\n",
      "TRUE            115\n",
      "Name: count, dtype: int64\n",
      "\n",
      "Top 3 most common answers:\n",
      "True or False\n",
      "Jeg vet ikke    885\n",
      "TRUE            840\n",
      "FALSE            85\n",
      "Name: count, dtype: int64\n",
      "\n",
      "Top 3 most common answers:\n",
      "True and True\n",
      "TRUE            924\n",
      "Jeg vet ikke    798\n",
      "FALSE            94\n",
      "Name: count, dtype: int64\n",
      "\n",
      "Top 3 most common answers:\n",
      "True or True\n",
      "Jeg vet ikke    838\n",
      "TRUE            740\n",
      "FALSE           234\n",
      "Name: count, dtype: int64\n",
      "\n",
      "Top 3 most common answers:\n",
      "not (True != True)\n",
      "Jeg vet ikke    1081\n",
      "TRUE             588\n",
      "FALSE            145\n",
      "Name: count, dtype: int64\n"
     ]
    }
   ],
   "source": [
    "print_task_result(\"True != True\", df, 3, False)\n",
    "print()\n",
    "print_task_result(\"True and False\", df, 3, False)\n",
    "print()\n",
    "print_task_result(\"True or False\", df, 3, False)\n",
    "print()\n",
    "print_task_result(\"True and True\", df, 3, False)\n",
    "print()\n",
    "print_task_result(\"True or True\", df, 3, False)\n",
    "print()\n",
    "print_task_result(\"not (True != True)\", df, 3, False)"
   ]
  },
  {
   "cell_type": "markdown",
   "metadata": {},
   "source": [
    "### Booleans 4\n",
    "Given the variable `n = 5`, what do these boolean expressions evaluate to?"
   ]
  },
  {
   "cell_type": "code",
   "execution_count": 408,
   "metadata": {
    "scrolled": true
   },
   "outputs": [
    {
     "name": "stdout",
     "output_type": "stream",
     "text": [
      "Top 3 most common answers:\n",
      "n < 10\n",
      "TRUE            1487\n",
      "Jeg vet ikke     222\n",
      "FALSE            114\n",
      "Name: count, dtype: int64\n",
      "\n",
      "Top 3 most common answers:\n",
      "100 == n\n",
      "FALSE           1379\n",
      "Jeg vet ikke     411\n",
      "TRUE              34\n",
      "Name: count, dtype: int64\n",
      "\n",
      "Top 3 most common answers:\n",
      "(n < 7) and (4 > n)\n",
      "FALSE           1383\n",
      "Jeg vet ikke     318\n",
      "TRUE             116\n",
      "Name: count, dtype: int64\n",
      "\n",
      "Top 3 most common answers:\n",
      "(n < 7) or (4 > n)\n",
      "TRUE            1071\n",
      "Jeg vet ikke     406\n",
      "FALSE            337\n",
      "Name: count, dtype: int64\n",
      "\n",
      "Top 3 most common answers:\n",
      "n <= 5\n",
      "TRUE            1300\n",
      "Jeg vet ikke     380\n",
      "FALSE            144\n",
      "Name: count, dtype: int64\n",
      "\n",
      "Top 3 most common answers:\n",
      "not (n < 10)\n",
      "FALSE           871\n",
      "Jeg vet ikke    751\n",
      "TRUE            197\n",
      "Name: count, dtype: int64\n"
     ]
    }
   ],
   "source": [
    "print_task_result(\"n < 10\", df, 3, False)\n",
    "print()\n",
    "print_task_result(\"100 == n\", df, 3, False)\n",
    "print()\n",
    "print_task_result(\"(n < 7) and (4 > n)\", df, 3, False)\n",
    "print()\n",
    "print_task_result(\"(n < 7) or (4 > n)\", df, 3, False)\n",
    "print()\n",
    "print_task_result(\"n <= 5\", df, 3, False)\n",
    "print()\n",
    "print_task_result(\"not (n < 10)\", df, 3, False)"
   ]
  },
  {
   "cell_type": "markdown",
   "metadata": {},
   "source": [
    "## Conditionals"
   ]
  },
  {
   "cell_type": "markdown",
   "metadata": {},
   "source": [
    "### Conditionals 1\n",
    "What does this code snippet print?\n",
    "\n",
    "```python\n",
    "if 2 > 7:\n",
    "    print(1)\n",
    "```"
   ]
  },
  {
   "cell_type": "code",
   "execution_count": 409,
   "metadata": {},
   "outputs": [
    {
     "name": "stdout",
     "output_type": "stream",
     "text": [
      "Number of correct responses:\n",
      "Conditionals1_points\n",
      "1    1270\n",
      "0     595\n",
      "Name: count, dtype: int64\n",
      "\n",
      "Top 5 most common answers:\n",
      "Conditionals1\n",
      "Ingenting       1270\n",
      "Jeg vet ikke     329\n",
      "1                245\n",
      "Name: count, dtype: int64\n"
     ]
    }
   ],
   "source": [
    "print_task_result(\"Conditionals1\", df)"
   ]
  },
  {
   "cell_type": "markdown",
   "metadata": {},
   "source": [
    "### Conditionals 2\n",
    "What does this code snippet print?\n",
    "\n",
    "```python\n",
    "if 100 != 100:\n",
    "    print(1)\n",
    "else:\n",
    "    print(2)\n",
    "```"
   ]
  },
  {
   "cell_type": "code",
   "execution_count": 410,
   "metadata": {},
   "outputs": [
    {
     "name": "stdout",
     "output_type": "stream",
     "text": [
      "Number of correct responses:\n",
      "Conditionals2_points\n",
      "0    937\n",
      "1    928\n",
      "Name: count, dtype: int64\n",
      "\n",
      "Top 5 most common answers:\n",
      "Conditionals2\n",
      "2               928\n",
      "Jeg vet ikke    691\n",
      "1               127\n",
      "1 og 2           59\n",
      "Ingenting        38\n",
      "Name: count, dtype: int64\n"
     ]
    }
   ],
   "source": [
    "print_task_result(\"Conditionals2\", df)"
   ]
  },
  {
   "cell_type": "markdown",
   "metadata": {},
   "source": [
    "### Conditionals 3\n",
    "What does this code snippet print?\n",
    "\n",
    "```python\n",
    "if (10*2) < 9:\n",
    "    print(1)\n",
    "elif 100 == 100:\n",
    "    print(2)\n",
    "else:\n",
    "    print(3)\n",
    "```"
   ]
  },
  {
   "cell_type": "code",
   "execution_count": 411,
   "metadata": {},
   "outputs": [
    {
     "name": "stdout",
     "output_type": "stream",
     "text": [
      "Number of correct responses:\n",
      "Conditionals3_points\n",
      "1    1047\n",
      "0     818\n",
      "Name: count, dtype: int64\n",
      "\n",
      "Top 5 most common answers:\n",
      "Conditionals3\n",
      "2               1047\n",
      "Jeg vet ikke     495\n",
      "2 og 3           110\n",
      "3                 56\n",
      "1 og 2            48\n",
      "Name: count, dtype: int64\n"
     ]
    }
   ],
   "source": [
    "print_task_result(\"Conditionals3\", df)"
   ]
  },
  {
   "cell_type": "markdown",
   "metadata": {},
   "source": [
    "### Conditionals 4\n",
    "What does this code snippet print?\n",
    "\n",
    "```python\n",
    "if 100 == 100:\n",
    "    print(1)\n",
    "if (1 + 3) < (2*3):\n",
    "    print(2)\n",
    "else:\n",
    "    print(3)\n",
    "```"
   ]
  },
  {
   "cell_type": "code",
   "execution_count": 412,
   "metadata": {},
   "outputs": [
    {
     "name": "stdout",
     "output_type": "stream",
     "text": [
      "Number of correct responses:\n",
      "Conditionals4_points\n",
      "1    1042\n",
      "0     823\n",
      "Name: count, dtype: int64\n",
      "\n",
      "Top 5 most common answers:\n",
      "Conditionals4\n",
      "1 og 2          1042\n",
      "Jeg vet ikke     501\n",
      "1                123\n",
      "1, 2 og 3         46\n",
      "2                 41\n",
      "Name: count, dtype: int64\n"
     ]
    }
   ],
   "source": [
    "print_task_result(\"Conditionals4\", df)"
   ]
  },
  {
   "cell_type": "markdown",
   "metadata": {},
   "source": [
    "## Loops"
   ]
  },
  {
   "cell_type": "markdown",
   "metadata": {},
   "source": [
    "### Loops 1\n",
    "What does this code snippet print?\n",
    "\n",
    "```python\n",
    "n = 0\n",
    "while n < 10:\n",
    "    n = n + 1\n",
    "\n",
    "print(n)\n",
    "```"
   ]
  },
  {
   "cell_type": "code",
   "execution_count": 413,
   "metadata": {},
   "outputs": [
    {
     "name": "stdout",
     "output_type": "stream",
     "text": [
      "Number of correct responses:\n",
      "Loops1_points\n",
      "0    1243\n",
      "1     622\n",
      "Name: count, dtype: int64\n",
      "\n",
      "Top 5 most common answers:\n",
      "Loops1\n",
      "10.0            622\n",
      "I don't know    538\n",
      "1.0             237\n",
      "9.0             198\n",
      "123456789.0     106\n",
      "Name: count, dtype: int64\n"
     ]
    }
   ],
   "source": [
    "print_task_result(\"Loops1\", df)"
   ]
  },
  {
   "cell_type": "markdown",
   "metadata": {},
   "source": [
    "### Loops 2\n",
    "What does this code snippet print?\n",
    "\n",
    "```python\n",
    "n = 0\n",
    "while n < 10:\n",
    "    n = n + 2\n",
    "\n",
    "print(n)\n",
    "```"
   ]
  },
  {
   "cell_type": "code",
   "execution_count": 414,
   "metadata": {},
   "outputs": [
    {
     "name": "stdout",
     "output_type": "stream",
     "text": [
      "Number of correct responses:\n",
      "Loops2_points\n",
      "0    1284\n",
      "1     581\n",
      "Name: count, dtype: int64\n",
      "\n",
      "Top 5 most common answers:\n",
      "Loops2\n",
      "10.0            581\n",
      "I don't know    556\n",
      "2.0             233\n",
      "8.0             176\n",
      "2468.0          102\n",
      "Name: count, dtype: int64\n"
     ]
    }
   ],
   "source": [
    "print_task_result(\"Loops2\", df)"
   ]
  },
  {
   "cell_type": "markdown",
   "metadata": {},
   "source": [
    "### Loops 3\n",
    "What does this code snippet print?\n",
    "\n",
    "```python\n",
    "n = 100\n",
    "while n < 10:\n",
    "    n = n + 2\n",
    "\n",
    "print(n)\n",
    "```"
   ]
  },
  {
   "cell_type": "code",
   "execution_count": 415,
   "metadata": {},
   "outputs": [
    {
     "name": "stdout",
     "output_type": "stream",
     "text": [
      "Number of correct responses:\n",
      "Loops3_points\n",
      "0    984\n",
      "1    881\n",
      "Name: count, dtype: int64\n",
      "\n",
      "Top 5 most common answers:\n",
      "Loops3\n",
      "100             881\n",
      "I don't know    719\n",
      "0                69\n",
      "102              51\n",
      "2                 8\n",
      "Name: count, dtype: int64\n"
     ]
    }
   ],
   "source": [
    "print_task_result(\"Loops3\", df)"
   ]
  },
  {
   "cell_type": "markdown",
   "metadata": {},
   "source": [
    "### Loops 4\n",
    "What does this code snippet print?\n",
    "\n",
    "```python\n",
    "n = 0\n",
    "while (n < 7) and (4 > n):\n",
    "    n = n + 1\n",
    "\n",
    "print(n)\n",
    "```"
   ]
  },
  {
   "cell_type": "code",
   "execution_count": 416,
   "metadata": {},
   "outputs": [
    {
     "name": "stdout",
     "output_type": "stream",
     "text": [
      "Number of correct responses:\n",
      "Loops4_points\n",
      "0    1354\n",
      "1     511\n",
      "Name: count, dtype: int64\n",
      "\n",
      "Top 5 most common answers:\n",
      "Loops4\n",
      "I don't know    711\n",
      "4.0             511\n",
      "1.0             161\n",
      "3.0             156\n",
      "0.0              83\n",
      "Name: count, dtype: int64\n"
     ]
    }
   ],
   "source": [
    "print_task_result(\"Loops4\", df)"
   ]
  },
  {
   "cell_type": "markdown",
   "metadata": {},
   "source": [
    "### Loops 5\n",
    "What does this code snippet print?\n",
    "\n",
    "```python\n",
    "n = 0\n",
    "ls = [1, 1, 3]\n",
    "for e in ls:\n",
    "    n = n + e\n",
    "\n",
    "print(n)\n",
    "```"
   ]
  },
  {
   "cell_type": "code",
   "execution_count": 417,
   "metadata": {},
   "outputs": [
    {
     "name": "stdout",
     "output_type": "stream",
     "text": [
      "Number of correct responses:\n",
      "Loops5_points\n",
      "0    1381\n",
      "1     484\n",
      "Name: count, dtype: int64\n",
      "\n",
      "Top 5 most common answers:\n",
      "Loops5\n",
      "I don't know    1192\n",
      "5.0              484\n",
      "0.0               35\n",
      "113.0             20\n",
      "3.0               17\n",
      "Name: count, dtype: int64\n"
     ]
    }
   ],
   "source": [
    "print_task_result(\"Loops5\", df)"
   ]
  },
  {
   "cell_type": "markdown",
   "metadata": {},
   "source": [
    "### Loops 6\n",
    "What does this code snippet print?\n",
    "\n",
    "```python\n",
    "n = 0\n",
    "ls = [-1, 4, -3, 0, -10, 5]\n",
    "for e in ls:\n",
    "    if e > 0:\n",
    "        n = n + e\n",
    "\n",
    "print(n)\n",
    "```"
   ]
  },
  {
   "cell_type": "code",
   "execution_count": 418,
   "metadata": {},
   "outputs": [
    {
     "name": "stdout",
     "output_type": "stream",
     "text": [
      "Number of correct responses:\n",
      "Loops6_points\n",
      "0    1449\n",
      "1     416\n",
      "Name: count, dtype: int64\n",
      "\n",
      "Top 5 most common answers:\n",
      "Loops6\n",
      "I don't know    1223\n",
      "9.0              416\n",
      "0.0               48\n",
      "-5.0              18\n",
      "5.0               12\n",
      "Name: count, dtype: int64\n"
     ]
    }
   ],
   "source": [
    "print_task_result(\"Loops6\", df)"
   ]
  },
  {
   "cell_type": "markdown",
   "metadata": {},
   "source": [
    "## Lists"
   ]
  },
  {
   "cell_type": "markdown",
   "metadata": {},
   "source": [
    "### Lists 1\n",
    "What does this code snippet print?\n",
    "\n",
    "```python\n",
    "ls = [10, 20, 30]\n",
    "print(ls[1])\n",
    "```"
   ]
  },
  {
   "cell_type": "code",
   "execution_count": 419,
   "metadata": {},
   "outputs": [
    {
     "name": "stdout",
     "output_type": "stream",
     "text": [
      "Number of correct responses:\n",
      "Lists1_points\n",
      "0    1323\n",
      "1     542\n",
      "Name: count, dtype: int64\n",
      "\n",
      "Top 5 most common answers:\n",
      "Lists1\n",
      "I don't know    788\n",
      "20.0            542\n",
      "10.0            424\n",
      "102030.0         35\n",
      "60.0             10\n",
      "Name: count, dtype: int64\n"
     ]
    }
   ],
   "source": [
    "print_task_result(\"Lists1\", df)"
   ]
  },
  {
   "cell_type": "markdown",
   "metadata": {},
   "source": [
    "### Lists 2\n",
    "What does this code snippet print?\n",
    "\n",
    "```python\n",
    "ls = [10, 20, 30]\n",
    "ls[1] = ls[1] + 5\n",
    "\n",
    "print(ls[1])\n",
    "```"
   ]
  },
  {
   "cell_type": "code",
   "execution_count": 420,
   "metadata": {},
   "outputs": [
    {
     "name": "stdout",
     "output_type": "stream",
     "text": [
      "Number of correct responses:\n",
      "Lists2_points\n",
      "0    1329\n",
      "1     536\n",
      "Name: count, dtype: int64\n",
      "\n",
      "Top 5 most common answers:\n",
      "Lists2\n",
      "I don't know    832\n",
      "25.0            536\n",
      "15.0            378\n",
      "152535.0         17\n",
      "65.0             10\n",
      "Name: count, dtype: int64\n"
     ]
    }
   ],
   "source": [
    "print_task_result(\"Lists2\", df)"
   ]
  },
  {
   "cell_type": "markdown",
   "metadata": {},
   "source": [
    "### Lists 3\n",
    "What does this code snippet print?\n",
    "\n",
    "```python\n",
    "a = [10, 20, 30]\n",
    "b = [5, 15, 25]\n",
    "\n",
    "b[1] = a[1] + b[1]\n",
    "\n",
    "print(a)\n",
    "print(b)\n",
    "```"
   ]
  },
  {
   "cell_type": "code",
   "execution_count": 421,
   "metadata": {},
   "outputs": [
    {
     "name": "stdout",
     "output_type": "stream",
     "text": [
      "Number of correct responses:\n",
      "Lists3a_points\n",
      "0    935\n",
      "1    930\n",
      "Name: count, dtype: int64\n",
      "\n",
      "Top 5 most common answers:\n",
      "Lists3a\n",
      "[10, 20, 30]    930\n",
      "Jeg vet ikke    724\n",
      "[15, 35, 55]     50\n",
      "[5, 15, 25]      22\n",
      "[10, 35, 30]     10\n",
      "Name: count, dtype: int64\n",
      "Number of correct responses:\n",
      "Lists3b_points\n",
      "0    1381\n",
      "1     484\n",
      "Name: count, dtype: int64\n",
      "\n",
      "Top 5 most common answers:\n",
      "Lists3b\n",
      "Jeg vet ikke    911\n",
      "[5, 35, 25]     484\n",
      "[15, 35, 55]    243\n",
      "[5, 15, 25]      96\n",
      "[10, 35, 30]     24\n",
      "Name: count, dtype: int64\n"
     ]
    }
   ],
   "source": [
    "print_task_result(\"Lists3a\", df)\n",
    "print_task_result(\"Lists3b\", df)"
   ]
  },
  {
   "cell_type": "markdown",
   "metadata": {},
   "source": [
    "## Functions"
   ]
  },
  {
   "cell_type": "markdown",
   "metadata": {},
   "source": [
    "### Functions 1\n",
    "What does this code snippet print?\n",
    "\n",
    "```python\n",
    "def f(a, b):\n",
    "    return a + b\n",
    "\n",
    "print(f(5, 10))\n",
    "```"
   ]
  },
  {
   "cell_type": "code",
   "execution_count": 422,
   "metadata": {},
   "outputs": [
    {
     "name": "stdout",
     "output_type": "stream",
     "text": [
      "Number of correct responses:\n",
      "Functions1_points\n",
      "0    1042\n",
      "1     823\n",
      "Name: count, dtype: int64\n",
      "\n",
      "Top 5 most common answers:\n",
      "Functions1\n",
      "I don't know    936\n",
      "15.0            823\n",
      "5.1              23\n",
      "510.0            11\n",
      "10.0              2\n",
      "Name: count, dtype: int64\n"
     ]
    }
   ],
   "source": [
    "print_task_result(\"Functions1\", df)"
   ]
  },
  {
   "cell_type": "markdown",
   "metadata": {},
   "source": [
    "### Functions 2\n",
    "What does this code snippet print?\n",
    "\n",
    "```python\n",
    "def f(a):\n",
    "    if a:\n",
    "        return 1\n",
    "    else:\n",
    "        return 2\n",
    "\n",
    "print(f(100 == 100))\n",
    "```"
   ]
  },
  {
   "cell_type": "code",
   "execution_count": 423,
   "metadata": {},
   "outputs": [
    {
     "name": "stdout",
     "output_type": "stream",
     "text": [
      "Number of correct responses:\n",
      "Functions2_points\n",
      "0    1313\n",
      "1     552\n",
      "Name: count, dtype: int64\n",
      "\n",
      "Top 5 most common answers:\n",
      "Functions2\n",
      "I don't know    1146\n",
      "1.0              552\n",
      "2.0               53\n",
      "100.0             36\n",
      "0.0                2\n",
      "Name: count, dtype: int64\n"
     ]
    }
   ],
   "source": [
    "print_task_result(\"Functions2\", df)"
   ]
  },
  {
   "cell_type": "markdown",
   "metadata": {},
   "source": [
    "### Functions 3\n",
    "What does this code snippet print?\n",
    "\n",
    "```python\n",
    "def f():\n",
    "    if 100 == 100:\n",
    "        return 1\n",
    "    if (1 + 3) < (2*3):\n",
    "        return 2\n",
    "    else:\n",
    "        return 3\n",
    "\n",
    "print(f())\n",
    "```"
   ]
  },
  {
   "cell_type": "code",
   "execution_count": 424,
   "metadata": {},
   "outputs": [
    {
     "name": "stdout",
     "output_type": "stream",
     "text": [
      "Number of correct responses:\n",
      "Functions3_points\n",
      "0    1579\n",
      "1     286\n",
      "Name: count, dtype: int64\n",
      "\n",
      "Top 5 most common answers:\n",
      "Functions3\n",
      "I don't know    1125\n",
      "1.0              286\n",
      "12.0             161\n",
      "1.2               85\n",
      "2.0               60\n",
      "Name: count, dtype: int64\n"
     ]
    }
   ],
   "source": [
    "print_task_result(\"Functions3\", df)"
   ]
  },
  {
   "cell_type": "markdown",
   "metadata": {},
   "source": [
    "### Functions 4\n",
    "What does this code snippet print?\n",
    "\n",
    "```python\n",
    "def f(n, a):\n",
    "    if a:\n",
    "        n = n + 1\n",
    "    return n\n",
    "\n",
    "print(f(5, (10*2) < 9))\n",
    "```"
   ]
  },
  {
   "cell_type": "code",
   "execution_count": 425,
   "metadata": {},
   "outputs": [
    {
     "name": "stdout",
     "output_type": "stream",
     "text": [
      "Number of correct responses:\n",
      "Functions4_points\n",
      "0    1480\n",
      "1     385\n",
      "Name: count, dtype: int64\n",
      "\n",
      "Top 5 most common answers:\n",
      "Functions4\n",
      "I don't know    1316\n",
      "5.0              385\n",
      "6.0               33\n",
      "0.0                9\n",
      "2.0                2\n",
      "Name: count, dtype: int64\n"
     ]
    }
   ],
   "source": [
    "print_task_result(\"Functions4\", df)"
   ]
  },
  {
   "cell_type": "markdown",
   "metadata": {},
   "source": [
    "### Functions 5\n",
    "What does this code snippet print?\n",
    "\n",
    "```python\n",
    "def f(n):\n",
    "    while n < 10:\n",
    "        n = n + 1\n",
    "    return n\n",
    "\n",
    "print(f(5))\n",
    "```"
   ]
  },
  {
   "cell_type": "code",
   "execution_count": 426,
   "metadata": {},
   "outputs": [
    {
     "name": "stdout",
     "output_type": "stream",
     "text": [
      "Number of correct responses:\n",
      "Functions5_points\n",
      "0    1434\n",
      "1     431\n",
      "Name: count, dtype: int64\n",
      "\n",
      "Top 5 most common answers:\n",
      "Functions5\n",
      "I don't know    1004\n",
      "10.0             431\n",
      "6.0              150\n",
      "9.0               74\n",
      "5.0               52\n",
      "Name: count, dtype: int64\n"
     ]
    }
   ],
   "source": [
    "print_task_result(\"Functions5\", df)"
   ]
  },
  {
   "cell_type": "markdown",
   "metadata": {},
   "source": [
    "### Functions 6\n",
    "What does this code snippet print?\n",
    "\n",
    "```python\n",
    "def f(s, ls):\n",
    "    for e in ls:\n",
    "        s = s + e\n",
    "    return s\n",
    "\n",
    "print(f('abc', ['x', 'y', 'z']))\n",
    "```"
   ]
  },
  {
   "cell_type": "code",
   "execution_count": 427,
   "metadata": {},
   "outputs": [
    {
     "name": "stdout",
     "output_type": "stream",
     "text": [
      "Number of correct responses:\n",
      "Functions6_points\n",
      "0    1544\n",
      "1     321\n",
      "Name: count, dtype: int64\n",
      "\n",
      "Top 5 most common answers:\n",
      "Functions6\n",
      "I don't know    1379\n",
      "abcxyz           315\n",
      "abc                9\n",
      "abcxabcyabcz       8\n",
      "Abcxyz             6\n",
      "Name: count, dtype: int64\n"
     ]
    }
   ],
   "source": [
    "print_task_result(\"Functions6\", df)"
   ]
  },
  {
   "cell_type": "markdown",
   "metadata": {},
   "source": [
    "### Functions 7\n",
    "What does this code snippet print?\n",
    "\n",
    "```python\n",
    "def f(n, ls):\n",
    "    return ls[n]\n",
    "\n",
    "print(f(2, ['a', 'b', 'c']))\n",
    "```"
   ]
  },
  {
   "cell_type": "code",
   "execution_count": 428,
   "metadata": {},
   "outputs": [
    {
     "name": "stdout",
     "output_type": "stream",
     "text": [
      "Number of correct responses:\n",
      "Functions7_points\n",
      "0    1486\n",
      "1     379\n",
      "Name: count, dtype: int64\n",
      "\n",
      "Top 5 most common answers:\n",
      "Functions7\n",
      "I don't know    1298\n",
      "c                369\n",
      "b                 38\n",
      "C                 10\n",
      "2                  9\n",
      "Name: count, dtype: int64\n"
     ]
    }
   ],
   "source": [
    "print_task_result(\"Functions7\", df)"
   ]
  },
  {
   "cell_type": "markdown",
   "metadata": {},
   "source": [
    "### Functions 8\n",
    "What does this code snippet print?\n",
    "\n",
    "```python\n",
    "def f(n, ls):\n",
    "    return ls[1] + n\n",
    "\n",
    "print(f(5, [10, 20, 30]))\n",
    "```"
   ]
  },
  {
   "cell_type": "code",
   "execution_count": 429,
   "metadata": {},
   "outputs": [
    {
     "name": "stdout",
     "output_type": "stream",
     "text": [
      "Number of correct responses:\n",
      "Functions8_points\n",
      "0    1456\n",
      "1     409\n",
      "Name: count, dtype: int64\n",
      "\n",
      "Top 5 most common answers:\n",
      "Functions8\n",
      "I don't know    1263\n",
      "25.0             409\n",
      "15.0              61\n",
      "152535.0           7\n",
      "65.0               6\n",
      "Name: count, dtype: int64\n"
     ]
    }
   ],
   "source": [
    "print_task_result(\"Functions8\", df)"
   ]
  },
  {
   "cell_type": "markdown",
   "metadata": {},
   "source": [
    "### Functions 9\n",
    "What does this code snippet print?\n",
    "\n",
    "```python\n",
    "def f(n, ls):\n",
    "    for e in ls:\n",
    "        ls[n] = ls[n] + e\n",
    "    return ls[n]\n",
    "\n",
    "print(f(1, [10, 20, 30]))\n",
    "```"
   ]
  },
  {
   "cell_type": "code",
   "execution_count": 430,
   "metadata": {},
   "outputs": [
    {
     "name": "stdout",
     "output_type": "stream",
     "text": [
      "Number of correct responses:\n",
      "Functions9_points\n",
      "0    1781\n",
      "1      84\n",
      "Name: count, dtype: int64\n",
      "\n",
      "Top 5 most common answers:\n",
      "Functions9\n",
      "I don't know    1384\n",
      "80.0             135\n",
      "90.0              84\n",
      "21.0              22\n",
      "23.0              17\n",
      "Name: count, dtype: int64\n"
     ]
    }
   ],
   "source": [
    "print_task_result(\"Functions9\", df)"
   ]
  },
  {
   "cell_type": "markdown",
   "metadata": {},
   "source": [
    "# Programming Concept Dependence\n",
    "Many of the tasks utilize concepts tested in earlier tasks. To better understand how well "
   ]
  },
  {
   "cell_type": "code",
   "execution_count": 431,
   "metadata": {},
   "outputs": [],
   "source": [
    "import networkx as nx\n",
    "import matplotlib.pyplot as plt"
   ]
  },
  {
   "cell_type": "code",
   "execution_count": 432,
   "metadata": {},
   "outputs": [],
   "source": [
    "# Define the tasks and the which other task they depend on\n",
    "tasks = {        \n",
    "    'Conditionals1': {'2 > 7'},\n",
    "    'Conditionals2': {'100 != 100'},\n",
    "    'Conditionals3': {'(10*2) < 9', '100 == 100'},\n",
    "    'Conditionals4': {'(1 + 3) < (2*3)', '100 == 100'},\n",
    "    \n",
    "    'Loops1': {'Operators4', 'n < 10'},\n",
    "    'Loops2': {'Operators4', 'n < 10'},\n",
    "    'Loops3': {'Operators4', 'n < 10'},\n",
    "    'Loops4': {'Operators4', '(n < 7) and (4 > n)'},\n",
    "    'Loops5': {},\n",
    "    'Loops6': {'Conditionals1', 'Loops5'},\n",
    "    'Loops7': {'Operators5', 'Loops5'},\n",
    "\n",
    "    'Lists1': {},\n",
    "    'Lists2': {'Lists2'},\n",
    "    'Lists3a': {'Lists2'},\n",
    "    'Lists3b': {'Lists2'},\n",
    "    \n",
    "    'Functions1': {'Operators1'},\n",
    "    'Functions2': {'Conditionals1', '100 == 100'},\n",
    "    'Functions3': {'Conditionals4'},\n",
    "    'Functions4': {'Operators4', '(10*2) < 9', 'Conditionals1'},\n",
    "    'Functions5': {'Loops1'},\n",
    "    'Functions6': {'Loops7'},\n",
    "    'Functions7': {'Lists1'},\n",
    "    'Functions8': {'Lists2'},\n",
    "    'Functions9': {'Lists3a', 'Lists3b', 'Loops5'},\n",
    "}"
   ]
  },
  {
   "cell_type": "code",
   "execution_count": 433,
   "metadata": {},
   "outputs": [],
   "source": [
    "# Graph\n",
    "# Initialize a directed graph (DAG)\n",
    "G = nx.DiGraph()\n",
    "\n",
    "# Add all tasks as nodes\n",
    "G.add_nodes_from(tasks.keys())"
   ]
  },
  {
   "cell_type": "code",
   "execution_count": 434,
   "metadata": {},
   "outputs": [],
   "source": [
    "# Add nodes and edges to the graph based on dependencies\n",
    "for task, dependencies in tasks.items():\n",
    "    for dependency in dependencies:\n",
    "        # Add an edge from each dependency to the task\n",
    "        G.add_edge(dependency, task)"
   ]
  },
  {
   "cell_type": "code",
   "execution_count": 435,
   "metadata": {},
   "outputs": [
    {
     "data": {
      "image/png": "[encoded data removed]",
      "text/plain": [
       "<Figure size 1200x1000 with 1 Axes>"
      ]
     },
     "metadata": {},
     "output_type": "display_data"
    }
   ],
   "source": [
    "# Draw the graph\n",
    "plt.figure(figsize=(12, 10))\n",
    "pos = nx.spring_layout(G)  # Positions for all nodes\n",
    "nx.draw(G, pos, with_labels=True, node_color='lightgreen', node_size=2000, font_size=10, font_weight='bold', arrows=True)\n",
    "plt.title('Task Dependency Graph', fontsize=16)\n",
    "plt.show()"
   ]
  },
  {
   "cell_type": "code",
   "execution_count": 442,
   "metadata": {},
   "outputs": [],
   "source": [
    "def print_dependences(task):\n",
    "    try:\n",
    "        dependes = dependencies(task)\n",
    "    except:\n",
    "        dependes = []\n",
    "    print(f'The task {task} has the following dependencies: {dependes}')\n",
    "    n_correct = len(df[(df[task+'_points'] != 0)])\n",
    "    print(f'Total number of students that managed task \"{task}\": {n_correct} / {len(df)}')\n",
    "\n",
    "    if len(dependes) > 0: \n",
    "        print(f'How many students managed the dependent tasks?')\n",
    "        for depend_task in dependes:\n",
    "            n_correct = len(df[(df[depend_task+'_points'] != 0)])\n",
    "            print(f'Total number of students that managed task \"{depend_task}\": {n_correct} / {len(df)}')\n",
    "            task_df = df[(df[depend_task+'_points'] != 0)]\n",
    "\n",
    "        print()\n",
    "        n_correct = len(task_df[(task_df[task+'_points'] != 0)])\n",
    "        n_total = len(task_df)\n",
    "        print(f'Of all the students that managed all dependent tasks {n_correct} out of {n_total} managed \"{task}\"')\n",
    "        print(f'This indicates that {n_total - n_correct} struggle with the non dependent concept in \"{task}\"')\n",
    "\n",
    "def print_simple_dependeces(task):\n",
    "    try:\n",
    "        dependes = dependencies(task)\n",
    "        if len(dependes) == 0:\n",
    "            print('No dependence')\n",
    "            return\n",
    "    except:\n",
    "        print('No dependence')\n",
    "        return\n",
    "        \n",
    "    print(f'#### {task} ###')\n",
    "    total_correct = len(df[(df[task+'_points'] != 0)])\n",
    "    total_correct_percentage = round((total_correct / len(df)) * 100, 1)\n",
    "    task_df = df\n",
    "    for depend_task in dependes:\n",
    "        task_df = task_df[(task_df[depend_task+'_points'] != 0)]\n",
    "    dependent_correct = len(task_df)\n",
    "    dependent_correct_percentage = round((dependent_correct / len(df)) * 100, 1)\n",
    "    print('{:40s} {:50s} {:5d} {:5s}'.format('Correctly answered', task, total_correct, '('+str(total_correct_percentage)+'%)'))\n",
    "    print('{:40s} {:50s} {:5d} {:5s}'.format('Correctly answered dependent tasks', str(dependes), dependent_correct, '('+str(dependent_correct_percentage)+'%)'))\n",
    "    task_df = task_df[(task_df[task+'_points'] == 0)]\n",
    "    task_percentage = round((len(task_df) / dependent_correct) * 100, 1)\n",
    "    print('{:40s} {:50s} {:5d} {:5s}'.format('Managed dependent tasks, but failed', task, len(task_df), '('+str(task_percentage)+'%)'))\n",
    "    \n",
    "\n",
    "def dependencies(task):\n",
    "    dependency_list = []\n",
    "    for dependency in tasks[task]:\n",
    "        try:\n",
    "            dependency_list =+ dependencies(dependency)\n",
    "        except:\n",
    "            dependency_list.append(dependency)\n",
    "    return dependency_list"
   ]
  },
  {
   "cell_type": "code",
   "execution_count": 443,
   "metadata": {},
   "outputs": [
    {
     "name": "stdout",
     "output_type": "stream",
     "text": [
      "#### Conditionals1 ###\n",
      "Correctly answered                       Conditionals1                                       1270 (68.1%)\n",
      "Correctly answered dependent tasks       ['2 > 7']                                           1644 (88.2%)\n",
      "Managed dependent tasks, but failed      Conditionals1                                        425 (25.9%)\n",
      "\n",
      "\n",
      "#### Conditionals2 ###\n",
      "Correctly answered                       Conditionals2                                        928 (49.8%)\n",
      "Correctly answered dependent tasks       ['100 != 100']                                      1013 (54.3%)\n",
      "Managed dependent tasks, but failed      Conditionals2                                        200 (19.7%)\n",
      "\n",
      "\n",
      "#### Conditionals3 ###\n",
      "Correctly answered                       Conditionals3                                       1047 (56.1%)\n",
      "Correctly answered dependent tasks       ['100 == 100', '(10*2) < 9']                        1406 (75.4%)\n",
      "Managed dependent tasks, but failed      Conditionals3                                        419 (29.8%)\n",
      "\n",
      "\n",
      "#### Conditionals4 ###\n",
      "Correctly answered                       Conditionals4                                       1042 (55.9%)\n",
      "Correctly answered dependent tasks       ['(1 + 3) < (2*3)', '100 == 100']                   1397 (74.9%)\n",
      "Managed dependent tasks, but failed      Conditionals4                                        422 (30.2%)\n",
      "\n",
      "\n",
      "#### Loops1 ###\n",
      "Correctly answered                       Loops1                                               622 (33.4%)\n",
      "Correctly answered dependent tasks       ['n < 10', 'Operators4']                            1059 (56.8%)\n",
      "Managed dependent tasks, but failed      Loops1                                               506 (47.8%)\n",
      "\n",
      "\n",
      "#### Loops2 ###\n",
      "Correctly answered                       Loops2                                               581 (31.2%)\n",
      "Correctly answered dependent tasks       ['n < 10', 'Operators4']                            1059 (56.8%)\n",
      "Managed dependent tasks, but failed      Loops2                                               537 (50.7%)\n",
      "\n",
      "\n",
      "#### Loops3 ###\n",
      "Correctly answered                       Loops3                                               881 (47.2%)\n",
      "Correctly answered dependent tasks       ['n < 10', 'Operators4']                            1059 (56.8%)\n",
      "Managed dependent tasks, but failed      Loops3                                               321 (30.3%)\n",
      "\n",
      "\n",
      "#### Loops4 ###\n",
      "Correctly answered                       Loops4                                               511 (27.4%)\n",
      "Correctly answered dependent tasks       ['Operators4', '(n < 7) and (4 > n)']               1016 (54.5%)\n",
      "Managed dependent tasks, but failed      Loops4                                               556 (54.7%)\n",
      "\n",
      "\n",
      "No dependence\n",
      "\n",
      "\n",
      "#### Loops6 ###\n",
      "Correctly answered                       Loops6                                               416 (22.3%)\n",
      "Correctly answered dependent tasks       ['Conditionals1', 'Loops5']                          463 (24.8%)\n",
      "Managed dependent tasks, but failed      Loops6                                                75 (16.2%)\n",
      "\n",
      "\n",
      "#### Loops7 ###\n",
      "Correctly answered                       Loops7                                               350 (18.8%)\n",
      "Correctly answered dependent tasks       ['Operators5', 'Loops5']                             330 (17.7%)\n",
      "Managed dependent tasks, but failed      Loops7                                                48 (14.5%)\n",
      "\n",
      "\n",
      "No dependence\n",
      "\n",
      "\n",
      "#### Lists2 ###\n",
      "Correctly answered                       Lists2                                               536 (28.7%)\n",
      "Correctly answered dependent tasks       ['Lists2']                                           536 (28.7%)\n",
      "Managed dependent tasks, but failed      Lists2                                                 0 (0.0%)\n",
      "\n",
      "\n",
      "#### Lists3a ###\n",
      "Correctly answered                       Lists3a                                              930 (49.9%)\n",
      "Correctly answered dependent tasks       ['Lists2']                                           536 (28.7%)\n",
      "Managed dependent tasks, but failed      Lists3a                                               29 (5.4%)\n",
      "\n",
      "\n",
      "#### Lists3b ###\n",
      "Correctly answered                       Lists3b                                              484 (26.0%)\n",
      "Correctly answered dependent tasks       ['Lists2']                                           536 (28.7%)\n",
      "Managed dependent tasks, but failed      Lists3b                                               72 (13.4%)\n",
      "\n",
      "\n",
      "#### Functions1 ###\n",
      "Correctly answered                       Functions1                                           823 (44.1%)\n",
      "Correctly answered dependent tasks       ['Operators1']                                      1531 (82.1%)\n",
      "Managed dependent tasks, but failed      Functions1                                           757 (49.4%)\n",
      "\n",
      "\n",
      "#### Functions2 ###\n",
      "Correctly answered                       Functions2                                           552 (29.6%)\n",
      "Correctly answered dependent tasks       ['Conditionals1', '100 == 100']                     1162 (62.3%)\n",
      "Managed dependent tasks, but failed      Functions2                                           643 (55.3%)\n",
      "\n",
      "\n",
      "#### Functions3 ###\n",
      "Correctly answered                       Functions3                                           286 (15.3%)\n",
      "Correctly answered dependent tasks       ['Conditionals4']                                   1042 (55.9%)\n",
      "Managed dependent tasks, but failed      Functions3                                           819 (78.6%)\n",
      "\n",
      "\n",
      "#### Functions4 ###\n",
      "Correctly answered                       Functions4                                           385 (20.6%)\n",
      "Correctly answered dependent tasks       ['Operators4', 'Conditionals1', '(10*2) < 9']        947 (50.8%)\n",
      "Managed dependent tasks, but failed      Functions4                                           583 (61.6%)\n",
      "\n",
      "\n",
      "#### Functions5 ###\n",
      "Correctly answered                       Functions5                                           431 (23.1%)\n",
      "Correctly answered dependent tasks       ['Loops1']                                           622 (33.4%)\n",
      "Managed dependent tasks, but failed      Functions5                                           216 (34.7%)\n",
      "\n",
      "\n",
      "#### Functions6 ###\n",
      "Correctly answered                       Functions6                                           321 (17.2%)\n",
      "Correctly answered dependent tasks       ['Loops7']                                           350 (18.8%)\n",
      "Managed dependent tasks, but failed      Functions6                                            61 (17.4%)\n",
      "\n",
      "\n",
      "#### Functions7 ###\n",
      "Correctly answered                       Functions7                                           379 (20.3%)\n",
      "Correctly answered dependent tasks       ['Lists1']                                           542 (29.1%)\n",
      "Managed dependent tasks, but failed      Functions7                                           178 (32.8%)\n",
      "\n",
      "\n",
      "#### Functions8 ###\n",
      "Correctly answered                       Functions8                                           409 (21.9%)\n",
      "Correctly answered dependent tasks       ['Lists2']                                           536 (28.7%)\n",
      "Managed dependent tasks, but failed      Functions8                                           144 (26.9%)\n",
      "\n",
      "\n",
      "#### Functions9 ###\n",
      "Correctly answered                       Functions9                                            84 (4.5%)\n",
      "Correctly answered dependent tasks       ['Lists3b', 'Loops5', 'Lists3a']                     347 (18.6%)\n",
      "Managed dependent tasks, but failed      Functions9                                           270 (77.8%)\n",
      "\n",
      "\n"
     ]
    }
   ],
   "source": [
    "for task in tasks:\n",
    "    print_simple_dependeces(task)\n",
    "    print()\n",
    "    print()"
   ]
  },
  {
   "cell_type": "code",
   "execution_count": null,
   "metadata": {},
   "outputs": [],
   "source": []
  }
 ],
 "metadata": {
  "kernelspec": {
   "display_name": "Python 3 (ipykernel)",
   "language": "python",
   "name": "python3"
  },
  "language_info": {
   "codemirror_mode": {
    "name": "ipython",
    "version": 3
   },
   "file_extension": ".py",
   "mimetype": "text/x-python",
   "name": "python",
   "nbconvert_exporter": "python",
   "pygments_lexer": "ipython3",
   "version": "3.8.1"
  }
 },
 "nbformat": 4,
 "nbformat_minor": 4
}
